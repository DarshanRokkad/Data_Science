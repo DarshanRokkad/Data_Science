{
 "cells": [
  {
   "cell_type": "markdown",
   "id": "802aaf74",
   "metadata": {},
   "source": [
    "# <font color = 'orange'> Numpy - Part 1"
   ]
  },
  {
   "cell_type": "markdown",
   "id": "c2510747",
   "metadata": {},
   "source": [
    "---"
   ]
  },
  {
   "cell_type": "code",
   "execution_count": 1,
   "id": "36a9509f",
   "metadata": {},
   "outputs": [],
   "source": [
    "import numpy as np"
   ]
  },
  {
   "cell_type": "code",
   "execution_count": 2,
   "id": "2ccd8868",
   "metadata": {},
   "outputs": [
    {
     "name": "stdout",
     "output_type": "stream",
     "text": [
      "[1, 2, 3, 4]\n",
      "<class 'list'>\n"
     ]
    }
   ],
   "source": [
    "l = [1,2,3,4]\n",
    "print(l)\n",
    "print(type(l))"
   ]
  },
  {
   "cell_type": "markdown",
   "id": "448aac12",
   "metadata": {},
   "source": [
    "### Type of creating numpy array.\n",
    "* arr = np.array(list)\n",
    "* arr = np.asarray(list)"
   ]
  },
  {
   "cell_type": "code",
   "execution_count": 3,
   "id": "bfe11d09",
   "metadata": {},
   "outputs": [
    {
     "name": "stdout",
     "output_type": "stream",
     "text": [
      "[1 2 3 4]\n",
      "<class 'numpy.ndarray'>\n"
     ]
    }
   ],
   "source": [
    "# 1. using array function\n",
    "arr1 = np.array(l)\n",
    "print(arr1)\n",
    "print(type(arr1))"
   ]
  },
  {
   "cell_type": "code",
   "execution_count": 4,
   "id": "c8973d7b",
   "metadata": {},
   "outputs": [
    {
     "name": "stdout",
     "output_type": "stream",
     "text": [
      "[1 2 3 4]\n",
      "<class 'numpy.ndarray'>\n"
     ]
    }
   ],
   "source": [
    "arr2 = np.asarray(l)\n",
    "print(arr2)\n",
    "print(type(arr2))"
   ]
  },
  {
   "cell_type": "code",
   "execution_count": 5,
   "id": "6224c1e1",
   "metadata": {},
   "outputs": [
    {
     "name": "stdout",
     "output_type": "stream",
     "text": [
      "[[1 2 3]\n",
      " [2 3 4]]\n",
      "<class 'numpy.ndarray'>\n"
     ]
    }
   ],
   "source": [
    "l2 = [[1,2,3] , [2,3,4]]\n",
    "arr3 = np.array(l2)\n",
    "print(arr3)\n",
    "print(type(arr3))"
   ]
  },
  {
   "cell_type": "markdown",
   "id": "a04e0ad5",
   "metadata": {},
   "source": [
    "### To get dimension of the array -> arr.ndim"
   ]
  },
  {
   "cell_type": "code",
   "execution_count": 6,
   "id": "b4e31a46",
   "metadata": {},
   "outputs": [
    {
     "name": "stdout",
     "output_type": "stream",
     "text": [
      "1\n",
      "2\n"
     ]
    }
   ],
   "source": [
    "print(arr2.ndim)\n",
    "print(arr3.ndim)"
   ]
  },
  {
   "cell_type": "markdown",
   "id": "4a66a2ad",
   "metadata": {},
   "source": [
    "### To create the matrix -> np.matrix(l)"
   ]
  },
  {
   "cell_type": "code",
   "execution_count": 7,
   "id": "4c641e09",
   "metadata": {},
   "outputs": [
    {
     "name": "stdout",
     "output_type": "stream",
     "text": [
      "[[1 2 3 4]]\n",
      "2\n"
     ]
    }
   ],
   "source": [
    "# 2D array => matrix\n",
    "mat = np.matrix(l)\n",
    "print(mat)\n",
    "print(mat.ndim)"
   ]
  },
  {
   "cell_type": "markdown",
   "id": "e793a935",
   "metadata": {},
   "source": [
    "### To create array another method -> arr = np.asanyarray(list or matrix)"
   ]
  },
  {
   "cell_type": "code",
   "execution_count": 8,
   "id": "db49d854",
   "metadata": {},
   "outputs": [
    {
     "name": "stdout",
     "output_type": "stream",
     "text": [
      "[1 2 3 4]\n",
      "1\n",
      "[[1 2 3 4]]\n",
      "2\n"
     ]
    }
   ],
   "source": [
    "arr5 = np.asanyarray(l)\n",
    "arr6 = np.asanyarray(mat)\n",
    "print(arr5)\n",
    "print(arr5.ndim)\n",
    "print(arr6)\n",
    "print(arr6.ndim)"
   ]
  },
  {
   "cell_type": "markdown",
   "id": "f65bccf0",
   "metadata": {},
   "source": [
    "---"
   ]
  },
  {
   "cell_type": "markdown",
   "id": "d42bf3df",
   "metadata": {},
   "source": [
    "### Same reference - Pool"
   ]
  },
  {
   "cell_type": "code",
   "execution_count": 9,
   "id": "dca646b5",
   "metadata": {},
   "outputs": [
    {
     "name": "stdout",
     "output_type": "stream",
     "text": [
      "Shallow copy.\n",
      "[1 2 3 4]\n",
      "[1 2 3 4]\n",
      "\n",
      "[34  2  3  4]\n",
      "[34  2  3  4]\n"
     ]
    }
   ],
   "source": [
    "arr7 = arr5\n",
    "print('Shallow copy.')\n",
    "\n",
    "print(arr5)\n",
    "print(arr7)\n",
    "\n",
    "print()\n",
    "arr5[0] =34\n",
    "\n",
    "print(arr5)\n",
    "print(arr7)"
   ]
  },
  {
   "cell_type": "code",
   "execution_count": 10,
   "id": "7112a503",
   "metadata": {},
   "outputs": [
    {
     "name": "stdout",
     "output_type": "stream",
     "text": [
      "Shallow copy.\n",
      "[34  2  3  4]\n",
      "[34  2  3  4]\n",
      "\n",
      "[23  2  3  4]\n",
      "[34  2  3  4]\n"
     ]
    }
   ],
   "source": [
    "# To avoid data manipulation\n",
    "# with 1D array \n",
    "arr8 = arr5.copy()\n",
    "print('Shallow copy.')\n",
    "\n",
    "print(arr5)\n",
    "print(arr8)\n",
    "\n",
    "print()\n",
    "arr5[0] = 23\n",
    "\n",
    "print(arr5)\n",
    "print(arr8)"
   ]
  },
  {
   "cell_type": "markdown",
   "id": "f265cd83",
   "metadata": {},
   "source": [
    "### Shallow copy "
   ]
  },
  {
   "cell_type": "code",
   "execution_count": 11,
   "id": "b153c107",
   "metadata": {},
   "outputs": [
    {
     "name": "stdout",
     "output_type": "stream",
     "text": [
      "Shallow copy.\n",
      "[[1 2 3]\n",
      " [2 3 4]]\n",
      "[[1 2 3]\n",
      " [2 3 4]]\n",
      "\n",
      "[[ 1 12  3]\n",
      " [ 2  3  4]]\n",
      "[[1 2 3]\n",
      " [2 3 4]]\n"
     ]
    }
   ],
   "source": [
    "# with 2D array \n",
    "arr10 = np.copy(arr3)\n",
    "print('Shallow copy.')\n",
    "\n",
    "print(arr3)\n",
    "print(arr10)\n",
    "\n",
    "print()\n",
    "arr3[0][1] = 12\n",
    "\n",
    "print(arr3)\n",
    "print(arr10)"
   ]
  },
  {
   "cell_type": "markdown",
   "id": "5485ddb6",
   "metadata": {},
   "source": [
    "### Deep Copy"
   ]
  },
  {
   "cell_type": "code",
   "execution_count": 12,
   "id": "11415b1e",
   "metadata": {},
   "outputs": [
    {
     "name": "stdout",
     "output_type": "stream",
     "text": [
      "Deep copy.\n",
      "[[ 1 12  3]\n",
      " [ 2  3  4]]\n",
      "[[ 1 12  3]\n",
      " [ 2  3  4]]\n",
      "\n",
      "[[ 1 12  3]\n",
      " [ 2  3  4]]\n",
      "[[1 8 3]\n",
      " [2 3 4]]\n"
     ]
    }
   ],
   "source": [
    "# with 2D array \n",
    "import copy\n",
    "arr11 = copy.deepcopy(arr3)\n",
    "print('Deep copy.')\n",
    "\n",
    "print(arr3)\n",
    "print(arr11)\n",
    "\n",
    "print()\n",
    "arr11[0][1] = 8\n",
    "\n",
    "print(arr3)\n",
    "print(arr11)"
   ]
  },
  {
   "cell_type": "markdown",
   "id": "f3002b2c",
   "metadata": {},
   "source": [
    "---"
   ]
  },
  {
   "cell_type": "markdown",
   "id": "0d819ec1",
   "metadata": {},
   "source": [
    "### Some functions - np.fromfunction(function,dimension)"
   ]
  },
  {
   "cell_type": "code",
   "execution_count": 13,
   "id": "d9418578",
   "metadata": {},
   "outputs": [
    {
     "name": "stdout",
     "output_type": "stream",
     "text": [
      "[[ True False False]\n",
      " [False  True False]\n",
      " [False False  True]]\n"
     ]
    }
   ],
   "source": [
    "a1 = np.fromfunction(lambda i,j : i==j , (3,3))\n",
    "print(a1)"
   ]
  },
  {
   "cell_type": "code",
   "execution_count": 14,
   "id": "1ff15997",
   "metadata": {},
   "outputs": [
    {
     "name": "stdout",
     "output_type": "stream",
     "text": [
      "[[0. 1. 2.]\n",
      " [1. 2. 3.]\n",
      " [2. 3. 4.]]\n"
     ]
    }
   ],
   "source": [
    "a2 = np.fromfunction(lambda i,j : i+j , (3,3))\n",
    "print(a2)"
   ]
  },
  {
   "cell_type": "markdown",
   "id": "29634c3c",
   "metadata": {},
   "source": [
    "---"
   ]
  },
  {
   "cell_type": "markdown",
   "id": "c00adca7",
   "metadata": {},
   "source": [
    "### foriter(generator function , data type) "
   ]
  },
  {
   "cell_type": "code",
   "execution_count": 15,
   "id": "ff79ad9c",
   "metadata": {},
   "outputs": [
    {
     "name": "stdout",
     "output_type": "stream",
     "text": [
      "<generator object <genexpr> at 0x0000022D4F1F0740>\n",
      "<class 'generator'>\n"
     ]
    }
   ],
   "source": [
    "iterable = (i*i for i in range(1,5))\n",
    "print(iterable)\n",
    "print(type(iterable))"
   ]
  },
  {
   "cell_type": "code",
   "execution_count": 16,
   "id": "6a4784ae",
   "metadata": {},
   "outputs": [
    {
     "data": {
      "text/plain": [
       "array([ 1.,  4.,  9., 16.])"
      ]
     },
     "execution_count": 16,
     "metadata": {},
     "output_type": "execute_result"
    }
   ],
   "source": [
    "np.fromiter(iterable,float)"
   ]
  },
  {
   "cell_type": "markdown",
   "id": "a933bcae",
   "metadata": {},
   "source": [
    "---"
   ]
  },
  {
   "cell_type": "code",
   "execution_count": 17,
   "id": "ced3a829",
   "metadata": {},
   "outputs": [
    {
     "name": "stdout",
     "output_type": "stream",
     "text": [
      "[2. 3. 5. 1.]\n",
      "[2 3 5 1]\n"
     ]
    }
   ],
   "source": [
    "b1 = np.fromstring('2 3 5 1',sep=' ')\n",
    "print(b1)\n",
    "b1 = np.fromstring('2 3 5 1',sep=' ',dtype=int)\n",
    "print(b1)"
   ]
  },
  {
   "cell_type": "code",
   "execution_count": 18,
   "id": "9d369575",
   "metadata": {},
   "outputs": [
    {
     "name": "stdout",
     "output_type": "stream",
     "text": [
      "[2. 3. 5. 1.]\n"
     ]
    }
   ],
   "source": [
    "b2 = np.fromstring('2,3,5,1',sep=',')\n",
    "print(b2)"
   ]
  },
  {
   "cell_type": "markdown",
   "id": "c9a30700",
   "metadata": {},
   "source": [
    "---"
   ]
  },
  {
   "cell_type": "markdown",
   "id": "60a2d784",
   "metadata": {},
   "source": [
    "### ndim -> gives the dimension.\n",
    "### size -> gives number of elements of the array.\n",
    "### shape -> gives the shape of the array."
   ]
  },
  {
   "cell_type": "code",
   "execution_count": 19,
   "id": "50092455",
   "metadata": {},
   "outputs": [
    {
     "name": "stdout",
     "output_type": "stream",
     "text": [
      "[[1 2 3]\n",
      " [7 8 9]]\n",
      "Dimension : 2\n",
      "Number of elements : 6\n",
      "Shape of the array : (2, 3)\n"
     ]
    }
   ],
   "source": [
    "c1 = np.array([[1,2,3],[7,8,9]])\n",
    "print(c1)\n",
    "print('Dimension :',c1.ndim)\n",
    "print('Number of elements :',c1.size)\n",
    "print('Shape of the array :',c1.shape)"
   ]
  },
  {
   "cell_type": "markdown",
   "id": "c677311d",
   "metadata": {},
   "source": [
    "---"
   ]
  }
 ],
 "metadata": {
  "kernelspec": {
   "display_name": "Python 3 (ipykernel)",
   "language": "python",
   "name": "python3"
  },
  "language_info": {
   "codemirror_mode": {
    "name": "ipython",
    "version": 3
   },
   "file_extension": ".py",
   "mimetype": "text/x-python",
   "name": "python",
   "nbconvert_exporter": "python",
   "pygments_lexer": "ipython3",
   "version": "3.9.13"
  }
 },
 "nbformat": 4,
 "nbformat_minor": 5
}
