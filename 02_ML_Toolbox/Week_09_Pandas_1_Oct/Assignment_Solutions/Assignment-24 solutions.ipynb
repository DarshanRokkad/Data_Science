{
 "cells": [
  {
   "cell_type": "markdown",
   "id": "e36ba39e",
   "metadata": {},
   "source": [
    "# <font color = 'orange'> Assignment 24 Solutions"
   ]
  },
  {
   "cell_type": "markdown",
   "id": "024b4c86",
   "metadata": {},
   "source": [
    "---"
   ]
  },
  {
   "cell_type": "markdown",
   "id": "925e17aa",
   "metadata": {},
   "source": [
    "### Q1. List any five functions of the pandas library with execution."
   ]
  },
  {
   "cell_type": "code",
   "execution_count": 1,
   "id": "30c6483e",
   "metadata": {},
   "outputs": [
    {
     "name": "stdout",
     "output_type": "stream",
     "text": [
      "Function 1 - head():\n",
      "      Name  Age  Grade\n",
      "0    Alice   18     85\n",
      "1      Bob   19     92\n",
      "2  Charlie   20     78\n",
      "3    David   19     88\n",
      "\n",
      "Function 2 - describe():\n",
      "             Age      Grade\n",
      "count   4.000000   4.000000\n",
      "mean   19.000000  85.750000\n",
      "std     0.816497   5.909033\n",
      "min    18.000000  78.000000\n",
      "25%    18.750000  83.250000\n",
      "50%    19.000000  86.500000\n",
      "75%    19.250000  89.000000\n",
      "max    20.000000  92.000000\n",
      "\n",
      "Function 3 - groupby() and mean():\n",
      "     Grade\n",
      "Age       \n",
      "18    85.0\n",
      "19    90.0\n",
      "20    78.0\n",
      "\n",
      "Function 4 - sort_values():\n",
      "      Name  Age  Grade\n",
      "1      Bob   19     92\n",
      "3    David   19     88\n",
      "0    Alice   18     85\n",
      "2  Charlie   20     78\n",
      "\n",
      "Function 5 - Selecting specific columns:\n",
      "      Name  Grade\n",
      "0    Alice     85\n",
      "1      Bob     92\n",
      "2  Charlie     78\n",
      "3    David     88\n"
     ]
    }
   ],
   "source": [
    "import pandas as pd\n",
    "\n",
    "data = {\n",
    "    'Name': ['Alice', 'Bob', 'Charlie', 'David'],\n",
    "    'Age': [18, 19, 20, 19],\n",
    "    'Grade': [85, 92, 78, 88]\n",
    "}\n",
    "df = pd.DataFrame(data)\n",
    "\n",
    "# Function 1: Display the first few rows of the DataFrame\n",
    "print(\"Function 1 - head():\")\n",
    "print(df.head())  # By default, it displays the first 5 rows\n",
    "\n",
    "# Function 2: Calculate summary statistics\n",
    "print(\"\\nFunction 2 - describe():\")\n",
    "print(df.describe())\n",
    "\n",
    "# Function 3: Group and aggregate data\n",
    "print(\"\\nFunction 3 - groupby() and mean():\")\n",
    "grouped = df.groupby('Age').agg({'Grade': 'mean'})\n",
    "print(grouped)\n",
    "\n",
    "# Function 4: Sort the DataFrame by a column\n",
    "print(\"\\nFunction 4 - sort_values():\")\n",
    "sorted_df = df.sort_values('Grade', ascending=False)\n",
    "print(sorted_df)\n",
    "\n",
    "# Function 5: Select specific columns\n",
    "print(\"\\nFunction 5 - Selecting specific columns:\")\n",
    "selected_columns = df[['Name', 'Grade']]\n",
    "print(selected_columns)\n"
   ]
  },
  {
   "cell_type": "markdown",
   "id": "2c0292f3",
   "metadata": {},
   "source": [
    "---"
   ]
  },
  {
   "cell_type": "markdown",
   "id": "3b50f129",
   "metadata": {},
   "source": [
    "### Q2. Given a Pandas DataFrame df with columns 'A', 'B', and 'C', write a Python function to re-index the DataFrame with a new index that starts from 1 and increments by 2 for each row."
   ]
  },
  {
   "cell_type": "code",
   "execution_count": 2,
   "id": "0895a999",
   "metadata": {},
   "outputs": [
    {
     "name": "stdout",
     "output_type": "stream",
     "text": [
      "    A   B     C\n",
      "0  84  75    hi\n",
      "1  23  23   bye\n",
      "2  98  23  come\n",
      "\n",
      "    A   B     C\n",
      "1  84  75    hi\n",
      "3  23  23   bye\n",
      "5  98  23  come\n"
     ]
    }
   ],
   "source": [
    "def reindex(df):    \n",
    "    ser = pd.Series([i for i in range(1,len(df)*2+1,2)])\n",
    "    df = df.set_index(ser)\n",
    "    return df\n",
    "\n",
    "data = {'A':[84,23,98],'B':[75,23,23],'C':['hi','bye','come']}\n",
    "df = pd.DataFrame(data)\n",
    "print(df)\n",
    "print()\n",
    "df = reindex(df)\n",
    "print(df)"
   ]
  },
  {
   "cell_type": "markdown",
   "id": "5c9e4c75",
   "metadata": {},
   "source": [
    "---"
   ]
  },
  {
   "cell_type": "markdown",
   "id": "c88ebebd",
   "metadata": {},
   "source": [
    "### Q3. You have a Pandas DataFrame df with a column named 'Values'. Write a Python function that iterates over the DataFrame and calculates the sum of the first three values in the 'Values' column. The function should print the sum to the console.\n",
    "\n",
    "#### For example, if the 'Values' column of df contains the values [10, 20, 30, 40, 50], your function should calculate and print the sum of the first three values, which is 60."
   ]
  },
  {
   "cell_type": "code",
   "execution_count": 3,
   "id": "00992051",
   "metadata": {},
   "outputs": [
    {
     "name": "stdout",
     "output_type": "stream",
     "text": [
      "   Values\n",
      "0      10\n",
      "1      20\n",
      "2      30\n",
      "3      40\n",
      "4      50\n",
      "\n",
      "Sum : 60\n"
     ]
    }
   ],
   "source": [
    "def iter_and_sum(df):\n",
    "    counter = 0\n",
    "    s = 0\n",
    "    for i in df['Values']:\n",
    "        if counter == 3:\n",
    "            break\n",
    "        counter += 1\n",
    "        s += i \n",
    "    print('Sum :',s)\n",
    "\n",
    "df = pd.DataFrame({'Values':[10, 20, 30, 40, 50]})\n",
    "print(df)\n",
    "print()\n",
    "iter_and_sum(df)"
   ]
  },
  {
   "cell_type": "markdown",
   "id": "f1aba0a5",
   "metadata": {},
   "source": [
    "---"
   ]
  },
  {
   "cell_type": "markdown",
   "id": "7c865f15",
   "metadata": {},
   "source": [
    "### Q4. Given a Pandas DataFrame df with a column 'Text', write a Python function to create a new column 'Word_Count' that contains the number of words in each row of the 'Text' column."
   ]
  },
  {
   "cell_type": "code",
   "execution_count": 4,
   "id": "ba9a60b3",
   "metadata": {},
   "outputs": [
    {
     "name": "stdout",
     "output_type": "stream",
     "text": [
      "          Text\n",
      "0      darshan\n",
      "1  khusgramati\n",
      "2       vishwa\n",
      "3       amogha\n",
      "\n",
      "          Text  Word_Count\n",
      "0      darshan           7\n",
      "1  khusgramati          11\n",
      "2       vishwa           6\n",
      "3       amogha           6\n"
     ]
    }
   ],
   "source": [
    "def wordcount(df):\n",
    "    df['Word_Count'] = df['Text'].apply(len)\n",
    "\n",
    "df = pd.DataFrame({'Text':['darshan','khusgramati','vishwa','amogha']})\n",
    "print(df)\n",
    "print()\n",
    "wordcount(df)\n",
    "print(df)"
   ]
  },
  {
   "cell_type": "markdown",
   "id": "e47e4b69",
   "metadata": {},
   "source": [
    "---"
   ]
  },
  {
   "cell_type": "markdown",
   "id": "86d0efe3",
   "metadata": {},
   "source": [
    "### Q5. How are DataFrame.size() and DataFrame.shape() different?"
   ]
  },
  {
   "cell_type": "markdown",
   "id": "a277fc34",
   "metadata": {},
   "source": [
    "#### DataFrame.size() -> gives the total number of elements present in the dataframe.\n",
    "#### DataFrame.shape() -> gives the number of row and columns present in the or dimension of the dataframe."
   ]
  },
  {
   "cell_type": "code",
   "execution_count": 5,
   "id": "2f35cf31",
   "metadata": {},
   "outputs": [
    {
     "name": "stdout",
     "output_type": "stream",
     "text": [
      "          Text  Word_Count\n",
      "0      darshan           7\n",
      "1  khusgramati          11\n",
      "2       vishwa           6\n",
      "3       amogha           6\n",
      "\n",
      "Size :  8\n",
      "\n",
      "Shape :  (4, 2)\n"
     ]
    }
   ],
   "source": [
    "print(df)\n",
    "print()\n",
    "print('Size : ',df.size)\n",
    "print()\n",
    "print('Shape : ',df.shape)"
   ]
  },
  {
   "cell_type": "markdown",
   "id": "d3bc3148",
   "metadata": {},
   "source": [
    "---"
   ]
  },
  {
   "cell_type": "markdown",
   "id": "2236ec93",
   "metadata": {},
   "source": [
    "### Q6. Which function of pandas do we use to read an excel file?"
   ]
  },
  {
   "cell_type": "code",
   "execution_count": 6,
   "id": "9d9e1e59",
   "metadata": {},
   "outputs": [],
   "source": [
    "# we use read_csv(file name or url) function is used to read the data from the excel sheet\n",
    "\n",
    "df = pd.read_csv('https://raw.githubusercontent.com/datasciencedojo/datasets/master/titanic.csv')"
   ]
  },
  {
   "cell_type": "markdown",
   "id": "d2fc0f24",
   "metadata": {},
   "source": [
    "---"
   ]
  },
  {
   "cell_type": "markdown",
   "id": "95f8dcb2",
   "metadata": {},
   "source": [
    "### Q7. You have a Pandas DataFrame df that contains a column named 'Email' that contains email addresses in the format 'username@domain.com'. Write a Python function that creates a new column 'Username' in df that contains only the username part of each email address.\n",
    "\n",
    "#### The username is the part of the email address that appears before the '@' symbol. For example, if the email address is 'john.doe@example.com', the 'Username' column should contain 'john.doe'. Your function should extract the username from each email address and store it in the new 'Username' column."
   ]
  },
  {
   "cell_type": "code",
   "execution_count": 7,
   "id": "e62e4969",
   "metadata": {},
   "outputs": [
    {
     "name": "stdout",
     "output_type": "stream",
     "text": [
      "               Email\n",
      "0  darshan@gmail.com\n",
      "1   krish@google.com\n",
      "2     sudh@yahho.com\n",
      "3   naik@hotmail.com\n",
      "\n",
      "               Email Username\n",
      "0  darshan@gmail.com  darshan\n",
      "1   krish@google.com    krish\n",
      "2     sudh@yahho.com     sudh\n",
      "3   naik@hotmail.com     naik\n"
     ]
    }
   ],
   "source": [
    "def extract_name(df):\n",
    "    df['Username'] = df['Email'].apply(lambda x : x[:x.index('@')])\n",
    "\n",
    "df = pd.DataFrame({'Email':['darshan@gmail.com','krish@google.com','sudh@yahho.com','naik@hotmail.com']})\n",
    "print(df)\n",
    "print()\n",
    "extract_name(df)\n",
    "print(df)"
   ]
  },
  {
   "cell_type": "markdown",
   "id": "08f3ac92",
   "metadata": {},
   "source": [
    "---"
   ]
  },
  {
   "cell_type": "markdown",
   "id": "1188bf81",
   "metadata": {},
   "source": [
    "### Q8. You have a Pandas DataFrame df with columns 'A', 'B', and 'C'. Write a Python function that selects all rows where the value in column 'A' is greater than 5 and the value in column 'B' is less than 10. The function should return a new DataFrame that contains only the selected rows.\n",
    "\n",
    "#### For example, if df contains the following values:\n",
    "#### A   B   C\n",
    "#### 0  3   5   1\n",
    "#### 1  8   2   7\n",
    "#### 2  6   9   4\n",
    "#### 3  2   3   5\n",
    "#### 4  9   1   2\n",
    "\n",
    "#### Your function should select the following rows:   \n",
    "#### A   B   C\n",
    "#### 1  8   2   7\n",
    "#### 4  9   1   2\n",
    "\n",
    "## <font color = 'red'> Sample output given is wrong\n",
    "\n",
    "#### The function should return a new DataFrame that contains only the selected rows."
   ]
  },
  {
   "cell_type": "code",
   "execution_count": 8,
   "id": "56a8ced5",
   "metadata": {},
   "outputs": [
    {
     "name": "stdout",
     "output_type": "stream",
     "text": [
      "   A  B  C\n",
      "0  3  5  1\n",
      "1  8  2  7\n",
      "2  6  9  4\n",
      "3  2  3  5\n",
      "4  9  1  2\n",
      "\n",
      "   A  B  C\n",
      "1  8  2  7\n",
      "2  6  9  4\n",
      "4  9  1  2\n"
     ]
    }
   ],
   "source": [
    "def select(df):\n",
    "    new_df = df[(df['A']>5) & (df['B']<10)]\n",
    "    return new_df\n",
    "\n",
    "df = pd.DataFrame({'A':[3,8,6,2,9],'B':[5,2,9,3,1],'C':[1,7,4,5,2]})\n",
    "print(df)\n",
    "new_df = select(df)\n",
    "print()\n",
    "print(new_df)"
   ]
  },
  {
   "cell_type": "markdown",
   "id": "6b79893f",
   "metadata": {},
   "source": [
    "---"
   ]
  },
  {
   "cell_type": "markdown",
   "id": "bebf47ad",
   "metadata": {},
   "source": [
    "### Q9. Given a Pandas DataFrame df with a column 'Values', write a Python function to calculate the mean, median, and standard deviation of the values in the 'Values' column."
   ]
  },
  {
   "cell_type": "code",
   "execution_count": 9,
   "id": "36411c70",
   "metadata": {},
   "outputs": [
    {
     "name": "stdout",
     "output_type": "stream",
     "text": [
      "   Values\n",
      "0      10\n",
      "1      20\n",
      "2      30\n",
      "3      40\n",
      "4      50\n",
      "\n",
      "Mean : 30.0\n",
      "Median : 30.0\n",
      "Standard deviation : 15.811388300841896\n"
     ]
    }
   ],
   "source": [
    "def calcu(df):\n",
    "    print('Mean :',df['Values'].mean())\n",
    "    print('Median :',df['Values'].median())\n",
    "    print('Standard deviation :',df['Values'].std())\n",
    "\n",
    "df = pd.DataFrame({'Values':[10, 20, 30, 40, 50]})\n",
    "print(df)\n",
    "print()\n",
    "calcu(df)"
   ]
  },
  {
   "cell_type": "markdown",
   "id": "dff906d6",
   "metadata": {},
   "source": [
    "---"
   ]
  },
  {
   "cell_type": "markdown",
   "id": "775eb88d",
   "metadata": {},
   "source": [
    "### Q10. Given a Pandas DataFrame df with a column 'Sales' and a column 'Date', write a Python function to create a new column 'MovingAverage' that contains the moving average of the sales for the past 7 days for each row in the DataFrame. The moving average should be calculated using a window of size 7 and should include the current day."
   ]
  },
  {
   "cell_type": "code",
   "execution_count": 10,
   "id": "3032f064",
   "metadata": {},
   "outputs": [
    {
     "name": "stdout",
     "output_type": "stream",
     "text": [
      "   Sales       Date\n",
      "0   7330 2020-01-01\n",
      "1   6547 2020-01-02\n",
      "2   7931 2020-01-03\n",
      "3   3406 2020-01-04\n",
      "4   5364 2020-01-05\n",
      "5   8391 2020-01-06\n",
      "6   5052 2020-01-07\n",
      "7   8051 2020-01-08\n",
      "8   7772 2020-01-09\n",
      "9   9383 2020-01-10\n",
      "\n",
      "   Sales       Date  MovingAverage\n",
      "0   7330 2020-01-01            NaN\n",
      "1   6547 2020-01-02            NaN\n",
      "2   7931 2020-01-03            NaN\n",
      "3   3406 2020-01-04            NaN\n",
      "4   5364 2020-01-05            NaN\n",
      "5   8391 2020-01-06            NaN\n",
      "6   5052 2020-01-07    6288.714286\n",
      "7   8051 2020-01-08    6391.714286\n",
      "8   7772 2020-01-09    6566.714286\n",
      "9   9383 2020-01-10    6774.142857\n"
     ]
    }
   ],
   "source": [
    "def create_col(df):\n",
    "    df['MovingAverage'] = df['Sales'].rolling(window=7).mean()\n",
    "\n",
    "import numpy as np \n",
    "date = pd.date_range(start='2020-01-01',end='2020-01-10')\n",
    "sales = np.random.randint(1000,10000,len(date))\n",
    "df = pd.DataFrame({'Sales':sales,'Date':date})\n",
    "print(df)\n",
    "create_col(df)\n",
    "print()\n",
    "print(df)"
   ]
  },
  {
   "cell_type": "markdown",
   "id": "3dcb9c16",
   "metadata": {},
   "source": [
    "---"
   ]
  },
  {
   "cell_type": "markdown",
   "id": "03930b08",
   "metadata": {},
   "source": [
    "### Q11. You have a Pandas DataFrame df with a column 'Date'. Write a Python function that creates a new column 'Weekday' in the DataFrame. The 'Weekday' column should contain the weekday name (e.g. Monday, Tuesday) corresponding to each date in the 'Date' column.\n",
    "\n",
    "### For example, if df contains the following values:\n",
    "####          Date\n",
    "#### 0  2023-01-01\n",
    "#### 1  2023-01-02\n",
    "#### 2  2023-01-03\n",
    "#### 3  2023-01-04\n",
    "#### 4  2023-01-05\n",
    "\n",
    "### Your function should create the following DataFrame:\n",
    "####          Date    Weekday\n",
    "#### 0  2023-01-01    Sunday\n",
    "#### 1  2023-01-02     Monday\n",
    "#### 2  2023-01-03    Tuesday\n",
    "#### 3  2023-01-04    Wednesday\n",
    "#### 4  2023-01-05    Thursday\n",
    "\n",
    "#### The function should return the modified DataFrame."
   ]
  },
  {
   "cell_type": "code",
   "execution_count": 11,
   "id": "b8bb3d77",
   "metadata": {},
   "outputs": [
    {
     "name": "stdout",
     "output_type": "stream",
     "text": [
      "        Date\n",
      "0 2023-01-01\n",
      "1 2023-01-02\n",
      "2 2023-01-03\n",
      "3 2023-01-04\n",
      "4 2023-01-05\n",
      "\n",
      "        Date    Weekday\n",
      "0 2023-01-01     Sunday\n",
      "1 2023-01-02     Monday\n",
      "2 2023-01-03    Tuesday\n",
      "3 2023-01-04  Wednesday\n",
      "4 2023-01-05   Thursday\n"
     ]
    }
   ],
   "source": [
    "def extract_weekday(df):\n",
    "    df['Weekday'] = df['Date'].dt.strftime('%A')\n",
    "    return df\n",
    "\n",
    "df = pd.DataFrame({'Date':pd.date_range(start='2023-01-01',end='2023-01-05')})\n",
    "print(df)\n",
    "new_df = extract_weekday(df)\n",
    "print()\n",
    "print(new_df)"
   ]
  },
  {
   "cell_type": "markdown",
   "id": "9a5671ae",
   "metadata": {},
   "source": [
    "---"
   ]
  },
  {
   "cell_type": "markdown",
   "id": "1baf171f",
   "metadata": {},
   "source": [
    "### Q12. Given a Pandas DataFrame df with a column 'Date' that contains timestamps, write a Python function to select all rows where the date is between '2023-01-01' and '2023-01-31'."
   ]
  },
  {
   "cell_type": "code",
   "execution_count": 13,
   "id": "f084e55b",
   "metadata": {},
   "outputs": [
    {
     "name": "stdout",
     "output_type": "stream",
     "text": [
      "          Date\n",
      "0   2022-01-01\n",
      "1   2022-01-02\n",
      "2   2022-01-03\n",
      "3   2022-01-04\n",
      "4   2022-01-05\n",
      "..         ...\n",
      "573 2023-07-28\n",
      "574 2023-07-29\n",
      "575 2023-07-30\n",
      "576 2023-07-31\n",
      "577 2023-08-01\n",
      "\n",
      "[578 rows x 1 columns]\n",
      "\n",
      "Length of series :  31\n",
      "          Date\n",
      "365 2023-01-01\n",
      "366 2023-01-02\n",
      "367 2023-01-03\n",
      "368 2023-01-04\n",
      "369 2023-01-05\n",
      "370 2023-01-06\n",
      "371 2023-01-07\n",
      "372 2023-01-08\n",
      "373 2023-01-09\n",
      "374 2023-01-10\n",
      "375 2023-01-11\n",
      "376 2023-01-12\n",
      "377 2023-01-13\n",
      "378 2023-01-14\n",
      "379 2023-01-15\n",
      "380 2023-01-16\n",
      "381 2023-01-17\n",
      "382 2023-01-18\n",
      "383 2023-01-19\n",
      "384 2023-01-20\n",
      "385 2023-01-21\n",
      "386 2023-01-22\n",
      "387 2023-01-23\n",
      "388 2023-01-24\n",
      "389 2023-01-25\n",
      "390 2023-01-26\n",
      "391 2023-01-27\n",
      "392 2023-01-28\n",
      "393 2023-01-29\n",
      "394 2023-01-30\n",
      "395 2023-01-31\n"
     ]
    }
   ],
   "source": [
    "def select_date_row(df):\n",
    "    new_ser = df[(df['Date'].dt.month == 1)&(df['Date'].dt.year == 2023)]\n",
    "    return new_ser\n",
    "\n",
    "df = pd.DataFrame({'Date':pd.date_range(start='2022-01-01',end='2023-08-01')})\n",
    "print(df)\n",
    "print()\n",
    "new_ser = select_date_row(df)\n",
    "print('Length of series : ',len(new_ser))\n",
    "print(new_ser)"
   ]
  },
  {
   "cell_type": "markdown",
   "id": "059f1e07",
   "metadata": {},
   "source": [
    "---"
   ]
  },
  {
   "cell_type": "markdown",
   "id": "8bd00977",
   "metadata": {},
   "source": [
    "### Q13. To use the basic functions of pandas, what is the first and foremost necessary library that needs to be imported?"
   ]
  },
  {
   "cell_type": "markdown",
   "id": "467b5dfc",
   "metadata": {},
   "source": [
    "#### Answer : We need to import the pandas library \n",
    "#### import pandas as pd"
   ]
  },
  {
   "cell_type": "markdown",
   "id": "bc3f6d90",
   "metadata": {},
   "source": [
    "---"
   ]
  }
 ],
 "metadata": {
  "kernelspec": {
   "display_name": "Python 3 (ipykernel)",
   "language": "python",
   "name": "python3"
  },
  "language_info": {
   "codemirror_mode": {
    "name": "ipython",
    "version": 3
   },
   "file_extension": ".py",
   "mimetype": "text/x-python",
   "name": "python",
   "nbconvert_exporter": "python",
   "pygments_lexer": "ipython3",
   "version": "3.9.13"
  }
 },
 "nbformat": 4,
 "nbformat_minor": 5
}
