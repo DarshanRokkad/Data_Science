{
 "cells": [
  {
   "cell_type": "markdown",
   "metadata": {
    "id": "4jRypCcnSFsb"
   },
   "source": [
    "# <font color = 'orange'> Tensorflow"
   ]
  },
  {
   "cell_type": "markdown",
   "metadata": {
    "id": "FwCVaQ75SPnz"
   },
   "source": [
    "---"
   ]
  },
  {
   "cell_type": "code",
   "execution_count": 1,
   "metadata": {
    "colab": {
     "base_uri": "https://localhost:8080/"
    },
    "id": "xslMXio8P49D",
    "outputId": "34a3aa05-a87f-4f3f-cedf-8cecbbba267d"
   },
   "outputs": [
    {
     "name": "stdout",
     "output_type": "stream",
     "text": [
      "TensorFlow version: 2.14.0\n",
      "Eager execution is: True\n"
     ]
    }
   ],
   "source": [
    "import tensorflow as tf\n",
    "\n",
    "print(\"TensorFlow version: {}\".format(tf.__version__))\n",
    "print(\"Eager execution is: {}\".format(tf.executing_eagerly()))"
   ]
  },
  {
   "cell_type": "markdown",
   "metadata": {
    "id": "YvZRdvSLSUW-"
   },
   "source": [
    "---"
   ]
  },
  {
   "cell_type": "markdown",
   "metadata": {
    "id": "xQCOudQmQ81r"
   },
   "source": [
    "### GPU / CPU Check"
   ]
  },
  {
   "cell_type": "code",
   "execution_count": 2,
   "metadata": {
    "colab": {
     "base_uri": "https://localhost:8080/"
    },
    "id": "94d9IoIyQboF",
    "outputId": "41c24754-40e9-4766-e1e9-3a06a41dee30"
   },
   "outputs": [
    {
     "name": "stderr",
     "output_type": "stream",
     "text": [
      "WARNING:tensorflow:From <ipython-input-2-16ea5becd632>:1: is_gpu_available (from tensorflow.python.framework.test_util) is deprecated and will be removed in a future version.\n",
      "Instructions for updating:\n",
      "Use `tf.config.list_physical_devices('GPU')` instead.\n"
     ]
    },
    {
     "name": "stdout",
     "output_type": "stream",
     "text": [
      "Running on CPU\n"
     ]
    }
   ],
   "source": [
    "if tf.test.is_gpu_available():\n",
    "    print('Running on GPU')\n",
    "else:\n",
    "    print('Running on CPU')"
   ]
  },
  {
   "cell_type": "markdown",
   "metadata": {
    "id": "WXPHMprdSVrl"
   },
   "source": [
    "---"
   ]
  },
  {
   "cell_type": "markdown",
   "metadata": {
    "id": "ZcDUNh3pSpJj"
   },
   "source": [
    "### Tensor Constant"
   ]
  },
  {
   "cell_type": "code",
   "execution_count": 3,
   "metadata": {
    "colab": {
     "base_uri": "https://localhost:8080/"
    },
    "id": "U8zYWBauQhQ-",
    "outputId": "9d1b9d2f-0d50-45fc-f417-fbc4b901d243"
   },
   "outputs": [
    {
     "data": {
      "text/plain": [
       "<tf.Tensor: shape=(), dtype=int32, numpy=42>"
      ]
     },
     "execution_count": 3,
     "metadata": {},
     "output_type": "execute_result"
    }
   ],
   "source": [
    "ineuron = tf.constant(42)\n",
    "\n",
    "ineuron"
   ]
  },
  {
   "cell_type": "code",
   "execution_count": 4,
   "metadata": {
    "colab": {
     "base_uri": "https://localhost:8080/"
    },
    "id": "Y9N3PvdTTO7P",
    "outputId": "8308a06e-363e-43c9-bf83-ca6552f97815"
   },
   "outputs": [
    {
     "data": {
      "text/plain": [
       "42"
      ]
     },
     "execution_count": 4,
     "metadata": {},
     "output_type": "execute_result"
    }
   ],
   "source": [
    "ineuron.numpy()"
   ]
  },
  {
   "cell_type": "code",
   "execution_count": 5,
   "metadata": {
    "colab": {
     "base_uri": "https://localhost:8080/"
    },
    "id": "B2C7B7nSTiB5",
    "outputId": "d143d3e7-91bc-4454-de03-aaf64244e359"
   },
   "outputs": [
    {
     "data": {
      "text/plain": [
       "<tf.Tensor: shape=(), dtype=int64, numpy=12>"
      ]
     },
     "execution_count": 5,
     "metadata": {},
     "output_type": "execute_result"
    }
   ],
   "source": [
    "a = tf.constant(12, dtype = tf.int64)\n",
    "a"
   ]
  },
  {
   "cell_type": "code",
   "execution_count": 6,
   "metadata": {
    "colab": {
     "base_uri": "https://localhost:8080/"
    },
    "id": "cbURVULvTr8G",
    "outputId": "15605ac5-94e3-4f16-d566-49f80e1d3add"
   },
   "outputs": [
    {
     "name": "stdout",
     "output_type": "stream",
     "text": [
      "tf.Tensor(\n",
      "[[4 2]\n",
      " [9 5]], shape=(2, 2), dtype=int32)\n"
     ]
    }
   ],
   "source": [
    "b = tf.constant([[4,2],[9,5]])\n",
    "\n",
    "print(b)"
   ]
  },
  {
   "cell_type": "code",
   "execution_count": 7,
   "metadata": {
    "colab": {
     "base_uri": "https://localhost:8080/"
    },
    "id": "S1VZISHMaPjd",
    "outputId": "16c24d98-36b5-4c2b-b949-a7f1447d226b"
   },
   "outputs": [
    {
     "data": {
      "text/plain": [
       "array([[4, 2],\n",
       "       [9, 5]], dtype=int32)"
      ]
     },
     "execution_count": 7,
     "metadata": {},
     "output_type": "execute_result"
    }
   ],
   "source": [
    "# extracting only the values\n",
    "\n",
    "b.numpy()"
   ]
  },
  {
   "cell_type": "code",
   "execution_count": 8,
   "metadata": {
    "colab": {
     "base_uri": "https://localhost:8080/"
    },
    "id": "vvq61C-kaVP-",
    "outputId": "6f049d7f-c5ea-4d07-aa69-d8e746c60b5f"
   },
   "outputs": [
    {
     "name": "stdout",
     "output_type": "stream",
     "text": [
      "<dtype: 'int32'>\n",
      "(2, 2)\n"
     ]
    }
   ],
   "source": [
    "# data type and shape\n",
    "\n",
    "print(b.dtype)\n",
    "print(b.shape)"
   ]
  },
  {
   "cell_type": "markdown",
   "metadata": {
    "id": "uCv0QoA1nmip"
   },
   "source": [
    "---"
   ]
  },
  {
   "cell_type": "markdown",
   "metadata": {
    "id": "ts3oDTAQapw5"
   },
   "source": [
    "### Generating constant"
   ]
  },
  {
   "cell_type": "code",
   "execution_count": 9,
   "metadata": {
    "colab": {
     "base_uri": "https://localhost:8080/"
    },
    "id": "-agCg3cnakA3",
    "outputId": "833fc697-dda8-44a3-f697-3af062a991a7"
   },
   "outputs": [
    {
     "name": "stdout",
     "output_type": "stream",
     "text": [
      "tf.Tensor(\n",
      "[[1. 1. 1.]\n",
      " [1. 1. 1.]], shape=(2, 3), dtype=float32)\n"
     ]
    }
   ],
   "source": [
    "print(tf.ones(shape = (2, 3)))"
   ]
  },
  {
   "cell_type": "code",
   "execution_count": 10,
   "metadata": {
    "colab": {
     "base_uri": "https://localhost:8080/"
    },
    "id": "vbt51npWa1kd",
    "outputId": "26e86161-9e9b-40c1-d70c-67d3fdc86fd5"
   },
   "outputs": [
    {
     "name": "stdout",
     "output_type": "stream",
     "text": [
      "tf.Tensor(\n",
      "[[0. 0.]\n",
      " [0. 0.]\n",
      " [0. 0.]], shape=(3, 2), dtype=float32)\n"
     ]
    }
   ],
   "source": [
    "print(tf.zeros(shape = (3,2)))"
   ]
  },
  {
   "cell_type": "markdown",
   "metadata": {
    "id": "UK2Zv9m4bEcm"
   },
   "source": [
    "### Operation of tensors"
   ]
  },
  {
   "cell_type": "code",
   "execution_count": 11,
   "metadata": {
    "colab": {
     "base_uri": "https://localhost:8080/"
    },
    "id": "qNOiffZLa6KQ",
    "outputId": "4779d9f0-e7b0-4a05-c7fb-9d971aacbaad"
   },
   "outputs": [
    {
     "name": "stdout",
     "output_type": "stream",
     "text": [
      "tf.Tensor(\n",
      "[[ 4  6  8]\n",
      " [16 14 11]], shape=(2, 3), dtype=int32)\n"
     ]
    }
   ],
   "source": [
    "const1 = tf.constant([[3,4,5],[7,6,4]])\n",
    "const2 = tf.constant([[1,2,3],[9,8,7]])\n",
    "\n",
    "result = tf.add(const1, const2)\n",
    "\n",
    "print(result)"
   ]
  },
  {
   "cell_type": "markdown",
   "metadata": {
    "id": "MJqlspMynnN_"
   },
   "source": [
    "---"
   ]
  },
  {
   "cell_type": "markdown",
   "metadata": {
    "id": "_QfzpudHb42Y"
   },
   "source": [
    "### Random Constant"
   ]
  },
  {
   "cell_type": "code",
   "execution_count": 12,
   "metadata": {
    "colab": {
     "base_uri": "https://localhost:8080/"
    },
    "id": "X-evBsZVbYYd",
    "outputId": "abb73851-62df-4119-8cc3-48aceab45d40"
   },
   "outputs": [
    {
     "data": {
      "text/plain": [
       "<tf.Tensor: shape=(2, 2), dtype=float32, numpy=\n",
       "array([[-0.19670331,  0.55860776],\n",
       "       [-1.6667073 ,  0.08366495]], dtype=float32)>"
      ]
     },
     "execution_count": 12,
     "metadata": {},
     "output_type": "execute_result"
    }
   ],
   "source": [
    "tf.random.normal(shape = (2, 2), mean = 0, stddev = 1.0)"
   ]
  },
  {
   "cell_type": "code",
   "execution_count": 13,
   "metadata": {
    "colab": {
     "base_uri": "https://localhost:8080/"
    },
    "id": "Fk-1HF7GcD-P",
    "outputId": "7386ceac-2932-470c-c12c-73643fffbcc2"
   },
   "outputs": [
    {
     "data": {
      "text/plain": [
       "<tf.Tensor: shape=(2, 2), dtype=int32, numpy=\n",
       "array([[5, 5],\n",
       "       [7, 1]], dtype=int32)>"
      ]
     },
     "execution_count": 13,
     "metadata": {},
     "output_type": "execute_result"
    }
   ],
   "source": [
    "tf.random.uniform(shape = (2, 2), minval = 0, maxval = 10, dtype = tf.int32)"
   ]
  },
  {
   "cell_type": "markdown",
   "metadata": {
    "id": "kUnJOGuxnn4h"
   },
   "source": [
    "---"
   ]
  },
  {
   "cell_type": "markdown",
   "metadata": {
    "id": "ApVHzNagcS0i"
   },
   "source": [
    "### Variables"
   ]
  },
  {
   "cell_type": "code",
   "execution_count": 14,
   "metadata": {
    "colab": {
     "base_uri": "https://localhost:8080/"
    },
    "id": "rdevWDfscQj0",
    "outputId": "7adc19a4-967a-40e7-bc5a-86452c2a8bd8"
   },
   "outputs": [
    {
     "data": {
      "text/plain": [
       "(24,\n",
       " <tf.Variable 'Variable:0' shape=() dtype=int32, numpy=42>,\n",
       " <tf.Variable 'Variable:0' shape=(2, 2, 3) dtype=float32, numpy=\n",
       " array([[[ 0.,  1.,  2.],\n",
       "         [ 3.,  4.,  5.]],\n",
       " \n",
       "        [[ 6.,  7.,  8.],\n",
       "         [ 9., 10., 11.]]], dtype=float32)>)"
      ]
     },
     "execution_count": 14,
     "metadata": {},
     "output_type": "execute_result"
    }
   ],
   "source": [
    "var0 = 24 # python variable\n",
    "var1 = tf.Variable(42) # tensor variable of rank 0\n",
    "var2 = tf.Variable([[[0., 1., 2.], [3., 4., 5.]], [[6.,7., 8.],[9., 10., 11.]]])\n",
    "\n",
    "var0, var1, var2"
   ]
  },
  {
   "cell_type": "markdown",
   "metadata": {
    "id": "A2pLCys7mWS-"
   },
   "source": [
    "### Rank basically denotes the dimension\n",
    "#### Image is a rank 3 tensor.\n",
    "#### Video is a rank 4 tensor which is a collection of images(rank 3 tensor)."
   ]
  },
  {
   "cell_type": "markdown",
   "metadata": {
    "id": "Ed2Ox_DSnohG"
   },
   "source": [
    "---"
   ]
  },
  {
   "cell_type": "code",
   "execution_count": 15,
   "metadata": {
    "colab": {
     "base_uri": "https://localhost:8080/"
    },
    "id": "zDuJN49qnOeS",
    "outputId": "331f410f-2e50-4cb6-f878-f0d1fe7f62f6"
   },
   "outputs": [
    {
     "name": "stdout",
     "output_type": "stream",
     "text": [
      "<tf.Variable 'Variable:0' shape=() dtype=float32, numpy=89.0>\n",
      "<tf.Variable 'Variable:0' shape=() dtype=float32, numpy=23.0>\n"
     ]
    }
   ],
   "source": [
    "# reassigning new value to the variable\n",
    "var = tf.Variable(89.)\n",
    "print(var)\n",
    "\n",
    "var.assign(23.)\n",
    "print(var)"
   ]
  },
  {
   "cell_type": "code",
   "execution_count": 16,
   "metadata": {
    "colab": {
     "base_uri": "https://localhost:8080/"
    },
    "id": "0dwj_7-DoHTW",
    "outputId": "577b1d13-5a23-468d-c226-4ae33c8239fc"
   },
   "outputs": [
    {
     "name": "stdout",
     "output_type": "stream",
     "text": [
      "tf.Tensor(\n",
      "[[-0.2440914   0.99545836]\n",
      " [-0.7273437  -0.06828362]], shape=(2, 2), dtype=float32) \n",
      "\n",
      "<tf.Variable 'Variable:0' shape=(2, 2) dtype=float32, numpy=\n",
      "array([[-0.2440914 ,  0.99545836],\n",
      "       [-0.7273437 , -0.06828362]], dtype=float32)>\n"
     ]
    }
   ],
   "source": [
    "intial_value = tf.random.normal(shape = (2, 2))\n",
    "a = tf.Variable(intial_value)\n",
    "\n",
    "print(intial_value,'\\n')\n",
    "print(a)"
   ]
  },
  {
   "cell_type": "markdown",
   "metadata": {
    "id": "ArYFavWHpZCP"
   },
   "source": [
    "---"
   ]
  },
  {
   "cell_type": "markdown",
   "metadata": {
    "id": "h0O1wyfbpaFm"
   },
   "source": [
    "We can assign \"=\" with assign (value), or assign_add (value) with \"+ =\", or assign_sub (value) with \"-=\""
   ]
  },
  {
   "cell_type": "code",
   "execution_count": 17,
   "metadata": {
    "id": "5MOAyCB8ote5"
   },
   "outputs": [],
   "source": [
    "new_value = tf.random.normal(shape = (2, 2))\n",
    "a.assign(new_value)\n",
    "\n",
    "for i in range(2):\n",
    "    for j in range(2):\n",
    "        assert a[i, j] == new_value[i, j] # if the value are different we will get a error"
   ]
  },
  {
   "cell_type": "code",
   "execution_count": 18,
   "metadata": {
    "id": "6_jHpypgp1ie"
   },
   "outputs": [],
   "source": [
    "added_value = tf.random.normal(shape = (2, 2))\n",
    "# for a add added_value\n",
    "a.assign_add(added_value)\n",
    "\n",
    "for i in range(2):\n",
    "    for j in range(2):\n",
    "        assert a[i, j] == (new_value[i, j] + added_value[i, j]) # assert is like a if condition"
   ]
  },
  {
   "cell_type": "markdown",
   "metadata": {
    "id": "SHuGuulPrUeI"
   },
   "source": [
    "---"
   ]
  },
  {
   "cell_type": "markdown",
   "metadata": {
    "id": "xv7SUdg-rYfU"
   },
   "source": [
    "### Shaping a tensor\n",
    "* Architecture of the deep learning are very shape specific.\n",
    "* ex: In ANN, the input is only 1d tensor."
   ]
  },
  {
   "cell_type": "code",
   "execution_count": 19,
   "metadata": {
    "colab": {
     "base_uri": "https://localhost:8080/"
    },
    "id": "8YMnC62PrKQU",
    "outputId": "eeb60525-04fb-4dda-d7be-9ff5e228b713"
   },
   "outputs": [
    {
     "name": "stdout",
     "output_type": "stream",
     "text": [
      "(3, 2, 4)\n"
     ]
    }
   ],
   "source": [
    "# tensor of rank 3 i.e 3d tensor\n",
    "tensor = tf.Variable( [ [[0., 1., 2., 5.], [3., 4., 5., 6.]], [[0., 1., 2., 7.], [3., 4., 5., 8.]], [[6., 7., 8., 5.], [9., 10., 11., 5.]] ])\n",
    "\n",
    "# denotes that  4 columns, 2 rows and 3 2d-tensor\n",
    "print(tensor.shape)"
   ]
  },
  {
   "cell_type": "markdown",
   "metadata": {
    "id": "xAdwm1ZctBYS"
   },
   "source": [
    "---"
   ]
  },
  {
   "cell_type": "markdown",
   "metadata": {
    "id": "IsmfBwSqtCJX"
   },
   "source": [
    "#### Tensors may be reshaped and retain the same values, as is often required for constructing neural networks.\n"
   ]
  },
  {
   "cell_type": "code",
   "execution_count": 20,
   "metadata": {
    "colab": {
     "base_uri": "https://localhost:8080/"
    },
    "id": "R9665Imzr9z_",
    "outputId": "8c5ad840-f703-46ca-c840-dd242595c5de"
   },
   "outputs": [
    {
     "name": "stdout",
     "output_type": "stream",
     "text": [
      "tf.Tensor(\n",
      "[[ 0.  1.  2.  5.]\n",
      " [ 3.  4.  5.  6.]\n",
      " [ 0.  1.  2.  7.]\n",
      " [ 3.  4.  5.  8.]\n",
      " [ 6.  7.  8.  5.]\n",
      " [ 9. 10. 11.  5.]], shape=(6, 4), dtype=float32) \n",
      "\n",
      "tf.Tensor(\n",
      "[[ 0.  1.  2.  5.  3.  4.  5.  6.  0.  1.  2.  7.  3.  4.  5.  8.  6.  7.\n",
      "   8.  5.  9. 10. 11.  5.]], shape=(1, 24), dtype=float32)\n"
     ]
    }
   ],
   "source": [
    "# while reshaping we need to have number of elements same in original and reshaped tensor\n",
    "tensor1 = tf.reshape(tensor, [6, 4])\n",
    "tensor2 = tf.reshape(tensor, [1, 24])\n",
    "\n",
    "print(tensor1, '\\n')\n",
    "print(tensor2)"
   ]
  },
  {
   "cell_type": "markdown",
   "metadata": {
    "id": "mjuHJ5sjtr7z"
   },
   "source": [
    "---"
   ]
  },
  {
   "cell_type": "markdown",
   "metadata": {
    "id": "uMATQcgawk-C"
   },
   "source": [
    "### Ranking (dimensions) of a tensor\n",
    "The rank of a tensor is the number of dimensions it has, that is, the number of indices that are required to specify any particular element of that tensor."
   ]
  },
  {
   "cell_type": "code",
   "execution_count": 21,
   "metadata": {
    "colab": {
     "base_uri": "https://localhost:8080/"
    },
    "id": "V7ASIhqJtgpx",
    "outputId": "4eb2342a-929e-4a49-886f-fee876a97517"
   },
   "outputs": [
    {
     "name": "stdout",
     "output_type": "stream",
     "text": [
      "tf.Tensor(2, shape=(), dtype=int32) \n",
      "\n",
      "2\n"
     ]
    }
   ],
   "source": [
    "# rank denotes dimension\n",
    "print(tf.rank(tensor1), '\\n')\n",
    "print(tf.rank(tensor1).numpy())"
   ]
  },
  {
   "cell_type": "code",
   "execution_count": 22,
   "metadata": {
    "colab": {
     "base_uri": "https://localhost:8080/"
    },
    "id": "WZl4AFY6wuGQ",
    "outputId": "a150dc8b-aa63-4fac-eb58-5ddffbf35dcb"
   },
   "outputs": [
    {
     "name": "stdout",
     "output_type": "stream",
     "text": [
      "tf.Tensor([6 4], shape=(2,), dtype=int32) \n",
      "\n",
      "[6 4]\n"
     ]
    }
   ],
   "source": [
    "# shape denotes the scaler values\n",
    "print(tf.shape(tensor1), '\\n')\n",
    "print(tf.shape(tensor1).numpy())"
   ]
  },
  {
   "cell_type": "markdown",
   "metadata": {
    "id": "U8RpnLGWxUcg"
   },
   "source": [
    "---"
   ]
  },
  {
   "cell_type": "code",
   "execution_count": 23,
   "metadata": {
    "colab": {
     "base_uri": "https://localhost:8080/"
    },
    "id": "mFuzQKk2-zuk",
    "outputId": "0a40cfdc-46e2-46e9-9890-daf5af63ecc7"
   },
   "outputs": [
    {
     "data": {
      "text/plain": [
       "<tf.Variable 'Variable:0' shape=(3, 2, 4) dtype=float32, numpy=\n",
       "array([[[ 0.,  1.,  2.,  5.],\n",
       "        [ 3.,  4.,  5.,  6.]],\n",
       "\n",
       "       [[ 0.,  1.,  2.,  7.],\n",
       "        [ 3.,  4.,  5.,  8.]],\n",
       "\n",
       "       [[ 6.,  7.,  8.,  5.],\n",
       "        [ 9., 10., 11.,  5.]]], dtype=float32)>"
      ]
     },
     "execution_count": 23,
     "metadata": {},
     "output_type": "execute_result"
    }
   ],
   "source": [
    "tensor"
   ]
  },
  {
   "cell_type": "code",
   "execution_count": 24,
   "metadata": {
    "colab": {
     "base_uri": "https://localhost:8080/"
    },
    "id": "_ytJQ5D9xBVc",
    "outputId": "28c03602-1ea8-4d25-9100-5cd444c02f19"
   },
   "outputs": [
    {
     "data": {
      "text/plain": [
       "<tf.Tensor: shape=(), dtype=float32, numpy=2.0>"
      ]
     },
     "execution_count": 24,
     "metadata": {},
     "output_type": "execute_result"
    }
   ],
   "source": [
    "# to accessing element in the tensor\n",
    "\n",
    "num = tensor[1, 0, 2]\n",
    "num"
   ]
  },
  {
   "cell_type": "markdown",
   "metadata": {
    "id": "guMO64Gt_Ck3"
   },
   "source": [
    "---"
   ]
  },
  {
   "cell_type": "markdown",
   "metadata": {
    "id": "iG73iYFB_DOK"
   },
   "source": [
    "### Type casting tensor to numpy or python variable."
   ]
  },
  {
   "cell_type": "code",
   "execution_count": 25,
   "metadata": {
    "colab": {
     "base_uri": "https://localhost:8080/"
    },
    "id": "Ttt3pAu7-xb_",
    "outputId": "a6a3a6db-e39f-4bf9-d35f-0d8438983f47"
   },
   "outputs": [
    {
     "name": "stdout",
     "output_type": "stream",
     "text": [
      "[[[ 0.  1.  2.  5.]\n",
      "  [ 3.  4.  5.  6.]]\n",
      "\n",
      " [[ 0.  1.  2.  7.]\n",
      "  [ 3.  4.  5.  8.]]\n",
      "\n",
      " [[ 6.  7.  8.  5.]\n",
      "  [ 9. 10. 11.  5.]]]\n"
     ]
    }
   ],
   "source": [
    "print(tensor.numpy())"
   ]
  },
  {
   "cell_type": "code",
   "execution_count": 26,
   "metadata": {
    "colab": {
     "base_uri": "https://localhost:8080/"
    },
    "id": "Z8j0aNg-_NyK",
    "outputId": "8aed1517-8032-4b16-f140-42168eb6e1e0"
   },
   "outputs": [
    {
     "name": "stdout",
     "output_type": "stream",
     "text": [
      "2.0\n"
     ]
    }
   ],
   "source": [
    "print(tensor[1, 0, 2].numpy())"
   ]
  },
  {
   "cell_type": "markdown",
   "metadata": {
    "id": "5KKNkQsp_WnY"
   },
   "source": [
    "---"
   ]
  },
  {
   "cell_type": "markdown",
   "metadata": {
    "id": "uoiNkL6l_eFG"
   },
   "source": [
    "### Finding the size of a tensor"
   ]
  },
  {
   "cell_type": "code",
   "execution_count": 27,
   "metadata": {
    "colab": {
     "base_uri": "https://localhost:8080/"
    },
    "id": "5GVX8fdg_T8c",
    "outputId": "f902a620-c0f3-4db9-cca4-c7edd6e61020"
   },
   "outputs": [
    {
     "data": {
      "text/plain": [
       "24"
      ]
     },
     "execution_count": 27,
     "metadata": {},
     "output_type": "execute_result"
    }
   ],
   "source": [
    "tensor_size = tf.size(input = tensor).numpy()\n",
    "tensor_size"
   ]
  },
  {
   "cell_type": "code",
   "execution_count": 28,
   "metadata": {
    "colab": {
     "base_uri": "https://localhost:8080/"
    },
    "id": "8vTd0AfD_ohz",
    "outputId": "ae5d8789-e887-4c6a-a20c-b34be2609419"
   },
   "outputs": [
    {
     "data": {
      "text/plain": [
       "dtype('int32')"
      ]
     },
     "execution_count": 28,
     "metadata": {},
     "output_type": "execute_result"
    }
   ],
   "source": [
    "# getting the data type of the variable\n",
    "\n",
    "tensor_size.dtype"
   ]
  },
  {
   "cell_type": "markdown",
   "metadata": {
    "id": "X-32peAa_6oK"
   },
   "source": [
    "---"
   ]
  },
  {
   "cell_type": "markdown",
   "metadata": {
    "id": "LTsm5xLV_68H"
   },
   "source": [
    "### Tensorflow mathematical operations"
   ]
  },
  {
   "cell_type": "code",
   "execution_count": 29,
   "metadata": {
    "colab": {
     "base_uri": "https://localhost:8080/"
    },
    "id": "RKcQw2Jr_4nn",
    "outputId": "9004c3e8-d374-4ed4-cba1-ce25a3b7b9e6"
   },
   "outputs": [
    {
     "name": "stdout",
     "output_type": "stream",
     "text": [
      "tf.Tensor(\n",
      "[[-0.8126632   1.2654755 ]\n",
      " [ 0.5801496  -0.16011493]], shape=(2, 2), dtype=float32) \n",
      "\n",
      "tf.Tensor(\n",
      "[[-0.01448598  0.13252233]\n",
      " [-2.7305956  -2.3123646 ]], shape=(2, 2), dtype=float32) \n",
      "\n",
      "tf.Tensor(\n",
      "[[-0.82714915  1.3979979 ]\n",
      " [-2.150446   -2.4724796 ]], shape=(2, 2), dtype=float32) \n",
      "\n",
      "tf.Tensor(\n",
      "[[0.6841757 1.954398 ]\n",
      " [4.624418  6.1131554]], shape=(2, 2), dtype=float32) \n",
      "\n",
      "tf.Tensor(\n",
      "[[0.43729416 4.047089  ]\n",
      " [0.11643223 0.08437538]], shape=(2, 2), dtype=float32)\n"
     ]
    }
   ],
   "source": [
    "a = tf.random.normal(shape = (2, 2))\n",
    "b = tf.random.normal(shape = (2, 2))\n",
    "\n",
    "c = a + b\n",
    "d = tf.square(c)\n",
    "e = tf.exp(c)\n",
    "\n",
    "print(a,'\\n')\n",
    "print(b,'\\n')\n",
    "print(c,'\\n')\n",
    "print(d,'\\n')\n",
    "print(e)"
   ]
  },
  {
   "cell_type": "code",
   "execution_count": 30,
   "metadata": {
    "colab": {
     "base_uri": "https://localhost:8080/"
    },
    "id": "zeB07Z25BE5P",
    "outputId": "04f854d9-0454-4dc9-e887-040b447c718c"
   },
   "outputs": [
    {
     "data": {
      "text/plain": [
       "<tf.Tensor: shape=(3, 2, 4), dtype=float32, numpy=\n",
       "array([[[  0.,   1.,   4.,  25.],\n",
       "        [  9.,  16.,  25.,  36.]],\n",
       "\n",
       "       [[  0.,   1.,   4.,  49.],\n",
       "        [  9.,  16.,  25.,  64.]],\n",
       "\n",
       "       [[ 36.,  49.,  64.,  25.],\n",
       "        [ 81., 100., 121.,  25.]]], dtype=float32)>"
      ]
     },
     "execution_count": 30,
     "metadata": {},
     "output_type": "execute_result"
    }
   ],
   "source": [
    "# element wise tensor\n",
    "tensor * tensor"
   ]
  },
  {
   "cell_type": "markdown",
   "metadata": {
    "id": "VBT2gVdkBvck"
   },
   "source": [
    "---"
   ]
  },
  {
   "cell_type": "markdown",
   "metadata": {
    "id": "z5cov6EyByWz"
   },
   "source": [
    "### Broadcasting"
   ]
  },
  {
   "cell_type": "code",
   "execution_count": 31,
   "metadata": {
    "colab": {
     "base_uri": "https://localhost:8080/"
    },
    "id": "AnKwD_sUBpFr",
    "outputId": "de48d4a3-fb91-49ef-e1d1-b69dd38a3957"
   },
   "outputs": [
    {
     "name": "stdout",
     "output_type": "stream",
     "text": [
      "[[[ 0.  1.  2.  5.]\n",
      "  [ 3.  4.  5.  6.]]\n",
      "\n",
      " [[ 0.  1.  2.  7.]\n",
      "  [ 3.  4.  5.  8.]]\n",
      "\n",
      " [[ 6.  7.  8.  5.]\n",
      "  [ 9. 10. 11.  5.]]]\n"
     ]
    }
   ],
   "source": [
    "print(tensor.numpy())"
   ]
  },
  {
   "cell_type": "code",
   "execution_count": 32,
   "metadata": {
    "colab": {
     "base_uri": "https://localhost:8080/"
    },
    "id": "YBE7O3NNB_A1",
    "outputId": "ded970b1-069c-4d62-ff1d-6bb0e66e432c"
   },
   "outputs": [
    {
     "name": "stdout",
     "output_type": "stream",
     "text": [
      "[[[ 0.  4.  8. 20.]\n",
      "  [12. 16. 20. 24.]]\n",
      "\n",
      " [[ 0.  4.  8. 28.]\n",
      "  [12. 16. 20. 32.]]\n",
      "\n",
      " [[24. 28. 32. 20.]\n",
      "  [36. 40. 44. 20.]]]\n"
     ]
    }
   ],
   "source": [
    "# if a tensor is multiplied by the scaler then each element will be multiplied with a scaler\n",
    "\n",
    "tensor4 = tensor * 4\n",
    "print(tensor4.numpy())"
   ]
  },
  {
   "cell_type": "markdown",
   "metadata": {
    "id": "gCg0H-bRCrx6"
   },
   "source": [
    "---"
   ]
  },
  {
   "cell_type": "markdown",
   "metadata": {
    "id": "8wlU4z7mCwSY"
   },
   "source": [
    "### Transpose matrix multiplication"
   ]
  },
  {
   "cell_type": "code",
   "execution_count": 33,
   "metadata": {
    "colab": {
     "base_uri": "https://localhost:8080/"
    },
    "id": "7H6iGQ3-Ci18",
    "outputId": "e3f197aa-c9d8-4c98-9d00-cf92ce42590d"
   },
   "outputs": [
    {
     "name": "stdout",
     "output_type": "stream",
     "text": [
      "[[14]]\n"
     ]
    }
   ],
   "source": [
    "matrix_u = tf.constant([[3, 4, 3]])\n",
    "matrix_v = tf.constant([[1, 2, 1]])\n",
    "\n",
    "n = tf.matmul(matrix_u, tf.transpose(matrix_v))\n",
    "print(n.numpy())"
   ]
  },
  {
   "cell_type": "markdown",
   "metadata": {
    "id": "EuXWxEaxDYuj"
   },
   "source": [
    "---"
   ]
  },
  {
   "cell_type": "markdown",
   "metadata": {
    "id": "us8yBHmfDgjw"
   },
   "source": [
    "### Casting tensor to another data type"
   ]
  },
  {
   "cell_type": "code",
   "execution_count": 34,
   "metadata": {
    "colab": {
     "base_uri": "https://localhost:8080/"
    },
    "id": "3DrAC2C2DYec",
    "outputId": "742a53d4-fa0d-490e-e6d8-39ba950631e2"
   },
   "outputs": [
    {
     "name": "stdout",
     "output_type": "stream",
     "text": [
      "tf.Tensor(\n",
      "[[ 0.  1.  2.  5.]\n",
      " [ 3.  4.  5.  6.]\n",
      " [ 0.  1.  2.  7.]\n",
      " [ 3.  4.  5.  8.]\n",
      " [ 6.  7.  8.  5.]\n",
      " [ 9. 10. 11.  5.]], shape=(6, 4), dtype=float32) \n",
      "\n",
      "tf.Tensor(\n",
      "[[ 0  1  2  5]\n",
      " [ 3  4  5  6]\n",
      " [ 0  1  2  7]\n",
      " [ 3  4  5  8]\n",
      " [ 6  7  8  5]\n",
      " [ 9 10 11  5]], shape=(6, 4), dtype=int32)\n"
     ]
    }
   ],
   "source": [
    "print(tensor1, '\\n')\n",
    "\n",
    "i = tf.cast(tensor1, dtype = tf.int32)\n",
    "\n",
    "print(i)"
   ]
  },
  {
   "cell_type": "code",
   "execution_count": 35,
   "metadata": {
    "colab": {
     "base_uri": "https://localhost:8080/"
    },
    "id": "Vh56MqORDHEI",
    "outputId": "14d7f992-dcf2-48b2-b64f-a7c1c6e84176"
   },
   "outputs": [
    {
     "data": {
      "text/plain": [
       "<tf.Tensor: shape=(), dtype=int32, numpy=4>"
      ]
     },
     "execution_count": 35,
     "metadata": {},
     "output_type": "execute_result"
    }
   ],
   "source": [
    "# casting will truncate the decimal value\n",
    "tf.cast(tf.constant(4.8), dtype = tf.int32)"
   ]
  },
  {
   "cell_type": "markdown",
   "metadata": {
    "id": "-ZaRxZv8FK3T"
   },
   "source": [
    "---"
   ]
  },
  {
   "cell_type": "markdown",
   "metadata": {
    "id": "UmpKJnjOFMXw"
   },
   "source": [
    "### Declaring ragged tensors (in NLP)\n",
    "A ragged tensor is a tensor with one or more ragged dimensions. Ragged dimensions are dimensions that have slices that may have different lengths.There are a variety of methods for declaring ragged arrays, the simplest being a constant ragged\n",
    "array."
   ]
  },
  {
   "cell_type": "code",
   "execution_count": 36,
   "metadata": {
    "colab": {
     "base_uri": "https://localhost:8080/"
    },
    "id": "0-Hd1uAGFLsw",
    "outputId": "f8302960-3183-4e7c-a0cc-3fd34601ecb4"
   },
   "outputs": [
    {
     "name": "stdout",
     "output_type": "stream",
     "text": [
      "<tf.RaggedTensor [[5, 2, 6, 1], [], [4, 19, 3], [8], [9, 2]]> \n",
      "\n",
      "tf.Tensor([5 2 6 1], shape=(4,), dtype=int32)\n",
      "(4,) \n",
      "\n",
      "(5, None)\n"
     ]
    }
   ],
   "source": [
    "# shows how to delcare a constant ragged arrary and the lengths of the individual slices\n",
    "\n",
    "# ragged tensor have different number of element in different direction\n",
    "ragged = tf.ragged.constant([ [5, 2, 6, 1], [], [4, 19, 3], [8], [9,2] ])\n",
    "\n",
    "print(ragged, '\\n')\n",
    "print(ragged[0, :])\n",
    "print(ragged[0, :].shape, '\\n')\n",
    "\n",
    "print(ragged.shape)"
   ]
  },
  {
   "cell_type": "markdown",
   "metadata": {
    "id": "NSeUX-KfHCJp"
   },
   "source": [
    "---"
   ]
  },
  {
   "cell_type": "markdown",
   "metadata": {
    "id": "ZkFaE07bHtjw"
   },
   "source": [
    "### Finding squared difference between two tensors"
   ]
  },
  {
   "cell_type": "code",
   "execution_count": 37,
   "metadata": {
    "colab": {
     "base_uri": "https://localhost:8080/"
    },
    "id": "sdJRxNczGkXl",
    "outputId": "6c7944f4-be4b-45fb-f892-3b3e256046c5"
   },
   "outputs": [
    {
     "data": {
      "text/plain": [
       "<tf.Tensor: shape=(5,), dtype=int32, numpy=array([16,  4,  0,  4, 36], dtype=int32)>"
      ]
     },
     "execution_count": 37,
     "metadata": {},
     "output_type": "execute_result"
    }
   ],
   "source": [
    "varx = [1, 3, 5, 7, 11]\n",
    "vary = 5\n",
    "\n",
    "varz = tf.math.squared_difference(varx, vary)\n",
    "varz"
   ]
  },
  {
   "cell_type": "markdown",
   "metadata": {
    "id": "yQdnZVK9IkOW"
   },
   "source": [
    "---"
   ]
  },
  {
   "cell_type": "markdown",
   "metadata": {
    "id": "cR3GLdTUImGM"
   },
   "source": [
    "### Find the mean across all axes"
   ]
  },
  {
   "cell_type": "code",
   "execution_count": 38,
   "metadata": {
    "colab": {
     "base_uri": "https://localhost:8080/"
    },
    "id": "R7hZvYsqINAw",
    "outputId": "e875608a-e582-42c4-e2fb-d08f0d194d50"
   },
   "outputs": [
    {
     "data": {
      "text/plain": [
       "<tf.Tensor: shape=(), dtype=float32, numpy=4.75>"
      ]
     },
     "execution_count": 38,
     "metadata": {},
     "output_type": "execute_result"
    }
   ],
   "source": [
    "numbers = tf.constant( [[4., 5.], [7., 3.]] )\n",
    "\n",
    "tf.reduce_mean(input_tensor = numbers)"
   ]
  },
  {
   "cell_type": "code",
   "execution_count": 39,
   "metadata": {
    "colab": {
     "base_uri": "https://localhost:8080/"
    },
    "id": "IsJByL3qI8wP",
    "outputId": "f3a88db6-77e9-4d6c-94b8-dde6e7181a46"
   },
   "outputs": [
    {
     "data": {
      "text/plain": [
       "<tf.Tensor: shape=(2,), dtype=float32, numpy=array([4.5, 5. ], dtype=float32)>"
      ]
     },
     "execution_count": 39,
     "metadata": {},
     "output_type": "execute_result"
    }
   ],
   "source": [
    "# taking mean across rows is like compressing columns\n",
    "tf.reduce_mean(input_tensor = numbers, axis = 1)"
   ]
  },
  {
   "cell_type": "code",
   "execution_count": 40,
   "metadata": {
    "colab": {
     "base_uri": "https://localhost:8080/"
    },
    "id": "7hjpbG9jJu8-",
    "outputId": "17fede7a-a0b9-4cc6-f7b4-bc10b7072ca7"
   },
   "outputs": [
    {
     "data": {
      "text/plain": [
       "<tf.Tensor: shape=(2,), dtype=float32, numpy=array([5.5, 4. ], dtype=float32)>"
      ]
     },
     "execution_count": 40,
     "metadata": {},
     "output_type": "execute_result"
    }
   ],
   "source": [
    "# taking mean across column is like compressing rows\n",
    "tf.reduce_mean(input_tensor = numbers, axis = 0)"
   ]
  },
  {
   "cell_type": "code",
   "execution_count": 41,
   "metadata": {
    "colab": {
     "base_uri": "https://localhost:8080/"
    },
    "id": "Dmd9HEUSJ7aY",
    "outputId": "1919b49c-d09b-47c7-9d0c-a2eace1ec170"
   },
   "outputs": [
    {
     "data": {
      "text/plain": [
       "<tf.Tensor: shape=(1, 2), dtype=float32, numpy=array([[5.5, 4. ]], dtype=float32)>"
      ]
     },
     "execution_count": 41,
     "metadata": {},
     "output_type": "execute_result"
    }
   ],
   "source": [
    "# we can maintain the dimension of the array\n",
    "tf.reduce_mean(input_tensor = numbers, axis = 0, keepdims = True) # we get the 2d array as output"
   ]
  },
  {
   "cell_type": "markdown",
   "metadata": {
    "id": "S9Fo9yT_LuHw"
   },
   "source": [
    "---"
   ]
  },
  {
   "cell_type": "code",
   "execution_count": 42,
   "metadata": {
    "colab": {
     "base_uri": "https://localhost:8080/"
    },
    "id": "qIn1RfVHLUdj",
    "outputId": "77dd76c6-3132-4b25-819b-5093ac8c242a"
   },
   "outputs": [
    {
     "name": "stdout",
     "output_type": "stream",
     "text": [
      "tf.Tensor(\n",
      "[[4 6]\n",
      " [5 2]], shape=(2, 2), dtype=int32) \n",
      "\n",
      "tf.Tensor(\n",
      "[[9 7]\n",
      " [9 4]], shape=(2, 2), dtype=int32)\n"
     ]
    }
   ],
   "source": [
    "# setting value is to recall the random generated values\n",
    "# even if we run random variable multiple times we get the same value as we got in the first random generated values\n",
    "\n",
    "tf.random.set_seed(11)\n",
    "ran1 = tf.random.uniform(shape = (2, 2), maxval = 10, dtype = tf.int32)\n",
    "ran2 = tf.random.uniform(shape = (2, 2), maxval = 10, dtype = tf.int32)\n",
    "\n",
    "# if we not set the seed value then every time when we run the code will give the different values\n",
    "print(ran1, '\\n')\n",
    "print(ran2)"
   ]
  },
  {
   "cell_type": "markdown",
   "metadata": {
    "id": "ZLQ_IwdCNl-x"
   },
   "source": [
    "---"
   ]
  },
  {
   "cell_type": "markdown",
   "metadata": {
    "id": "n4aCVV-TNyK4"
   },
   "source": [
    "Example : Random values generating for the dice"
   ]
  },
  {
   "cell_type": "code",
   "execution_count": 43,
   "metadata": {
    "colab": {
     "base_uri": "https://localhost:8080/"
    },
    "id": "JTGjgQYiNR5l",
    "outputId": "38a146e3-3878-4ff4-e5ec-fbf1e8cd9d97"
   },
   "outputs": [
    {
     "name": "stdout",
     "output_type": "stream",
     "text": [
      "tf.Tensor(\n",
      "[[ 5  6 11]\n",
      " [ 2  3  5]\n",
      " [ 4  4  8]\n",
      " [ 6  1  7]\n",
      " [ 2  1  3]\n",
      " [ 2  6  8]\n",
      " [ 1  2  3]\n",
      " [ 6  1  7]\n",
      " [ 2  5  7]\n",
      " [ 1  3  4]], shape=(10, 3), dtype=int32)\n"
     ]
    }
   ],
   "source": [
    "tf.random.set_seed(None) # everytime we generate we get a random value\n",
    "\n",
    "dice1 = tf.random.uniform(shape = [10, 1], minval = 1, maxval = 7, dtype = tf.int32)\n",
    "dice2 = tf.random.uniform(shape = [10, 1], minval = 1, maxval = 7, dtype = tf.int32)\n",
    "\n",
    "# sum of the output\n",
    "dice_sum = dice1 + dice2\n",
    "\n",
    "resulting_sum = tf.concat(values = [dice1 , dice2, dice_sum], axis = 1)\n",
    "\n",
    "print(resulting_sum)"
   ]
  },
  {
   "cell_type": "markdown",
   "metadata": {
    "id": "s94chZutPA9W"
   },
   "source": [
    "---"
   ]
  },
  {
   "cell_type": "markdown",
   "metadata": {
    "id": "vFOC0TPVPCk9"
   },
   "source": [
    "We can find the **index** of the max or min value in an array.\n",
    "    \n",
    ">`tf.argmax(input, axis=None, name=None, output_type=tf.int64 )`\n",
    "\n",
    ">`tf.argmin(input, axis=None, name=None, output_type=tf.int64 )`"
   ]
  },
  {
   "cell_type": "code",
   "execution_count": 44,
   "metadata": {
    "colab": {
     "base_uri": "https://localhost:8080/"
    },
    "id": "3_EOWO4-Oabd",
    "outputId": "47b1fedf-249e-4268-da51-150f07ad8dee"
   },
   "outputs": [
    {
     "name": "stdout",
     "output_type": "stream",
     "text": [
      "[  2  11   5  42   7  19  -6 -11  29] \n",
      "\n",
      "index of max;  3\n",
      "Max element:  42 \n",
      "\n",
      "index of min:  7\n",
      "Min element:  -11 \n",
      "\n",
      "------------------------------\n",
      "[[  2  11   5]\n",
      " [ 42   7  19]\n",
      " [ -6 -11  29]] \n",
      "\n",
      "indices of max down rows;  [1 0 2] \n",
      "\n",
      "indices of min down rows ;  [2 2 0] \n",
      "\n",
      "indices of max across cols:  [1 0 2] \n",
      "\n",
      "indices of min across cols:  [0 1 1] \n",
      "\n"
     ]
    }
   ],
   "source": [
    "# 1-D tensor\n",
    "t5 = tf.constant([2, 11, 5, 42, 7, 19, -6, -11, 29])\n",
    "print(t5.numpy(),'\\n')\n",
    "\n",
    "i = tf.argmax(input=t5).numpy()\n",
    "print('index of max; ', i)\n",
    "print('Max element: ',t5[i].numpy(),'\\n')\n",
    "\n",
    "i = tf.argmin(input=t5,axis=0).numpy()\n",
    "print('index of min: ', i)\n",
    "print('Min element: ',t5[i].numpy(),'\\n')\n",
    "\n",
    "print('-'.center(30, '-'))\n",
    "\n",
    "# 2D tensor\n",
    "t6 = tf.reshape(t5, [3,3])\n",
    "print(t6.numpy(),'\\n')\n",
    "\n",
    "i = tf.argmax(input=t6,axis=0).numpy() # max arg down rows\n",
    "print('indices of max down rows; ', i,'\\n')\n",
    "\n",
    "i = tf.argmin(input=t6,axis=0).numpy() # min arg down rows\n",
    "print('indices of min down rows ; ',i,'\\n')\n",
    "\n",
    "\n",
    "i = tf.argmax(input=t6,axis=1).numpy() # max arg across cols\n",
    "print('indices of max across cols: ',i,'\\n')\n",
    "\n",
    "i = tf.argmin(input=t6,axis=1).numpy() # min arg across cols\n",
    "print('indices of min across cols: ',i,'\\n')"
   ]
  },
  {
   "cell_type": "markdown",
   "metadata": {
    "id": "eqVbC8hgRmPo"
   },
   "source": [
    "---"
   ]
  },
  {
   "cell_type": "markdown",
   "metadata": {
    "id": "nONsdRVGSKy6"
   },
   "source": [
    "### Saving and restoring tensor values using a checkpoint"
   ]
  },
  {
   "cell_type": "code",
   "execution_count": 45,
   "metadata": {
    "colab": {
     "base_uri": "https://localhost:8080/"
    },
    "id": "BSvLfR-RPZIQ",
    "outputId": "b5e50b72-d4bf-465e-bd26-d0185cb1e3c0"
   },
   "outputs": [
    {
     "name": "stdout",
     "output_type": "stream",
     "text": [
      "<tf.Variable 'Variable:0' shape=(2, 4) dtype=int32, numpy=\n",
      "array([[0, 0, 0, 0],\n",
      "       [0, 0, 0, 0]], dtype=int32)> \n",
      "\n",
      "<tf.Variable 'Variable:0' shape=(2, 4) dtype=int32, numpy=\n",
      "array([[ 1,  3,  4,  7],\n",
      "       [11, 13, 26, 67]], dtype=int32)>\n"
     ]
    }
   ],
   "source": [
    "variable = tf.Variable([[1,3,4,7],[11,13,26,67]])\n",
    "\n",
    "checkpoint = tf.train.Checkpoint(var = variable)\n",
    "save_path = checkpoint.save('./vars')\n",
    "\n",
    "variable.assign([[0,0,0,0],[0,0,0,0]])\n",
    "print(variable,'\\n')\n",
    "\n",
    "checkpoint.restore(save_path)\n",
    "print(variable)"
   ]
  },
  {
   "cell_type": "markdown",
   "metadata": {
    "id": "yiNr8NhDTCvr"
   },
   "source": [
    "---"
   ]
  },
  {
   "cell_type": "markdown",
   "metadata": {
    "id": "GDf3z2iITNb_"
   },
   "source": [
    "### Using tf.function\n",
    "\n",
    "tf.function is a function that will take a Python function and return a TensorFlow graph. The\n",
    "advantage of this is that graphs can apply optimizations and exploit parallelism in the Python\n",
    "function (func). tf.function is new to TensorFlow 2.\n"
   ]
  },
  {
   "cell_type": "markdown",
   "metadata": {
    "id": "dNqU2e-aTGHk"
   },
   "source": [
    "Its signature is as follows:\n",
    "    \n",
    "`tf.function(\n",
    "func=None,\n",
    "input_signature=None,\n",
    "autograph=True,\n",
    "experimental_autograph_options=None\n",
    ")`\n"
   ]
  },
  {
   "cell_type": "code",
   "execution_count": 46,
   "metadata": {
    "id": "NwLOEY4cS1oi"
   },
   "outputs": [],
   "source": [
    "def fun1(x, y):\n",
    "    return tf.reduce_mean(input_tensor = (tf.multiply(x**2, 5) + y**2))\n",
    "\n",
    "tensor_fun1 = tf.function(fun1)\n",
    "x = tf.constant([4., -5.])\n",
    "y = tf.constant([2., 3.])\n",
    "\n",
    "# tensor_fun1 executes as a tensorflow graph\n",
    "assert (fun1(x, y).numpy()) == (tensor_fun1(x, y).numpy())\n",
    "# if there is no output means that assert passes"
   ]
  },
  {
   "cell_type": "code",
   "execution_count": 47,
   "metadata": {
    "colab": {
     "base_uri": "https://localhost:8080/"
    },
    "id": "iOhKjnO8VShO",
    "outputId": "f88a3bdc-dbe1-4442-a7e5-7a26e3e27e5a"
   },
   "outputs": [
    {
     "data": {
      "text/plain": [
       "109.0"
      ]
     },
     "execution_count": 47,
     "metadata": {},
     "output_type": "execute_result"
    }
   ],
   "source": [
    "sum = sum((([4**2, 5**2]) * 5 + ([2**2, 3**2])))\n",
    "mean = sum / 2\n",
    "mean"
   ]
  },
  {
   "cell_type": "code",
   "execution_count": 48,
   "metadata": {
    "colab": {
     "base_uri": "https://localhost:8080/"
    },
    "id": "A8wiFmaJUd98",
    "outputId": "1931a33f-fecf-4269-c0ba-35d5e1a2752f"
   },
   "outputs": [
    {
     "data": {
      "text/plain": [
       "109.0"
      ]
     },
     "execution_count": 48,
     "metadata": {},
     "output_type": "execute_result"
    }
   ],
   "source": [
    "tensor_fun1(x, y).numpy()"
   ]
  },
  {
   "cell_type": "markdown",
   "metadata": {
    "id": "77pLJvySW7TR"
   },
   "source": [
    "---"
   ]
  },
  {
   "cell_type": "markdown",
   "metadata": {
    "id": "U78laF0XW_Nn"
   },
   "source": [
    "## Calculate the gradient"
   ]
  },
  {
   "cell_type": "markdown",
   "metadata": {
    "id": "isRD4gCtW_VG"
   },
   "source": [
    "* Another difference from numpy is that it can automatically track the gradient of any variable.\n",
    "\n",
    "* Open one GradientTape and `tape.watch()` track variables through"
   ]
  },
  {
   "cell_type": "code",
   "execution_count": 49,
   "metadata": {
    "colab": {
     "base_uri": "https://localhost:8080/"
    },
    "id": "wijr44OzXYYJ",
    "outputId": "5520899c-b218-4d05-fb49-b341879fa36d"
   },
   "outputs": [
    {
     "name": "stdout",
     "output_type": "stream",
     "text": [
      "tf.Tensor(\n",
      "[[-0.9850783   0.9996131 ]\n",
      " [-0.9338319   0.99336797]], shape=(2, 2), dtype=float32)\n"
     ]
    }
   ],
   "source": [
    "a = tf.random.normal(shape = (2, 2))\n",
    "b = tf.random.normal(shape = (2, 2))\n",
    "\n",
    "# in deep the gradient calculation is done in similar way\n",
    "with tf.GradientTape() as tape:\n",
    "    tape.watch(a)\n",
    "    c = tf.sqrt(tf.square(a) + tf.square(b))\n",
    "    # we get the gradient when we differentiate c w.r.t a\n",
    "    dc_da = tape.gradient(c, a)\n",
    "    print(dc_da)"
   ]
  },
  {
   "cell_type": "code",
   "execution_count": 50,
   "metadata": {
    "colab": {
     "base_uri": "https://localhost:8080/"
    },
    "id": "uh63u0jRVIRq",
    "outputId": "92e18595-3d2b-4bc1-ea84-f01f560a7823"
   },
   "outputs": [
    {
     "name": "stdout",
     "output_type": "stream",
     "text": [
      "tf.Tensor(\n",
      "[[-0.9850783   0.9996131 ]\n",
      " [-0.9338319   0.99336797]], shape=(2, 2), dtype=float32)\n"
     ]
    }
   ],
   "source": [
    "a = tf.Variable(a)\n",
    "\n",
    "with tf.GradientTape() as tape:\n",
    "    # no need to watch for a tensorflow variable\n",
    "    c = tf.sqrt(tf.square(a) + tf.square(b))\n",
    "    dc_da = tape.gradient(c, a) # derivative\n",
    "    print(dc_da)"
   ]
  },
  {
   "cell_type": "code",
   "execution_count": 51,
   "metadata": {
    "colab": {
     "base_uri": "https://localhost:8080/"
    },
    "id": "INXBnCelYd6f",
    "outputId": "6b040649-2420-464b-bf9b-e8d856cfb38e"
   },
   "outputs": [
    {
     "name": "stdout",
     "output_type": "stream",
     "text": [
      "tf.Tensor(\n",
      "[[0.05604315 0.00064939]\n",
      " [0.10877085 0.00868458]], shape=(2, 2), dtype=float32)\n"
     ]
    }
   ],
   "source": [
    "# Calculating the double derivative\n",
    "with tf.GradientTape() as outer_tape:\n",
    "    with tf.GradientTape() as inner_tape:\n",
    "        c = tf.sqrt(tf.square(a) + tf.square(b))\n",
    "        dc_da = inner_tape.gradient(c, a) # derivative\n",
    "    d2c_d2a = outer_tape.gradient(dc_da, a) # double derivative\n",
    "    print(d2c_d2a)"
   ]
  },
  {
   "cell_type": "markdown",
   "metadata": {
    "id": "-V3pjOlDYhsh"
   },
   "source": [
    "---"
   ]
  },
  {
   "cell_type": "markdown",
   "metadata": {
    "id": "S2y5mx8VZxhU"
   },
   "source": [
    "## <font color='blue'> Remaining we have already seen the Keras API which is built on tensorflow."
   ]
  },
  {
   "cell_type": "markdown",
   "metadata": {
    "id": "-V3pjOlDYhsh"
   },
   "source": [
    "---"
   ]
  }
 ],
 "metadata": {
  "colab": {
   "provenance": []
  },
  "kernelspec": {
   "display_name": "Python 3 (ipykernel)",
   "language": "python",
   "name": "python3"
  },
  "language_info": {
   "codemirror_mode": {
    "name": "ipython",
    "version": 3
   },
   "file_extension": ".py",
   "mimetype": "text/x-python",
   "name": "python",
   "nbconvert_exporter": "python",
   "pygments_lexer": "ipython3",
   "version": "3.9.13"
  }
 },
 "nbformat": 4,
 "nbformat_minor": 1
}
