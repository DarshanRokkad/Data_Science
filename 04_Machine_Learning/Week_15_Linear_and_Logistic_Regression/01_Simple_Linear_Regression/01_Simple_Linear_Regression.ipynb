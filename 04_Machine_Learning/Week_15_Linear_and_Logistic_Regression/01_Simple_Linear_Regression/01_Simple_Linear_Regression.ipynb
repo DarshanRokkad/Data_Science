{
 "cells": [
  {
   "cell_type": "markdown",
   "id": "c59bb045",
   "metadata": {},
   "source": [
    "# <font color = 'orange'> Simple Linear Regression"
   ]
  },
  {
   "cell_type": "markdown",
   "id": "f3ee9358",
   "metadata": {},
   "source": [
    "---"
   ]
  },
  {
   "cell_type": "markdown",
   "id": "980ab39f",
   "metadata": {},
   "source": [
    "### <font color = 'Blue'> Import library and load dataset"
   ]
  },
  {
   "cell_type": "code",
   "execution_count": 1,
   "id": "ad50bf7d",
   "metadata": {},
   "outputs": [],
   "source": [
    "import pandas as pd \n",
    "import numpy as np\n",
    "import matplotlib.pyplot as plt"
   ]
  },
  {
   "cell_type": "code",
   "execution_count": 2,
   "id": "ddc7ce66",
   "metadata": {},
   "outputs": [
    {
     "data": {
      "text/html": [
       "<div>\n",
       "<style scoped>\n",
       "    .dataframe tbody tr th:only-of-type {\n",
       "        vertical-align: middle;\n",
       "    }\n",
       "\n",
       "    .dataframe tbody tr th {\n",
       "        vertical-align: top;\n",
       "    }\n",
       "\n",
       "    .dataframe thead th {\n",
       "        text-align: right;\n",
       "    }\n",
       "</style>\n",
       "<table border=\"1\" class=\"dataframe\">\n",
       "  <thead>\n",
       "    <tr style=\"text-align: right;\">\n",
       "      <th></th>\n",
       "      <th>Weight</th>\n",
       "      <th>Height</th>\n",
       "    </tr>\n",
       "  </thead>\n",
       "  <tbody>\n",
       "    <tr>\n",
       "      <th>0</th>\n",
       "      <td>45</td>\n",
       "      <td>120</td>\n",
       "    </tr>\n",
       "    <tr>\n",
       "      <th>1</th>\n",
       "      <td>58</td>\n",
       "      <td>135</td>\n",
       "    </tr>\n",
       "    <tr>\n",
       "      <th>2</th>\n",
       "      <td>48</td>\n",
       "      <td>123</td>\n",
       "    </tr>\n",
       "    <tr>\n",
       "      <th>3</th>\n",
       "      <td>60</td>\n",
       "      <td>145</td>\n",
       "    </tr>\n",
       "    <tr>\n",
       "      <th>4</th>\n",
       "      <td>70</td>\n",
       "      <td>160</td>\n",
       "    </tr>\n",
       "  </tbody>\n",
       "</table>\n",
       "</div>"
      ],
      "text/plain": [
       "   Weight  Height\n",
       "0      45     120\n",
       "1      58     135\n",
       "2      48     123\n",
       "3      60     145\n",
       "4      70     160"
      ]
     },
     "execution_count": 2,
     "metadata": {},
     "output_type": "execute_result"
    }
   ],
   "source": [
    "df = pd.read_csv('height-weight.csv')\n",
    "\n",
    "df.head()"
   ]
  },
  {
   "cell_type": "code",
   "execution_count": 3,
   "id": "50602eb0",
   "metadata": {},
   "outputs": [
    {
     "data": {
      "text/plain": [
       "(23, 2)"
      ]
     },
     "execution_count": 3,
     "metadata": {},
     "output_type": "execute_result"
    }
   ],
   "source": [
    "df.shape"
   ]
  },
  {
   "cell_type": "code",
   "execution_count": 4,
   "id": "8a2eb4e1",
   "metadata": {},
   "outputs": [
    {
     "name": "stdout",
     "output_type": "stream",
     "text": [
      "<class 'pandas.core.frame.DataFrame'>\n",
      "RangeIndex: 23 entries, 0 to 22\n",
      "Data columns (total 2 columns):\n",
      " #   Column  Non-Null Count  Dtype\n",
      "---  ------  --------------  -----\n",
      " 0   Weight  23 non-null     int64\n",
      " 1   Height  23 non-null     int64\n",
      "dtypes: int64(2)\n",
      "memory usage: 496.0 bytes\n"
     ]
    }
   ],
   "source": [
    "df.info()"
   ]
  },
  {
   "cell_type": "markdown",
   "id": "ee57fb87",
   "metadata": {},
   "source": [
    "---"
   ]
  },
  {
   "cell_type": "markdown",
   "id": "4ddd35bb",
   "metadata": {},
   "source": [
    "### <font color = 'Blue'> Visual represetation of data"
   ]
  },
  {
   "cell_type": "code",
   "execution_count": 5,
   "id": "5ed1ef18",
   "metadata": {},
   "outputs": [
    {
     "data": {
      "image/png": "[encoded data removed]",
      "text/plain": [
       "<Figure size 640x480 with 1 Axes>"
      ]
     },
     "metadata": {},
     "output_type": "display_data"
    }
   ],
   "source": [
    "plt.scatter(x = df['Weight'],y = df['Height'])\n",
    "plt.title('Weight v/s Height')\n",
    "plt.xlabel('Weight')\n",
    "plt.ylabel('Height')\n",
    "\n",
    "plt.show()"
   ]
  },
  {
   "cell_type": "markdown",
   "id": "bc70a0a0",
   "metadata": {},
   "source": [
    "### <font color = '#AA00FF'> Aim :\n",
    "* To Create a best fit line which has least error."
   ]
  },
  {
   "cell_type": "markdown",
   "id": "5c022e7c",
   "metadata": {},
   "source": [
    "---"
   ]
  },
  {
   "cell_type": "markdown",
   "id": "21e6b348",
   "metadata": {},
   "source": [
    "#### In machine learning before training model we need to perform some steps :\n",
    "1. Divide the features based on independent and dependent features.\n",
    "2. Train, Test split of dataset.\n",
    "3. Standardize the data.\n",
    "4. Train the model using LinearRegression\n",
    "5. Test model.\n",
    "6. Performance metrics.\n",
    "7. Assumptions."
   ]
  },
  {
   "cell_type": "markdown",
   "id": "a5603b34",
   "metadata": {},
   "source": [
    "---"
   ]
  },
  {
   "cell_type": "markdown",
   "id": "30144a52",
   "metadata": {},
   "source": [
    "### <font color = 'Blue'> 1. Divide the features based on independent and dependent features."
   ]
  },
  {
   "cell_type": "code",
   "execution_count": 6,
   "id": "d31b24f3",
   "metadata": {},
   "outputs": [],
   "source": [
    "# x is independent feature\n",
    "x = df[['Weight']]\n",
    "\n",
    "# y is dependent feature\n",
    "y = df['Height']"
   ]
  },
  {
   "cell_type": "code",
   "execution_count": 7,
   "id": "14b54035",
   "metadata": {},
   "outputs": [
    {
     "name": "stdout",
     "output_type": "stream",
     "text": [
      "    Weight\n",
      "0       45\n",
      "1       58\n",
      "2       48\n",
      "3       60\n",
      "4       70\n",
      "5       78\n",
      "6       80\n",
      "7       90\n",
      "8       95\n",
      "9       78\n",
      "10      82\n",
      "11      95\n",
      "12     105\n",
      "13     100\n",
      "14      85\n",
      "15      78\n",
      "16      50\n",
      "17      65\n",
      "18      76\n",
      "19      87\n",
      "20      45\n",
      "21      56\n",
      "22      72\n",
      "\n",
      "0     120\n",
      "1     135\n",
      "2     123\n",
      "3     145\n",
      "4     160\n",
      "5     162\n",
      "6     163\n",
      "7     175\n",
      "8     182\n",
      "9     170\n",
      "10    176\n",
      "11    182\n",
      "12    175\n",
      "13    183\n",
      "14    170\n",
      "15    177\n",
      "16    140\n",
      "17    159\n",
      "18    150\n",
      "19    167\n",
      "20    129\n",
      "21    140\n",
      "22    160\n",
      "Name: Height, dtype: int64\n"
     ]
    }
   ],
   "source": [
    "print(x)\n",
    "print()\n",
    "print(y)"
   ]
  },
  {
   "cell_type": "markdown",
   "id": "1326ced6",
   "metadata": {},
   "source": [
    "---"
   ]
  },
  {
   "cell_type": "markdown",
   "id": "dc950d40",
   "metadata": {},
   "source": [
    "### <font color = 'Blue'> 2. Train Test split"
   ]
  },
  {
   "cell_type": "code",
   "execution_count": 8,
   "id": "d83a0bc5",
   "metadata": {},
   "outputs": [],
   "source": [
    "from sklearn.model_selection import train_test_split"
   ]
  },
  {
   "cell_type": "code",
   "execution_count": 9,
   "id": "708dce62",
   "metadata": {},
   "outputs": [],
   "source": [
    "x_train , x_test , y_train , y_test = train_test_split(x,y,test_size=0.2,random_state=42)"
   ]
  },
  {
   "cell_type": "code",
   "execution_count": 10,
   "id": "dec8a425",
   "metadata": {},
   "outputs": [
    {
     "name": "stdout",
     "output_type": "stream",
     "text": [
      "Length of Dataset : 23\n",
      "Length of train data : 18\n",
      "Length of test data : 5\n"
     ]
    }
   ],
   "source": [
    "print('Length of Dataset :',len(df['Weight']))\n",
    "\n",
    "print('Length of train data :',len(x_train))\n",
    "# test data size is 20% of actual data size.\n",
    "print('Length of test data :',len(x_test))"
   ]
  },
  {
   "cell_type": "markdown",
   "id": "18d1ac76",
   "metadata": {},
   "source": [
    "---"
   ]
  },
  {
   "cell_type": "markdown",
   "id": "1730c355",
   "metadata": {},
   "source": [
    "### <font color = 'Blue'> 3. Standardize the train independent data."
   ]
  },
  {
   "cell_type": "markdown",
   "id": "343f97f9",
   "metadata": {},
   "source": [
    "#### Because weight vary in different scale i.e 50-100. Therefore, we need to scale down the data so that our gradient descent optimization will happen quickly."
   ]
  },
  {
   "cell_type": "code",
   "execution_count": 11,
   "id": "1be798ab",
   "metadata": {},
   "outputs": [],
   "source": [
    "from sklearn.preprocessing import StandardScaler"
   ]
  },
  {
   "cell_type": "code",
   "execution_count": 12,
   "id": "6df44562",
   "metadata": {},
   "outputs": [],
   "source": [
    "scaler = StandardScaler()"
   ]
  },
  {
   "cell_type": "markdown",
   "id": "eafe8714",
   "metadata": {},
   "source": [
    "#### We need to optimize our training data also based on the observation got in the test data."
   ]
  },
  {
   "cell_type": "code",
   "execution_count": 13,
   "id": "84760926",
   "metadata": {},
   "outputs": [],
   "source": [
    "# it will apply the z-score for every point in the dataset\n",
    "# we need mean and std to apply z-score that will be calculated by fit \n",
    "# transform applies the z-score\n",
    "\n",
    "x_train = scaler.fit_transform(x_train)\n",
    "\n",
    "# no need to calculate the mean and std as it is already calculated above so fit is not required \n",
    "# here, in x_test it will take the mean and std of train dataset and apply the z-score for test data\n",
    "x_test = scaler.transform(x_test)"
   ]
  },
  {
   "cell_type": "markdown",
   "id": "8a38a0e2",
   "metadata": {},
   "source": [
    "#### We do only transform on test dataset because of data leakage\n",
    "#### We do this because our model should not know anything about our test data but it should have only information about the train data such as mean and std"
   ]
  },
  {
   "cell_type": "code",
   "execution_count": 14,
   "id": "95847e9e",
   "metadata": {},
   "outputs": [
    {
     "data": {
      "text/plain": [
       "<matplotlib.collections.PathCollection at 0x1a805531e50>"
      ]
     },
     "execution_count": 14,
     "metadata": {},
     "output_type": "execute_result"
    },
    {
     "data": {
      "image/png": "[encoded data removed]",
      "text/plain": [
       "<Figure size 640x480 with 1 Axes>"
      ]
     },
     "metadata": {},
     "output_type": "display_data"
    }
   ],
   "source": [
    "plt.scatter(x_train,y_train)"
   ]
  },
  {
   "cell_type": "markdown",
   "id": "dd74d8fb",
   "metadata": {},
   "source": [
    "### <font color = '#AA00FF'> Observation :\n",
    "* Here, our weight feature is scale down between -1.5 to +1.5"
   ]
  },
  {
   "cell_type": "markdown",
   "id": "89f47394",
   "metadata": {},
   "source": [
    "---"
   ]
  },
  {
   "cell_type": "markdown",
   "id": "533f5d35",
   "metadata": {},
   "source": [
    "### <font color = 'Blue'> 4. Train the simple linear regression model."
   ]
  },
  {
   "cell_type": "code",
   "execution_count": 15,
   "id": "e6b9566e",
   "metadata": {},
   "outputs": [],
   "source": [
    "from sklearn.linear_model import LinearRegression"
   ]
  },
  {
   "cell_type": "code",
   "execution_count": 16,
   "id": "3ff6ee95",
   "metadata": {},
   "outputs": [],
   "source": [
    "regressor = LinearRegression()"
   ]
  },
  {
   "cell_type": "markdown",
   "id": "d1d97919",
   "metadata": {},
   "source": [
    "#### fit will find intercept and slope value"
   ]
  },
  {
   "cell_type": "code",
   "execution_count": 17,
   "id": "5ff8c9eb",
   "metadata": {},
   "outputs": [
    {
     "data": {
      "text/plain": [
       "LinearRegression()"
      ]
     },
     "execution_count": 17,
     "metadata": {},
     "output_type": "execute_result"
    }
   ],
   "source": [
    "regressor.fit(x_train,y_train)"
   ]
  },
  {
   "cell_type": "code",
   "execution_count": 18,
   "id": "4f0b03b2",
   "metadata": {},
   "outputs": [
    {
     "name": "stdout",
     "output_type": "stream",
     "text": [
      "The slope or coefficient of weight is [17.03440872]\n"
     ]
    }
   ],
   "source": [
    "print('The slope or coefficient of weight is',regressor.coef_)\n",
    "# it will give the slope of the features\n",
    "# Here, we have one feature so only 1 slope "
   ]
  },
  {
   "cell_type": "code",
   "execution_count": 19,
   "id": "8967cce2",
   "metadata": {},
   "outputs": [
    {
     "name": "stdout",
     "output_type": "stream",
     "text": [
      "The intercept of weight is 157.5\n"
     ]
    }
   ],
   "source": [
    "print('The intercept of weight is',regressor.intercept_)"
   ]
  },
  {
   "cell_type": "markdown",
   "id": "6dff5d84",
   "metadata": {},
   "source": [
    "### <font color = '#AA00FF'> Observation :\n",
    "* $\\theta_{0}$ = 157.5 (Intercept)\n",
    "* $\\theta_{1}$ = 17.03440872 (Coefficient or slope)"
   ]
  },
  {
   "cell_type": "markdown",
   "id": "1716e611",
   "metadata": {},
   "source": [
    "#### Line equation : $ h_{\\theta}(x) = \\theta_{0} + \\theta_{1}x$"
   ]
  },
  {
   "cell_type": "markdown",
   "id": "2b9120bd",
   "metadata": {},
   "source": [
    "#### Now, we will create the best fit line"
   ]
  },
  {
   "cell_type": "code",
   "execution_count": 20,
   "id": "4007d57e",
   "metadata": {},
   "outputs": [
    {
     "data": {
      "text/plain": [
       "[<matplotlib.lines.Line2D at 0x1a805715520>]"
      ]
     },
     "execution_count": 20,
     "metadata": {},
     "output_type": "execute_result"
    },
    {
     "data": {
      "image/png": "[encoded data removed]",
      "text/plain": [
       "<Figure size 640x480 with 1 Axes>"
      ]
     },
     "metadata": {},
     "output_type": "display_data"
    }
   ],
   "source": [
    "plt.scatter(x_train,y_train)\n",
    "plt.plot(x_train,regressor.predict(x_train),'r')"
   ]
  },
  {
   "cell_type": "markdown",
   "id": "d392b542",
   "metadata": {},
   "source": [
    "---"
   ]
  },
  {
   "cell_type": "markdown",
   "id": "e021d5aa",
   "metadata": {},
   "source": [
    "### prediction of train data\n",
    "1. predicted height output = intercept + coef_(Weights)\n",
    "2. y_pred_train = 157.5 + 17.03(X_train)\n",
    "          \n",
    "### prediction of test data\n",
    "1. predicted height output = intercept + coef_(Weights)\n",
    "2. y_pred_test = 157.5 + 17.03(X_test)"
   ]
  },
  {
   "cell_type": "markdown",
   "id": "d495036f",
   "metadata": {},
   "source": [
    "---"
   ]
  },
  {
   "cell_type": "markdown",
   "id": "348ff0b6",
   "metadata": {},
   "source": [
    "### <font color = 'Blue'> 5. Test model with test data."
   ]
  },
  {
   "cell_type": "code",
   "execution_count": 21,
   "id": "49701380",
   "metadata": {},
   "outputs": [],
   "source": [
    "y_pred = regressor.predict(x_test)"
   ]
  },
  {
   "cell_type": "code",
   "execution_count": 22,
   "id": "0ef0996a",
   "metadata": {},
   "outputs": [
    {
     "data": {
      "text/plain": [
       "(array([161.08467086, 161.08467086, 129.3041561 , 177.45645118,\n",
       "        148.56507414]),\n",
       " 15    177\n",
       " 9     170\n",
       " 0     120\n",
       " 8     182\n",
       " 17    159\n",
       " Name: Height, dtype: int64)"
      ]
     },
     "execution_count": 22,
     "metadata": {},
     "output_type": "execute_result"
    }
   ],
   "source": [
    "y_pred , y_test"
   ]
  },
  {
   "cell_type": "markdown",
   "id": "30634565",
   "metadata": {},
   "source": [
    "#### We can compare and calculate the accuracy"
   ]
  },
  {
   "cell_type": "code",
   "execution_count": 23,
   "id": "a3126bfb",
   "metadata": {},
   "outputs": [
    {
     "data": {
      "text/plain": [
       "[<matplotlib.lines.Line2D at 0x1a80574d160>]"
      ]
     },
     "execution_count": 23,
     "metadata": {},
     "output_type": "execute_result"
    },
    {
     "data": {
      "image/png": "[encoded data removed]",
      "text/plain": [
       "<Figure size 640x480 with 1 Axes>"
      ]
     },
     "metadata": {},
     "output_type": "display_data"
    }
   ],
   "source": [
    "# for actual point\n",
    "plt.scatter(x_test,y_test)\n",
    "\n",
    "# best fit line is calculated\n",
    "plt.plot(x_test,regressor.predict(x_test),'r')"
   ]
  },
  {
   "cell_type": "markdown",
   "id": "777841fc",
   "metadata": {},
   "source": [
    "---"
   ]
  },
  {
   "cell_type": "markdown",
   "id": "eab74a93",
   "metadata": {},
   "source": [
    "### <font color = 'Blue'> 6. Performance metrics.\n",
    "* MSE, MAE and RMSE.\n",
    "* R$^2$ and Adjusted R$^2$"
   ]
  },
  {
   "cell_type": "code",
   "execution_count": 24,
   "id": "72f6a220",
   "metadata": {},
   "outputs": [],
   "source": [
    "from sklearn.metrics import mean_squared_error,mean_absolute_error"
   ]
  },
  {
   "cell_type": "code",
   "execution_count": 25,
   "id": "ebe9679d",
   "metadata": {},
   "outputs": [],
   "source": [
    "mse = mean_squared_error(y_test,y_pred)\n",
    "mae = mean_absolute_error(y_test,y_pred)\n",
    "rmse = np.sqrt(mse)"
   ]
  },
  {
   "cell_type": "markdown",
   "id": "cb79f27c",
   "metadata": {},
   "source": [
    "#### Less the error then better the will be model."
   ]
  },
  {
   "cell_type": "code",
   "execution_count": 26,
   "id": "b8d124ac",
   "metadata": {},
   "outputs": [
    {
     "name": "stdout",
     "output_type": "stream",
     "text": [
      "109.77592599051654\n",
      "9.822657814519227\n",
      "10.477400726827076\n"
     ]
    }
   ],
   "source": [
    "print(mse)\n",
    "print(mae)\n",
    "print(rmse)"
   ]
  },
  {
   "cell_type": "markdown",
   "id": "73a06844",
   "metadata": {},
   "source": [
    "#### How good our model is ?..\n",
    "$$ R_{squared} = 1 - \\frac{{\\sum{ (y_{i} - \\hat{y_{i}})^2}}}{{\\sum{ (y_{i} - \\bar{y_{i}})^2}}}$$  \n",
    "\n",
    "$$ Adjusted_{R_{squared}} = 1 - \\frac{(1-R^2)\\times(N-1)}{N-p-1}$$"
   ]
  },
  {
   "cell_type": "code",
   "execution_count": 27,
   "id": "d5dc4200",
   "metadata": {},
   "outputs": [],
   "source": [
    "from sklearn.metrics import r2_score"
   ]
  },
  {
   "cell_type": "code",
   "execution_count": 28,
   "id": "579fc255",
   "metadata": {},
   "outputs": [],
   "source": [
    "r_square = r2_score(y_test,y_pred)"
   ]
  },
  {
   "cell_type": "code",
   "execution_count": 29,
   "id": "797a853a",
   "metadata": {},
   "outputs": [
    {
     "name": "stdout",
     "output_type": "stream",
     "text": [
      "Our model is 77.7 % accurate calculated using r square.\n"
     ]
    }
   ],
   "source": [
    "print('Our model is',round((r_square*100),2),'% accurate calculated using r square.')"
   ]
  },
  {
   "cell_type": "code",
   "execution_count": 30,
   "id": "ceeac50f",
   "metadata": {},
   "outputs": [],
   "source": [
    "n = len(y_test)\n",
    "p = x_test.shape[1]\n",
    "\n",
    "adjusted_r_square = 1 - ((1-r_square)*(n-1)/(n-p-1))"
   ]
  },
  {
   "cell_type": "code",
   "execution_count": 31,
   "id": "9ecba515",
   "metadata": {},
   "outputs": [
    {
     "name": "stdout",
     "output_type": "stream",
     "text": [
      "Our model is 70.26 % accurate calculated using adjusted r square.\n"
     ]
    }
   ],
   "source": [
    "print('Our model is',round((adjusted_r_square*100),2),'% accurate calculated using adjusted r square.')"
   ]
  },
  {
   "cell_type": "markdown",
   "id": "4d980588",
   "metadata": {},
   "source": [
    "#### Always : $ R_{squared} > Adjusted_{R_{squared}} $"
   ]
  },
  {
   "cell_type": "markdown",
   "id": "c83971f6",
   "metadata": {},
   "source": [
    "---"
   ]
  },
  {
   "cell_type": "markdown",
   "id": "508c789e",
   "metadata": {},
   "source": [
    "### <font color = 'Blue'> For any new weight\n",
    "1. Scale the weight.\n",
    "2. predict the height.\n",
    "3. Render the resuls."
   ]
  },
  {
   "cell_type": "code",
   "execution_count": 32,
   "id": "c623efea",
   "metadata": {},
   "outputs": [
    {
     "name": "stderr",
     "output_type": "stream",
     "text": [
      "D:\\Anconda\\lib\\site-packages\\sklearn\\base.py:450: UserWarning: X does not have valid feature names, but StandardScaler was fitted with feature names\n",
      "  warnings.warn(\n"
     ]
    },
    {
     "data": {
      "text/plain": [
       "array([[0.32350772]])"
      ]
     },
     "execution_count": 32,
     "metadata": {},
     "output_type": "execute_result"
    }
   ],
   "source": [
    "weight = 80\n",
    "scaled_weight = scaler.transform([[weight]])\n",
    "scaled_weight"
   ]
  },
  {
   "cell_type": "code",
   "execution_count": 33,
   "id": "043730c4",
   "metadata": {},
   "outputs": [
    {
     "data": {
      "text/plain": [
       "array([163.01076266])"
      ]
     },
     "execution_count": 33,
     "metadata": {},
     "output_type": "execute_result"
    }
   ],
   "source": [
    "height_pred = regressor.predict(scaled_weight)\n",
    "height_pred"
   ]
  },
  {
   "cell_type": "code",
   "execution_count": 34,
   "id": "484d683b",
   "metadata": {
    "scrolled": true
   },
   "outputs": [
    {
     "name": "stdout",
     "output_type": "stream",
     "text": [
      "Height predicted for weight 80 kg is 163.01 cm\n"
     ]
    }
   ],
   "source": [
    "print(f'Height predicted for weight {weight} kg is {round(height_pred[0],2)} cm')"
   ]
  },
  {
   "cell_type": "markdown",
   "id": "3671d65e",
   "metadata": {},
   "source": [
    "---"
   ]
  },
  {
   "cell_type": "markdown",
   "id": "4f759808",
   "metadata": {},
   "source": [
    "### <font color = 'Blue'> Assumptions"
   ]
  },
  {
   "cell_type": "code",
   "execution_count": 35,
   "id": "9348ee67",
   "metadata": {},
   "outputs": [
    {
     "data": {
      "text/plain": [
       "<matplotlib.collections.PathCollection at 0x1a8057c6dc0>"
      ]
     },
     "execution_count": 35,
     "metadata": {},
     "output_type": "execute_result"
    },
    {
     "data": {
      "image/png": "[encoded data removed]",
      "text/plain": [
       "<Figure size 640x480 with 1 Axes>"
      ]
     },
     "metadata": {},
     "output_type": "display_data"
    }
   ],
   "source": [
    "# Assumption 1\n",
    "# plot scatter plot for the actual value and predicted value\n",
    "plt.scatter(y_test,y_pred)"
   ]
  },
  {
   "cell_type": "markdown",
   "id": "41bc6595",
   "metadata": {},
   "source": [
    "### <font color = '#AA00FF'> Conclusion :\n",
    "* If plot looks linear then our prediction is done well."
   ]
  },
  {
   "cell_type": "code",
   "execution_count": 36,
   "id": "a64191de",
   "metadata": {},
   "outputs": [
    {
     "data": {
      "text/plain": [
       "15    15.915329\n",
       "9      8.915329\n",
       "0     -9.304156\n",
       "8      4.543549\n",
       "17    10.434926\n",
       "Name: Height, dtype: float64"
      ]
     },
     "execution_count": 36,
     "metadata": {},
     "output_type": "execute_result"
    }
   ],
   "source": [
    "# Assumption 2\n",
    "# Residuals \n",
    "\n",
    "residuals = y_test - y_pred\n",
    "residuals"
   ]
  },
  {
   "cell_type": "code",
   "execution_count": 37,
   "id": "37a34657",
   "metadata": {},
   "outputs": [
    {
     "name": "stderr",
     "output_type": "stream",
     "text": [
      "D:\\Anconda\\lib\\site-packages\\seaborn\\distributions.py:2619: FutureWarning: `distplot` is a deprecated function and will be removed in a future version. Please adapt your code to use either `displot` (a figure-level function with similar flexibility) or `histplot` (an axes-level function for histograms).\n",
      "  warnings.warn(msg, FutureWarning)\n"
     ]
    },
    {
     "data": {
      "text/plain": [
       "<AxesSubplot:xlabel='Height', ylabel='Density'>"
      ]
     },
     "execution_count": 37,
     "metadata": {},
     "output_type": "execute_result"
    },
    {
     "data": {
      "image/png": "[encoded data removed]",
      "text/plain": [
       "<Figure size 640x480 with 1 Axes>"
      ]
     },
     "metadata": {},
     "output_type": "display_data"
    }
   ],
   "source": [
    "# plot the residuals \n",
    "\n",
    "import seaborn as sns\n",
    "sns.distplot(residuals , kde = True)"
   ]
  },
  {
   "cell_type": "markdown",
   "id": "ded03fbb",
   "metadata": {},
   "source": [
    "### <font color = '#AA00FF'> Conclusion :\n",
    "* If normal distribution then better model is created."
   ]
  },
  {
   "cell_type": "code",
   "execution_count": 38,
   "id": "caf42183",
   "metadata": {},
   "outputs": [
    {
     "data": {
      "text/plain": [
       "<matplotlib.collections.PathCollection at 0x1a805f7bc70>"
      ]
     },
     "execution_count": 38,
     "metadata": {},
     "output_type": "execute_result"
    },
    {
     "data": {
      "image/png": "[encoded data removed]",
      "text/plain": [
       "<Figure size 640x480 with 1 Axes>"
      ]
     },
     "metadata": {},
     "output_type": "display_data"
    }
   ],
   "source": [
    "# scatter plot with respect to prediction and residuals\n",
    "\n",
    "plt.scatter(y_pred,residuals)"
   ]
  },
  {
   "cell_type": "markdown",
   "id": "5ca718ca",
   "metadata": {},
   "source": [
    "### <font color = '#AA00FF'> Conclusion :\n",
    "* If uniform distribution then better model is created."
   ]
  },
  {
   "cell_type": "markdown",
   "id": "ef580c20",
   "metadata": {},
   "source": [
    "### <font color = 'Blue'> Pickling the model - model is converted into file and used to predict output for any new data."
   ]
  },
  {
   "cell_type": "markdown",
   "id": "65651519",
   "metadata": {},
   "source": [
    "---"
   ]
  }
 ],
 "metadata": {
  "kernelspec": {
   "display_name": "Python 3 (ipykernel)",
   "language": "python",
   "name": "python3"
  },
  "language_info": {
   "codemirror_mode": {
    "name": "ipython",
    "version": 3
   },
   "file_extension": ".py",
   "mimetype": "text/x-python",
   "name": "python",
   "nbconvert_exporter": "python",
   "pygments_lexer": "ipython3",
   "version": "3.9.13"
  }
 },
 "nbformat": 4,
 "nbformat_minor": 5
}
