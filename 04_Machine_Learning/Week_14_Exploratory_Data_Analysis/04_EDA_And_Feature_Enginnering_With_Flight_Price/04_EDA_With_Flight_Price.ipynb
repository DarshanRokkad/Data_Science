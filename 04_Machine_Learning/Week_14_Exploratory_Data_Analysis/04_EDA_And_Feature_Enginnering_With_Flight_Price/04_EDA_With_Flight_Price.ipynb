{
 "cells": [
  {
   "cell_type": "markdown",
   "id": "f8f2eaf2",
   "metadata": {},
   "source": [
    "# <font color = 'orange'> EDA and Feature Engineering with Flight Price Predication data"
   ]
  },
  {
   "cell_type": "markdown",
   "id": "981e8cf5",
   "metadata": {},
   "source": [
    "---"
   ]
  },
  {
   "cell_type": "code",
   "execution_count": null,
   "id": "dc38488f",
   "metadata": {},
   "outputs": [],
   "source": []
  }
 ],
 "metadata": {
  "kernelspec": {
   "display_name": "Python 3 (ipykernel)",
   "language": "python",
   "name": "python3"
  },
  "language_info": {
   "codemirror_mode": {
    "name": "ipython",
    "version": 3
   },
   "file_extension": ".py",
   "mimetype": "text/x-python",
   "name": "python",
   "nbconvert_exporter": "python",
   "pygments_lexer": "ipython3",
   "version": "3.9.13"
  }
 },
 "nbformat": 4,
 "nbformat_minor": 5
}
