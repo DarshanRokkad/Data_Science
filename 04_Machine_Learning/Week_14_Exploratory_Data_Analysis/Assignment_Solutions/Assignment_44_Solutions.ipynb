{
 "cells": [
  {
   "cell_type": "markdown",
   "id": "c1c3a678",
   "metadata": {},
   "source": [
    "# <font color = 'orange'> Assignment 44 Solutions"
   ]
  },
  {
   "cell_type": "markdown",
   "id": "d18b8e6b",
   "metadata": {},
   "source": [
    "---"
   ]
  },
  {
   "cell_type": "markdown",
   "id": "b33dc178",
   "metadata": {},
   "source": [
    "## <font color='blue'> Flight Price:"
   ]
  },
  {
   "cell_type": "markdown",
   "id": "7b0ba948",
   "metadata": {},
   "source": [
    "## Q1. Load the flight price dataset and examine its dimensions. How many rows and columns does the dataset have?"
   ]
  },
  {
   "cell_type": "code",
   "execution_count": null,
   "id": "09d69b0b",
   "metadata": {},
   "outputs": [],
   "source": []
  },
  {
   "cell_type": "markdown",
   "id": "27137498",
   "metadata": {},
   "source": [
    "---"
   ]
  },
  {
   "cell_type": "markdown",
   "id": "73eda102",
   "metadata": {},
   "source": [
    "## Q2. What is the distribution of flight prices in the dataset? Create a histogram to visualize the distribution.:"
   ]
  },
  {
   "cell_type": "code",
   "execution_count": null,
   "id": "866749b4",
   "metadata": {},
   "outputs": [],
   "source": []
  },
  {
   "cell_type": "markdown",
   "id": "c3137fa0",
   "metadata": {},
   "source": [
    "---"
   ]
  },
  {
   "cell_type": "markdown",
   "id": "2282f6f6",
   "metadata": {},
   "source": [
    "## Q3. What is the range of prices in the dataset? What is the minimum and maximum price?"
   ]
  },
  {
   "cell_type": "code",
   "execution_count": null,
   "id": "bda2c3fc",
   "metadata": {},
   "outputs": [],
   "source": []
  },
  {
   "cell_type": "markdown",
   "id": "0f2342c9",
   "metadata": {},
   "source": [
    "---"
   ]
  },
  {
   "cell_type": "markdown",
   "id": "a79edd87",
   "metadata": {},
   "source": [
    "## Q4. How does the price of flights vary by airline? Create a boxplot to compare the prices of different airlines."
   ]
  },
  {
   "cell_type": "code",
   "execution_count": null,
   "id": "8613825f",
   "metadata": {},
   "outputs": [],
   "source": []
  },
  {
   "cell_type": "markdown",
   "id": "1e8f2fd3",
   "metadata": {},
   "source": [
    "---"
   ]
  },
  {
   "cell_type": "markdown",
   "id": "844715ab",
   "metadata": {},
   "source": [
    "## Q5. Are there any outliers in the dataset? Identify any potential outliers using a boxplot and describe how they may impact your analysis."
   ]
  },
  {
   "cell_type": "code",
   "execution_count": null,
   "id": "a8b6e920",
   "metadata": {},
   "outputs": [],
   "source": []
  },
  {
   "cell_type": "markdown",
   "id": "8ed7c477",
   "metadata": {},
   "source": [
    "---"
   ]
  },
  {
   "cell_type": "markdown",
   "id": "1abaa693",
   "metadata": {},
   "source": [
    "## Q6. You are working for a travel agency, and your boss has asked you to analyze the Flight Price dataset to identify the peak travel season. What features would you analyze to identify the peak season, and how would you present your findings to your boss?"
   ]
  },
  {
   "cell_type": "code",
   "execution_count": null,
   "id": "5a36eab1",
   "metadata": {},
   "outputs": [],
   "source": []
  },
  {
   "cell_type": "markdown",
   "id": "6a022d54",
   "metadata": {},
   "source": [
    "---"
   ]
  },
  {
   "cell_type": "markdown",
   "id": "b1df16d9",
   "metadata": {},
   "source": [
    "## Q7. You are a data analyst for a flight booking website, and you have been asked to analyze the Flight Price dataset to identify any trends in flight prices. What features would you analyze to identify these trends, and what visualizations would you use to present your findings to your team?"
   ]
  },
  {
   "cell_type": "code",
   "execution_count": null,
   "id": "d9be5b49",
   "metadata": {},
   "outputs": [],
   "source": []
  },
  {
   "cell_type": "markdown",
   "id": "1615ae2f",
   "metadata": {},
   "source": [
    "---"
   ]
  },
  {
   "cell_type": "markdown",
   "id": "aa562257",
   "metadata": {},
   "source": [
    "## Q8. You are a data scientist working for an airline company, and you have been asked to analyze the Flight Price dataset to identify the factors that affect flight prices. What features would you analyze to identify these factors, and how would you present your findings to the management team?"
   ]
  },
  {
   "cell_type": "code",
   "execution_count": null,
   "id": "bde44b20",
   "metadata": {},
   "outputs": [],
   "source": []
  },
  {
   "cell_type": "markdown",
   "id": "23a3cd20",
   "metadata": {},
   "source": [
    "---"
   ]
  },
  {
   "cell_type": "markdown",
   "id": "1d3ec443",
   "metadata": {},
   "source": [
    "## <font color='blue'> Google Playstore:"
   ]
  },
  {
   "cell_type": "markdown",
   "id": "2163a548",
   "metadata": {},
   "source": [
    "## Q9. Load the Google Playstore dataset and examine its dimensions. How many rows and columns does the dataset have?"
   ]
  },
  {
   "cell_type": "code",
   "execution_count": null,
   "id": "a8d4e3ca",
   "metadata": {},
   "outputs": [],
   "source": []
  },
  {
   "cell_type": "markdown",
   "id": "e91c47c0",
   "metadata": {},
   "source": [
    "---"
   ]
  },
  {
   "cell_type": "markdown",
   "id": "62001917",
   "metadata": {},
   "source": [
    "## Q10. How does the rating of apps vary by category? Create a boxplot to compare the ratings of different app categories."
   ]
  },
  {
   "cell_type": "code",
   "execution_count": null,
   "id": "e5df9574",
   "metadata": {},
   "outputs": [],
   "source": []
  },
  {
   "cell_type": "markdown",
   "id": "c52b3816",
   "metadata": {},
   "source": [
    "---"
   ]
  },
  {
   "cell_type": "markdown",
   "id": "a0166a94",
   "metadata": {},
   "source": [
    "## Q11. Are there any missing values in the dataset? Identify any missing values and describe how they may impact your analysis."
   ]
  },
  {
   "cell_type": "code",
   "execution_count": null,
   "id": "1efef5f6",
   "metadata": {},
   "outputs": [],
   "source": []
  },
  {
   "cell_type": "markdown",
   "id": "7b8dc488",
   "metadata": {},
   "source": [
    "---"
   ]
  },
  {
   "cell_type": "markdown",
   "id": "a1735eee",
   "metadata": {},
   "source": [
    "## Q12. What is the relationship between the size of an app and its rating? Create a scatter plot to visualize the relationship."
   ]
  },
  {
   "cell_type": "code",
   "execution_count": null,
   "id": "d5ba2adb",
   "metadata": {},
   "outputs": [],
   "source": []
  },
  {
   "cell_type": "markdown",
   "id": "b6d764ad",
   "metadata": {},
   "source": [
    "---"
   ]
  },
  {
   "cell_type": "markdown",
   "id": "366a0893",
   "metadata": {},
   "source": [
    "## Q13. How does the type of app affect its price? Create a bar chart to compare average prices by app type."
   ]
  },
  {
   "cell_type": "code",
   "execution_count": null,
   "id": "8e5b0f7e",
   "metadata": {},
   "outputs": [],
   "source": []
  },
  {
   "cell_type": "markdown",
   "id": "5f5f9581",
   "metadata": {},
   "source": [
    "---"
   ]
  },
  {
   "cell_type": "markdown",
   "id": "bc6694fc",
   "metadata": {},
   "source": [
    "## Q14. What are the top 10 most popular apps in the dataset? Create a frequency table to identify the apps with the highest number of installs."
   ]
  },
  {
   "cell_type": "code",
   "execution_count": null,
   "id": "14f43561",
   "metadata": {},
   "outputs": [],
   "source": []
  },
  {
   "cell_type": "markdown",
   "id": "c9d4b53b",
   "metadata": {},
   "source": [
    "---"
   ]
  },
  {
   "cell_type": "markdown",
   "id": "0d715421",
   "metadata": {},
   "source": [
    "## Q15. A company wants to launch a new app on the Google Playstore and has asked you to analyze the Google Playstore dataset to identify the most popular app categories. How would you approach this task, and what features would you analyze to make recommendations to the company?"
   ]
  },
  {
   "cell_type": "code",
   "execution_count": null,
   "id": "9c05e239",
   "metadata": {},
   "outputs": [],
   "source": []
  },
  {
   "cell_type": "markdown",
   "id": "bfd642fd",
   "metadata": {},
   "source": [
    "---"
   ]
  },
  {
   "cell_type": "markdown",
   "id": "0998c9eb",
   "metadata": {},
   "source": [
    "## Q16. A mobile app development company wants to analyze the Google Playstore dataset to identify the most successful app developers. What features would you analyze to make recommendations to the company, and what data visualizations would you use to present your findings?"
   ]
  },
  {
   "cell_type": "code",
   "execution_count": null,
   "id": "6862001f",
   "metadata": {},
   "outputs": [],
   "source": []
  },
  {
   "cell_type": "markdown",
   "id": "8f0b3eda",
   "metadata": {},
   "source": [
    "---"
   ]
  },
  {
   "cell_type": "markdown",
   "id": "ce691415",
   "metadata": {},
   "source": [
    "## Q17. A marketing research firm wants to analyze the Google Playstore dataset to identify the best time to launch a new app. What features would you analyze to make recommendations to the company, and what data visualizations would you use to present your findings?"
   ]
  },
  {
   "cell_type": "code",
   "execution_count": null,
   "id": "8efb6114",
   "metadata": {},
   "outputs": [],
   "source": []
  },
  {
   "cell_type": "markdown",
   "id": "074419f4",
   "metadata": {},
   "source": [
    "---"
   ]
  }
 ],
 "metadata": {
  "kernelspec": {
   "display_name": "Python 3 (ipykernel)",
   "language": "python",
   "name": "python3"
  },
  "language_info": {
   "codemirror_mode": {
    "name": "ipython",
    "version": 3
   },
   "file_extension": ".py",
   "mimetype": "text/x-python",
   "name": "python",
   "nbconvert_exporter": "python",
   "pygments_lexer": "ipython3",
   "version": "3.9.13"
  }
 },
 "nbformat": 4,
 "nbformat_minor": 5
}
