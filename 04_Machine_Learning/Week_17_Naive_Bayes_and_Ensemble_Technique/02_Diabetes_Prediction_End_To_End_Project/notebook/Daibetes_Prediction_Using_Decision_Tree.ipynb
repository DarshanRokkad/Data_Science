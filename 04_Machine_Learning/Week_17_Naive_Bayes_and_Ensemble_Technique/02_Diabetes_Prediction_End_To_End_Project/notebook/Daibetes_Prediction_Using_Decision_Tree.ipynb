{
 "cells": [
  {
   "cell_type": "markdown",
   "id": "1b2886dd",
   "metadata": {},
   "source": [
    "# <font color = 'orange'> Diabetes Prediction Using Decision Tree"
   ]
  },
  {
   "cell_type": "markdown",
   "id": "a723e111",
   "metadata": {},
   "source": [
    "---"
   ]
  },
  {
   "cell_type": "markdown",
   "id": "f0f35d9a",
   "metadata": {},
   "source": [
    "## <font color='blue'> 1. Importing libraries "
   ]
  },
  {
   "cell_type": "code",
   "execution_count": 1,
   "id": "da32cc2f",
   "metadata": {},
   "outputs": [],
   "source": [
    "import numpy as np\n",
    "import pandas as pd\n",
    "import matplotlib.pyplot as plt \n",
    "import seaborn as sns\n",
    "\n",
    "from sklearn.model_selection import train_test_split\n",
    "from sklearn.preprocessing import StandardScaler\n",
    "from sklearn.tree import DecisionTreeClassifier \n",
    "from sklearn.svm import SVC\n",
    "from sklearn.naive_bayes import BernoulliNB\n",
    "from sklearn.metrics import accuracy_score, confusion_matrix\n",
    "\n",
    "import pickle"
   ]
  },
  {
   "cell_type": "markdown",
   "id": "b0f45ee5",
   "metadata": {},
   "source": [
    "---"
   ]
  },
  {
   "cell_type": "markdown",
   "id": "e496bac7",
   "metadata": {},
   "source": [
    "## <font color='blue'> 2. Load Dataset, EDA and Feature Engineering"
   ]
  },
  {
   "cell_type": "code",
   "execution_count": 2,
   "id": "2ed817d1",
   "metadata": {},
   "outputs": [
    {
     "data": {
      "text/html": [
       "<div>\n",
       "<style scoped>\n",
       "    .dataframe tbody tr th:only-of-type {\n",
       "        vertical-align: middle;\n",
       "    }\n",
       "\n",
       "    .dataframe tbody tr th {\n",
       "        vertical-align: top;\n",
       "    }\n",
       "\n",
       "    .dataframe thead th {\n",
       "        text-align: right;\n",
       "    }\n",
       "</style>\n",
       "<table border=\"1\" class=\"dataframe\">\n",
       "  <thead>\n",
       "    <tr style=\"text-align: right;\">\n",
       "      <th></th>\n",
       "      <th>Pregnancies</th>\n",
       "      <th>Glucose</th>\n",
       "      <th>BloodPressure</th>\n",
       "      <th>SkinThickness</th>\n",
       "      <th>Insulin</th>\n",
       "      <th>BMI</th>\n",
       "      <th>DiabetesPedigreeFunction</th>\n",
       "      <th>Age</th>\n",
       "      <th>Outcome</th>\n",
       "    </tr>\n",
       "  </thead>\n",
       "  <tbody>\n",
       "    <tr>\n",
       "      <th>0</th>\n",
       "      <td>6</td>\n",
       "      <td>148</td>\n",
       "      <td>72</td>\n",
       "      <td>35</td>\n",
       "      <td>0</td>\n",
       "      <td>33.6</td>\n",
       "      <td>0.627</td>\n",
       "      <td>50</td>\n",
       "      <td>1</td>\n",
       "    </tr>\n",
       "    <tr>\n",
       "      <th>1</th>\n",
       "      <td>1</td>\n",
       "      <td>85</td>\n",
       "      <td>66</td>\n",
       "      <td>29</td>\n",
       "      <td>0</td>\n",
       "      <td>26.6</td>\n",
       "      <td>0.351</td>\n",
       "      <td>31</td>\n",
       "      <td>0</td>\n",
       "    </tr>\n",
       "    <tr>\n",
       "      <th>2</th>\n",
       "      <td>8</td>\n",
       "      <td>183</td>\n",
       "      <td>64</td>\n",
       "      <td>0</td>\n",
       "      <td>0</td>\n",
       "      <td>23.3</td>\n",
       "      <td>0.672</td>\n",
       "      <td>32</td>\n",
       "      <td>1</td>\n",
       "    </tr>\n",
       "    <tr>\n",
       "      <th>3</th>\n",
       "      <td>1</td>\n",
       "      <td>89</td>\n",
       "      <td>66</td>\n",
       "      <td>23</td>\n",
       "      <td>94</td>\n",
       "      <td>28.1</td>\n",
       "      <td>0.167</td>\n",
       "      <td>21</td>\n",
       "      <td>0</td>\n",
       "    </tr>\n",
       "    <tr>\n",
       "      <th>4</th>\n",
       "      <td>0</td>\n",
       "      <td>137</td>\n",
       "      <td>40</td>\n",
       "      <td>35</td>\n",
       "      <td>168</td>\n",
       "      <td>43.1</td>\n",
       "      <td>2.288</td>\n",
       "      <td>33</td>\n",
       "      <td>1</td>\n",
       "    </tr>\n",
       "  </tbody>\n",
       "</table>\n",
       "</div>"
      ],
      "text/plain": [
       "   Pregnancies  Glucose  BloodPressure  SkinThickness  Insulin   BMI  \\\n",
       "0            6      148             72             35        0  33.6   \n",
       "1            1       85             66             29        0  26.6   \n",
       "2            8      183             64              0        0  23.3   \n",
       "3            1       89             66             23       94  28.1   \n",
       "4            0      137             40             35      168  43.1   \n",
       "\n",
       "   DiabetesPedigreeFunction  Age  Outcome  \n",
       "0                     0.627   50        1  \n",
       "1                     0.351   31        0  \n",
       "2                     0.672   32        1  \n",
       "3                     0.167   21        0  \n",
       "4                     2.288   33        1  "
      ]
     },
     "execution_count": 2,
     "metadata": {},
     "output_type": "execute_result"
    }
   ],
   "source": [
    "data = pd.read_csv('..\\dataset\\diabetes.csv')\n",
    "\n",
    "data.head()"
   ]
  },
  {
   "cell_type": "code",
   "execution_count": 3,
   "id": "d4ea3955",
   "metadata": {},
   "outputs": [
    {
     "name": "stdout",
     "output_type": "stream",
     "text": [
      "<class 'pandas.core.frame.DataFrame'>\n",
      "RangeIndex: 768 entries, 0 to 767\n",
      "Data columns (total 9 columns):\n",
      " #   Column                    Non-Null Count  Dtype  \n",
      "---  ------                    --------------  -----  \n",
      " 0   Pregnancies               768 non-null    int64  \n",
      " 1   Glucose                   768 non-null    int64  \n",
      " 2   BloodPressure             768 non-null    int64  \n",
      " 3   SkinThickness             768 non-null    int64  \n",
      " 4   Insulin                   768 non-null    int64  \n",
      " 5   BMI                       768 non-null    float64\n",
      " 6   DiabetesPedigreeFunction  768 non-null    float64\n",
      " 7   Age                       768 non-null    int64  \n",
      " 8   Outcome                   768 non-null    int64  \n",
      "dtypes: float64(2), int64(7)\n",
      "memory usage: 54.1 KB\n"
     ]
    }
   ],
   "source": [
    "data.info()"
   ]
  },
  {
   "cell_type": "markdown",
   "id": "16f033d8",
   "metadata": {},
   "source": [
    "#### <font color = '#AA00FF'> Observation :\n",
    "* Shape = (768,9)\n",
    "* All are in correct datatype.\n",
    "* There are no null values in features.\n",
    "* 8 Independent Features.\n",
    "* 1 Dependent Feature ['Outcome'] - To be predicted."
   ]
  },
  {
   "cell_type": "code",
   "execution_count": 4,
   "id": "a9371b75",
   "metadata": {},
   "outputs": [
    {
     "data": {
      "text/html": [
       "<div>\n",
       "<style scoped>\n",
       "    .dataframe tbody tr th:only-of-type {\n",
       "        vertical-align: middle;\n",
       "    }\n",
       "\n",
       "    .dataframe tbody tr th {\n",
       "        vertical-align: top;\n",
       "    }\n",
       "\n",
       "    .dataframe thead th {\n",
       "        text-align: right;\n",
       "    }\n",
       "</style>\n",
       "<table border=\"1\" class=\"dataframe\">\n",
       "  <thead>\n",
       "    <tr style=\"text-align: right;\">\n",
       "      <th></th>\n",
       "      <th>Pregnancies</th>\n",
       "      <th>Glucose</th>\n",
       "      <th>BloodPressure</th>\n",
       "      <th>SkinThickness</th>\n",
       "      <th>Insulin</th>\n",
       "      <th>BMI</th>\n",
       "      <th>DiabetesPedigreeFunction</th>\n",
       "      <th>Age</th>\n",
       "      <th>Outcome</th>\n",
       "    </tr>\n",
       "  </thead>\n",
       "  <tbody>\n",
       "    <tr>\n",
       "      <th>count</th>\n",
       "      <td>768.000000</td>\n",
       "      <td>768.000000</td>\n",
       "      <td>768.000000</td>\n",
       "      <td>768.000000</td>\n",
       "      <td>768.000000</td>\n",
       "      <td>768.000000</td>\n",
       "      <td>768.000000</td>\n",
       "      <td>768.000000</td>\n",
       "      <td>768.000000</td>\n",
       "    </tr>\n",
       "    <tr>\n",
       "      <th>mean</th>\n",
       "      <td>3.845052</td>\n",
       "      <td>120.894531</td>\n",
       "      <td>69.105469</td>\n",
       "      <td>20.536458</td>\n",
       "      <td>79.799479</td>\n",
       "      <td>31.992578</td>\n",
       "      <td>0.471876</td>\n",
       "      <td>33.240885</td>\n",
       "      <td>0.348958</td>\n",
       "    </tr>\n",
       "    <tr>\n",
       "      <th>std</th>\n",
       "      <td>3.369578</td>\n",
       "      <td>31.972618</td>\n",
       "      <td>19.355807</td>\n",
       "      <td>15.952218</td>\n",
       "      <td>115.244002</td>\n",
       "      <td>7.884160</td>\n",
       "      <td>0.331329</td>\n",
       "      <td>11.760232</td>\n",
       "      <td>0.476951</td>\n",
       "    </tr>\n",
       "    <tr>\n",
       "      <th>min</th>\n",
       "      <td>0.000000</td>\n",
       "      <td>0.000000</td>\n",
       "      <td>0.000000</td>\n",
       "      <td>0.000000</td>\n",
       "      <td>0.000000</td>\n",
       "      <td>0.000000</td>\n",
       "      <td>0.078000</td>\n",
       "      <td>21.000000</td>\n",
       "      <td>0.000000</td>\n",
       "    </tr>\n",
       "    <tr>\n",
       "      <th>25%</th>\n",
       "      <td>1.000000</td>\n",
       "      <td>99.000000</td>\n",
       "      <td>62.000000</td>\n",
       "      <td>0.000000</td>\n",
       "      <td>0.000000</td>\n",
       "      <td>27.300000</td>\n",
       "      <td>0.243750</td>\n",
       "      <td>24.000000</td>\n",
       "      <td>0.000000</td>\n",
       "    </tr>\n",
       "    <tr>\n",
       "      <th>50%</th>\n",
       "      <td>3.000000</td>\n",
       "      <td>117.000000</td>\n",
       "      <td>72.000000</td>\n",
       "      <td>23.000000</td>\n",
       "      <td>30.500000</td>\n",
       "      <td>32.000000</td>\n",
       "      <td>0.372500</td>\n",
       "      <td>29.000000</td>\n",
       "      <td>0.000000</td>\n",
       "    </tr>\n",
       "    <tr>\n",
       "      <th>75%</th>\n",
       "      <td>6.000000</td>\n",
       "      <td>140.250000</td>\n",
       "      <td>80.000000</td>\n",
       "      <td>32.000000</td>\n",
       "      <td>127.250000</td>\n",
       "      <td>36.600000</td>\n",
       "      <td>0.626250</td>\n",
       "      <td>41.000000</td>\n",
       "      <td>1.000000</td>\n",
       "    </tr>\n",
       "    <tr>\n",
       "      <th>max</th>\n",
       "      <td>17.000000</td>\n",
       "      <td>199.000000</td>\n",
       "      <td>122.000000</td>\n",
       "      <td>99.000000</td>\n",
       "      <td>846.000000</td>\n",
       "      <td>67.100000</td>\n",
       "      <td>2.420000</td>\n",
       "      <td>81.000000</td>\n",
       "      <td>1.000000</td>\n",
       "    </tr>\n",
       "  </tbody>\n",
       "</table>\n",
       "</div>"
      ],
      "text/plain": [
       "       Pregnancies     Glucose  BloodPressure  SkinThickness     Insulin  \\\n",
       "count   768.000000  768.000000     768.000000     768.000000  768.000000   \n",
       "mean      3.845052  120.894531      69.105469      20.536458   79.799479   \n",
       "std       3.369578   31.972618      19.355807      15.952218  115.244002   \n",
       "min       0.000000    0.000000       0.000000       0.000000    0.000000   \n",
       "25%       1.000000   99.000000      62.000000       0.000000    0.000000   \n",
       "50%       3.000000  117.000000      72.000000      23.000000   30.500000   \n",
       "75%       6.000000  140.250000      80.000000      32.000000  127.250000   \n",
       "max      17.000000  199.000000     122.000000      99.000000  846.000000   \n",
       "\n",
       "              BMI  DiabetesPedigreeFunction         Age     Outcome  \n",
       "count  768.000000                768.000000  768.000000  768.000000  \n",
       "mean    31.992578                  0.471876   33.240885    0.348958  \n",
       "std      7.884160                  0.331329   11.760232    0.476951  \n",
       "min      0.000000                  0.078000   21.000000    0.000000  \n",
       "25%     27.300000                  0.243750   24.000000    0.000000  \n",
       "50%     32.000000                  0.372500   29.000000    0.000000  \n",
       "75%     36.600000                  0.626250   41.000000    1.000000  \n",
       "max     67.100000                  2.420000   81.000000    1.000000  "
      ]
     },
     "execution_count": 4,
     "metadata": {},
     "output_type": "execute_result"
    }
   ],
   "source": [
    "data.describe()"
   ]
  },
  {
   "cell_type": "markdown",
   "id": "54e1628c",
   "metadata": {},
   "source": [
    "#### <font color = '#AA00FF'> Observation :\n",
    "We can see there few data for columns Glucose , Insulin, skin thickenss, BMI and Blood Pressure which have value as 0. That's not possible,right? you can do a quick search to see that one cannot have 0 values for these.  \n",
    "      \n",
    "Let's deal with that. we can either remove such data or simply replace it with their respective mean values.  "
   ]
  },
  {
   "cell_type": "code",
   "execution_count": 5,
   "id": "a7b5cbc3",
   "metadata": {},
   "outputs": [],
   "source": [
    "# here few misconception is there like BMI can not be zero, BP can't be zero, glucose, insuline can't be zero so lets try to fix it\n",
    "# now replacing zero values with the mean of the column\n",
    "\n",
    "data['BMI'] = data['BMI'].replace(0,data['BMI'].mean())\n",
    "data['BloodPressure'] = data['BloodPressure'].replace(0,data['BloodPressure'].mean())\n",
    "data['Glucose'] = data['Glucose'].replace(0,data['Glucose'].mean())\n",
    "data['Insulin'] = data['Insulin'].replace(0,data['Insulin'].median())\n",
    "data['SkinThickness'] = data['SkinThickness'].replace(0,data['SkinThickness'].mean())"
   ]
  },
  {
   "cell_type": "code",
   "execution_count": 6,
   "id": "cdb1b554",
   "metadata": {},
   "outputs": [
    {
     "data": {
      "text/html": [
       "<div>\n",
       "<style scoped>\n",
       "    .dataframe tbody tr th:only-of-type {\n",
       "        vertical-align: middle;\n",
       "    }\n",
       "\n",
       "    .dataframe tbody tr th {\n",
       "        vertical-align: top;\n",
       "    }\n",
       "\n",
       "    .dataframe thead th {\n",
       "        text-align: right;\n",
       "    }\n",
       "</style>\n",
       "<table border=\"1\" class=\"dataframe\">\n",
       "  <thead>\n",
       "    <tr style=\"text-align: right;\">\n",
       "      <th></th>\n",
       "      <th>Pregnancies</th>\n",
       "      <th>Glucose</th>\n",
       "      <th>BloodPressure</th>\n",
       "      <th>SkinThickness</th>\n",
       "      <th>Insulin</th>\n",
       "      <th>BMI</th>\n",
       "      <th>DiabetesPedigreeFunction</th>\n",
       "      <th>Age</th>\n",
       "      <th>Outcome</th>\n",
       "    </tr>\n",
       "  </thead>\n",
       "  <tbody>\n",
       "    <tr>\n",
       "      <th>count</th>\n",
       "      <td>768.000000</td>\n",
       "      <td>768.000000</td>\n",
       "      <td>768.000000</td>\n",
       "      <td>768.000000</td>\n",
       "      <td>768.000000</td>\n",
       "      <td>768.000000</td>\n",
       "      <td>768.000000</td>\n",
       "      <td>768.000000</td>\n",
       "      <td>768.000000</td>\n",
       "    </tr>\n",
       "    <tr>\n",
       "      <th>mean</th>\n",
       "      <td>3.845052</td>\n",
       "      <td>121.681605</td>\n",
       "      <td>72.254807</td>\n",
       "      <td>26.606479</td>\n",
       "      <td>94.652344</td>\n",
       "      <td>32.450805</td>\n",
       "      <td>0.471876</td>\n",
       "      <td>33.240885</td>\n",
       "      <td>0.348958</td>\n",
       "    </tr>\n",
       "    <tr>\n",
       "      <th>std</th>\n",
       "      <td>3.369578</td>\n",
       "      <td>30.436016</td>\n",
       "      <td>12.115932</td>\n",
       "      <td>9.631241</td>\n",
       "      <td>105.547598</td>\n",
       "      <td>6.875374</td>\n",
       "      <td>0.331329</td>\n",
       "      <td>11.760232</td>\n",
       "      <td>0.476951</td>\n",
       "    </tr>\n",
       "    <tr>\n",
       "      <th>min</th>\n",
       "      <td>0.000000</td>\n",
       "      <td>44.000000</td>\n",
       "      <td>24.000000</td>\n",
       "      <td>7.000000</td>\n",
       "      <td>14.000000</td>\n",
       "      <td>18.200000</td>\n",
       "      <td>0.078000</td>\n",
       "      <td>21.000000</td>\n",
       "      <td>0.000000</td>\n",
       "    </tr>\n",
       "    <tr>\n",
       "      <th>25%</th>\n",
       "      <td>1.000000</td>\n",
       "      <td>99.750000</td>\n",
       "      <td>64.000000</td>\n",
       "      <td>20.536458</td>\n",
       "      <td>30.500000</td>\n",
       "      <td>27.500000</td>\n",
       "      <td>0.243750</td>\n",
       "      <td>24.000000</td>\n",
       "      <td>0.000000</td>\n",
       "    </tr>\n",
       "    <tr>\n",
       "      <th>50%</th>\n",
       "      <td>3.000000</td>\n",
       "      <td>117.000000</td>\n",
       "      <td>72.000000</td>\n",
       "      <td>23.000000</td>\n",
       "      <td>31.250000</td>\n",
       "      <td>32.000000</td>\n",
       "      <td>0.372500</td>\n",
       "      <td>29.000000</td>\n",
       "      <td>0.000000</td>\n",
       "    </tr>\n",
       "    <tr>\n",
       "      <th>75%</th>\n",
       "      <td>6.000000</td>\n",
       "      <td>140.250000</td>\n",
       "      <td>80.000000</td>\n",
       "      <td>32.000000</td>\n",
       "      <td>127.250000</td>\n",
       "      <td>36.600000</td>\n",
       "      <td>0.626250</td>\n",
       "      <td>41.000000</td>\n",
       "      <td>1.000000</td>\n",
       "    </tr>\n",
       "    <tr>\n",
       "      <th>max</th>\n",
       "      <td>17.000000</td>\n",
       "      <td>199.000000</td>\n",
       "      <td>122.000000</td>\n",
       "      <td>99.000000</td>\n",
       "      <td>846.000000</td>\n",
       "      <td>67.100000</td>\n",
       "      <td>2.420000</td>\n",
       "      <td>81.000000</td>\n",
       "      <td>1.000000</td>\n",
       "    </tr>\n",
       "  </tbody>\n",
       "</table>\n",
       "</div>"
      ],
      "text/plain": [
       "       Pregnancies     Glucose  BloodPressure  SkinThickness     Insulin  \\\n",
       "count   768.000000  768.000000     768.000000     768.000000  768.000000   \n",
       "mean      3.845052  121.681605      72.254807      26.606479   94.652344   \n",
       "std       3.369578   30.436016      12.115932       9.631241  105.547598   \n",
       "min       0.000000   44.000000      24.000000       7.000000   14.000000   \n",
       "25%       1.000000   99.750000      64.000000      20.536458   30.500000   \n",
       "50%       3.000000  117.000000      72.000000      23.000000   31.250000   \n",
       "75%       6.000000  140.250000      80.000000      32.000000  127.250000   \n",
       "max      17.000000  199.000000     122.000000      99.000000  846.000000   \n",
       "\n",
       "              BMI  DiabetesPedigreeFunction         Age     Outcome  \n",
       "count  768.000000                768.000000  768.000000  768.000000  \n",
       "mean    32.450805                  0.471876   33.240885    0.348958  \n",
       "std      6.875374                  0.331329   11.760232    0.476951  \n",
       "min     18.200000                  0.078000   21.000000    0.000000  \n",
       "25%     27.500000                  0.243750   24.000000    0.000000  \n",
       "50%     32.000000                  0.372500   29.000000    0.000000  \n",
       "75%     36.600000                  0.626250   41.000000    1.000000  \n",
       "max     67.100000                  2.420000   81.000000    1.000000  "
      ]
     },
     "execution_count": 6,
     "metadata": {},
     "output_type": "execute_result"
    }
   ],
   "source": [
    "data.describe()"
   ]
  },
  {
   "cell_type": "code",
   "execution_count": 7,
   "id": "f7ef45ac",
   "metadata": {},
   "outputs": [
    {
     "data": {
      "text/plain": [
       "<AxesSubplot:>"
      ]
     },
     "execution_count": 7,
     "metadata": {},
     "output_type": "execute_result"
    },
    {
     "data": {
      "image/png": "[encoded data removed]",
      "text/plain": [
       "<Figure size 1500x1000 with 1 Axes>"
      ]
     },
     "metadata": {},
     "output_type": "display_data"
    }
   ],
   "source": [
    "# let's check the outliers\n",
    "fig, ax = plt.subplots(figsize=(15,10))\n",
    "sns.boxplot(data=data, width= 0.5,ax=ax,  fliersize=3)"
   ]
  },
  {
   "cell_type": "code",
   "execution_count": 8,
   "id": "0b665e33",
   "metadata": {},
   "outputs": [
    {
     "data": {
      "text/html": [
       "<div>\n",
       "<style scoped>\n",
       "    .dataframe tbody tr th:only-of-type {\n",
       "        vertical-align: middle;\n",
       "    }\n",
       "\n",
       "    .dataframe tbody tr th {\n",
       "        vertical-align: top;\n",
       "    }\n",
       "\n",
       "    .dataframe thead th {\n",
       "        text-align: right;\n",
       "    }\n",
       "</style>\n",
       "<table border=\"1\" class=\"dataframe\">\n",
       "  <thead>\n",
       "    <tr style=\"text-align: right;\">\n",
       "      <th></th>\n",
       "      <th>Pregnancies</th>\n",
       "      <th>Glucose</th>\n",
       "      <th>BloodPressure</th>\n",
       "      <th>SkinThickness</th>\n",
       "      <th>Insulin</th>\n",
       "      <th>BMI</th>\n",
       "      <th>DiabetesPedigreeFunction</th>\n",
       "      <th>Age</th>\n",
       "      <th>Outcome</th>\n",
       "    </tr>\n",
       "  </thead>\n",
       "  <tbody>\n",
       "    <tr>\n",
       "      <th>0</th>\n",
       "      <td>6</td>\n",
       "      <td>148.0</td>\n",
       "      <td>72.0</td>\n",
       "      <td>35.000000</td>\n",
       "      <td>30.5</td>\n",
       "      <td>33.6</td>\n",
       "      <td>0.627</td>\n",
       "      <td>50</td>\n",
       "      <td>1</td>\n",
       "    </tr>\n",
       "    <tr>\n",
       "      <th>1</th>\n",
       "      <td>1</td>\n",
       "      <td>85.0</td>\n",
       "      <td>66.0</td>\n",
       "      <td>29.000000</td>\n",
       "      <td>30.5</td>\n",
       "      <td>26.6</td>\n",
       "      <td>0.351</td>\n",
       "      <td>31</td>\n",
       "      <td>0</td>\n",
       "    </tr>\n",
       "    <tr>\n",
       "      <th>2</th>\n",
       "      <td>8</td>\n",
       "      <td>183.0</td>\n",
       "      <td>64.0</td>\n",
       "      <td>20.536458</td>\n",
       "      <td>30.5</td>\n",
       "      <td>23.3</td>\n",
       "      <td>0.672</td>\n",
       "      <td>32</td>\n",
       "      <td>1</td>\n",
       "    </tr>\n",
       "    <tr>\n",
       "      <th>3</th>\n",
       "      <td>1</td>\n",
       "      <td>89.0</td>\n",
       "      <td>66.0</td>\n",
       "      <td>23.000000</td>\n",
       "      <td>94.0</td>\n",
       "      <td>28.1</td>\n",
       "      <td>0.167</td>\n",
       "      <td>21</td>\n",
       "      <td>0</td>\n",
       "    </tr>\n",
       "    <tr>\n",
       "      <th>4</th>\n",
       "      <td>0</td>\n",
       "      <td>137.0</td>\n",
       "      <td>40.0</td>\n",
       "      <td>35.000000</td>\n",
       "      <td>168.0</td>\n",
       "      <td>43.1</td>\n",
       "      <td>2.288</td>\n",
       "      <td>33</td>\n",
       "      <td>1</td>\n",
       "    </tr>\n",
       "  </tbody>\n",
       "</table>\n",
       "</div>"
      ],
      "text/plain": [
       "   Pregnancies  Glucose  BloodPressure  SkinThickness  Insulin   BMI  \\\n",
       "0            6    148.0           72.0      35.000000     30.5  33.6   \n",
       "1            1     85.0           66.0      29.000000     30.5  26.6   \n",
       "2            8    183.0           64.0      20.536458     30.5  23.3   \n",
       "3            1     89.0           66.0      23.000000     94.0  28.1   \n",
       "4            0    137.0           40.0      35.000000    168.0  43.1   \n",
       "\n",
       "   DiabetesPedigreeFunction  Age  Outcome  \n",
       "0                     0.627   50        1  \n",
       "1                     0.351   31        0  \n",
       "2                     0.672   32        1  \n",
       "3                     0.167   21        0  \n",
       "4                     2.288   33        1  "
      ]
     },
     "execution_count": 8,
     "metadata": {},
     "output_type": "execute_result"
    }
   ],
   "source": [
    "data.head()"
   ]
  },
  {
   "cell_type": "markdown",
   "id": "5a5f35f5",
   "metadata": {},
   "source": [
    "---"
   ]
  },
  {
   "cell_type": "markdown",
   "id": "d9ed68c0",
   "metadata": {},
   "source": [
    "## <font color='blue'> 3. Segergate independent and dependent features"
   ]
  },
  {
   "cell_type": "code",
   "execution_count": 9,
   "id": "db96777a",
   "metadata": {},
   "outputs": [],
   "source": [
    "# x will be my independent features\n",
    "x = data.iloc[:,:-1]\n",
    "\n",
    "# y will be my dependent features\n",
    "y = data.iloc[:,-1]"
   ]
  },
  {
   "cell_type": "markdown",
   "id": "afff877d",
   "metadata": {},
   "source": [
    "---"
   ]
  },
  {
   "cell_type": "markdown",
   "id": "c59f0811",
   "metadata": {},
   "source": [
    "## <font color='blue'> 4. Train Test Split"
   ]
  },
  {
   "cell_type": "code",
   "execution_count": 10,
   "id": "c1d4ad21",
   "metadata": {},
   "outputs": [],
   "source": [
    "x_train, x_test, y_train, y_test = train_test_split(x,y,test_size = 0.25,random_state = 0)"
   ]
  },
  {
   "cell_type": "markdown",
   "id": "23105265",
   "metadata": {},
   "source": [
    "---"
   ]
  },
  {
   "cell_type": "markdown",
   "id": "f0d77fcc",
   "metadata": {},
   "source": [
    "## <font color='blue'> 5. Standardization\n",
    "    We also save 'scaler' pickle file into model folder"
   ]
  },
  {
   "cell_type": "code",
   "execution_count": 11,
   "id": "dcb4a8a9",
   "metadata": {},
   "outputs": [],
   "source": [
    "def scaler_standard(x_train,x_test):\n",
    "    # scaling data\n",
    "    scaler = StandardScaler()\n",
    "    x_train_scaled = scaler.fit_transform(x_train)\n",
    "    x_test_scaled = scaler.transform(x_test)\n",
    "    \n",
    "    # saving scaler as pickle file\n",
    "    file = open('..\\model\\StandardScaler.pkl','wb')\n",
    "    pickle.dump(scaler,file)\n",
    "    file.close()\n",
    "    \n",
    "    return x_train_scaled, x_test_scaled"
   ]
  },
  {
   "cell_type": "code",
   "execution_count": 12,
   "id": "4009c76e",
   "metadata": {},
   "outputs": [],
   "source": [
    "x_train_scaled, x_test_scaled = scaler_standard(x_train,x_test)"
   ]
  },
  {
   "cell_type": "markdown",
   "id": "474b5794",
   "metadata": {},
   "source": [
    "---"
   ]
  },
  {
   "cell_type": "markdown",
   "id": "138ff611",
   "metadata": {},
   "source": [
    "## <font color='blue'> 6. Decision Tree Model Training with Hyperparameter Tuning"
   ]
  },
  {
   "cell_type": "code",
   "execution_count": 13,
   "id": "a8e99db4",
   "metadata": {},
   "outputs": [],
   "source": [
    "import warnings \n",
    "warnings.filterwarnings('ignore')"
   ]
  },
  {
   "cell_type": "code",
   "execution_count": 14,
   "id": "f84114bb",
   "metadata": {},
   "outputs": [],
   "source": [
    "parameter={\n",
    " 'criterion':['gini','entropy','log_loss'],\n",
    "  'splitter':['best','random'],\n",
    "  'max_depth':[1,2,3,4,5],\n",
    "  'max_features':['auto', 'sqrt', 'log2']    \n",
    "}"
   ]
  },
  {
   "cell_type": "code",
   "execution_count": 15,
   "id": "144218af",
   "metadata": {},
   "outputs": [
    {
     "name": "stdout",
     "output_type": "stream",
     "text": [
      "Fitting 3 folds for each of 90 candidates, totalling 270 fits\n",
      "[CV 1/3] END criterion=gini, max_depth=1, max_features=auto, splitter=best;, score=0.646 total time=   0.0s\n",
      "[CV 2/3] END criterion=gini, max_depth=1, max_features=auto, splitter=best;, score=0.703 total time=   0.0s\n",
      "[CV 3/3] END criterion=gini, max_depth=1, max_features=auto, splitter=best;, score=0.641 total time=   0.0s\n",
      "[CV 1/3] END criterion=gini, max_depth=1, max_features=auto, splitter=random;, score=0.646 total time=   0.0s\n",
      "[CV 2/3] END criterion=gini, max_depth=1, max_features=auto, splitter=random;, score=0.698 total time=   0.0s\n",
      "[CV 3/3] END criterion=gini, max_depth=1, max_features=auto, splitter=random;, score=0.641 total time=   0.0s\n",
      "[CV 1/3] END criterion=gini, max_depth=1, max_features=sqrt, splitter=best;, score=0.708 total time=   0.0s\n",
      "[CV 2/3] END criterion=gini, max_depth=1, max_features=sqrt, splitter=best;, score=0.635 total time=   0.0s\n",
      "[CV 3/3] END criterion=gini, max_depth=1, max_features=sqrt, splitter=best;, score=0.688 total time=   0.0s\n",
      "[CV 1/3] END criterion=gini, max_depth=1, max_features=sqrt, splitter=random;, score=0.646 total time=   0.0s\n",
      "[CV 2/3] END criterion=gini, max_depth=1, max_features=sqrt, splitter=random;, score=0.641 total time=   0.0s\n",
      "[CV 3/3] END criterion=gini, max_depth=1, max_features=sqrt, splitter=random;, score=0.641 total time=   0.0s\n",
      "[CV 1/3] END criterion=gini, max_depth=1, max_features=log2, splitter=best;, score=0.646 total time=   0.0s\n",
      "[CV 2/3] END criterion=gini, max_depth=1, max_features=log2, splitter=best;, score=0.698 total time=   0.0s\n",
      "[CV 3/3] END criterion=gini, max_depth=1, max_features=log2, splitter=best;, score=0.688 total time=   0.0s\n",
      "[CV 1/3] END criterion=gini, max_depth=1, max_features=log2, splitter=random;, score=0.646 total time=   0.0s\n",
      "[CV 2/3] END criterion=gini, max_depth=1, max_features=log2, splitter=random;, score=0.651 total time=   0.0s\n",
      "[CV 3/3] END criterion=gini, max_depth=1, max_features=log2, splitter=random;, score=0.661 total time=   0.0s\n",
      "[CV 1/3] END criterion=gini, max_depth=2, max_features=auto, splitter=best;, score=0.708 total time=   0.0s\n",
      "[CV 2/3] END criterion=gini, max_depth=2, max_features=auto, splitter=best;, score=0.677 total time=   0.0s\n",
      "[CV 3/3] END criterion=gini, max_depth=2, max_features=auto, splitter=best;, score=0.693 total time=   0.0s\n",
      "[CV 1/3] END criterion=gini, max_depth=2, max_features=auto, splitter=random;, score=0.651 total time=   0.0s\n",
      "[CV 2/3] END criterion=gini, max_depth=2, max_features=auto, splitter=random;, score=0.646 total time=   0.0s\n",
      "[CV 3/3] END criterion=gini, max_depth=2, max_features=auto, splitter=random;, score=0.667 total time=   0.0s\n",
      "[CV 1/3] END criterion=gini, max_depth=2, max_features=sqrt, splitter=best;, score=0.708 total time=   0.0s\n",
      "[CV 2/3] END criterion=gini, max_depth=2, max_features=sqrt, splitter=best;, score=0.646 total time=   0.0s\n",
      "[CV 3/3] END criterion=gini, max_depth=2, max_features=sqrt, splitter=best;, score=0.661 total time=   0.0s\n",
      "[CV 1/3] END criterion=gini, max_depth=2, max_features=sqrt, splitter=random;, score=0.646 total time=   0.0s\n",
      "[CV 2/3] END criterion=gini, max_depth=2, max_features=sqrt, splitter=random;, score=0.646 total time=   0.0s\n",
      "[CV 3/3] END criterion=gini, max_depth=2, max_features=sqrt, splitter=random;, score=0.641 total time=   0.0s\n",
      "[CV 1/3] END criterion=gini, max_depth=2, max_features=log2, splitter=best;, score=0.745 total time=   0.0s\n",
      "[CV 2/3] END criterion=gini, max_depth=2, max_features=log2, splitter=best;, score=0.703 total time=   0.0s\n",
      "[CV 3/3] END criterion=gini, max_depth=2, max_features=log2, splitter=best;, score=0.693 total time=   0.0s\n",
      "[CV 1/3] END criterion=gini, max_depth=2, max_features=log2, splitter=random;, score=0.646 total time=   0.0s\n",
      "[CV 2/3] END criterion=gini, max_depth=2, max_features=log2, splitter=random;, score=0.656 total time=   0.0s\n",
      "[CV 3/3] END criterion=gini, max_depth=2, max_features=log2, splitter=random;, score=0.661 total time=   0.0s\n",
      "[CV 1/3] END criterion=gini, max_depth=3, max_features=auto, splitter=best;, score=0.750 total time=   0.0s\n",
      "[CV 2/3] END criterion=gini, max_depth=3, max_features=auto, splitter=best;, score=0.656 total time=   0.0s\n",
      "[CV 3/3] END criterion=gini, max_depth=3, max_features=auto, splitter=best;, score=0.677 total time=   0.0s\n",
      "[CV 1/3] END criterion=gini, max_depth=3, max_features=auto, splitter=random;, score=0.656 total time=   0.0s\n",
      "[CV 2/3] END criterion=gini, max_depth=3, max_features=auto, splitter=random;, score=0.760 total time=   0.0s\n",
      "[CV 3/3] END criterion=gini, max_depth=3, max_features=auto, splitter=random;, score=0.646 total time=   0.0s\n",
      "[CV 1/3] END criterion=gini, max_depth=3, max_features=sqrt, splitter=best;, score=0.698 total time=   0.0s\n",
      "[CV 2/3] END criterion=gini, max_depth=3, max_features=sqrt, splitter=best;, score=0.740 total time=   0.0s\n",
      "[CV 3/3] END criterion=gini, max_depth=3, max_features=sqrt, splitter=best;, score=0.698 total time=   0.0s\n",
      "[CV 1/3] END criterion=gini, max_depth=3, max_features=sqrt, splitter=random;, score=0.630 total time=   0.0s\n",
      "[CV 2/3] END criterion=gini, max_depth=3, max_features=sqrt, splitter=random;, score=0.688 total time=   0.0s\n",
      "[CV 3/3] END criterion=gini, max_depth=3, max_features=sqrt, splitter=random;, score=0.641 total time=   0.0s\n",
      "[CV 1/3] END criterion=gini, max_depth=3, max_features=log2, splitter=best;, score=0.714 total time=   0.0s\n",
      "[CV 2/3] END criterion=gini, max_depth=3, max_features=log2, splitter=best;, score=0.672 total time=   0.0s\n",
      "[CV 3/3] END criterion=gini, max_depth=3, max_features=log2, splitter=best;, score=0.719 total time=   0.0s\n",
      "[CV 1/3] END criterion=gini, max_depth=3, max_features=log2, splitter=random;, score=0.724 total time=   0.0s\n",
      "[CV 2/3] END criterion=gini, max_depth=3, max_features=log2, splitter=random;, score=0.620 total time=   0.0s\n",
      "[CV 3/3] END criterion=gini, max_depth=3, max_features=log2, splitter=random;, score=0.667 total time=   0.0s\n",
      "[CV 1/3] END criterion=gini, max_depth=4, max_features=auto, splitter=best;, score=0.646 total time=   0.0s\n",
      "[CV 2/3] END criterion=gini, max_depth=4, max_features=auto, splitter=best;, score=0.760 total time=   0.0s\n",
      "[CV 3/3] END criterion=gini, max_depth=4, max_features=auto, splitter=best;, score=0.719 total time=   0.0s\n",
      "[CV 1/3] END criterion=gini, max_depth=4, max_features=auto, splitter=random;, score=0.677 total time=   0.0s\n",
      "[CV 2/3] END criterion=gini, max_depth=4, max_features=auto, splitter=random;, score=0.656 total time=   0.0s\n",
      "[CV 3/3] END criterion=gini, max_depth=4, max_features=auto, splitter=random;, score=0.630 total time=   0.0s\n",
      "[CV 1/3] END criterion=gini, max_depth=4, max_features=sqrt, splitter=best;, score=0.714 total time=   0.0s\n",
      "[CV 2/3] END criterion=gini, max_depth=4, max_features=sqrt, splitter=best;, score=0.682 total time=   0.0s\n",
      "[CV 3/3] END criterion=gini, max_depth=4, max_features=sqrt, splitter=best;, score=0.677 total time=   0.0s\n",
      "[CV 1/3] END criterion=gini, max_depth=4, max_features=sqrt, splitter=random;, score=0.682 total time=   0.0s\n",
      "[CV 2/3] END criterion=gini, max_depth=4, max_features=sqrt, splitter=random;, score=0.667 total time=   0.0s\n",
      "[CV 3/3] END criterion=gini, max_depth=4, max_features=sqrt, splitter=random;, score=0.693 total time=   0.0s\n",
      "[CV 1/3] END criterion=gini, max_depth=4, max_features=log2, splitter=best;, score=0.729 total time=   0.0s\n",
      "[CV 2/3] END criterion=gini, max_depth=4, max_features=log2, splitter=best;, score=0.760 total time=   0.0s\n",
      "[CV 3/3] END criterion=gini, max_depth=4, max_features=log2, splitter=best;, score=0.714 total time=   0.0s\n",
      "[CV 1/3] END criterion=gini, max_depth=4, max_features=log2, splitter=random;, score=0.656 total time=   0.0s\n",
      "[CV 2/3] END criterion=gini, max_depth=4, max_features=log2, splitter=random;, score=0.729 total time=   0.0s\n",
      "[CV 3/3] END criterion=gini, max_depth=4, max_features=log2, splitter=random;, score=0.688 total time=   0.0s\n",
      "[CV 1/3] END criterion=gini, max_depth=5, max_features=auto, splitter=best;, score=0.708 total time=   0.0s\n",
      "[CV 2/3] END criterion=gini, max_depth=5, max_features=auto, splitter=best;, score=0.724 total time=   0.0s\n",
      "[CV 3/3] END criterion=gini, max_depth=5, max_features=auto, splitter=best;, score=0.714 total time=   0.0s\n",
      "[CV 1/3] END criterion=gini, max_depth=5, max_features=auto, splitter=random;, score=0.734 total time=   0.0s\n",
      "[CV 2/3] END criterion=gini, max_depth=5, max_features=auto, splitter=random;, score=0.682 total time=   0.0s\n",
      "[CV 3/3] END criterion=gini, max_depth=5, max_features=auto, splitter=random;, score=0.703 total time=   0.0s\n",
      "[CV 1/3] END criterion=gini, max_depth=5, max_features=sqrt, splitter=best;, score=0.604 total time=   0.0s\n",
      "[CV 2/3] END criterion=gini, max_depth=5, max_features=sqrt, splitter=best;, score=0.724 total time=   0.0s\n",
      "[CV 3/3] END criterion=gini, max_depth=5, max_features=sqrt, splitter=best;, score=0.688 total time=   0.0s\n",
      "[CV 1/3] END criterion=gini, max_depth=5, max_features=sqrt, splitter=random;, score=0.724 total time=   0.0s\n",
      "[CV 2/3] END criterion=gini, max_depth=5, max_features=sqrt, splitter=random;, score=0.703 total time=   0.0s\n",
      "[CV 3/3] END criterion=gini, max_depth=5, max_features=sqrt, splitter=random;, score=0.688 total time=   0.0s\n",
      "[CV 1/3] END criterion=gini, max_depth=5, max_features=log2, splitter=best;, score=0.724 total time=   0.0s\n",
      "[CV 2/3] END criterion=gini, max_depth=5, max_features=log2, splitter=best;, score=0.734 total time=   0.0s\n",
      "[CV 3/3] END criterion=gini, max_depth=5, max_features=log2, splitter=best;, score=0.703 total time=   0.0s\n",
      "[CV 1/3] END criterion=gini, max_depth=5, max_features=log2, splitter=random;, score=0.635 total time=   0.0s\n",
      "[CV 2/3] END criterion=gini, max_depth=5, max_features=log2, splitter=random;, score=0.698 total time=   0.0s\n",
      "[CV 3/3] END criterion=gini, max_depth=5, max_features=log2, splitter=random;, score=0.672 total time=   0.0s\n",
      "[CV 1/3] END criterion=entropy, max_depth=1, max_features=auto, splitter=best;, score=0.646 total time=   0.0s\n",
      "[CV 2/3] END criterion=entropy, max_depth=1, max_features=auto, splitter=best;, score=0.641 total time=   0.0s\n",
      "[CV 3/3] END criterion=entropy, max_depth=1, max_features=auto, splitter=best;, score=0.641 total time=   0.0s\n",
      "[CV 1/3] END criterion=entropy, max_depth=1, max_features=auto, splitter=random;, score=0.646 total time=   0.0s\n",
      "[CV 2/3] END criterion=entropy, max_depth=1, max_features=auto, splitter=random;, score=0.583 total time=   0.0s\n",
      "[CV 3/3] END criterion=entropy, max_depth=1, max_features=auto, splitter=random;, score=0.641 total time=   0.0s\n",
      "[CV 1/3] END criterion=entropy, max_depth=1, max_features=sqrt, splitter=best;, score=0.646 total time=   0.0s\n",
      "[CV 2/3] END criterion=entropy, max_depth=1, max_features=sqrt, splitter=best;, score=0.641 total time=   0.0s\n",
      "[CV 3/3] END criterion=entropy, max_depth=1, max_features=sqrt, splitter=best;, score=0.641 total time=   0.0s\n",
      "[CV 1/3] END criterion=entropy, max_depth=1, max_features=sqrt, splitter=random;, score=0.641 total time=   0.0s\n",
      "[CV 2/3] END criterion=entropy, max_depth=1, max_features=sqrt, splitter=random;, score=0.641 total time=   0.0s\n",
      "[CV 3/3] END criterion=entropy, max_depth=1, max_features=sqrt, splitter=random;, score=0.641 total time=   0.0s\n",
      "[CV 1/3] END criterion=entropy, max_depth=1, max_features=log2, splitter=best;, score=0.646 total time=   0.0s\n",
      "[CV 2/3] END criterion=entropy, max_depth=1, max_features=log2, splitter=best;, score=0.703 total time=   0.0s\n",
      "[CV 3/3] END criterion=entropy, max_depth=1, max_features=log2, splitter=best;, score=0.641 total time=   0.0s\n",
      "[CV 1/3] END criterion=entropy, max_depth=1, max_features=log2, splitter=random;, score=0.693 total time=   0.0s\n",
      "[CV 2/3] END criterion=entropy, max_depth=1, max_features=log2, splitter=random;, score=0.641 total time=   0.0s\n",
      "[CV 3/3] END criterion=entropy, max_depth=1, max_features=log2, splitter=random;, score=0.635 total time=   0.0s\n",
      "[CV 1/3] END criterion=entropy, max_depth=2, max_features=auto, splitter=best;, score=0.714 total time=   0.0s\n",
      "[CV 2/3] END criterion=entropy, max_depth=2, max_features=auto, splitter=best;, score=0.651 total time=   0.0s\n",
      "[CV 3/3] END criterion=entropy, max_depth=2, max_features=auto, splitter=best;, score=0.635 total time=   0.0s\n",
      "[CV 1/3] END criterion=entropy, max_depth=2, max_features=auto, splitter=random;, score=0.604 total time=   0.0s\n",
      "[CV 2/3] END criterion=entropy, max_depth=2, max_features=auto, splitter=random;, score=0.620 total time=   0.0s\n",
      "[CV 3/3] END criterion=entropy, max_depth=2, max_features=auto, splitter=random;, score=0.651 total time=   0.0s\n",
      "[CV 1/3] END criterion=entropy, max_depth=2, max_features=sqrt, splitter=best;, score=0.625 total time=   0.0s\n",
      "[CV 2/3] END criterion=entropy, max_depth=2, max_features=sqrt, splitter=best;, score=0.688 total time=   0.0s\n",
      "[CV 3/3] END criterion=entropy, max_depth=2, max_features=sqrt, splitter=best;, score=0.703 total time=   0.0s\n",
      "[CV 1/3] END criterion=entropy, max_depth=2, max_features=sqrt, splitter=random;, score=0.646 total time=   0.0s\n"
     ]
    },
    {
     "name": "stdout",
     "output_type": "stream",
     "text": [
      "[CV 2/3] END criterion=entropy, max_depth=2, max_features=sqrt, splitter=random;, score=0.677 total time=   0.0s\n",
      "[CV 3/3] END criterion=entropy, max_depth=2, max_features=sqrt, splitter=random;, score=0.641 total time=   0.0s\n",
      "[CV 1/3] END criterion=entropy, max_depth=2, max_features=log2, splitter=best;, score=0.745 total time=   0.0s\n",
      "[CV 2/3] END criterion=entropy, max_depth=2, max_features=log2, splitter=best;, score=0.724 total time=   0.0s\n",
      "[CV 3/3] END criterion=entropy, max_depth=2, max_features=log2, splitter=best;, score=0.688 total time=   0.0s\n",
      "[CV 1/3] END criterion=entropy, max_depth=2, max_features=log2, splitter=random;, score=0.646 total time=   0.0s\n",
      "[CV 2/3] END criterion=entropy, max_depth=2, max_features=log2, splitter=random;, score=0.615 total time=   0.0s\n",
      "[CV 3/3] END criterion=entropy, max_depth=2, max_features=log2, splitter=random;, score=0.641 total time=   0.0s\n",
      "[CV 1/3] END criterion=entropy, max_depth=3, max_features=auto, splitter=best;, score=0.719 total time=   0.0s\n",
      "[CV 2/3] END criterion=entropy, max_depth=3, max_features=auto, splitter=best;, score=0.703 total time=   0.0s\n",
      "[CV 3/3] END criterion=entropy, max_depth=3, max_features=auto, splitter=best;, score=0.719 total time=   0.0s\n",
      "[CV 1/3] END criterion=entropy, max_depth=3, max_features=auto, splitter=random;, score=0.661 total time=   0.0s\n",
      "[CV 2/3] END criterion=entropy, max_depth=3, max_features=auto, splitter=random;, score=0.703 total time=   0.0s\n",
      "[CV 3/3] END criterion=entropy, max_depth=3, max_features=auto, splitter=random;, score=0.667 total time=   0.0s\n",
      "[CV 1/3] END criterion=entropy, max_depth=3, max_features=sqrt, splitter=best;, score=0.708 total time=   0.0s\n",
      "[CV 2/3] END criterion=entropy, max_depth=3, max_features=sqrt, splitter=best;, score=0.703 total time=   0.0s\n",
      "[CV 3/3] END criterion=entropy, max_depth=3, max_features=sqrt, splitter=best;, score=0.641 total time=   0.0s\n",
      "[CV 1/3] END criterion=entropy, max_depth=3, max_features=sqrt, splitter=random;, score=0.745 total time=   0.0s\n",
      "[CV 2/3] END criterion=entropy, max_depth=3, max_features=sqrt, splitter=random;, score=0.714 total time=   0.0s\n",
      "[CV 3/3] END criterion=entropy, max_depth=3, max_features=sqrt, splitter=random;, score=0.646 total time=   0.0s\n",
      "[CV 1/3] END criterion=entropy, max_depth=3, max_features=log2, splitter=best;, score=0.714 total time=   0.0s\n",
      "[CV 2/3] END criterion=entropy, max_depth=3, max_features=log2, splitter=best;, score=0.698 total time=   0.0s\n",
      "[CV 3/3] END criterion=entropy, max_depth=3, max_features=log2, splitter=best;, score=0.708 total time=   0.0s\n",
      "[CV 1/3] END criterion=entropy, max_depth=3, max_features=log2, splitter=random;, score=0.625 total time=   0.0s\n",
      "[CV 2/3] END criterion=entropy, max_depth=3, max_features=log2, splitter=random;, score=0.729 total time=   0.0s\n",
      "[CV 3/3] END criterion=entropy, max_depth=3, max_features=log2, splitter=random;, score=0.641 total time=   0.0s\n",
      "[CV 1/3] END criterion=entropy, max_depth=4, max_features=auto, splitter=best;, score=0.688 total time=   0.0s\n",
      "[CV 2/3] END criterion=entropy, max_depth=4, max_features=auto, splitter=best;, score=0.724 total time=   0.0s\n",
      "[CV 3/3] END criterion=entropy, max_depth=4, max_features=auto, splitter=best;, score=0.693 total time=   0.0s\n",
      "[CV 1/3] END criterion=entropy, max_depth=4, max_features=auto, splitter=random;, score=0.646 total time=   0.0s\n",
      "[CV 2/3] END criterion=entropy, max_depth=4, max_features=auto, splitter=random;, score=0.661 total time=   0.0s\n",
      "[CV 3/3] END criterion=entropy, max_depth=4, max_features=auto, splitter=random;, score=0.661 total time=   0.0s\n",
      "[CV 1/3] END criterion=entropy, max_depth=4, max_features=sqrt, splitter=best;, score=0.698 total time=   0.0s\n",
      "[CV 2/3] END criterion=entropy, max_depth=4, max_features=sqrt, splitter=best;, score=0.656 total time=   0.0s\n",
      "[CV 3/3] END criterion=entropy, max_depth=4, max_features=sqrt, splitter=best;, score=0.677 total time=   0.0s\n",
      "[CV 1/3] END criterion=entropy, max_depth=4, max_features=sqrt, splitter=random;, score=0.693 total time=   0.0s\n",
      "[CV 2/3] END criterion=entropy, max_depth=4, max_features=sqrt, splitter=random;, score=0.703 total time=   0.0s\n",
      "[CV 3/3] END criterion=entropy, max_depth=4, max_features=sqrt, splitter=random;, score=0.677 total time=   0.0s\n",
      "[CV 1/3] END criterion=entropy, max_depth=4, max_features=log2, splitter=best;, score=0.724 total time=   0.0s\n",
      "[CV 2/3] END criterion=entropy, max_depth=4, max_features=log2, splitter=best;, score=0.776 total time=   0.0s\n",
      "[CV 3/3] END criterion=entropy, max_depth=4, max_features=log2, splitter=best;, score=0.703 total time=   0.0s\n",
      "[CV 1/3] END criterion=entropy, max_depth=4, max_features=log2, splitter=random;, score=0.734 total time=   0.0s\n",
      "[CV 2/3] END criterion=entropy, max_depth=4, max_features=log2, splitter=random;, score=0.734 total time=   0.0s\n",
      "[CV 3/3] END criterion=entropy, max_depth=4, max_features=log2, splitter=random;, score=0.693 total time=   0.0s\n",
      "[CV 1/3] END criterion=entropy, max_depth=5, max_features=auto, splitter=best;, score=0.698 total time=   0.0s\n",
      "[CV 2/3] END criterion=entropy, max_depth=5, max_features=auto, splitter=best;, score=0.703 total time=   0.0s\n",
      "[CV 3/3] END criterion=entropy, max_depth=5, max_features=auto, splitter=best;, score=0.698 total time=   0.0s\n",
      "[CV 1/3] END criterion=entropy, max_depth=5, max_features=auto, splitter=random;, score=0.646 total time=   0.0s\n",
      "[CV 2/3] END criterion=entropy, max_depth=5, max_features=auto, splitter=random;, score=0.688 total time=   0.0s\n",
      "[CV 3/3] END criterion=entropy, max_depth=5, max_features=auto, splitter=random;, score=0.661 total time=   0.0s\n",
      "[CV 1/3] END criterion=entropy, max_depth=5, max_features=sqrt, splitter=best;, score=0.651 total time=   0.0s\n",
      "[CV 2/3] END criterion=entropy, max_depth=5, max_features=sqrt, splitter=best;, score=0.714 total time=   0.0s\n",
      "[CV 3/3] END criterion=entropy, max_depth=5, max_features=sqrt, splitter=best;, score=0.698 total time=   0.0s\n",
      "[CV 1/3] END criterion=entropy, max_depth=5, max_features=sqrt, splitter=random;, score=0.635 total time=   0.0s\n",
      "[CV 2/3] END criterion=entropy, max_depth=5, max_features=sqrt, splitter=random;, score=0.745 total time=   0.0s\n",
      "[CV 3/3] END criterion=entropy, max_depth=5, max_features=sqrt, splitter=random;, score=0.646 total time=   0.0s\n",
      "[CV 1/3] END criterion=entropy, max_depth=5, max_features=log2, splitter=best;, score=0.719 total time=   0.0s\n",
      "[CV 2/3] END criterion=entropy, max_depth=5, max_features=log2, splitter=best;, score=0.740 total time=   0.0s\n",
      "[CV 3/3] END criterion=entropy, max_depth=5, max_features=log2, splitter=best;, score=0.734 total time=   0.0s\n",
      "[CV 1/3] END criterion=entropy, max_depth=5, max_features=log2, splitter=random;, score=0.656 total time=   0.0s\n",
      "[CV 2/3] END criterion=entropy, max_depth=5, max_features=log2, splitter=random;, score=0.755 total time=   0.0s\n",
      "[CV 3/3] END criterion=entropy, max_depth=5, max_features=log2, splitter=random;, score=0.745 total time=   0.0s\n",
      "[CV 1/3] END criterion=log_loss, max_depth=1, max_features=auto, splitter=best;, score=nan total time=   0.0s\n",
      "[CV 2/3] END criterion=log_loss, max_depth=1, max_features=auto, splitter=best;, score=nan total time=   0.0s\n",
      "[CV 3/3] END criterion=log_loss, max_depth=1, max_features=auto, splitter=best;, score=nan total time=   0.0s\n",
      "[CV 1/3] END criterion=log_loss, max_depth=1, max_features=auto, splitter=random;, score=nan total time=   0.0s\n",
      "[CV 2/3] END criterion=log_loss, max_depth=1, max_features=auto, splitter=random;, score=nan total time=   0.0s\n",
      "[CV 3/3] END criterion=log_loss, max_depth=1, max_features=auto, splitter=random;, score=nan total time=   0.0s\n",
      "[CV 1/3] END criterion=log_loss, max_depth=1, max_features=sqrt, splitter=best;, score=nan total time=   0.0s\n",
      "[CV 2/3] END criterion=log_loss, max_depth=1, max_features=sqrt, splitter=best;, score=nan total time=   0.0s\n",
      "[CV 3/3] END criterion=log_loss, max_depth=1, max_features=sqrt, splitter=best;, score=nan total time=   0.0s\n",
      "[CV 1/3] END criterion=log_loss, max_depth=1, max_features=sqrt, splitter=random;, score=nan total time=   0.0s\n",
      "[CV 2/3] END criterion=log_loss, max_depth=1, max_features=sqrt, splitter=random;, score=nan total time=   0.0s\n",
      "[CV 3/3] END criterion=log_loss, max_depth=1, max_features=sqrt, splitter=random;, score=nan total time=   0.0s\n",
      "[CV 1/3] END criterion=log_loss, max_depth=1, max_features=log2, splitter=best;, score=nan total time=   0.0s\n",
      "[CV 2/3] END criterion=log_loss, max_depth=1, max_features=log2, splitter=best;, score=nan total time=   0.0s\n",
      "[CV 3/3] END criterion=log_loss, max_depth=1, max_features=log2, splitter=best;, score=nan total time=   0.0s\n",
      "[CV 1/3] END criterion=log_loss, max_depth=1, max_features=log2, splitter=random;, score=nan total time=   0.0s\n",
      "[CV 2/3] END criterion=log_loss, max_depth=1, max_features=log2, splitter=random;, score=nan total time=   0.0s\n",
      "[CV 3/3] END criterion=log_loss, max_depth=1, max_features=log2, splitter=random;, score=nan total time=   0.0s\n",
      "[CV 1/3] END criterion=log_loss, max_depth=2, max_features=auto, splitter=best;, score=nan total time=   0.0s\n",
      "[CV 2/3] END criterion=log_loss, max_depth=2, max_features=auto, splitter=best;, score=nan total time=   0.0s\n",
      "[CV 3/3] END criterion=log_loss, max_depth=2, max_features=auto, splitter=best;, score=nan total time=   0.0s\n",
      "[CV 1/3] END criterion=log_loss, max_depth=2, max_features=auto, splitter=random;, score=nan total time=   0.0s\n",
      "[CV 2/3] END criterion=log_loss, max_depth=2, max_features=auto, splitter=random;, score=nan total time=   0.0s\n",
      "[CV 3/3] END criterion=log_loss, max_depth=2, max_features=auto, splitter=random;, score=nan total time=   0.0s\n",
      "[CV 1/3] END criterion=log_loss, max_depth=2, max_features=sqrt, splitter=best;, score=nan total time=   0.0s\n",
      "[CV 2/3] END criterion=log_loss, max_depth=2, max_features=sqrt, splitter=best;, score=nan total time=   0.0s\n",
      "[CV 3/3] END criterion=log_loss, max_depth=2, max_features=sqrt, splitter=best;, score=nan total time=   0.0s\n",
      "[CV 1/3] END criterion=log_loss, max_depth=2, max_features=sqrt, splitter=random;, score=nan total time=   0.0s\n",
      "[CV 2/3] END criterion=log_loss, max_depth=2, max_features=sqrt, splitter=random;, score=nan total time=   0.0s\n",
      "[CV 3/3] END criterion=log_loss, max_depth=2, max_features=sqrt, splitter=random;, score=nan total time=   0.0s\n",
      "[CV 1/3] END criterion=log_loss, max_depth=2, max_features=log2, splitter=best;, score=nan total time=   0.0s\n",
      "[CV 2/3] END criterion=log_loss, max_depth=2, max_features=log2, splitter=best;, score=nan total time=   0.0s\n",
      "[CV 3/3] END criterion=log_loss, max_depth=2, max_features=log2, splitter=best;, score=nan total time=   0.0s\n",
      "[CV 1/3] END criterion=log_loss, max_depth=2, max_features=log2, splitter=random;, score=nan total time=   0.0s\n",
      "[CV 2/3] END criterion=log_loss, max_depth=2, max_features=log2, splitter=random;, score=nan total time=   0.0s\n",
      "[CV 3/3] END criterion=log_loss, max_depth=2, max_features=log2, splitter=random;, score=nan total time=   0.0s\n",
      "[CV 1/3] END criterion=log_loss, max_depth=3, max_features=auto, splitter=best;, score=nan total time=   0.0s\n",
      "[CV 2/3] END criterion=log_loss, max_depth=3, max_features=auto, splitter=best;, score=nan total time=   0.0s\n",
      "[CV 3/3] END criterion=log_loss, max_depth=3, max_features=auto, splitter=best;, score=nan total time=   0.0s\n",
      "[CV 1/3] END criterion=log_loss, max_depth=3, max_features=auto, splitter=random;, score=nan total time=   0.0s\n",
      "[CV 2/3] END criterion=log_loss, max_depth=3, max_features=auto, splitter=random;, score=nan total time=   0.0s\n",
      "[CV 3/3] END criterion=log_loss, max_depth=3, max_features=auto, splitter=random;, score=nan total time=   0.0s\n",
      "[CV 1/3] END criterion=log_loss, max_depth=3, max_features=sqrt, splitter=best;, score=nan total time=   0.0s\n",
      "[CV 2/3] END criterion=log_loss, max_depth=3, max_features=sqrt, splitter=best;, score=nan total time=   0.0s\n",
      "[CV 3/3] END criterion=log_loss, max_depth=3, max_features=sqrt, splitter=best;, score=nan total time=   0.0s\n",
      "[CV 1/3] END criterion=log_loss, max_depth=3, max_features=sqrt, splitter=random;, score=nan total time=   0.0s\n",
      "[CV 2/3] END criterion=log_loss, max_depth=3, max_features=sqrt, splitter=random;, score=nan total time=   0.0s\n",
      "[CV 3/3] END criterion=log_loss, max_depth=3, max_features=sqrt, splitter=random;, score=nan total time=   0.0s\n",
      "[CV 1/3] END criterion=log_loss, max_depth=3, max_features=log2, splitter=best;, score=nan total time=   0.0s\n"
     ]
    },
    {
     "name": "stdout",
     "output_type": "stream",
     "text": [
      "[CV 2/3] END criterion=log_loss, max_depth=3, max_features=log2, splitter=best;, score=nan total time=   0.0s\n",
      "[CV 3/3] END criterion=log_loss, max_depth=3, max_features=log2, splitter=best;, score=nan total time=   0.0s\n",
      "[CV 1/3] END criterion=log_loss, max_depth=3, max_features=log2, splitter=random;, score=nan total time=   0.0s\n",
      "[CV 2/3] END criterion=log_loss, max_depth=3, max_features=log2, splitter=random;, score=nan total time=   0.0s\n",
      "[CV 3/3] END criterion=log_loss, max_depth=3, max_features=log2, splitter=random;, score=nan total time=   0.0s\n",
      "[CV 1/3] END criterion=log_loss, max_depth=4, max_features=auto, splitter=best;, score=nan total time=   0.0s\n",
      "[CV 2/3] END criterion=log_loss, max_depth=4, max_features=auto, splitter=best;, score=nan total time=   0.0s\n",
      "[CV 3/3] END criterion=log_loss, max_depth=4, max_features=auto, splitter=best;, score=nan total time=   0.0s\n",
      "[CV 1/3] END criterion=log_loss, max_depth=4, max_features=auto, splitter=random;, score=nan total time=   0.0s\n",
      "[CV 2/3] END criterion=log_loss, max_depth=4, max_features=auto, splitter=random;, score=nan total time=   0.0s\n",
      "[CV 3/3] END criterion=log_loss, max_depth=4, max_features=auto, splitter=random;, score=nan total time=   0.0s\n",
      "[CV 1/3] END criterion=log_loss, max_depth=4, max_features=sqrt, splitter=best;, score=nan total time=   0.0s\n",
      "[CV 2/3] END criterion=log_loss, max_depth=4, max_features=sqrt, splitter=best;, score=nan total time=   0.0s\n",
      "[CV 3/3] END criterion=log_loss, max_depth=4, max_features=sqrt, splitter=best;, score=nan total time=   0.0s\n",
      "[CV 1/3] END criterion=log_loss, max_depth=4, max_features=sqrt, splitter=random;, score=nan total time=   0.0s\n",
      "[CV 2/3] END criterion=log_loss, max_depth=4, max_features=sqrt, splitter=random;, score=nan total time=   0.0s\n",
      "[CV 3/3] END criterion=log_loss, max_depth=4, max_features=sqrt, splitter=random;, score=nan total time=   0.0s\n",
      "[CV 1/3] END criterion=log_loss, max_depth=4, max_features=log2, splitter=best;, score=nan total time=   0.0s\n",
      "[CV 2/3] END criterion=log_loss, max_depth=4, max_features=log2, splitter=best;, score=nan total time=   0.0s\n",
      "[CV 3/3] END criterion=log_loss, max_depth=4, max_features=log2, splitter=best;, score=nan total time=   0.0s\n",
      "[CV 1/3] END criterion=log_loss, max_depth=4, max_features=log2, splitter=random;, score=nan total time=   0.0s\n",
      "[CV 2/3] END criterion=log_loss, max_depth=4, max_features=log2, splitter=random;, score=nan total time=   0.0s\n",
      "[CV 3/3] END criterion=log_loss, max_depth=4, max_features=log2, splitter=random;, score=nan total time=   0.0s\n",
      "[CV 1/3] END criterion=log_loss, max_depth=5, max_features=auto, splitter=best;, score=nan total time=   0.0s\n",
      "[CV 2/3] END criterion=log_loss, max_depth=5, max_features=auto, splitter=best;, score=nan total time=   0.0s\n",
      "[CV 3/3] END criterion=log_loss, max_depth=5, max_features=auto, splitter=best;, score=nan total time=   0.0s\n",
      "[CV 1/3] END criterion=log_loss, max_depth=5, max_features=auto, splitter=random;, score=nan total time=   0.0s\n",
      "[CV 2/3] END criterion=log_loss, max_depth=5, max_features=auto, splitter=random;, score=nan total time=   0.0s\n",
      "[CV 3/3] END criterion=log_loss, max_depth=5, max_features=auto, splitter=random;, score=nan total time=   0.0s\n",
      "[CV 1/3] END criterion=log_loss, max_depth=5, max_features=sqrt, splitter=best;, score=nan total time=   0.0s\n",
      "[CV 2/3] END criterion=log_loss, max_depth=5, max_features=sqrt, splitter=best;, score=nan total time=   0.0s\n",
      "[CV 3/3] END criterion=log_loss, max_depth=5, max_features=sqrt, splitter=best;, score=nan total time=   0.0s\n",
      "[CV 1/3] END criterion=log_loss, max_depth=5, max_features=sqrt, splitter=random;, score=nan total time=   0.0s\n",
      "[CV 2/3] END criterion=log_loss, max_depth=5, max_features=sqrt, splitter=random;, score=nan total time=   0.0s\n",
      "[CV 3/3] END criterion=log_loss, max_depth=5, max_features=sqrt, splitter=random;, score=nan total time=   0.0s\n",
      "[CV 1/3] END criterion=log_loss, max_depth=5, max_features=log2, splitter=best;, score=nan total time=   0.0s\n",
      "[CV 2/3] END criterion=log_loss, max_depth=5, max_features=log2, splitter=best;, score=nan total time=   0.0s\n",
      "[CV 3/3] END criterion=log_loss, max_depth=5, max_features=log2, splitter=best;, score=nan total time=   0.0s\n",
      "[CV 1/3] END criterion=log_loss, max_depth=5, max_features=log2, splitter=random;, score=nan total time=   0.0s\n",
      "[CV 2/3] END criterion=log_loss, max_depth=5, max_features=log2, splitter=random;, score=nan total time=   0.0s\n",
      "[CV 3/3] END criterion=log_loss, max_depth=5, max_features=log2, splitter=random;, score=nan total time=   0.0s\n"
     ]
    },
    {
     "data": {
      "text/plain": [
       "GridSearchCV(cv=3, estimator=DecisionTreeClassifier(),\n",
       "             param_grid={'criterion': ['gini', 'entropy', 'log_loss'],\n",
       "                         'max_depth': [1, 2, 3, 4, 5],\n",
       "                         'max_features': ['auto', 'sqrt', 'log2'],\n",
       "                         'splitter': ['best', 'random']},\n",
       "             scoring='accuracy', verbose=3)"
      ]
     },
     "execution_count": 15,
     "metadata": {},
     "output_type": "execute_result"
    }
   ],
   "source": [
    "from sklearn.model_selection import GridSearchCV\n",
    "classifier = DecisionTreeClassifier()\n",
    "\n",
    "clf = GridSearchCV(classifier,param_grid = parameter, cv = 3, scoring = 'accuracy', verbose = 3)\n",
    "clf.fit(x_train_scaled,y_train)"
   ]
  },
  {
   "cell_type": "code",
   "execution_count": 16,
   "id": "942f0dee",
   "metadata": {},
   "outputs": [
    {
     "data": {
      "text/plain": [
       "{'criterion': 'gini',\n",
       " 'max_depth': 4,\n",
       " 'max_features': 'log2',\n",
       " 'splitter': 'best'}"
      ]
     },
     "execution_count": 16,
     "metadata": {},
     "output_type": "execute_result"
    }
   ],
   "source": [
    "clf.best_params_"
   ]
  },
  {
   "cell_type": "markdown",
   "id": "f69bb92f",
   "metadata": {},
   "source": [
    "#### <font color = '#AA00FF'> Observation :\n",
    "Now, we take that parameters and create decision tree  "
   ]
  },
  {
   "cell_type": "code",
   "execution_count": 17,
   "id": "53a784f4",
   "metadata": {},
   "outputs": [
    {
     "data": {
      "text/plain": [
       "DecisionTreeClassifier(criterion='entropy', max_depth=5, max_features='log2')"
      ]
     },
     "execution_count": 17,
     "metadata": {},
     "output_type": "execute_result"
    }
   ],
   "source": [
    "classifier = DecisionTreeClassifier(criterion = 'entropy',max_depth = 5, max_features = 'log2', splitter = 'best')\n",
    "\n",
    "classifier.fit(x_train_scaled,y_train)"
   ]
  },
  {
   "cell_type": "markdown",
   "id": "089b5bdd",
   "metadata": {},
   "source": [
    "---"
   ]
  },
  {
   "cell_type": "markdown",
   "id": "ea2d2a47",
   "metadata": {},
   "source": [
    "## <font color='blue'> 7. Prediction"
   ]
  },
  {
   "cell_type": "code",
   "execution_count": 18,
   "id": "8b6348a3",
   "metadata": {},
   "outputs": [],
   "source": [
    "y_pred = classifier.predict(x_test_scaled)"
   ]
  },
  {
   "cell_type": "markdown",
   "id": "1ac3201d",
   "metadata": {},
   "source": [
    "---"
   ]
  },
  {
   "cell_type": "markdown",
   "id": "47fe0052",
   "metadata": {},
   "source": [
    "## <font color='blue'> 8. Performance Metrics"
   ]
  },
  {
   "cell_type": "code",
   "execution_count": 19,
   "id": "162b9776",
   "metadata": {},
   "outputs": [
    {
     "name": "stdout",
     "output_type": "stream",
     "text": [
      "[[113  17]\n",
      " [ 29  33]]\n"
     ]
    }
   ],
   "source": [
    "conf_mat = confusion_matrix(y_test,y_pred)\n",
    "\n",
    "print(conf_mat)"
   ]
  },
  {
   "cell_type": "code",
   "execution_count": 20,
   "id": "75d07005",
   "metadata": {},
   "outputs": [],
   "source": [
    "true_positive = conf_mat[0][0]\n",
    "false_positive = conf_mat[0][1]\n",
    "false_negative = conf_mat[1][0]\n",
    "true_negative = conf_mat[1][1]"
   ]
  },
  {
   "cell_type": "code",
   "execution_count": 21,
   "id": "7dfacf5c",
   "metadata": {},
   "outputs": [
    {
     "data": {
      "text/plain": [
       "0.7604166666666666"
      ]
     },
     "execution_count": 21,
     "metadata": {},
     "output_type": "execute_result"
    }
   ],
   "source": [
    "Accuracy = (true_positive + true_negative) / (true_positive +false_positive + false_negative + true_negative)\n",
    "Accuracy"
   ]
  },
  {
   "cell_type": "code",
   "execution_count": 22,
   "id": "72532562",
   "metadata": {},
   "outputs": [
    {
     "data": {
      "text/plain": [
       "0.8692307692307693"
      ]
     },
     "execution_count": 22,
     "metadata": {},
     "output_type": "execute_result"
    }
   ],
   "source": [
    "Precision = true_positive/(true_positive+false_positive)\n",
    "Precision"
   ]
  },
  {
   "cell_type": "code",
   "execution_count": 23,
   "id": "88bf2069",
   "metadata": {},
   "outputs": [
    {
     "data": {
      "text/plain": [
       "0.795774647887324"
      ]
     },
     "execution_count": 23,
     "metadata": {},
     "output_type": "execute_result"
    }
   ],
   "source": [
    "Recall = true_positive/(true_positive+false_negative)\n",
    "Recall"
   ]
  },
  {
   "cell_type": "code",
   "execution_count": 24,
   "id": "8f304111",
   "metadata": {},
   "outputs": [
    {
     "data": {
      "text/plain": [
       "0.8308823529411764"
      ]
     },
     "execution_count": 24,
     "metadata": {},
     "output_type": "execute_result"
    }
   ],
   "source": [
    "F1_Score = 2*(Recall * Precision) / (Recall + Precision)\n",
    "F1_Score"
   ]
  },
  {
   "cell_type": "markdown",
   "id": "33f41a6f",
   "metadata": {},
   "source": [
    "---"
   ]
  },
  {
   "cell_type": "markdown",
   "id": "06da5233",
   "metadata": {},
   "source": [
    "## Support machine vector with hyperparameter tuning"
   ]
  },
  {
   "cell_type": "code",
   "execution_count": 25,
   "id": "d60e4cce",
   "metadata": {},
   "outputs": [],
   "source": [
    "parameters = {'C': [0.1, 1, 10],\n",
    "              'gamma': [1, 0.1, 0.01, 0.001, 0.0001],\n",
    "              'kernel':['linear','rbf','polynomial']\n",
    "              }"
   ]
  },
  {
   "cell_type": "code",
   "execution_count": 26,
   "id": "e63e8378",
   "metadata": {
    "scrolled": true
   },
   "outputs": [
    {
     "name": "stdout",
     "output_type": "stream",
     "text": [
      "Fitting 3 folds for each of 45 candidates, totalling 135 fits\n",
      "[CV 1/3] END .....C=0.1, gamma=1, kernel=linear;, score=0.766 total time=   0.0s\n",
      "[CV 2/3] END .....C=0.1, gamma=1, kernel=linear;, score=0.776 total time=   0.0s\n",
      "[CV 3/3] END .....C=0.1, gamma=1, kernel=linear;, score=0.745 total time=   0.0s\n",
      "[CV 1/3] END ........C=0.1, gamma=1, kernel=rbf;, score=0.646 total time=   0.0s\n",
      "[CV 2/3] END ........C=0.1, gamma=1, kernel=rbf;, score=0.641 total time=   0.0s\n",
      "[CV 3/3] END ........C=0.1, gamma=1, kernel=rbf;, score=0.641 total time=   0.0s\n",
      "[CV 1/3] END ...C=0.1, gamma=1, kernel=polynomial;, score=nan total time=   0.0s\n",
      "[CV 2/3] END ...C=0.1, gamma=1, kernel=polynomial;, score=nan total time=   0.0s\n",
      "[CV 3/3] END ...C=0.1, gamma=1, kernel=polynomial;, score=nan total time=   0.0s\n",
      "[CV 1/3] END ...C=0.1, gamma=0.1, kernel=linear;, score=0.766 total time=   0.0s\n",
      "[CV 2/3] END ...C=0.1, gamma=0.1, kernel=linear;, score=0.776 total time=   0.0s\n",
      "[CV 3/3] END ...C=0.1, gamma=0.1, kernel=linear;, score=0.745 total time=   0.0s\n",
      "[CV 1/3] END ......C=0.1, gamma=0.1, kernel=rbf;, score=0.740 total time=   0.0s\n",
      "[CV 2/3] END ......C=0.1, gamma=0.1, kernel=rbf;, score=0.708 total time=   0.0s\n",
      "[CV 3/3] END ......C=0.1, gamma=0.1, kernel=rbf;, score=0.703 total time=   0.0s\n",
      "[CV 1/3] END .C=0.1, gamma=0.1, kernel=polynomial;, score=nan total time=   0.0s\n",
      "[CV 2/3] END .C=0.1, gamma=0.1, kernel=polynomial;, score=nan total time=   0.0s\n",
      "[CV 3/3] END .C=0.1, gamma=0.1, kernel=polynomial;, score=nan total time=   0.0s\n",
      "[CV 1/3] END ..C=0.1, gamma=0.01, kernel=linear;, score=0.766 total time=   0.0s\n",
      "[CV 2/3] END ..C=0.1, gamma=0.01, kernel=linear;, score=0.776 total time=   0.0s\n",
      "[CV 3/3] END ..C=0.1, gamma=0.01, kernel=linear;, score=0.745 total time=   0.0s\n",
      "[CV 1/3] END .....C=0.1, gamma=0.01, kernel=rbf;, score=0.646 total time=   0.0s\n",
      "[CV 2/3] END .....C=0.1, gamma=0.01, kernel=rbf;, score=0.641 total time=   0.0s\n",
      "[CV 3/3] END .....C=0.1, gamma=0.01, kernel=rbf;, score=0.641 total time=   0.0s\n",
      "[CV 1/3] END C=0.1, gamma=0.01, kernel=polynomial;, score=nan total time=   0.0s\n",
      "[CV 2/3] END C=0.1, gamma=0.01, kernel=polynomial;, score=nan total time=   0.0s\n",
      "[CV 3/3] END C=0.1, gamma=0.01, kernel=polynomial;, score=nan total time=   0.0s\n",
      "[CV 1/3] END .C=0.1, gamma=0.001, kernel=linear;, score=0.766 total time=   0.0s\n",
      "[CV 2/3] END .C=0.1, gamma=0.001, kernel=linear;, score=0.776 total time=   0.0s\n",
      "[CV 3/3] END .C=0.1, gamma=0.001, kernel=linear;, score=0.745 total time=   0.0s\n",
      "[CV 1/3] END ....C=0.1, gamma=0.001, kernel=rbf;, score=0.646 total time=   0.0s\n",
      "[CV 2/3] END ....C=0.1, gamma=0.001, kernel=rbf;, score=0.641 total time=   0.0s\n",
      "[CV 3/3] END ....C=0.1, gamma=0.001, kernel=rbf;, score=0.641 total time=   0.0s\n",
      "[CV 1/3] END C=0.1, gamma=0.001, kernel=polynomial;, score=nan total time=   0.0s\n",
      "[CV 2/3] END C=0.1, gamma=0.001, kernel=polynomial;, score=nan total time=   0.0s\n",
      "[CV 3/3] END C=0.1, gamma=0.001, kernel=polynomial;, score=nan total time=   0.0s\n",
      "[CV 1/3] END C=0.1, gamma=0.0001, kernel=linear;, score=0.766 total time=   0.0s\n",
      "[CV 2/3] END C=0.1, gamma=0.0001, kernel=linear;, score=0.776 total time=   0.0s\n",
      "[CV 3/3] END C=0.1, gamma=0.0001, kernel=linear;, score=0.745 total time=   0.0s\n",
      "[CV 1/3] END ...C=0.1, gamma=0.0001, kernel=rbf;, score=0.646 total time=   0.0s\n",
      "[CV 2/3] END ...C=0.1, gamma=0.0001, kernel=rbf;, score=0.641 total time=   0.0s\n",
      "[CV 3/3] END ...C=0.1, gamma=0.0001, kernel=rbf;, score=0.641 total time=   0.0s\n",
      "[CV 1/3] END C=0.1, gamma=0.0001, kernel=polynomial;, score=nan total time=   0.0s\n",
      "[CV 2/3] END C=0.1, gamma=0.0001, kernel=polynomial;, score=nan total time=   0.0s\n",
      "[CV 3/3] END C=0.1, gamma=0.0001, kernel=polynomial;, score=nan total time=   0.0s\n",
      "[CV 1/3] END .......C=1, gamma=1, kernel=linear;, score=0.776 total time=   0.0s\n",
      "[CV 2/3] END .......C=1, gamma=1, kernel=linear;, score=0.771 total time=   0.0s\n",
      "[CV 3/3] END .......C=1, gamma=1, kernel=linear;, score=0.740 total time=   0.0s\n",
      "[CV 1/3] END ..........C=1, gamma=1, kernel=rbf;, score=0.682 total time=   0.0s\n",
      "[CV 2/3] END ..........C=1, gamma=1, kernel=rbf;, score=0.646 total time=   0.0s\n",
      "[CV 3/3] END ..........C=1, gamma=1, kernel=rbf;, score=0.667 total time=   0.0s\n",
      "[CV 1/3] END .....C=1, gamma=1, kernel=polynomial;, score=nan total time=   0.0s\n",
      "[CV 2/3] END .....C=1, gamma=1, kernel=polynomial;, score=nan total time=   0.0s\n",
      "[CV 3/3] END .....C=1, gamma=1, kernel=polynomial;, score=nan total time=   0.0s\n",
      "[CV 1/3] END .....C=1, gamma=0.1, kernel=linear;, score=0.776 total time=   0.0s\n",
      "[CV 2/3] END .....C=1, gamma=0.1, kernel=linear;, score=0.771 total time=   0.0s\n",
      "[CV 3/3] END .....C=1, gamma=0.1, kernel=linear;, score=0.740 total time=   0.0s\n",
      "[CV 1/3] END ........C=1, gamma=0.1, kernel=rbf;, score=0.729 total time=   0.0s\n",
      "[CV 2/3] END ........C=1, gamma=0.1, kernel=rbf;, score=0.755 total time=   0.0s\n",
      "[CV 3/3] END ........C=1, gamma=0.1, kernel=rbf;, score=0.719 total time=   0.0s\n",
      "[CV 1/3] END ...C=1, gamma=0.1, kernel=polynomial;, score=nan total time=   0.0s\n",
      "[CV 2/3] END ...C=1, gamma=0.1, kernel=polynomial;, score=nan total time=   0.0s\n",
      "[CV 3/3] END ...C=1, gamma=0.1, kernel=polynomial;, score=nan total time=   0.0s\n",
      "[CV 1/3] END ....C=1, gamma=0.01, kernel=linear;, score=0.776 total time=   0.0s\n",
      "[CV 2/3] END ....C=1, gamma=0.01, kernel=linear;, score=0.771 total time=   0.0s\n",
      "[CV 3/3] END ....C=1, gamma=0.01, kernel=linear;, score=0.740 total time=   0.0s\n",
      "[CV 1/3] END .......C=1, gamma=0.01, kernel=rbf;, score=0.755 total time=   0.0s\n",
      "[CV 2/3] END .......C=1, gamma=0.01, kernel=rbf;, score=0.781 total time=   0.0s\n",
      "[CV 3/3] END .......C=1, gamma=0.01, kernel=rbf;, score=0.750 total time=   0.0s\n",
      "[CV 1/3] END ..C=1, gamma=0.01, kernel=polynomial;, score=nan total time=   0.0s\n",
      "[CV 2/3] END ..C=1, gamma=0.01, kernel=polynomial;, score=nan total time=   0.0s\n",
      "[CV 3/3] END ..C=1, gamma=0.01, kernel=polynomial;, score=nan total time=   0.0s\n",
      "[CV 1/3] END ...C=1, gamma=0.001, kernel=linear;, score=0.776 total time=   0.0s\n",
      "[CV 2/3] END ...C=1, gamma=0.001, kernel=linear;, score=0.771 total time=   0.0s\n",
      "[CV 3/3] END ...C=1, gamma=0.001, kernel=linear;, score=0.740 total time=   0.0s\n",
      "[CV 1/3] END ......C=1, gamma=0.001, kernel=rbf;, score=0.646 total time=   0.0s\n",
      "[CV 2/3] END ......C=1, gamma=0.001, kernel=rbf;, score=0.641 total time=   0.0s\n",
      "[CV 3/3] END ......C=1, gamma=0.001, kernel=rbf;, score=0.635 total time=   0.0s\n",
      "[CV 1/3] END .C=1, gamma=0.001, kernel=polynomial;, score=nan total time=   0.0s\n",
      "[CV 2/3] END .C=1, gamma=0.001, kernel=polynomial;, score=nan total time=   0.0s\n",
      "[CV 3/3] END .C=1, gamma=0.001, kernel=polynomial;, score=nan total time=   0.0s\n",
      "[CV 1/3] END ..C=1, gamma=0.0001, kernel=linear;, score=0.776 total time=   0.0s\n",
      "[CV 2/3] END ..C=1, gamma=0.0001, kernel=linear;, score=0.771 total time=   0.0s\n",
      "[CV 3/3] END ..C=1, gamma=0.0001, kernel=linear;, score=0.740 total time=   0.0s\n",
      "[CV 1/3] END .....C=1, gamma=0.0001, kernel=rbf;, score=0.646 total time=   0.0s\n",
      "[CV 2/3] END .....C=1, gamma=0.0001, kernel=rbf;, score=0.641 total time=   0.0s\n",
      "[CV 3/3] END .....C=1, gamma=0.0001, kernel=rbf;, score=0.641 total time=   0.0s\n",
      "[CV 1/3] END C=1, gamma=0.0001, kernel=polynomial;, score=nan total time=   0.0s\n",
      "[CV 2/3] END C=1, gamma=0.0001, kernel=polynomial;, score=nan total time=   0.0s\n",
      "[CV 3/3] END C=1, gamma=0.0001, kernel=polynomial;, score=nan total time=   0.0s\n",
      "[CV 1/3] END ......C=10, gamma=1, kernel=linear;, score=0.771 total time=   0.0s\n",
      "[CV 2/3] END ......C=10, gamma=1, kernel=linear;, score=0.771 total time=   0.0s\n",
      "[CV 3/3] END ......C=10, gamma=1, kernel=linear;, score=0.740 total time=   0.0s\n",
      "[CV 1/3] END .........C=10, gamma=1, kernel=rbf;, score=0.667 total time=   0.0s\n",
      "[CV 2/3] END .........C=10, gamma=1, kernel=rbf;, score=0.656 total time=   0.0s\n",
      "[CV 3/3] END .........C=10, gamma=1, kernel=rbf;, score=0.651 total time=   0.0s\n",
      "[CV 1/3] END ....C=10, gamma=1, kernel=polynomial;, score=nan total time=   0.0s\n",
      "[CV 2/3] END ....C=10, gamma=1, kernel=polynomial;, score=nan total time=   0.0s\n",
      "[CV 3/3] END ....C=10, gamma=1, kernel=polynomial;, score=nan total time=   0.0s\n",
      "[CV 1/3] END ....C=10, gamma=0.1, kernel=linear;, score=0.771 total time=   0.0s\n",
      "[CV 2/3] END ....C=10, gamma=0.1, kernel=linear;, score=0.771 total time=   0.0s\n"
     ]
    },
    {
     "name": "stdout",
     "output_type": "stream",
     "text": [
      "[CV 3/3] END ....C=10, gamma=0.1, kernel=linear;, score=0.740 total time=   0.0s\n",
      "[CV 1/3] END .......C=10, gamma=0.1, kernel=rbf;, score=0.719 total time=   0.0s\n",
      "[CV 2/3] END .......C=10, gamma=0.1, kernel=rbf;, score=0.734 total time=   0.0s\n",
      "[CV 3/3] END .......C=10, gamma=0.1, kernel=rbf;, score=0.698 total time=   0.0s\n",
      "[CV 1/3] END ..C=10, gamma=0.1, kernel=polynomial;, score=nan total time=   0.0s\n",
      "[CV 2/3] END ..C=10, gamma=0.1, kernel=polynomial;, score=nan total time=   0.0s\n",
      "[CV 3/3] END ..C=10, gamma=0.1, kernel=polynomial;, score=nan total time=   0.0s\n",
      "[CV 1/3] END ...C=10, gamma=0.01, kernel=linear;, score=0.771 total time=   0.0s\n",
      "[CV 2/3] END ...C=10, gamma=0.01, kernel=linear;, score=0.771 total time=   0.0s\n",
      "[CV 3/3] END ...C=10, gamma=0.01, kernel=linear;, score=0.740 total time=   0.0s\n",
      "[CV 1/3] END ......C=10, gamma=0.01, kernel=rbf;, score=0.755 total time=   0.0s\n",
      "[CV 2/3] END ......C=10, gamma=0.01, kernel=rbf;, score=0.755 total time=   0.0s\n",
      "[CV 3/3] END ......C=10, gamma=0.01, kernel=rbf;, score=0.734 total time=   0.0s\n",
      "[CV 1/3] END .C=10, gamma=0.01, kernel=polynomial;, score=nan total time=   0.0s\n",
      "[CV 2/3] END .C=10, gamma=0.01, kernel=polynomial;, score=nan total time=   0.0s\n",
      "[CV 3/3] END .C=10, gamma=0.01, kernel=polynomial;, score=nan total time=   0.0s\n",
      "[CV 1/3] END ..C=10, gamma=0.001, kernel=linear;, score=0.771 total time=   0.0s\n",
      "[CV 2/3] END ..C=10, gamma=0.001, kernel=linear;, score=0.771 total time=   0.0s\n",
      "[CV 3/3] END ..C=10, gamma=0.001, kernel=linear;, score=0.740 total time=   0.0s\n",
      "[CV 1/3] END .....C=10, gamma=0.001, kernel=rbf;, score=0.766 total time=   0.0s\n",
      "[CV 2/3] END .....C=10, gamma=0.001, kernel=rbf;, score=0.797 total time=   0.0s\n",
      "[CV 3/3] END .....C=10, gamma=0.001, kernel=rbf;, score=0.750 total time=   0.0s\n",
      "[CV 1/3] END C=10, gamma=0.001, kernel=polynomial;, score=nan total time=   0.0s\n",
      "[CV 2/3] END C=10, gamma=0.001, kernel=polynomial;, score=nan total time=   0.0s\n",
      "[CV 3/3] END C=10, gamma=0.001, kernel=polynomial;, score=nan total time=   0.0s\n",
      "[CV 1/3] END .C=10, gamma=0.0001, kernel=linear;, score=0.771 total time=   0.0s\n",
      "[CV 2/3] END .C=10, gamma=0.0001, kernel=linear;, score=0.771 total time=   0.0s\n",
      "[CV 3/3] END .C=10, gamma=0.0001, kernel=linear;, score=0.740 total time=   0.0s\n",
      "[CV 1/3] END ....C=10, gamma=0.0001, kernel=rbf;, score=0.646 total time=   0.0s\n",
      "[CV 2/3] END ....C=10, gamma=0.0001, kernel=rbf;, score=0.641 total time=   0.0s\n",
      "[CV 3/3] END ....C=10, gamma=0.0001, kernel=rbf;, score=0.641 total time=   0.0s\n",
      "[CV 1/3] END C=10, gamma=0.0001, kernel=polynomial;, score=nan total time=   0.0s\n",
      "[CV 2/3] END C=10, gamma=0.0001, kernel=polynomial;, score=nan total time=   0.0s\n",
      "[CV 3/3] END C=10, gamma=0.0001, kernel=polynomial;, score=nan total time=   0.0s\n"
     ]
    },
    {
     "data": {
      "text/plain": [
       "GridSearchCV(cv=3, estimator=SVC(),\n",
       "             param_grid={'C': [0.1, 1, 10],\n",
       "                         'gamma': [1, 0.1, 0.01, 0.001, 0.0001],\n",
       "                         'kernel': ['linear', 'rbf', 'polynomial']},\n",
       "             scoring='accuracy', verbose=3)"
      ]
     },
     "execution_count": 26,
     "metadata": {},
     "output_type": "execute_result"
    }
   ],
   "source": [
    "svc_classifier = SVC()\n",
    "\n",
    "grid = GridSearchCV(svc_classifier, param_grid = parameters, refit = True, cv = 3, verbose = 3, scoring = 'accuracy')\n",
    "\n",
    "grid.fit(x_train_scaled,y_train)"
   ]
  },
  {
   "cell_type": "code",
   "execution_count": 27,
   "id": "7e9bec07",
   "metadata": {},
   "outputs": [
    {
     "data": {
      "text/plain": [
       "{'C': 10, 'gamma': 0.001, 'kernel': 'rbf'}"
      ]
     },
     "execution_count": 27,
     "metadata": {},
     "output_type": "execute_result"
    }
   ],
   "source": [
    "best_params = grid.best_params_\n",
    "\n",
    "best_params"
   ]
  },
  {
   "cell_type": "code",
   "execution_count": 28,
   "id": "ad3b28f3",
   "metadata": {},
   "outputs": [
    {
     "data": {
      "text/plain": [
       "SVC(C=10, gamma=0.001)"
      ]
     },
     "execution_count": 28,
     "metadata": {},
     "output_type": "execute_result"
    }
   ],
   "source": [
    "# model training\n",
    "\n",
    "svc_classifier = SVC(C = best_params['C'], gamma = best_params['gamma'], kernel = best_params['kernel'])\n",
    "svc_classifier.fit(x_train_scaled,y_train)"
   ]
  },
  {
   "cell_type": "code",
   "execution_count": 29,
   "id": "b16427ea",
   "metadata": {},
   "outputs": [],
   "source": [
    "# Prediction\n",
    "y_pred = svc_classifier.predict(x_test_scaled)"
   ]
  },
  {
   "cell_type": "code",
   "execution_count": 30,
   "id": "bda40091",
   "metadata": {},
   "outputs": [
    {
     "name": "stdout",
     "output_type": "stream",
     "text": [
      "[[117  13]\n",
      " [ 29  33]]\n"
     ]
    }
   ],
   "source": [
    "conf_mat = confusion_matrix(y_test,y_pred)\n",
    "\n",
    "print(conf_mat)"
   ]
  },
  {
   "cell_type": "code",
   "execution_count": 31,
   "id": "7506e095",
   "metadata": {},
   "outputs": [],
   "source": [
    "true_positive = conf_mat[0][0]\n",
    "false_positive = conf_mat[0][1]\n",
    "false_negative = conf_mat[1][0]\n",
    "true_negative = conf_mat[1][1]"
   ]
  },
  {
   "cell_type": "code",
   "execution_count": 32,
   "id": "9d20cd2f",
   "metadata": {},
   "outputs": [
    {
     "data": {
      "text/plain": [
       "0.78125"
      ]
     },
     "execution_count": 32,
     "metadata": {},
     "output_type": "execute_result"
    }
   ],
   "source": [
    "Accuracy = (true_positive + true_negative) / (true_positive +false_positive + false_negative + true_negative)\n",
    "Accuracy"
   ]
  },
  {
   "cell_type": "code",
   "execution_count": 33,
   "id": "098a689c",
   "metadata": {},
   "outputs": [
    {
     "data": {
      "text/plain": [
       "0.9"
      ]
     },
     "execution_count": 33,
     "metadata": {},
     "output_type": "execute_result"
    }
   ],
   "source": [
    "Precision = true_positive/(true_positive+false_positive)\n",
    "Precision"
   ]
  },
  {
   "cell_type": "code",
   "execution_count": 34,
   "id": "c4b8e703",
   "metadata": {},
   "outputs": [
    {
     "data": {
      "text/plain": [
       "0.8013698630136986"
      ]
     },
     "execution_count": 34,
     "metadata": {},
     "output_type": "execute_result"
    }
   ],
   "source": [
    "Recall = true_positive/(true_positive+false_negative)\n",
    "Recall"
   ]
  },
  {
   "cell_type": "code",
   "execution_count": 35,
   "id": "a987de16",
   "metadata": {},
   "outputs": [
    {
     "data": {
      "text/plain": [
       "0.8478260869565217"
      ]
     },
     "execution_count": 35,
     "metadata": {},
     "output_type": "execute_result"
    }
   ],
   "source": [
    "F1_Score = 2*(Recall * Precision) / (Recall + Precision)\n",
    "F1_Score"
   ]
  },
  {
   "cell_type": "markdown",
   "id": "ddf4646d",
   "metadata": {},
   "source": [
    "---"
   ]
  },
  {
   "cell_type": "markdown",
   "id": "52e4e5a1",
   "metadata": {},
   "source": [
    "## Naive Bayes with hyperparameter tuning"
   ]
  },
  {
   "cell_type": "code",
   "execution_count": 36,
   "id": "ec9886a6",
   "metadata": {},
   "outputs": [],
   "source": [
    "naive_classifier = BernoulliNB()\n",
    "naive_classifier.fit(x_train_scaled,y_train)\n",
    "y_pred = naive_classifier.predict(x_test_scaled)"
   ]
  },
  {
   "cell_type": "code",
   "execution_count": 37,
   "id": "0700bacb",
   "metadata": {},
   "outputs": [
    {
     "name": "stdout",
     "output_type": "stream",
     "text": [
      "[[107  23]\n",
      " [ 30  32]]\n"
     ]
    }
   ],
   "source": [
    "conf_mat = confusion_matrix(y_test,y_pred)\n",
    "\n",
    "print(conf_mat)"
   ]
  },
  {
   "cell_type": "code",
   "execution_count": 38,
   "id": "b9fe33d9",
   "metadata": {},
   "outputs": [],
   "source": [
    "true_positive = conf_mat[0][0]\n",
    "false_positive = conf_mat[0][1]\n",
    "false_negative = conf_mat[1][0]\n",
    "true_negative = conf_mat[1][1]"
   ]
  },
  {
   "cell_type": "code",
   "execution_count": 39,
   "id": "846cc753",
   "metadata": {},
   "outputs": [
    {
     "data": {
      "text/plain": [
       "0.7239583333333334"
      ]
     },
     "execution_count": 39,
     "metadata": {},
     "output_type": "execute_result"
    }
   ],
   "source": [
    "Accuracy = (true_positive + true_negative) / (true_positive +false_positive + false_negative + true_negative)\n",
    "Accuracy"
   ]
  },
  {
   "cell_type": "code",
   "execution_count": 40,
   "id": "8dfe9aca",
   "metadata": {},
   "outputs": [
    {
     "data": {
      "text/plain": [
       "0.823076923076923"
      ]
     },
     "execution_count": 40,
     "metadata": {},
     "output_type": "execute_result"
    }
   ],
   "source": [
    "Precision = true_positive/(true_positive+false_positive)\n",
    "Precision"
   ]
  },
  {
   "cell_type": "code",
   "execution_count": 41,
   "id": "e783f298",
   "metadata": {},
   "outputs": [
    {
     "data": {
      "text/plain": [
       "0.781021897810219"
      ]
     },
     "execution_count": 41,
     "metadata": {},
     "output_type": "execute_result"
    }
   ],
   "source": [
    "Recall = true_positive/(true_positive+false_negative)\n",
    "Recall"
   ]
  },
  {
   "cell_type": "code",
   "execution_count": 42,
   "id": "d73e61cf",
   "metadata": {},
   "outputs": [
    {
     "data": {
      "text/plain": [
       "0.8014981273408239"
      ]
     },
     "execution_count": 42,
     "metadata": {},
     "output_type": "execute_result"
    }
   ],
   "source": [
    "F1_Score = 2*(Recall * Precision) / (Recall + Precision)\n",
    "F1_Score"
   ]
  },
  {
   "cell_type": "markdown",
   "id": "8dbfcb27",
   "metadata": {},
   "source": [
    "---"
   ]
  },
  {
   "cell_type": "markdown",
   "id": "3c5b78c3",
   "metadata": {},
   "source": [
    "## <font color='blue'> 9. Pickling File"
   ]
  },
  {
   "cell_type": "code",
   "execution_count": 43,
   "id": "5c1f5702",
   "metadata": {},
   "outputs": [],
   "source": [
    "file = open('../model/ModelForPrediction.pkl','wb')\n",
    "pickle.dump(classifier,file)\n",
    "file.close()"
   ]
  },
  {
   "cell_type": "markdown",
   "id": "6920d330",
   "metadata": {},
   "source": [
    "---"
   ]
  }
 ],
 "metadata": {
  "kernelspec": {
   "display_name": "Python 3 (ipykernel)",
   "language": "python",
   "name": "python3"
  },
  "language_info": {
   "codemirror_mode": {
    "name": "ipython",
    "version": 3
   },
   "file_extension": ".py",
   "mimetype": "text/x-python",
   "name": "python",
   "nbconvert_exporter": "python",
   "pygments_lexer": "ipython3",
   "version": "3.9.13"
  }
 },
 "nbformat": 4,
 "nbformat_minor": 5
}
