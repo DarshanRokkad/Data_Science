{
 "cells": [
  {
   "cell_type": "markdown",
   "id": "a91a1f34",
   "metadata": {},
   "source": [
    "# <font color = 'orange'> K Nearest Neighbour Classifier"
   ]
  },
  {
   "cell_type": "markdown",
   "id": "23eed234",
   "metadata": {},
   "source": [
    "---"
   ]
  },
  {
   "cell_type": "code",
   "execution_count": 1,
   "id": "9a6d7d81",
   "metadata": {},
   "outputs": [],
   "source": [
    "import pandas as pd \n",
    "import numpy as np\n",
    "import matplotlib.pyplot as plt\n",
    "import seaborn as sns\n",
    "%matplotlib inline\n",
    "\n",
    "import warnings \n",
    "warnings.filterwarnings('ignore')"
   ]
  },
  {
   "cell_type": "markdown",
   "id": "9c37d2da",
   "metadata": {},
   "source": [
    "---"
   ]
  },
  {
   "cell_type": "markdown",
   "id": "04b542e7",
   "metadata": {},
   "source": [
    "### <font color = 'blue'> 1. Create classification Dataset"
   ]
  },
  {
   "cell_type": "code",
   "execution_count": 2,
   "id": "08122f88",
   "metadata": {},
   "outputs": [],
   "source": [
    "from sklearn.datasets import make_classification\n",
    "\n",
    "x, y = make_classification(n_samples = 1000, n_features = 3, n_redundant = 1, n_classes = 2, random_state = 999)"
   ]
  },
  {
   "cell_type": "markdown",
   "id": "a9a4df9f",
   "metadata": {},
   "source": [
    "---"
   ]
  },
  {
   "cell_type": "markdown",
   "id": "1f06699f",
   "metadata": {},
   "source": [
    "### <font color = 'blue'> 2. Train test split"
   ]
  },
  {
   "cell_type": "code",
   "execution_count": 3,
   "id": "8c2a3185",
   "metadata": {},
   "outputs": [],
   "source": [
    "from sklearn.model_selection import train_test_split\n",
    "\n",
    "x_train, x_test, y_train, y_test = train_test_split(x, y, test_size = 0.33, random_state = 42)"
   ]
  },
  {
   "cell_type": "markdown",
   "id": "9754b50c",
   "metadata": {},
   "source": [
    "---"
   ]
  },
  {
   "cell_type": "markdown",
   "id": "b2c5422f",
   "metadata": {},
   "source": [
    "### <font color = 'blue'> 3. Model Training"
   ]
  },
  {
   "cell_type": "code",
   "execution_count": 4,
   "id": "120a0259",
   "metadata": {},
   "outputs": [],
   "source": [
    "from sklearn.neighbors import KNeighborsClassifier\n",
    "\n",
    "# algorithm may Brute Force (or) KD Tree (or) Ball Tree\n",
    "knn_classifier = KNeighborsClassifier(n_neighbors = 5, algorithm = 'auto')"
   ]
  },
  {
   "cell_type": "code",
   "execution_count": 5,
   "id": "723eb0ba",
   "metadata": {},
   "outputs": [
    {
     "data": {
      "text/plain": [
       "KNeighborsClassifier()"
      ]
     },
     "execution_count": 5,
     "metadata": {},
     "output_type": "execute_result"
    }
   ],
   "source": [
    "# model training\n",
    "\n",
    "knn_classifier.fit(x_train, y_train)"
   ]
  },
  {
   "cell_type": "markdown",
   "id": "0b24d9bb",
   "metadata": {},
   "source": [
    "---"
   ]
  },
  {
   "cell_type": "markdown",
   "id": "31b0123d",
   "metadata": {},
   "source": [
    "### <font color = 'blue'> 4. Prediction"
   ]
  },
  {
   "cell_type": "code",
   "execution_count": 6,
   "id": "3135d5b5",
   "metadata": {},
   "outputs": [],
   "source": [
    "y_pred = knn_classifier.predict(x_test)"
   ]
  },
  {
   "cell_type": "markdown",
   "id": "e2659d52",
   "metadata": {},
   "source": [
    "---"
   ]
  },
  {
   "cell_type": "markdown",
   "id": "eb909930",
   "metadata": {},
   "source": [
    "### <font color = 'blue'> 5. Preformance Metrics"
   ]
  },
  {
   "cell_type": "code",
   "execution_count": 7,
   "id": "45125644",
   "metadata": {},
   "outputs": [
    {
     "name": "stdout",
     "output_type": "stream",
     "text": [
      "0.906060606060606\n",
      "\n",
      "[[158  11]\n",
      " [ 20 141]]\n",
      "\n",
      "              precision    recall  f1-score   support\n",
      "\n",
      "           0       0.89      0.93      0.91       169\n",
      "           1       0.93      0.88      0.90       161\n",
      "\n",
      "    accuracy                           0.91       330\n",
      "   macro avg       0.91      0.91      0.91       330\n",
      "weighted avg       0.91      0.91      0.91       330\n",
      "\n"
     ]
    }
   ],
   "source": [
    "from sklearn.metrics import confusion_matrix, accuracy_score, classification_report\n",
    "\n",
    "print(accuracy_score(y_test, y_pred))\n",
    "print()\n",
    "print(confusion_matrix(y_test, y_pred))\n",
    "print()\n",
    "print(classification_report(y_test, y_pred))"
   ]
  },
  {
   "cell_type": "markdown",
   "id": "a444e981",
   "metadata": {},
   "source": [
    "---"
   ]
  },
  {
   "cell_type": "markdown",
   "id": "041281c0",
   "metadata": {},
   "source": [
    "## Internal Assignment - Perform Hyperparameter tuning and get the best K value"
   ]
  },
  {
   "cell_type": "code",
   "execution_count": 8,
   "id": "b7168b51",
   "metadata": {},
   "outputs": [],
   "source": [
    "from sklearn.model_selection import GridSearchCV"
   ]
  },
  {
   "cell_type": "code",
   "execution_count": 9,
   "id": "5f177431",
   "metadata": {},
   "outputs": [
    {
     "data": {
      "text/plain": [
       "{'n_neighbors': 9}"
      ]
     },
     "execution_count": 9,
     "metadata": {},
     "output_type": "execute_result"
    }
   ],
   "source": [
    "parameter = { 'n_neighbors' : [1,2,3,4,5,6,7,8,9,10]}\n",
    "\n",
    "estimator = KNeighborsClassifier()\n",
    "\n",
    "grid_cv = GridSearchCV(estimator, param_grid = parameter, scoring = 'accuracy', cv = 5)\n",
    "\n",
    "grid_cv.fit(x_train, y_train)\n",
    "\n",
    "best_param = grid_cv.best_params_\n",
    "\n",
    "best_param"
   ]
  },
  {
   "cell_type": "markdown",
   "id": "eb50d48c",
   "metadata": {},
   "source": [
    "---"
   ]
  }
 ],
 "metadata": {
  "kernelspec": {
   "display_name": "Python 3 (ipykernel)",
   "language": "python",
   "name": "python3"
  },
  "language_info": {
   "codemirror_mode": {
    "name": "ipython",
    "version": 3
   },
   "file_extension": ".py",
   "mimetype": "text/x-python",
   "name": "python",
   "nbconvert_exporter": "python",
   "pygments_lexer": "ipython3",
   "version": "3.9.13"
  }
 },
 "nbformat": 4,
 "nbformat_minor": 5
}
