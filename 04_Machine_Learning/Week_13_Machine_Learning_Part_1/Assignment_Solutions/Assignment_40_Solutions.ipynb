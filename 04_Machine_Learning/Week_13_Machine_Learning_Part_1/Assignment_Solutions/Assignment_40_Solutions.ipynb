{
 "cells": [
  {
   "cell_type": "markdown",
   "id": "3676e61b",
   "metadata": {},
   "source": [
    "# <font color = 'orange'> Assignment 40 Solutions"
   ]
  },
  {
   "cell_type": "markdown",
   "id": "0644fa3d",
   "metadata": {},
   "source": [
    "---"
   ]
  },
  {
   "cell_type": "markdown",
   "id": "9e77c3e9",
   "metadata": {},
   "source": [
    "## Q1. What is data encoding? How is it useful in data science?"
   ]
  },
  {
   "cell_type": "code",
   "execution_count": null,
   "id": "9f2bff72",
   "metadata": {},
   "outputs": [],
   "source": []
  },
  {
   "cell_type": "markdown",
   "id": "cd9a438f",
   "metadata": {},
   "source": [
    "---"
   ]
  },
  {
   "cell_type": "markdown",
   "id": "a4431faf",
   "metadata": {},
   "source": [
    "## Q2. What is nominal encoding? Provide an example of how you would use it in a real-world scenario."
   ]
  },
  {
   "cell_type": "code",
   "execution_count": null,
   "id": "fad94f41",
   "metadata": {},
   "outputs": [],
   "source": []
  },
  {
   "cell_type": "markdown",
   "id": "e2aacdb8",
   "metadata": {},
   "source": [
    "---"
   ]
  },
  {
   "cell_type": "markdown",
   "id": "0a261d95",
   "metadata": {},
   "source": [
    "## Q3. In what situations is nominal encoding preferred over one-hot encoding? Provide a practical example."
   ]
  },
  {
   "cell_type": "code",
   "execution_count": null,
   "id": "26a22de9",
   "metadata": {},
   "outputs": [],
   "source": []
  },
  {
   "cell_type": "markdown",
   "id": "af95597a",
   "metadata": {},
   "source": [
    "---"
   ]
  },
  {
   "cell_type": "markdown",
   "id": "ef7df1fc",
   "metadata": {},
   "source": [
    "## Q4. Suppose you have a dataset containing categorical data with 5 unique values. Which encoding technique would you use to transform this data into a format suitable for machine learning algorithms? Explain why you made this choice."
   ]
  },
  {
   "cell_type": "code",
   "execution_count": null,
   "id": "1ce4feba",
   "metadata": {},
   "outputs": [],
   "source": []
  },
  {
   "cell_type": "markdown",
   "id": "e448a033",
   "metadata": {},
   "source": [
    "---"
   ]
  },
  {
   "cell_type": "markdown",
   "id": "ba19b9f4",
   "metadata": {},
   "source": [
    "## Q5. In a machine learning project, you have a dataset with 1000 rows and 5 columns. Two of the columns are categorical, and the remaining three columns are numerical. If you were to use nominal encoding to transform the categorical data, how many new columns would be created? Show your calculations."
   ]
  },
  {
   "cell_type": "code",
   "execution_count": null,
   "id": "2ecfa6a6",
   "metadata": {},
   "outputs": [],
   "source": []
  },
  {
   "cell_type": "markdown",
   "id": "8fc62712",
   "metadata": {},
   "source": [
    "---"
   ]
  },
  {
   "cell_type": "markdown",
   "id": "78d5c7c9",
   "metadata": {},
   "source": [
    "## Q6. You are working with a dataset containing information about different types of animals, including their species, habitat, and diet. Which encoding technique would you use to transform the categorical data into a format suitable for machine learning algorithms? Justify your answer."
   ]
  },
  {
   "cell_type": "code",
   "execution_count": null,
   "id": "5f77ba5b",
   "metadata": {},
   "outputs": [],
   "source": []
  },
  {
   "cell_type": "markdown",
   "id": "c05c9f32",
   "metadata": {},
   "source": [
    "---"
   ]
  },
  {
   "cell_type": "markdown",
   "id": "365bb72b",
   "metadata": {},
   "source": [
    "## Q7.You are working on a project that involves predicting customer churn for a telecommunications company. You have a dataset with 5 features, including the customer's gender, age, contract type, monthly charges, and tenure. Which encoding technique(s) would you use to transform the categorical data into numerical data? Provide a step-by-step explanation of how you would implement the encoding."
   ]
  },
  {
   "cell_type": "code",
   "execution_count": null,
   "id": "49af18a5",
   "metadata": {},
   "outputs": [],
   "source": []
  },
  {
   "cell_type": "markdown",
   "id": "9355c597",
   "metadata": {},
   "source": [
    "---"
   ]
  }
 ],
 "metadata": {
  "kernelspec": {
   "display_name": "Python 3 (ipykernel)",
   "language": "python",
   "name": "python3"
  },
  "language_info": {
   "codemirror_mode": {
    "name": "ipython",
    "version": 3
   },
   "file_extension": ".py",
   "mimetype": "text/x-python",
   "name": "python",
   "nbconvert_exporter": "python",
   "pygments_lexer": "ipython3",
   "version": "3.9.13"
  }
 },
 "nbformat": 4,
 "nbformat_minor": 5
}
