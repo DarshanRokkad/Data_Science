{
 "cells": [
  {
   "cell_type": "markdown",
   "id": "3b9a1652",
   "metadata": {},
   "source": [
    "# <font color = 'orange'> Assignment-35 Solutions"
   ]
  },
  {
   "cell_type": "markdown",
   "id": "daab7e7e",
   "metadata": {},
   "source": [
    "---"
   ]
  },
  {
   "cell_type": "markdown",
   "id": "3f7a8ec5",
   "metadata": {},
   "source": [
    "## Q1.Explain the following with an example\n",
    "a) Artificial Intelligence.\n",
    "b) Machine Learning.\n",
    "c) Deep Learning."
   ]
  },
  {
   "cell_type": "markdown",
   "id": "0530b2d8",
   "metadata": {},
   "source": [
    "a) **Artificial Intelligence (AI):**\n",
    "   * **Definition:** Artificial Intelligence refers to the simulation of human intelligence in machines that are programmed to think and learn like humans. It involves developing algorithms and systems that enable computers to perform tasks that typically require human intelligence, such as understanding natural language, recognizing patterns, making decisions, and solving problems.\n",
    "   * **Example:** Chatbots are a common example of AI. These are computer programs that use natural language processing (NLP) to understand and respond to human language. For instance, virtual assistants like Siri and Alexa are powered by AI, allowing them to answer questions, set reminders, and interact with users in a human-like way.\n",
    "\n",
    "b) **Machine Learning (ML):**\n",
    "   * **Definition:** Machine Learning is a subset of AI that focuses on the development of algorithms and statistical models that enable computers to learn and make predictions or decisions without being explicitly programmed. ML algorithms learn from data and improve their performance over time as they are exposed to more data.\n",
    "   * **Example:** Email spam filters are a classic example of machine learning. These filters learn from examples of spam and non-spam emails provided by users. Over time, they adapt and improve their ability to distinguish between spam and legitimate emails, effectively reducing the amount of unwanted emails in your inbox.\n",
    "\n",
    "c) **Deep Learning:**\n",
    "   * **Definition:** Deep Learning is a subfield of machine learning that deals with neural networks with many layers (deep neural networks). These networks are designed to automatically learn and extract hierarchical features from data. Deep learning has been particularly successful in tasks such as image and speech recognition.\n",
    "   * **Example:** Image recognition in self-driving cars is a deep learning application. Deep neural networks can analyze visual data from cameras mounted on cars to identify objects like pedestrians, other vehicles, and road signs. For instance, they can detect stop signs and traffic lights, allowing the vehicle to respond accordingly."
   ]
  },
  {
   "cell_type": "markdown",
   "id": "5f056861",
   "metadata": {},
   "source": [
    "---"
   ]
  },
  {
   "cell_type": "markdown",
   "id": "380927ec",
   "metadata": {},
   "source": [
    "## Q2.What is supervised learning? List some examples of supervised learning."
   ]
  },
  {
   "cell_type": "markdown",
   "id": "6166f34e",
   "metadata": {},
   "source": [
    "Supervised learning is a type of machine learning where an algorithm learns from labeled data to make predictions or decisions without human intervention. In supervised learning, the algorithm is trained on a dataset that consists of input-output pairs, where the input data is associated with corresponding labels or target values. The goal of the algorithm is to learn a mapping from the input data to the output labels, so it can generalize and make accurate predictions on new, unseen data.\n",
    "\n",
    "Examples:\n",
    "\n",
    "1. **Image Classification**: Given a dataset of images, each labeled with a category, a supervised learning algorithm can be trained to recognize and classify new images into those categories. For instance, classifying animals in images as cats or dogs.\n",
    "\n",
    "2. **Spam Email Detection**: Supervised learning algorithms can be used to classify emails as either spam or not spam based on the content and features of the emails.\n",
    "\n",
    "3. **Handwriting Recognition**: Handwriting recognition systems can be trained using labeled examples of handwritten characters to transcribe handwritten text into digital text.\n",
    "\n",
    "4. **Sentiment Analysis**: This involves determining the sentiment (positive, negative, or neutral) of a piece of text, such as product reviews, tweets, or comments.\n",
    "\n",
    "5. **Language Translation**: Neural machine translation models can be trained to translate text from one language to another by learning from parallel texts with translations.\n",
    "\n",
    "6. **Speech Recognition**: Recognizing spoken words or phrases from audio data is a classic application of supervised learning, where the training data includes audio samples and their corresponding transcriptions.\n",
    "\n",
    "7. **Predictive Analytics**: In finance, for example, supervised learning can be used to predict stock prices, credit risk, or fraud detection by learning patterns from historical data."
   ]
  },
  {
   "cell_type": "markdown",
   "id": "f83f4290",
   "metadata": {},
   "source": [
    "---"
   ]
  },
  {
   "cell_type": "markdown",
   "id": "e77446d4",
   "metadata": {},
   "source": [
    "## Q3.What is unsupervised learning? List some examples of unsupervised learning."
   ]
  },
  {
   "cell_type": "code",
   "execution_count": null,
   "id": "802a0cfc",
   "metadata": {},
   "outputs": [],
   "source": []
  },
  {
   "cell_type": "markdown",
   "id": "96013bb4",
   "metadata": {},
   "source": [
    "---"
   ]
  },
  {
   "cell_type": "markdown",
   "id": "0a0ea93a",
   "metadata": {},
   "source": [
    "## Q4.What is the difference between AI, ML, DL and DS?"
   ]
  },
  {
   "cell_type": "code",
   "execution_count": null,
   "id": "5854c3ff",
   "metadata": {},
   "outputs": [],
   "source": []
  },
  {
   "cell_type": "markdown",
   "id": "7fd88464",
   "metadata": {},
   "source": [
    "---"
   ]
  },
  {
   "cell_type": "markdown",
   "id": "b9a63386",
   "metadata": {},
   "source": [
    "## Q5.What are the main differences between supervised , unsupervised, and semi-supervised learning?"
   ]
  },
  {
   "cell_type": "code",
   "execution_count": null,
   "id": "835d228e",
   "metadata": {},
   "outputs": [],
   "source": []
  },
  {
   "cell_type": "markdown",
   "id": "a9b13764",
   "metadata": {},
   "source": [
    "---"
   ]
  },
  {
   "cell_type": "markdown",
   "id": "bb167263",
   "metadata": {},
   "source": [
    "## Q6.What is train, test and validation split? Explain the importance of each term."
   ]
  },
  {
   "cell_type": "code",
   "execution_count": null,
   "id": "a7746721",
   "metadata": {},
   "outputs": [],
   "source": []
  },
  {
   "cell_type": "markdown",
   "id": "56178d23",
   "metadata": {},
   "source": [
    "---"
   ]
  },
  {
   "cell_type": "markdown",
   "id": "16b2a5ac",
   "metadata": {},
   "source": [
    "## Q7.How can unsupervised learning be used in anomaly detection?"
   ]
  },
  {
   "cell_type": "code",
   "execution_count": null,
   "id": "3a862fb7",
   "metadata": {},
   "outputs": [],
   "source": []
  },
  {
   "cell_type": "markdown",
   "id": "432ab0e9",
   "metadata": {},
   "source": [
    "---"
   ]
  },
  {
   "cell_type": "markdown",
   "id": "7144669c",
   "metadata": {},
   "source": [
    "## Q8.List down some commonly used supervised learning algorithms and unsupervised learning algorithms."
   ]
  },
  {
   "cell_type": "code",
   "execution_count": null,
   "id": "4c40277b",
   "metadata": {},
   "outputs": [],
   "source": []
  },
  {
   "cell_type": "markdown",
   "id": "00b1a9a2",
   "metadata": {},
   "source": [
    "---"
   ]
  }
 ],
 "metadata": {
  "kernelspec": {
   "display_name": "Python 3 (ipykernel)",
   "language": "python",
   "name": "python3"
  },
  "language_info": {
   "codemirror_mode": {
    "name": "ipython",
    "version": 3
   },
   "file_extension": ".py",
   "mimetype": "text/x-python",
   "name": "python",
   "nbconvert_exporter": "python",
   "pygments_lexer": "ipython3",
   "version": "3.9.13"
  }
 },
 "nbformat": 4,
 "nbformat_minor": 5
}
