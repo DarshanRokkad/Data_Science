{
 "cells": [
  {
   "cell_type": "markdown",
   "id": "fe8087c4",
   "metadata": {},
   "source": [
    "# <font color = 'orange'> 5 Number Summary and Box Plot"
   ]
  },
  {
   "cell_type": "markdown",
   "id": "1b76b6f8",
   "metadata": {},
   "source": [
    "---"
   ]
  },
  {
   "cell_type": "code",
   "execution_count": 1,
   "id": "bd0d54a6",
   "metadata": {},
   "outputs": [],
   "source": [
    "import numpy as np "
   ]
  },
  {
   "cell_type": "code",
   "execution_count": 2,
   "id": "00adb66d",
   "metadata": {},
   "outputs": [],
   "source": [
    "lst_marks = [45,32,56,75,89,54,32,89,90,87,67,54,45,98,99,67,74]\n",
    "\n",
    "minimum , Q1 , median , Q3 , maximum = np.quantile(lst_marks,[0,0.25,0.5,0.75,1.0])"
   ]
  },
  {
   "cell_type": "markdown",
   "id": "cf1f2d33",
   "metadata": {},
   "source": [
    "### 5 Number Summary "
   ]
  },
  {
   "cell_type": "code",
   "execution_count": 3,
   "id": "b1c4c570",
   "metadata": {},
   "outputs": [
    {
     "name": "stdout",
     "output_type": "stream",
     "text": [
      "5 number summary.\n",
      "\n",
      "Minimum = 32.0\n",
      "Q1 = 54.0\n",
      "Median = 67.0\n",
      "Q3 = 89.0\n",
      "Maximum = 99.0\n"
     ]
    }
   ],
   "source": [
    "print('5 number summary.')\n",
    "print()\n",
    "print('Minimum =',minimum)\n",
    "print('Q1 =',Q1)\n",
    "print('Median =',median)\n",
    "print('Q3 =',Q3)\n",
    "print('Maximum =',maximum)"
   ]
  },
  {
   "cell_type": "markdown",
   "id": "b0a83dd7",
   "metadata": {},
   "source": [
    "### Inter Quartile Range"
   ]
  },
  {
   "cell_type": "code",
   "execution_count": 4,
   "id": "56f70ded",
   "metadata": {},
   "outputs": [
    {
     "name": "stdout",
     "output_type": "stream",
     "text": [
      "Inter Quartile Range = 35.0\n"
     ]
    }
   ],
   "source": [
    "iqr = Q3 - Q1\n",
    "print('Inter Quartile Range =',iqr)"
   ]
  },
  {
   "cell_type": "markdown",
   "id": "b08262f5",
   "metadata": {},
   "source": [
    "### Lower Fence and Upper Fence"
   ]
  },
  {
   "cell_type": "code",
   "execution_count": 5,
   "id": "d22ade3c",
   "metadata": {},
   "outputs": [
    {
     "name": "stdout",
     "output_type": "stream",
     "text": [
      "Lower Fence = 1.5\n",
      "Upper Fence = 141.5\n"
     ]
    }
   ],
   "source": [
    "lower_fence = Q1 - 1.5 * iqr\n",
    "upper_fence = Q3 + 1.5 * iqr\n",
    "\n",
    "print('Lower Fence =',lower_fence)\n",
    "print('Upper Fence =',upper_fence)"
   ]
  },
  {
   "cell_type": "markdown",
   "id": "a3a3bd7c",
   "metadata": {},
   "source": [
    "### Finding outliers"
   ]
  },
  {
   "cell_type": "code",
   "execution_count": 6,
   "id": "4b05cbfd",
   "metadata": {},
   "outputs": [
    {
     "name": "stdout",
     "output_type": "stream",
     "text": [
      "No outlier is present in dataset.\n"
     ]
    }
   ],
   "source": [
    "outliers = []\n",
    "for i in lst_marks:\n",
    "    if i < lower_fence or i > upper_fence:\n",
    "        outliers.append(i)\n",
    "        \n",
    "if len(outliers) == 0:\n",
    "    print('No outlier is present in dataset.')\n",
    "else :\n",
    "    print('Outliers are',outliers)"
   ]
  },
  {
   "cell_type": "markdown",
   "id": "3d57112c",
   "metadata": {},
   "source": [
    "---"
   ]
  },
  {
   "cell_type": "markdown",
   "id": "12ac2bad",
   "metadata": {},
   "source": [
    "### Box plot"
   ]
  },
  {
   "cell_type": "code",
   "execution_count": 7,
   "id": "d3260ee7",
   "metadata": {},
   "outputs": [],
   "source": [
    "lst_marks = [45,32,56,75,89,54,32,89,90,87,67,54,45,98,99,67,74]"
   ]
  },
  {
   "cell_type": "code",
   "execution_count": 8,
   "id": "6354273e",
   "metadata": {},
   "outputs": [],
   "source": [
    "import seaborn as sns"
   ]
  },
  {
   "cell_type": "code",
   "execution_count": 9,
   "id": "ba72fc30",
   "metadata": {},
   "outputs": [
    {
     "data": {
      "text/plain": [
       "<AxesSubplot:>"
      ]
     },
     "execution_count": 9,
     "metadata": {},
     "output_type": "execute_result"
    },
    {
     "data": {
      "image/png": "[encoded data removed]",
      "text/plain": [
       "<Figure size 640x480 with 1 Axes>"
      ]
     },
     "metadata": {},
     "output_type": "display_data"
    }
   ],
   "source": [
    "# using seaborn \n",
    "sns.boxplot(x = lst_marks)\n",
    "\n",
    "# horizontal box plot"
   ]
  },
  {
   "cell_type": "markdown",
   "id": "5f142fe0",
   "metadata": {},
   "source": [
    "---"
   ]
  },
  {
   "cell_type": "code",
   "execution_count": 10,
   "id": "cc4892bc",
   "metadata": {},
   "outputs": [],
   "source": [
    "import matplotlib.pyplot as plt "
   ]
  },
  {
   "cell_type": "code",
   "execution_count": 11,
   "id": "2a744151",
   "metadata": {},
   "outputs": [
    {
     "data": {
      "text/plain": [
       "{'whiskers': [<matplotlib.lines.Line2D at 0x23ee45d3ac0>,\n",
       "  <matplotlib.lines.Line2D at 0x23ee45d3d90>],\n",
       " 'caps': [<matplotlib.lines.Line2D at 0x23ee43e60a0>,\n",
       "  <matplotlib.lines.Line2D at 0x23ee43e6370>],\n",
       " 'boxes': [<matplotlib.lines.Line2D at 0x23ee45d38b0>],\n",
       " 'medians': [<matplotlib.lines.Line2D at 0x23ee43e6640>],\n",
       " 'fliers': [<matplotlib.lines.Line2D at 0x23ee43e6910>],\n",
       " 'means': []}"
      ]
     },
     "execution_count": 11,
     "metadata": {},
     "output_type": "execute_result"
    },
    {
     "data": {
      "image/png": "[encoded data removed]",
      "text/plain": [
       "<Figure size 640x480 with 1 Axes>"
      ]
     },
     "metadata": {},
     "output_type": "display_data"
    }
   ],
   "source": [
    "plt.boxplot(lst_marks)\n",
    "# vertical box plot "
   ]
  },
  {
   "cell_type": "markdown",
   "id": "a3a3f33f",
   "metadata": {},
   "source": [
    "---"
   ]
  },
  {
   "cell_type": "markdown",
   "id": "8c8db213",
   "metadata": {},
   "source": [
    "### Other example containing the outliers"
   ]
  },
  {
   "cell_type": "code",
   "execution_count": 12,
   "id": "35893979",
   "metadata": {},
   "outputs": [],
   "source": [
    "lst_marks=[-100,-200,45,32,56,75,89,54,32,89,90,87,67,54,45,98,99,67,74,150,170,180]"
   ]
  },
  {
   "cell_type": "code",
   "execution_count": 13,
   "id": "7d41b888",
   "metadata": {},
   "outputs": [
    {
     "data": {
      "text/plain": [
       "<AxesSubplot:>"
      ]
     },
     "execution_count": 13,
     "metadata": {},
     "output_type": "execute_result"
    },
    {
     "data": {
      "image/png": "[encoded data removed]",
      "text/plain": [
       "<Figure size 640x480 with 1 Axes>"
      ]
     },
     "metadata": {},
     "output_type": "display_data"
    }
   ],
   "source": [
    "sns.boxplot(x = lst_marks)\n",
    "# outside the dots indicates the outliers"
   ]
  },
  {
   "cell_type": "markdown",
   "id": "c14fbcd1",
   "metadata": {},
   "source": [
    "---"
   ]
  }
 ],
 "metadata": {
  "kernelspec": {
   "display_name": "Python 3 (ipykernel)",
   "language": "python",
   "name": "python3"
  },
  "language_info": {
   "codemirror_mode": {
    "name": "ipython",
    "version": 3
   },
   "file_extension": ".py",
   "mimetype": "text/x-python",
   "name": "python",
   "nbconvert_exporter": "python",
   "pygments_lexer": "ipython3",
   "version": "3.9.13"
  }
 },
 "nbformat": 4,
 "nbformat_minor": 5
}
