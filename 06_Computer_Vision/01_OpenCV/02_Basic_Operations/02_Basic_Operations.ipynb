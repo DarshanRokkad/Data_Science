{
 "cells": [
  {
   "cell_type": "markdown",
   "id": "e197c217",
   "metadata": {},
   "source": [
    "# <font color = 'orange'> Basic Operations"
   ]
  },
  {
   "cell_type": "markdown",
   "id": "1c5724d6",
   "metadata": {},
   "source": [
    "---"
   ]
  },
  {
   "cell_type": "code",
   "execution_count": 1,
   "id": "b5b9e80d",
   "metadata": {},
   "outputs": [],
   "source": [
    "import cv2"
   ]
  },
  {
   "cell_type": "markdown",
   "id": "ad3d096a",
   "metadata": {},
   "source": [
    "---"
   ]
  },
  {
   "cell_type": "markdown",
   "id": "21da7691",
   "metadata": {},
   "source": [
    "### <font color='blue'> Resizing"
   ]
  },
  {
   "cell_type": "code",
   "execution_count": 4,
   "id": "cb41b99f",
   "metadata": {},
   "outputs": [],
   "source": [
    "# original image\n",
    "img = cv2.imread('Resources/data/boy_coding.jpg')"
   ]
  },
  {
   "cell_type": "code",
   "execution_count": 5,
   "id": "9fc4c106",
   "metadata": {},
   "outputs": [
    {
     "name": "stdout",
     "output_type": "stream",
     "text": [
      "(1024, 1024, 3)\n"
     ]
    },
    {
     "data": {
      "text/plain": [
       "-1"
      ]
     },
     "execution_count": 5,
     "metadata": {},
     "output_type": "execute_result"
    }
   ],
   "source": [
    "# original image\n",
    "print(img.shape)\n",
    "\n",
    "cv2.imshow('image', img)\n",
    "cv2.waitKey(0)"
   ]
  },
  {
   "cell_type": "code",
   "execution_count": 8,
   "id": "d3d31c16",
   "metadata": {},
   "outputs": [
    {
     "name": "stdout",
     "output_type": "stream",
     "text": [
      "(640, 640, 3)\n"
     ]
    },
    {
     "data": {
      "text/plain": [
       "-1"
      ]
     },
     "execution_count": 8,
     "metadata": {},
     "output_type": "execute_result"
    }
   ],
   "source": [
    "# resized image\n",
    "resized_img = cv2.resize(img, (640, 640))\n",
    "\n",
    "print(resized_img.shape)\n",
    "\n",
    "cv2.imshow('image', resized_img)\n",
    "cv2.waitKey(0)"
   ]
  },
  {
   "cell_type": "markdown",
   "id": "15416b60",
   "metadata": {},
   "source": [
    "---"
   ]
  },
  {
   "cell_type": "markdown",
   "id": "481185ec",
   "metadata": {},
   "source": [
    "### <font color='blue'> Croping"
   ]
  },
  {
   "cell_type": "code",
   "execution_count": 11,
   "id": "5a4c22a4",
   "metadata": {},
   "outputs": [],
   "source": [
    "img = cv2.imread('Resources/data/boy_coding.jpg')"
   ]
  },
  {
   "cell_type": "code",
   "execution_count": 16,
   "id": "16214a6a",
   "metadata": {},
   "outputs": [
    {
     "name": "stdout",
     "output_type": "stream",
     "text": [
      "(1024, 1024, 3)\n"
     ]
    },
    {
     "data": {
      "text/plain": [
       "-1"
      ]
     },
     "execution_count": 16,
     "metadata": {},
     "output_type": "execute_result"
    }
   ],
   "source": [
    "# original image\n",
    "\n",
    "print(img.shape)\n",
    "\n",
    "cv2.imshow('image', img)\n",
    "cv2.waitKey(0)"
   ]
  },
  {
   "cell_type": "code",
   "execution_count": 19,
   "id": "e11a7ed1",
   "metadata": {},
   "outputs": [
    {
     "name": "stdout",
     "output_type": "stream",
     "text": [
      "(650, 500, 3)\n"
     ]
    },
    {
     "data": {
      "text/plain": [
       "-1"
      ]
     },
     "execution_count": 19,
     "metadata": {},
     "output_type": "execute_result"
    }
   ],
   "source": [
    "# cropped image\n",
    "\n",
    "# height, width , color channel\n",
    "crop_img = img[50:700,300:800,:]\n",
    "\n",
    "print(crop_img.shape)\n",
    "\n",
    "cv2.imshow('image', crop_img)\n",
    "cv2.waitKey(0)"
   ]
  },
  {
   "cell_type": "code",
   "execution_count": 20,
   "id": "87e31a81",
   "metadata": {},
   "outputs": [
    {
     "data": {
      "text/plain": [
       "True"
      ]
     },
     "execution_count": 20,
     "metadata": {},
     "output_type": "execute_result"
    }
   ],
   "source": [
    "# saving the cropped image\n",
    "\n",
    "cv2.imwrite('Resources/data/boy_coding_cropped.jpg', crop_img)"
   ]
  },
  {
   "cell_type": "markdown",
   "id": "72093d8e",
   "metadata": {},
   "source": [
    "---"
   ]
  }
 ],
 "metadata": {
  "kernelspec": {
   "display_name": "Python 3 (ipykernel)",
   "language": "python",
   "name": "python3"
  },
  "language_info": {
   "codemirror_mode": {
    "name": "ipython",
    "version": 3
   },
   "file_extension": ".py",
   "mimetype": "text/x-python",
   "name": "python",
   "nbconvert_exporter": "python",
   "pygments_lexer": "ipython3",
   "version": "3.9.13"
  }
 },
 "nbformat": 4,
 "nbformat_minor": 5
}
