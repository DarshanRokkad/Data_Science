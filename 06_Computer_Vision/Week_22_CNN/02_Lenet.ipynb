{
  "nbformat": 4,
  "nbformat_minor": 0,
  "metadata": {
    "colab": {
      "provenance": []
    },
    "kernelspec": {
      "name": "python3",
      "display_name": "Python 3"
    },
    "language_info": {
      "name": "python"
    }
  },
  "cells": [
    {
      "cell_type": "markdown",
      "source": [
        "# <font color = 'orange'> Lenet"
      ],
      "metadata": {
        "id": "hCjfF4OidJKs"
      }
    },
    {
      "cell_type": "markdown",
      "source": [
        "---"
      ],
      "metadata": {
        "id": "ib7CX1EYdF3L"
      }
    },
    {
      "cell_type": "code",
      "source": [
        "import tensorflow as tf\n",
        "\n",
        "# load dataset\n",
        "(x_train, y_train), (x_test, y_test) = tf.keras.datasets.cifar10.load_data()\n",
        "\n",
        "# performing reshaping to 4d tensor\n",
        "x_train = x_train.reshape(x_train.shape[0], x_train.shape[1], x_train.shape[2], 3)\n",
        "x_test = x_test.reshape(x_test.shape[0], x_test.shape[1], x_test.shape[2], 3)\n",
        "\n",
        "# scaling down the data\n",
        "x_train = x_train / float(x_train.max())\n",
        "x_test = x_test / float(x_train.max())\n",
        "\n",
        "# one hot encoding\n",
        "import numpy as np\n",
        "num_classes = len(np.unique(y_train))\n",
        "y_train = tf.keras.utils.to_categorical(y_train, num_classes)\n",
        "y_test = tf.keras.utils.to_categorical(y_test, num_classes)\n",
        "\n",
        "# building neural network\n",
        "model = tf.keras.models.Sequential()\n",
        "\n",
        "# adding convolution layers to model\n",
        "model.add(tf.keras.layers.Conv2D(filters = 6, kernel_size = (5, 5), activation = 'tanh', input_shape = (32, 32, 3)))\n",
        "model.add(tf.keras.layers.MaxPooling2D(pool_size = (2, 2)))\n",
        "model.add(tf.keras.layers.Conv2D(filters = 16, kernel_size = (5, 5), activation = 'relu'))\n",
        "model.add(tf.keras.layers.MaxPooling2D(pool_size = (2, 2)))\n",
        "model.add(tf.keras.layers.Flatten())\n",
        "model.add(tf.keras.layers.Dense(120, activation = 'relu')) # hidden layer 1\n",
        "model.add(tf.keras.layers.Dense(84, activation = 'relu')) # hidden layer 2\n",
        "model.add(tf.keras.layers.Dense(10, activation = 'softmax')) # output layer\n",
        "\n",
        "# model architecture\n",
        "model.summary()\n",
        "\n",
        "# model compilation\n",
        "model.compile(loss = 'categorical_crossentropy', optimizer = 'adam', metrics = ['accuracy'])\n",
        "\n",
        "# model training\n",
        "model.fit(x_train, y_train, epochs = 2, batch_size = 128, validation_data = (x_test, y_test))\n",
        "\n",
        "# model evaluation\n",
        "score = model.evaluate(x_test, y_test)\n",
        "\n",
        "# dispalying the accuracy\n",
        "print(f'Test Loss : {score[0]}')\n",
        "print(f'Test Accuracy : {score[1]*100} %')"
      ],
      "metadata": {
        "colab": {
          "base_uri": "https://localhost:8080/"
        },
        "id": "Gs5Cf0frdFF6",
        "outputId": "981ca66a-f4de-49f8-a1ae-904d7a8349ef"
      },
      "execution_count": 7,
      "outputs": [
        {
          "output_type": "stream",
          "name": "stdout",
          "text": [
            "Model: \"sequential_2\"\n",
            "_________________________________________________________________\n",
            " Layer (type)                Output Shape              Param #   \n",
            "=================================================================\n",
            " conv2d_3 (Conv2D)           (None, 28, 28, 6)         456       \n",
            "                                                                 \n",
            " max_pooling2d_3 (MaxPoolin  (None, 14, 14, 6)         0         \n",
            " g2D)                                                            \n",
            "                                                                 \n",
            " conv2d_4 (Conv2D)           (None, 10, 10, 16)        2416      \n",
            "                                                                 \n",
            " max_pooling2d_4 (MaxPoolin  (None, 5, 5, 16)          0         \n",
            " g2D)                                                            \n",
            "                                                                 \n",
            " flatten_1 (Flatten)         (None, 400)               0         \n",
            "                                                                 \n",
            " dense_3 (Dense)             (None, 120)               48120     \n",
            "                                                                 \n",
            " dense_4 (Dense)             (None, 84)                10164     \n",
            "                                                                 \n",
            " dense_5 (Dense)             (None, 10)                850       \n",
            "                                                                 \n",
            "=================================================================\n",
            "Total params: 62006 (242.21 KB)\n",
            "Trainable params: 62006 (242.21 KB)\n",
            "Non-trainable params: 0 (0.00 Byte)\n",
            "_________________________________________________________________\n",
            "Epoch 1/2\n",
            "391/391 [==============================] - 41s 102ms/step - loss: 1.6628 - accuracy: 0.3931 - val_loss: 7.7421 - val_accuracy: 0.2715\n",
            "Epoch 2/2\n",
            "391/391 [==============================] - 37s 95ms/step - loss: 1.3666 - accuracy: 0.5068 - val_loss: 7.3314 - val_accuracy: 0.3013\n",
            "313/313 [==============================] - 4s 11ms/step - loss: 7.3314 - accuracy: 0.3013\n",
            "Test Loss : 7.331446170806885\n",
            "Test Accuracy : 30.129998922348022 %\n"
          ]
        }
      ]
    },
    {
      "cell_type": "markdown",
      "source": [
        "---"
      ],
      "metadata": {
        "id": "E7cR2XWB3wLX"
      }
    }
  ]
}