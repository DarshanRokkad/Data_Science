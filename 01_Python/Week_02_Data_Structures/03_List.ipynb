{
 "cells": [
  {
   "cell_type": "markdown",
   "id": "c2d23d92",
   "metadata": {},
   "source": [
    "# List \n",
    "* Lists is ordered and mutable."
   ]
  },
  {
   "cell_type": "code",
   "execution_count": 1,
   "id": "69b3c324",
   "metadata": {},
   "outputs": [
    {
     "data": {
      "text/plain": [
       "list"
      ]
     },
     "execution_count": 1,
     "metadata": {},
     "output_type": "execute_result"
    }
   ],
   "source": [
    "type([])"
   ]
  },
  {
   "cell_type": "code",
   "execution_count": 2,
   "id": "a26f57b4",
   "metadata": {},
   "outputs": [
    {
     "data": {
      "text/plain": [
       "['h', 'e', 'l', 'l', 'o']"
      ]
     },
     "execution_count": 2,
     "metadata": {},
     "output_type": "execute_result"
    }
   ],
   "source": [
    "list(\"hello\")"
   ]
  },
  {
   "cell_type": "code",
   "execution_count": 3,
   "id": "55b9e3fb",
   "metadata": {},
   "outputs": [
    {
     "data": {
      "text/plain": [
       "['hello', 'this', 'is', 'darshan']"
      ]
     },
     "execution_count": 3,
     "metadata": {},
     "output_type": "execute_result"
    }
   ],
   "source": [
    "list(\"hello this is darshan\".split(' '))"
   ]
  },
  {
   "cell_type": "code",
   "execution_count": 5,
   "id": "7c1f1500",
   "metadata": {},
   "outputs": [
    {
     "name": "stdout",
     "output_type": "stream",
     "text": [
      "['PW', 'skills', 'Datas', 'science', 'masters']\n"
     ]
    }
   ],
   "source": [
    "lst1 = ['PW', 'skills', 'Datas', 'science', 'masters']\n",
    "print(lst1)"
   ]
  },
  {
   "cell_type": "code",
   "execution_count": 6,
   "id": "75beb8fb",
   "metadata": {},
   "outputs": [
    {
     "name": "stdout",
     "output_type": "stream",
     "text": [
      "[['darshan', 'september']]\n"
     ]
    }
   ],
   "source": [
    "lst2 = [['darshan','september']]\n",
    "print(lst2)"
   ]
  },
  {
   "cell_type": "code",
   "execution_count": 7,
   "id": "42a1c4d9",
   "metadata": {},
   "outputs": [
    {
     "name": "stdout",
     "output_type": "stream",
     "text": [
      "['PW', 'skills', 'Datas', 'science', 'masters', ['darshan', 'september']]\n",
      "\n",
      "darshan\n"
     ]
    }
   ],
   "source": [
    "lst3 = lst1 + lst2 \n",
    "print(lst3)\n",
    "print()\n",
    "print(lst3[-1][0])"
   ]
  },
  {
   "cell_type": "code",
   "execution_count": 8,
   "id": "954f79ee",
   "metadata": {},
   "outputs": [
    {
     "name": "stdout",
     "output_type": "stream",
     "text": [
      "['PW', 'skills', 'Datas', 'science', 'masters', 'PW', 'skills', 'Datas', 'science', 'masters']\n"
     ]
    }
   ],
   "source": [
    "print(lst1*2)"
   ]
  },
  {
   "cell_type": "code",
   "execution_count": 9,
   "id": "3ed271fd",
   "metadata": {},
   "outputs": [
    {
     "name": "stdout",
     "output_type": "stream",
     "text": [
      "PW is present in the list.\n"
     ]
    }
   ],
   "source": [
    "if \"pw\".upper() in lst1:\n",
    "    print(\"PW is present in the list.\")"
   ]
  },
  {
   "cell_type": "code",
   "execution_count": 10,
   "id": "ca5abd50",
   "metadata": {},
   "outputs": [
    {
     "name": "stdout",
     "output_type": "stream",
     "text": [
      "[5, 9, 3, 1, 5, 7, 8]\n",
      "9\n",
      "1\n"
     ]
    }
   ],
   "source": [
    "lst4 = [5,9,3,1,5,7,8]\n",
    "print(lst4)\n",
    "print(max(lst4))\n",
    "print(min(lst4))"
   ]
  },
  {
   "cell_type": "code",
   "execution_count": 11,
   "id": "c7d76682",
   "metadata": {},
   "outputs": [
    {
     "name": "stdout",
     "output_type": "stream",
     "text": [
      "True\n"
     ]
    }
   ],
   "source": [
    "print(2==2.0)"
   ]
  },
  {
   "cell_type": "code",
   "execution_count": 12,
   "id": "d3027c4b",
   "metadata": {},
   "outputs": [
    {
     "name": "stdout",
     "output_type": "stream",
     "text": [
      "[5, 9, 3, 1, 5, 7, 8, 23]\n"
     ]
    }
   ],
   "source": [
    "lst4.append(23)\n",
    "print(lst4)"
   ]
  },
  {
   "cell_type": "code",
   "execution_count": 13,
   "id": "60fcfecd",
   "metadata": {},
   "outputs": [
    {
     "data": {
      "text/plain": [
       "23"
      ]
     },
     "execution_count": 13,
     "metadata": {},
     "output_type": "execute_result"
    }
   ],
   "source": [
    "lst4.pop()"
   ]
  },
  {
   "cell_type": "code",
   "execution_count": 14,
   "id": "7f35bdb2",
   "metadata": {},
   "outputs": [
    {
     "data": {
      "text/plain": [
       "[5, 9, 3, 1, 5, 7, 8]"
      ]
     },
     "execution_count": 14,
     "metadata": {},
     "output_type": "execute_result"
    }
   ],
   "source": [
    "lst4"
   ]
  },
  {
   "cell_type": "code",
   "execution_count": 15,
   "id": "208b908d",
   "metadata": {},
   "outputs": [
    {
     "data": {
      "text/plain": [
       "3"
      ]
     },
     "execution_count": 15,
     "metadata": {},
     "output_type": "execute_result"
    }
   ],
   "source": [
    "lst4.pop(2)"
   ]
  },
  {
   "cell_type": "code",
   "execution_count": 16,
   "id": "400d9262",
   "metadata": {},
   "outputs": [
    {
     "data": {
      "text/plain": [
       "[5, 9, 1, 5, 7, 8]"
      ]
     },
     "execution_count": 16,
     "metadata": {},
     "output_type": "execute_result"
    }
   ],
   "source": [
    "lst4"
   ]
  },
  {
   "cell_type": "code",
   "execution_count": 17,
   "id": "4ba8e6e8",
   "metadata": {},
   "outputs": [
    {
     "data": {
      "text/plain": [
       "[8, 7, 5, 1, 9, 5]"
      ]
     },
     "execution_count": 17,
     "metadata": {},
     "output_type": "execute_result"
    }
   ],
   "source": [
    "lst4[::-1]"
   ]
  },
  {
   "cell_type": "code",
   "execution_count": 18,
   "id": "5b681489",
   "metadata": {},
   "outputs": [
    {
     "name": "stdout",
     "output_type": "stream",
     "text": [
      "[5, 9, 1, 5, 7, 8]\n",
      "[8, 7, 5, 1, 9, 5]\n"
     ]
    }
   ],
   "source": [
    "print(lst4)\n",
    "lst4.reverse()\n",
    "print(lst4)"
   ]
  },
  {
   "cell_type": "code",
   "execution_count": 19,
   "id": "f075b948",
   "metadata": {},
   "outputs": [
    {
     "name": "stdout",
     "output_type": "stream",
     "text": [
      "[8, 7, 5, 1, 9, 5]\n",
      "[1, 5, 5, 7, 8, 9]\n"
     ]
    }
   ],
   "source": [
    "print(lst4)\n",
    "lst4.sort()\n",
    "print(lst4)"
   ]
  },
  {
   "cell_type": "code",
   "execution_count": 20,
   "id": "40e42ceb",
   "metadata": {},
   "outputs": [
    {
     "name": "stdout",
     "output_type": "stream",
     "text": [
      "[9, 8, 7, 5, 5, 1]\n"
     ]
    }
   ],
   "source": [
    "lst4.sort(reverse=True)\n",
    "print(lst4)"
   ]
  },
  {
   "cell_type": "markdown",
   "id": "56b24809",
   "metadata": {},
   "source": [
    "# 2D list"
   ]
  },
  {
   "cell_type": "code",
   "execution_count": 21,
   "id": "8570c583",
   "metadata": {},
   "outputs": [],
   "source": [
    "matrix = [[1,2,3],[4,5,6],[7,8,9]]"
   ]
  },
  {
   "cell_type": "code",
   "execution_count": 22,
   "id": "7dbf954b",
   "metadata": {},
   "outputs": [
    {
     "name": "stdout",
     "output_type": "stream",
     "text": [
      "[[1, 2, 3], [4, 5, 6], [7, 8, 9]]\n"
     ]
    }
   ],
   "source": [
    "print(matrix)"
   ]
  },
  {
   "cell_type": "code",
   "execution_count": 23,
   "id": "f1037201",
   "metadata": {},
   "outputs": [
    {
     "data": {
      "text/plain": [
       "[5, 6]"
      ]
     },
     "execution_count": 23,
     "metadata": {},
     "output_type": "execute_result"
    }
   ],
   "source": [
    "matrix[1][1:]"
   ]
  },
  {
   "cell_type": "markdown",
   "id": "c520092e",
   "metadata": {},
   "source": [
    "# List comprehension"
   ]
  },
  {
   "cell_type": "code",
   "execution_count": 24,
   "id": "980885b8",
   "metadata": {},
   "outputs": [
    {
     "data": {
      "text/plain": [
       "[1, 2, 3, 4, 5, 6, 7, 8, 9, 10]"
      ]
     },
     "execution_count": 24,
     "metadata": {},
     "output_type": "execute_result"
    }
   ],
   "source": [
    "a = [i for i in range(1,11)]\n",
    "a"
   ]
  },
  {
   "cell_type": "code",
   "execution_count": 25,
   "id": "b67270ba",
   "metadata": {},
   "outputs": [
    {
     "name": "stdout",
     "output_type": "stream",
     "text": [
      "[1, 2, 3, 4, 5, 6, 7, 8]\n",
      "Even sum = 20\n",
      "Odd sum = 16\n"
     ]
    }
   ],
   "source": [
    "# Example 1: count the sum and number of even and odd in a list \n",
    "lst = [1,2,3,4,5,6,7,8]\n",
    "\n",
    "print(lst)\n",
    "even = 0 \n",
    "odd = 0 \n",
    "for i in lst:\n",
    "    if i%2==0:\n",
    "        even += i\n",
    "    else :\n",
    "        odd += i\n",
    "print(\"Even sum =\",even)\n",
    "print(\"Odd sum =\",odd)"
   ]
  },
  {
   "cell_type": "code",
   "execution_count": 26,
   "id": "b850df55",
   "metadata": {},
   "outputs": [
    {
     "name": "stdout",
     "output_type": "stream",
     "text": [
      "[1, 2, 3, 4]\n"
     ]
    }
   ],
   "source": [
    "# Example 2: Create a list of only the positive numbers from a given list\n",
    "numbers = [-2, -1, 0, 1, 2, 3, 4]\n",
    "print([i for i in numbers if i>0])"
   ]
  },
  {
   "cell_type": "code",
   "execution_count": 27,
   "id": "47a1b23e",
   "metadata": {},
   "outputs": [
    {
     "data": {
      "text/plain": [
       "['a', 'b', 'c', 'd']"
      ]
     },
     "execution_count": 27,
     "metadata": {},
     "output_type": "execute_result"
    }
   ],
   "source": [
    "# Example 3: Create a list of only the first letters of words in a list\n",
    "words = ['apple', 'banana', 'cherry', 'date']\n",
    "first_letter = [word[0] for word in words]\n",
    "first_letter"
   ]
  },
  {
   "cell_type": "code",
   "execution_count": 28,
   "id": "8cdcb1b6",
   "metadata": {},
   "outputs": [
    {
     "name": "stdout",
     "output_type": "stream",
     "text": [
      "[(1, 1), (1, 2), (1, 3), (1, 4), (1, 5), (2, 1), (2, 2), (2, 3), (2, 4), (2, 5), (3, 1), (3, 2), (3, 3), (3, 4), (3, 5), (4, 1), (4, 2), (4, 3), (4, 4), (4, 5), (5, 1), (5, 2), (5, 3), (5, 4), (5, 5)]\n"
     ]
    }
   ],
   "source": [
    "# Example 4: Create a list of all the possible combinations of 2 elements from a list\n",
    "numbers = [1, 2, 3, 4, 5]\n",
    "com = [(i,j) for i in numbers for j in numbers]\n",
    "print(com)"
   ]
  },
  {
   "cell_type": "markdown",
   "id": "d62208da",
   "metadata": {},
   "source": [
    "# Modification in 2D list"
   ]
  },
  {
   "cell_type": "markdown",
   "id": "392104de",
   "metadata": {},
   "source": [
    "## Shallow copy "
   ]
  },
  {
   "cell_type": "code",
   "execution_count": 5,
   "id": "5941ceac",
   "metadata": {},
   "outputs": [
    {
     "name": "stdout",
     "output_type": "stream",
     "text": [
      "[[1, 2, 3], [4, 5, 6]]\n",
      "[[1, 2, 3], [4, 5, 6]]\n",
      "------------------------------\n",
      "[[99, 2, 3], [4, 5, 6]]\n",
      "[[99, 2, 3], [4, 5, 6]]\n"
     ]
    }
   ],
   "source": [
    "lst1 = [[1,2,3],[4,5,6]]\n",
    "lst2 = lst1.copy()\n",
    "print(lst1)\n",
    "print(lst2)\n",
    "print('-'.center(30,'-'))\n",
    "lst1[0][0] = 99\n",
    "print(lst1)\n",
    "print(lst2)"
   ]
  },
  {
   "cell_type": "markdown",
   "id": "fdfc1497",
   "metadata": {},
   "source": [
    "## Deep copy "
   ]
  },
  {
   "cell_type": "code",
   "execution_count": 7,
   "id": "87ea66d4",
   "metadata": {},
   "outputs": [
    {
     "name": "stdout",
     "output_type": "stream",
     "text": [
      "[[1, 2, 3], [4, 5, 6]]\n",
      "[[1, 2, 3], [4, 5, 6]]\n",
      "------------------------------\n",
      "[[99, 2, 3], [4, 5, 6]]\n",
      "[[1, 2, 3], [4, 5, 6]]\n"
     ]
    }
   ],
   "source": [
    "lst1 = [[1,2,3],[4,5,6]]\n",
    "import copy\n",
    "lst2 = copy.deepcopy(lst1)\n",
    "print(lst1)\n",
    "print(lst2)\n",
    "print('-'.center(30,'-'))\n",
    "lst1[0][0] = 99\n",
    "print(lst1)\n",
    "print(lst2)"
   ]
  },
  {
   "cell_type": "code",
   "execution_count": null,
   "id": "27a70234",
   "metadata": {},
   "outputs": [],
   "source": []
  }
 ],
 "metadata": {
  "kernelspec": {
   "display_name": "Python 3 (ipykernel)",
   "language": "python",
   "name": "python3"
  },
  "language_info": {
   "codemirror_mode": {
    "name": "ipython",
    "version": 3
   },
   "file_extension": ".py",
   "mimetype": "text/x-python",
   "name": "python",
   "nbconvert_exporter": "python",
   "pygments_lexer": "ipython3",
   "version": "3.9.13"
  }
 },
 "nbformat": 4,
 "nbformat_minor": 5
}
