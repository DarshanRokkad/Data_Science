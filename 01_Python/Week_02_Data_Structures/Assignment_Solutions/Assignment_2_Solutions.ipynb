{
 "cells": [
  {
   "cell_type": "markdown",
   "id": "afa3e43b",
   "metadata": {},
   "source": [
    "# <font color = \"orange\"> Assignment-2 solutions"
   ]
  },
  {
   "cell_type": "markdown",
   "id": "bcbca9cb",
   "metadata": {},
   "source": [
    "---"
   ]
  },
  {
   "cell_type": "markdown",
   "id": "a9f20af7",
   "metadata": {},
   "source": [
    "### Q1. How do you comment code in Python? What are the different types of comments?"
   ]
  },
  {
   "cell_type": "markdown",
   "id": "9daf819b",
   "metadata": {},
   "source": [
    "There are 2 Types of comment :\n",
    "1. Single line comment - # Comment goes here\n",
    "2. Multi line comment - \"\"\"Comment goes here\"\"\""
   ]
  },
  {
   "cell_type": "markdown",
   "id": "e942f661",
   "metadata": {},
   "source": [
    "---"
   ]
  },
  {
   "cell_type": "markdown",
   "id": "3709157e",
   "metadata": {},
   "source": [
    "### Q2. What are variables in Python? How do you declare and assign values to variables?"
   ]
  },
  {
   "cell_type": "markdown",
   "id": "421d1aed",
   "metadata": {},
   "source": [
    "Variables are the name given to the data . "
   ]
  },
  {
   "cell_type": "code",
   "execution_count": 1,
   "id": "c4a58868",
   "metadata": {},
   "outputs": [],
   "source": [
    "# 'v' is a variable in python of type int\n",
    "v = 20 "
   ]
  },
  {
   "cell_type": "markdown",
   "id": "ed25e04c",
   "metadata": {},
   "source": [
    "---"
   ]
  },
  {
   "cell_type": "markdown",
   "id": "078395e1",
   "metadata": {},
   "source": [
    "### Q3. How do you convert one data type to another in Python?"
   ]
  },
  {
   "cell_type": "markdown",
   "id": "8e4e99c5",
   "metadata": {},
   "source": [
    "We do type casting to convert data type to another in python."
   ]
  },
  {
   "cell_type": "code",
   "execution_count": 2,
   "id": "822a7bd5",
   "metadata": {},
   "outputs": [
    {
     "name": "stdout",
     "output_type": "stream",
     "text": [
      "10 <class 'int'>\n",
      "10 <class 'str'>\n"
     ]
    }
   ],
   "source": [
    "# changing data type from int to str\n",
    "v = 10 \n",
    "print(v,type(v))\n",
    "v = str(v)\n",
    "print(v,type(v))"
   ]
  },
  {
   "cell_type": "markdown",
   "id": "35d22e1c",
   "metadata": {},
   "source": [
    "---"
   ]
  },
  {
   "cell_type": "markdown",
   "id": "1517e9c3",
   "metadata": {},
   "source": [
    "### Q4. How do you write and execute a Python script from the command line?"
   ]
  },
  {
   "cell_type": "markdown",
   "id": "8e8a194f",
   "metadata": {},
   "source": [
    "1. Python 3 should be installed in the computer.\n",
    "2. Write a python code in the Text editor.\n",
    "3. Save the file with '.py' extension.\n",
    "4. open terminal in the directory you have saved the python file.\n",
    "5. Run the python file in the terminal using command 'python file.py' [if file name is file.py]"
   ]
  },
  {
   "cell_type": "markdown",
   "id": "762605df",
   "metadata": {},
   "source": [
    "---"
   ]
  },
  {
   "cell_type": "markdown",
   "id": "39907bb1",
   "metadata": {},
   "source": [
    "### Q5. Given a list my_list = [1, 2, 3, 4, 5], write the code to slice the list and obtain the sub-list [2, 3]."
   ]
  },
  {
   "cell_type": "code",
   "execution_count": 3,
   "id": "2cfd7e95",
   "metadata": {},
   "outputs": [
    {
     "name": "stdout",
     "output_type": "stream",
     "text": [
      "[2, 3]\n"
     ]
    }
   ],
   "source": [
    "my_list = [1, 2, 3, 4, 5]\n",
    "print(my_list[1:3])"
   ]
  },
  {
   "cell_type": "markdown",
   "id": "c4a5bde8",
   "metadata": {},
   "source": [
    "---"
   ]
  },
  {
   "cell_type": "markdown",
   "id": "6f28f873",
   "metadata": {},
   "source": [
    "### Q6. What is a complex number in mathematics, and how is it represented in Python?"
   ]
  },
  {
   "cell_type": "markdown",
   "id": "faa240b9",
   "metadata": {},
   "source": [
    "Complex numbers a complex number is a number that can be expressed in the form a + bi, where a and b are real numbers, and i is the imaginary unit."
   ]
  },
  {
   "cell_type": "code",
   "execution_count": 4,
   "id": "77d5bbd2",
   "metadata": {},
   "outputs": [
    {
     "name": "stdout",
     "output_type": "stream",
     "text": [
      "(5+6j) <class 'complex'>\n"
     ]
    }
   ],
   "source": [
    "c = 5+6j\n",
    "print(c , type(c))"
   ]
  },
  {
   "cell_type": "markdown",
   "id": "bd2ae017",
   "metadata": {},
   "source": [
    "---"
   ]
  },
  {
   "cell_type": "markdown",
   "id": "bd6f27f8",
   "metadata": {},
   "source": [
    "### Q7. What is the correct way to declare a variable named age and assign the value 25 to it?"
   ]
  },
  {
   "cell_type": "code",
   "execution_count": 5,
   "id": "c949cf53",
   "metadata": {},
   "outputs": [
    {
     "name": "stdout",
     "output_type": "stream",
     "text": [
      "Age = 25\n"
     ]
    }
   ],
   "source": [
    "age = 25\n",
    "print(f\"Age = {age}\")"
   ]
  },
  {
   "cell_type": "markdown",
   "id": "eaec3715",
   "metadata": {},
   "source": [
    "---"
   ]
  },
  {
   "cell_type": "markdown",
   "id": "983969af",
   "metadata": {},
   "source": [
    "### Q8. Declare a variable named price and assign the value 9.99 to it. What data type does this variable belong to?"
   ]
  },
  {
   "cell_type": "code",
   "execution_count": 6,
   "id": "4e6ee743",
   "metadata": {},
   "outputs": [
    {
     "name": "stdout",
     "output_type": "stream",
     "text": [
      "Price : 9.99\n",
      "Data type : <class 'float'>\n"
     ]
    }
   ],
   "source": [
    "price = 9.99 # variable is of float type\n",
    "print(f\"Price : {price}\")\n",
    "print(f\"Data type : {type(price)}\")"
   ]
  },
  {
   "cell_type": "markdown",
   "id": "8d1f23b5",
   "metadata": {},
   "source": [
    "---"
   ]
  },
  {
   "cell_type": "markdown",
   "id": "096fba7f",
   "metadata": {},
   "source": [
    "### Q9. Create a variable named name and assign your full name to it as a string. How would you print the value of this variable?\n"
   ]
  },
  {
   "cell_type": "code",
   "execution_count": 8,
   "id": "619098f7",
   "metadata": {},
   "outputs": [
    {
     "name": "stdout",
     "output_type": "stream",
     "text": [
      "Enter Your name : Darshan R M\n",
      "Your name is Darshan R M\n"
     ]
    }
   ],
   "source": [
    "name = input(\"Enter Your name : \")\n",
    "print(f\"Your name is {name}\")"
   ]
  },
  {
   "cell_type": "markdown",
   "id": "cef819f1",
   "metadata": {},
   "source": [
    "---"
   ]
  },
  {
   "cell_type": "markdown",
   "id": "49bfc2de",
   "metadata": {},
   "source": [
    "### Q10. Given the string \"Hello, World!\", extract the substring \"World\"."
   ]
  },
  {
   "cell_type": "code",
   "execution_count": 9,
   "id": "cf3c5c8c",
   "metadata": {},
   "outputs": [
    {
     "name": "stdout",
     "output_type": "stream",
     "text": [
      "World\n"
     ]
    }
   ],
   "source": [
    "string = \"Hello, World!\"\n",
    "substring = string[7:-1]\n",
    "print(substring)"
   ]
  },
  {
   "cell_type": "markdown",
   "id": "11399ccb",
   "metadata": {},
   "source": [
    "---"
   ]
  },
  {
   "cell_type": "markdown",
   "id": "27b67262",
   "metadata": {},
   "source": [
    "### Q11. Create a variable named \"is_student\" and assign it a boolean value indicating whether you are currently a student or not."
   ]
  },
  {
   "cell_type": "code",
   "execution_count": 10,
   "id": "09dc703b",
   "metadata": {},
   "outputs": [
    {
     "name": "stdout",
     "output_type": "stream",
     "text": [
      "He is a student.\n"
     ]
    }
   ],
   "source": [
    "is_student = True \n",
    "if is_student :\n",
    "    print(\"He is a student.\")\n",
    "else :\n",
    "    print(\"He is not a student.\")"
   ]
  },
  {
   "cell_type": "markdown",
   "id": "3adbd435",
   "metadata": {},
   "source": [
    "---"
   ]
  }
 ],
 "metadata": {
  "kernelspec": {
   "display_name": "Python 3 (ipykernel)",
   "language": "python",
   "name": "python3"
  },
  "language_info": {
   "codemirror_mode": {
    "name": "ipython",
    "version": 3
   },
   "file_extension": ".py",
   "mimetype": "text/x-python",
   "name": "python",
   "nbconvert_exporter": "python",
   "pygments_lexer": "ipython3",
   "version": "3.9.13"
  }
 },
 "nbformat": 4,
 "nbformat_minor": 5
}
