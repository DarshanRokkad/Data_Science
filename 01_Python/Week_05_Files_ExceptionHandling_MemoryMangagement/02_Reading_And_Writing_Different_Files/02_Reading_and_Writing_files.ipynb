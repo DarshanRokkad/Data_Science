{
 "cells": [
  {
   "cell_type": "markdown",
   "id": "4ff1e6d4",
   "metadata": {},
   "source": [
    "# <font color = 'orange'> Reading and Writing files"
   ]
  },
  {
   "cell_type": "markdown",
   "id": "4c55d3d9",
   "metadata": {},
   "source": [
    "---"
   ]
  },
  {
   "cell_type": "markdown",
   "id": "481bdd9f",
   "metadata": {},
   "source": [
    "### 1.json - javascript object notation.\n",
    "### 2.csv - coma separted values."
   ]
  },
  {
   "cell_type": "markdown",
   "id": "19f493ff",
   "metadata": {},
   "source": [
    "## Working with json file"
   ]
  },
  {
   "cell_type": "code",
   "execution_count": 1,
   "id": "f759aeff",
   "metadata": {},
   "outputs": [],
   "source": [
    "data = {\n",
    "    \"name\" : \"sudh\",\n",
    "    \"mail_id\" : \"sudh@gmail.com\",\n",
    "    \"phone_number\" : 91345435,\n",
    "    \"subject\" :[\"data science\" , \"big data\" , \"data analytics\"]\n",
    "}"
   ]
  },
  {
   "cell_type": "markdown",
   "id": "d6a206f3",
   "metadata": {},
   "source": [
    "#### 1.Write operation in json."
   ]
  },
  {
   "cell_type": "code",
   "execution_count": 2,
   "id": "9e220d52",
   "metadata": {},
   "outputs": [],
   "source": [
    "import json\n",
    "\n",
    "with open ('02_json1.json','w') as f :\n",
    "    json.dump(data,f)"
   ]
  },
  {
   "cell_type": "markdown",
   "id": "5375edb4",
   "metadata": {},
   "source": [
    "#### 2.Read operation in json."
   ]
  },
  {
   "cell_type": "code",
   "execution_count": 3,
   "id": "bf853475",
   "metadata": {},
   "outputs": [
    {
     "data": {
      "text/plain": [
       "{'name': 'sudh',\n",
       " 'mail_id': 'sudh@gmail.com',\n",
       " 'phone_number': 91345435,\n",
       " 'subject': ['data science', 'big data', 'data analytics']}"
      ]
     },
     "execution_count": 3,
     "metadata": {},
     "output_type": "execute_result"
    }
   ],
   "source": [
    "with open ('02_json1.json','r') as f :\n",
    "    data = json.load(f)\n",
    "\n",
    "data"
   ]
  },
  {
   "cell_type": "markdown",
   "id": "4862e563",
   "metadata": {},
   "source": [
    "##### Q. Extract the big data from json file"
   ]
  },
  {
   "cell_type": "code",
   "execution_count": 4,
   "id": "8227898a",
   "metadata": {},
   "outputs": [
    {
     "data": {
      "text/plain": [
       "'big data'"
      ]
     },
     "execution_count": 4,
     "metadata": {},
     "output_type": "execute_result"
    }
   ],
   "source": [
    "data['subject'][1]"
   ]
  },
  {
   "cell_type": "markdown",
   "id": "2b91326e",
   "metadata": {},
   "source": [
    "---"
   ]
  },
  {
   "cell_type": "markdown",
   "id": "a3841f9a",
   "metadata": {},
   "source": [
    "## Working with csv file"
   ]
  },
  {
   "cell_type": "code",
   "execution_count": 5,
   "id": "6be49322",
   "metadata": {},
   "outputs": [],
   "source": [
    "data = [[\"name\" , \"email_id\" , \"number\"],[\"sudh\" , \"sudh@gmail.com\" , 92342342],[\"krish\" , \"krish@gmail.com\" , 932432424]]"
   ]
  },
  {
   "cell_type": "markdown",
   "id": "a01e1ffa",
   "metadata": {},
   "source": [
    "#### 1.Write operation in csv."
   ]
  },
  {
   "cell_type": "code",
   "execution_count": 6,
   "id": "6f4534e7",
   "metadata": {},
   "outputs": [],
   "source": [
    "import csv \n",
    "\n",
    "with open('02_csv1.csv','w') as f:\n",
    "    write = csv.writer(f)\n",
    "    for i in data:\n",
    "        # it will add inner list one by one \n",
    "        write.writerow(i)"
   ]
  },
  {
   "cell_type": "markdown",
   "id": "8a58cddb",
   "metadata": {},
   "source": [
    "#### 2.Read operation in csv."
   ]
  },
  {
   "cell_type": "code",
   "execution_count": 7,
   "id": "15fdd3b7",
   "metadata": {},
   "outputs": [
    {
     "name": "stdout",
     "output_type": "stream",
     "text": [
      "['name', 'email_id', 'number']\n",
      "[]\n",
      "['sudh', 'sudh@gmail.com', '92342342']\n",
      "[]\n",
      "['krish', 'krish@gmail.com', '932432424']\n",
      "[]\n"
     ]
    }
   ],
   "source": [
    "with open('02_csv1.csv','r') as f:\n",
    "    read = csv.reader(f)\n",
    "    # read row by row \n",
    "    for i in read:\n",
    "        print(i)"
   ]
  },
  {
   "cell_type": "markdown",
   "id": "65ec7461",
   "metadata": {},
   "source": [
    "---"
   ]
  },
  {
   "cell_type": "markdown",
   "id": "958aed5f",
   "metadata": {},
   "source": [
    "## Working with binary file"
   ]
  },
  {
   "cell_type": "markdown",
   "id": "d8f6214c",
   "metadata": {},
   "source": [
    "#### 1.Write operation in binary file."
   ]
  },
  {
   "cell_type": "code",
   "execution_count": 8,
   "id": "f73eda6f",
   "metadata": {},
   "outputs": [],
   "source": [
    "with open('02_binary.bin','wb') as f :\n",
    "    f.write(b'\\x01\\x02\\x03')"
   ]
  },
  {
   "cell_type": "markdown",
   "id": "272eb5c5",
   "metadata": {},
   "source": [
    "#### 2.Read operation in binary file."
   ]
  },
  {
   "cell_type": "code",
   "execution_count": 9,
   "id": "637b7bd4",
   "metadata": {},
   "outputs": [
    {
     "name": "stdout",
     "output_type": "stream",
     "text": [
      "b'\\x01\\x02\\x03'\n"
     ]
    }
   ],
   "source": [
    "with open('02_binary.bin','rb') as r :\n",
    "    print(r.read())"
   ]
  },
  {
   "cell_type": "markdown",
   "id": "2bfa71ce",
   "metadata": {},
   "source": [
    "---"
   ]
  }
 ],
 "metadata": {
  "kernelspec": {
   "display_name": "Python 3 (ipykernel)",
   "language": "python",
   "name": "python3"
  },
  "language_info": {
   "codemirror_mode": {
    "name": "ipython",
    "version": 3
   },
   "file_extension": ".py",
   "mimetype": "text/x-python",
   "name": "python",
   "nbconvert_exporter": "python",
   "pygments_lexer": "ipython3",
   "version": "3.9.13"
  }
 },
 "nbformat": 4,
 "nbformat_minor": 5
}
