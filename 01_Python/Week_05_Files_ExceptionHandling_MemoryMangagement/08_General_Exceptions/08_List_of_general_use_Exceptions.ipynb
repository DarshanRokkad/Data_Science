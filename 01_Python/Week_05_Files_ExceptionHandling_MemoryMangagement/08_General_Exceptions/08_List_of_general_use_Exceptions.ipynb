{
 "cells": [
  {
   "cell_type": "markdown",
   "id": "fd23bd55",
   "metadata": {},
   "source": [
    "# <font color = 'orange'> List  of general use exceptions"
   ]
  },
  {
   "cell_type": "markdown",
   "id": "db64b8dd",
   "metadata": {},
   "source": [
    "---"
   ]
  },
  {
   "cell_type": "markdown",
   "id": "848a18ba",
   "metadata": {},
   "source": [
    "### 1. ZeroDivisionError."
   ]
  },
  {
   "cell_type": "code",
   "execution_count": 1,
   "id": "787f89e7",
   "metadata": {},
   "outputs": [
    {
     "name": "stdout",
     "output_type": "stream",
     "text": [
      "division by zero\n"
     ]
    }
   ],
   "source": [
    "try:\n",
    "    a = 5/0\n",
    "except ZeroDivisionError as e:\n",
    "    print(e)"
   ]
  },
  {
   "cell_type": "markdown",
   "id": "b256b039",
   "metadata": {},
   "source": [
    "---"
   ]
  },
  {
   "cell_type": "markdown",
   "id": "428329d1",
   "metadata": {},
   "source": [
    "### 2. ValueError."
   ]
  },
  {
   "cell_type": "code",
   "execution_count": 2,
   "id": "d99f37bd",
   "metadata": {},
   "outputs": [
    {
     "name": "stdout",
     "output_type": "stream",
     "text": [
      "invalid literal for int() with base 10: 'sudhdanshu'\n"
     ]
    }
   ],
   "source": [
    "try:\n",
    "    int('sudhdanshu')\n",
    "except ValueError as e :\n",
    "    print(e)"
   ]
  },
  {
   "cell_type": "code",
   "execution_count": 3,
   "id": "e6089b0b",
   "metadata": {},
   "outputs": [
    {
     "name": "stdout",
     "output_type": "stream",
     "text": [
      "Value error raised.\n"
     ]
    }
   ],
   "source": [
    "# automatically Exception class will be called\n",
    "try:\n",
    "    int('sudhdanshu')\n",
    "except :\n",
    "    print('Value error raised.')"
   ]
  },
  {
   "cell_type": "markdown",
   "id": "f122f676",
   "metadata": {},
   "source": [
    "---"
   ]
  },
  {
   "cell_type": "markdown",
   "id": "17b02f8d",
   "metadata": {},
   "source": [
    "### 3. FileNotFoundError."
   ]
  },
  {
   "cell_type": "code",
   "execution_count": 4,
   "id": "e4fdde5a",
   "metadata": {},
   "outputs": [
    {
     "name": "stdout",
     "output_type": "stream",
     "text": [
      "[Errno 2] No such file or directory: 'file.txt'\n"
     ]
    }
   ],
   "source": [
    "try:\n",
    "    with open('file.txt','r') as f:\n",
    "        data = f.read()\n",
    "except FileNotFoundError as e:\n",
    "    print(e)"
   ]
  },
  {
   "cell_type": "markdown",
   "id": "b614c6a2",
   "metadata": {},
   "source": [
    "---"
   ]
  },
  {
   "cell_type": "markdown",
   "id": "cad1015d",
   "metadata": {},
   "source": [
    "### 4. ImportError."
   ]
  },
  {
   "cell_type": "code",
   "execution_count": 5,
   "id": "bfe1fc70",
   "metadata": {},
   "outputs": [
    {
     "name": "stdout",
     "output_type": "stream",
     "text": [
      "No module named 'krish'\n"
     ]
    }
   ],
   "source": [
    "try:\n",
    "    import krish\n",
    "except ImportError as e :\n",
    "    print(e)"
   ]
  },
  {
   "cell_type": "markdown",
   "id": "f7885b57",
   "metadata": {},
   "source": [
    "---"
   ]
  },
  {
   "cell_type": "markdown",
   "id": "e731f4ff",
   "metadata": {},
   "source": [
    "### 5. KeyError."
   ]
  },
  {
   "cell_type": "code",
   "execution_count": 6,
   "id": "ce95eb8b",
   "metadata": {},
   "outputs": [
    {
     "name": "stdout",
     "output_type": "stream",
     "text": [
      "'age'\n"
     ]
    }
   ],
   "source": [
    "try:\n",
    "    d = {'name':'darshan'}\n",
    "    print(d['age'])\n",
    "except KeyError as e :\n",
    "    print(e)"
   ]
  },
  {
   "cell_type": "markdown",
   "id": "a78dfa6b",
   "metadata": {},
   "source": [
    "---"
   ]
  },
  {
   "cell_type": "markdown",
   "id": "b8211587",
   "metadata": {},
   "source": [
    "### 6. AttributeError."
   ]
  },
  {
   "cell_type": "code",
   "execution_count": 7,
   "id": "cbec4c1b",
   "metadata": {},
   "outputs": [
    {
     "name": "stdout",
     "output_type": "stream",
     "text": [
      "'str' object has no attribute 'test'\n"
     ]
    }
   ],
   "source": [
    "try:\n",
    "    'hi'.test()\n",
    "except AttributeError as e:\n",
    "    print(e)"
   ]
  },
  {
   "cell_type": "markdown",
   "id": "a3f7c14b",
   "metadata": {},
   "source": [
    "---"
   ]
  },
  {
   "cell_type": "markdown",
   "id": "5cb710ac",
   "metadata": {},
   "source": [
    "### 7. IndexError."
   ]
  },
  {
   "cell_type": "code",
   "execution_count": 8,
   "id": "9e718bba",
   "metadata": {},
   "outputs": [
    {
     "name": "stdout",
     "output_type": "stream",
     "text": [
      "list index out of range\n"
     ]
    }
   ],
   "source": [
    "try:\n",
    "    l = [3,23,5,1]\n",
    "    print(l[20])\n",
    "except IndexError as e :\n",
    "    print(e)"
   ]
  },
  {
   "cell_type": "markdown",
   "id": "c8cddd3d",
   "metadata": {},
   "source": [
    "---"
   ]
  },
  {
   "cell_type": "markdown",
   "id": "48cb6c97",
   "metadata": {},
   "source": [
    "### 8. TypeError."
   ]
  },
  {
   "cell_type": "code",
   "execution_count": 9,
   "id": "47369718",
   "metadata": {},
   "outputs": [
    {
     "name": "stdout",
     "output_type": "stream",
     "text": [
      "can only concatenate str (not \"int\") to str\n"
     ]
    }
   ],
   "source": [
    "try:\n",
    "    'sudh'+8\n",
    "except TypeError as e :\n",
    "    print(e)"
   ]
  },
  {
   "cell_type": "markdown",
   "id": "13dc94b8",
   "metadata": {},
   "source": [
    "---"
   ]
  },
  {
   "cell_type": "markdown",
   "id": "cc545a2e",
   "metadata": {},
   "source": [
    "### <font color = 'red'> Note : Don't write subclass after super class because subclass will never going to execute."
   ]
  },
  {
   "cell_type": "code",
   "execution_count": 10,
   "id": "d1a5c2e7",
   "metadata": {},
   "outputs": [
    {
     "name": "stdout",
     "output_type": "stream",
     "text": [
      "Caught by Exception class.\n"
     ]
    }
   ],
   "source": [
    "try:\n",
    "    with open('file.txt','r') as f:\n",
    "        data = f.read()\n",
    "# super class\n",
    "except Exception as e :\n",
    "    print('Caught by Exception class.')\n",
    "# subclass which is inherited from superclass\n",
    "# this will never execute as super class is above subclass\n",
    "# as all exception are caught by super class\n",
    "except FileNotFoundError as e :\n",
    "    print('Caught by FileNotFoundError class.')"
   ]
  },
  {
   "cell_type": "markdown",
   "id": "93d32f46",
   "metadata": {},
   "source": [
    "---"
   ]
  },
  {
   "cell_type": "markdown",
   "id": "32250ca0",
   "metadata": {},
   "source": [
    "### We can write exception handling code for better understanding."
   ]
  },
  {
   "cell_type": "code",
   "execution_count": 11,
   "id": "2e11a38b",
   "metadata": {},
   "outputs": [],
   "source": [
    "def read_file_content(file):\n",
    "    try:\n",
    "        with open('file.txt','r') as f:\n",
    "            data = f.read()\n",
    "    except FileNotFoundError as e :\n",
    "        print(e)"
   ]
  },
  {
   "cell_type": "code",
   "execution_count": 12,
   "id": "09acca36",
   "metadata": {},
   "outputs": [
    {
     "name": "stdout",
     "output_type": "stream",
     "text": [
      "[Errno 2] No such file or directory: 'file.txt'\n"
     ]
    }
   ],
   "source": [
    "read_file_content('file.txt')"
   ]
  },
  {
   "cell_type": "markdown",
   "id": "c7ac406b",
   "metadata": {},
   "source": [
    "---"
   ]
  }
 ],
 "metadata": {
  "kernelspec": {
   "display_name": "Python 3 (ipykernel)",
   "language": "python",
   "name": "python3"
  },
  "language_info": {
   "codemirror_mode": {
    "name": "ipython",
    "version": 3
   },
   "file_extension": ".py",
   "mimetype": "text/x-python",
   "name": "python",
   "nbconvert_exporter": "python",
   "pygments_lexer": "ipython3",
   "version": "3.9.13"
  }
 },
 "nbformat": 4,
 "nbformat_minor": 5
}
