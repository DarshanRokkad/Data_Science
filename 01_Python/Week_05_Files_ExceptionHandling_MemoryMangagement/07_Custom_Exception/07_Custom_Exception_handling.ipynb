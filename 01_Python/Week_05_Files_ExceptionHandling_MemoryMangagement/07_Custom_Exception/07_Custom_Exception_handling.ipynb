{
 "cells": [
  {
   "cell_type": "markdown",
   "id": "b5056c6c",
   "metadata": {},
   "source": [
    "# <font color = 'orange'> Custom Exception Handling"
   ]
  },
  {
   "cell_type": "markdown",
   "id": "0b4ca6e3",
   "metadata": {},
   "source": [
    "---"
   ]
  },
  {
   "cell_type": "markdown",
   "id": "64d32cae",
   "metadata": {},
   "source": [
    "### To write our custom exception we have to inherit 'Exception' class.\n",
    "### We have to raise exception."
   ]
  },
  {
   "cell_type": "code",
   "execution_count": 1,
   "id": "50585a4f",
   "metadata": {},
   "outputs": [],
   "source": [
    "class age_exception(Exception):\n",
    "    def __init__(self,msgs):\n",
    "        self.msgs = msgs"
   ]
  },
  {
   "cell_type": "code",
   "execution_count": 2,
   "id": "d9b483d6",
   "metadata": {},
   "outputs": [],
   "source": [
    "def validate_age(age):\n",
    "    if age<0:\n",
    "        raise age_exception('Age should not be lesser then zero.')\n",
    "    elif age>150:\n",
    "        raise age_exception('Age is too high.')\n",
    "    else :\n",
    "        print('Age is valid.')"
   ]
  },
  {
   "cell_type": "code",
   "execution_count": 3,
   "id": "eddd510d",
   "metadata": {},
   "outputs": [
    {
     "name": "stdout",
     "output_type": "stream",
     "text": [
      "Enter your age : -234\n",
      "Age should not be lesser then zero.\n"
     ]
    }
   ],
   "source": [
    "try:\n",
    "    age = int(input('Enter your age : '))\n",
    "    validate_age(age)\n",
    "except age_exception as e:\n",
    "    print(e)"
   ]
  },
  {
   "cell_type": "markdown",
   "id": "81109e1e",
   "metadata": {},
   "source": [
    "---"
   ]
  }
 ],
 "metadata": {
  "kernelspec": {
   "display_name": "Python 3 (ipykernel)",
   "language": "python",
   "name": "python3"
  },
  "language_info": {
   "codemirror_mode": {
    "name": "ipython",
    "version": 3
   },
   "file_extension": ".py",
   "mimetype": "text/x-python",
   "name": "python",
   "nbconvert_exporter": "python",
   "pygments_lexer": "ipython3",
   "version": "3.9.13"
  }
 },
 "nbformat": 4,
 "nbformat_minor": 5
}
