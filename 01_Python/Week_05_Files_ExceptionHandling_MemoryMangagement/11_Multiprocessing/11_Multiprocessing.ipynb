{
 "cells": [
  {
   "cell_type": "markdown",
   "id": "54336b7a",
   "metadata": {},
   "source": [
    "# <font color = 'orange'> Multiprocessing"
   ]
  },
  {
   "cell_type": "markdown",
   "id": "e2befdad",
   "metadata": {},
   "source": [
    "### Multiprocessing is a technique where we allow multiple process to execute concurrenctly."
   ]
  },
  {
   "cell_type": "markdown",
   "id": "8d1d102e",
   "metadata": {},
   "source": [
    "---"
   ]
  },
  {
   "cell_type": "markdown",
   "id": "c5abdd16",
   "metadata": {},
   "source": [
    "### Here, in Multiprocessing we can run mutliple process at time\n",
    "\n",
    "* The parent will be forked and then after execution we will join to parent thread."
   ]
  },
  {
   "cell_type": "code",
   "execution_count": 1,
   "id": "73112a4a",
   "metadata": {},
   "outputs": [
    {
     "name": "stdout",
     "output_type": "stream",
     "text": [
      "This is my main process.\n",
      "This is my multiprocessing program.\n"
     ]
    }
   ],
   "source": [
    "import multiprocessing\n",
    "\n",
    "def test():\n",
    "    print('This is my multiprocessing program.')\n",
    "    \n",
    "if __name__=='__main__':\n",
    "    m = multiprocessing.Process(target = test)\n",
    "    print('This is my main process.')\n",
    "    m.start()\n",
    "    m.join()    "
   ]
  },
  {
   "cell_type": "code",
   "execution_count": 2,
   "id": "72ccc63f",
   "metadata": {},
   "outputs": [
    {
     "name": "stdout",
     "output_type": "stream",
     "text": [
      "This is my multiprocessing program.\n"
     ]
    }
   ],
   "source": [
    "test()"
   ]
  },
  {
   "cell_type": "markdown",
   "id": "55608b31",
   "metadata": {},
   "source": [
    "---"
   ]
  },
  {
   "cell_type": "markdown",
   "id": "21ca8471",
   "metadata": {},
   "source": [
    "### Here , we are creating pool of process.\n",
    "### Use of Pool"
   ]
  },
  {
   "cell_type": "code",
   "execution_count": 3,
   "id": "ca9c3617",
   "metadata": {},
   "outputs": [
    {
     "name": "stdout",
     "output_type": "stream",
     "text": [
      "[4, 9, 16, 25, 36, 49, 64, 81]\n"
     ]
    }
   ],
   "source": [
    "def square(n):\n",
    "    return n**2\n",
    "\n",
    "if __name__ == '__main__':\n",
    "    with multiprocessing.Pool(processes = 5) as pool:\n",
    "        sq_num = pool.map(square,[2,3,4,5,6,7,8,9])\n",
    "        print(sq_num)"
   ]
  },
  {
   "cell_type": "markdown",
   "id": "4c301b24",
   "metadata": {},
   "source": [
    "---"
   ]
  },
  {
   "cell_type": "markdown",
   "id": "477c131d",
   "metadata": {},
   "source": [
    "### Producer and consumer \n",
    "### Use of Queue "
   ]
  },
  {
   "cell_type": "code",
   "execution_count": 4,
   "id": "b3089eb5",
   "metadata": {},
   "outputs": [
    {
     "name": "stdout",
     "output_type": "stream",
     "text": [
      "sudh\n",
      "kumar\n",
      "pwskills\n",
      "krish\n",
      "naik\n",
      "xyz\n"
     ]
    },
    {
     "name": "stderr",
     "output_type": "stream",
     "text": [
      "Process Process-8:\n",
      "Traceback (most recent call last):\n",
      "  File \"/opt/conda/lib/python3.10/multiprocessing/process.py\", line 314, in _bootstrap\n",
      "    self.run()\n",
      "  File \"/opt/conda/lib/python3.10/multiprocessing/process.py\", line 108, in run\n",
      "    self._target(*self._args, **self._kwargs)\n",
      "  File \"/tmp/ipykernel_172/3743343500.py\", line 9, in consumer\n",
      "    item = q.get()\n",
      "  File \"/opt/conda/lib/python3.10/multiprocessing/queues.py\", line 103, in get\n",
      "    res = self._recv_bytes()\n",
      "  File \"/opt/conda/lib/python3.10/multiprocessing/connection.py\", line 221, in recv_bytes\n",
      "    buf = self._recv_bytes(maxlength)\n",
      "  File \"/opt/conda/lib/python3.10/multiprocessing/connection.py\", line 419, in _recv_bytes\n",
      "    buf = self._recv(4)\n",
      "  File \"/opt/conda/lib/python3.10/multiprocessing/connection.py\", line 384, in _recv\n",
      "    chunk = read(handle, remaining)\n",
      "KeyboardInterrupt\n"
     ]
    },
    {
     "ename": "KeyboardInterrupt",
     "evalue": "",
     "output_type": "error",
     "traceback": [
      "\u001b[0;31m---------------------------------------------------------------------------\u001b[0m",
      "\u001b[0;31mKeyboardInterrupt\u001b[0m                         Traceback (most recent call last)",
      "Cell \u001b[0;32mIn[4], line 22\u001b[0m\n\u001b[1;32m     20\u001b[0m queue\u001b[38;5;241m.\u001b[39mput(\u001b[38;5;124m'\u001b[39m\u001b[38;5;124mxyz\u001b[39m\u001b[38;5;124m'\u001b[39m)\n\u001b[1;32m     21\u001b[0m m1\u001b[38;5;241m.\u001b[39mjoin()\n\u001b[0;32m---> 22\u001b[0m \u001b[43mm2\u001b[49m\u001b[38;5;241;43m.\u001b[39;49m\u001b[43mjoin\u001b[49m\u001b[43m(\u001b[49m\u001b[43m)\u001b[49m\n",
      "File \u001b[0;32m/opt/conda/lib/python3.10/multiprocessing/process.py:149\u001b[0m, in \u001b[0;36mBaseProcess.join\u001b[0;34m(self, timeout)\u001b[0m\n\u001b[1;32m    147\u001b[0m \u001b[38;5;28;01massert\u001b[39;00m \u001b[38;5;28mself\u001b[39m\u001b[38;5;241m.\u001b[39m_parent_pid \u001b[38;5;241m==\u001b[39m os\u001b[38;5;241m.\u001b[39mgetpid(), \u001b[38;5;124m'\u001b[39m\u001b[38;5;124mcan only join a child process\u001b[39m\u001b[38;5;124m'\u001b[39m\n\u001b[1;32m    148\u001b[0m \u001b[38;5;28;01massert\u001b[39;00m \u001b[38;5;28mself\u001b[39m\u001b[38;5;241m.\u001b[39m_popen \u001b[38;5;129;01mis\u001b[39;00m \u001b[38;5;129;01mnot\u001b[39;00m \u001b[38;5;28;01mNone\u001b[39;00m, \u001b[38;5;124m'\u001b[39m\u001b[38;5;124mcan only join a started process\u001b[39m\u001b[38;5;124m'\u001b[39m\n\u001b[0;32m--> 149\u001b[0m res \u001b[38;5;241m=\u001b[39m \u001b[38;5;28;43mself\u001b[39;49m\u001b[38;5;241;43m.\u001b[39;49m\u001b[43m_popen\u001b[49m\u001b[38;5;241;43m.\u001b[39;49m\u001b[43mwait\u001b[49m\u001b[43m(\u001b[49m\u001b[43mtimeout\u001b[49m\u001b[43m)\u001b[49m\n\u001b[1;32m    150\u001b[0m \u001b[38;5;28;01mif\u001b[39;00m res \u001b[38;5;129;01mis\u001b[39;00m \u001b[38;5;129;01mnot\u001b[39;00m \u001b[38;5;28;01mNone\u001b[39;00m:\n\u001b[1;32m    151\u001b[0m     _children\u001b[38;5;241m.\u001b[39mdiscard(\u001b[38;5;28mself\u001b[39m)\n",
      "File \u001b[0;32m/opt/conda/lib/python3.10/multiprocessing/popen_fork.py:43\u001b[0m, in \u001b[0;36mPopen.wait\u001b[0;34m(self, timeout)\u001b[0m\n\u001b[1;32m     41\u001b[0m             \u001b[38;5;28;01mreturn\u001b[39;00m \u001b[38;5;28;01mNone\u001b[39;00m\n\u001b[1;32m     42\u001b[0m     \u001b[38;5;66;03m# This shouldn't block if wait() returned successfully.\u001b[39;00m\n\u001b[0;32m---> 43\u001b[0m     \u001b[38;5;28;01mreturn\u001b[39;00m \u001b[38;5;28;43mself\u001b[39;49m\u001b[38;5;241;43m.\u001b[39;49m\u001b[43mpoll\u001b[49m\u001b[43m(\u001b[49m\u001b[43mos\u001b[49m\u001b[38;5;241;43m.\u001b[39;49m\u001b[43mWNOHANG\u001b[49m\u001b[43m \u001b[49m\u001b[38;5;28;43;01mif\u001b[39;49;00m\u001b[43m \u001b[49m\u001b[43mtimeout\u001b[49m\u001b[43m \u001b[49m\u001b[38;5;241;43m==\u001b[39;49m\u001b[43m \u001b[49m\u001b[38;5;241;43m0.0\u001b[39;49m\u001b[43m \u001b[49m\u001b[38;5;28;43;01melse\u001b[39;49;00m\u001b[43m \u001b[49m\u001b[38;5;241;43m0\u001b[39;49m\u001b[43m)\u001b[49m\n\u001b[1;32m     44\u001b[0m \u001b[38;5;28;01mreturn\u001b[39;00m \u001b[38;5;28mself\u001b[39m\u001b[38;5;241m.\u001b[39mreturncode\n",
      "File \u001b[0;32m/opt/conda/lib/python3.10/multiprocessing/popen_fork.py:27\u001b[0m, in \u001b[0;36mPopen.poll\u001b[0;34m(self, flag)\u001b[0m\n\u001b[1;32m     25\u001b[0m \u001b[38;5;28;01mif\u001b[39;00m \u001b[38;5;28mself\u001b[39m\u001b[38;5;241m.\u001b[39mreturncode \u001b[38;5;129;01mis\u001b[39;00m \u001b[38;5;28;01mNone\u001b[39;00m:\n\u001b[1;32m     26\u001b[0m     \u001b[38;5;28;01mtry\u001b[39;00m:\n\u001b[0;32m---> 27\u001b[0m         pid, sts \u001b[38;5;241m=\u001b[39m \u001b[43mos\u001b[49m\u001b[38;5;241;43m.\u001b[39;49m\u001b[43mwaitpid\u001b[49m\u001b[43m(\u001b[49m\u001b[38;5;28;43mself\u001b[39;49m\u001b[38;5;241;43m.\u001b[39;49m\u001b[43mpid\u001b[49m\u001b[43m,\u001b[49m\u001b[43m \u001b[49m\u001b[43mflag\u001b[49m\u001b[43m)\u001b[49m\n\u001b[1;32m     28\u001b[0m     \u001b[38;5;28;01mexcept\u001b[39;00m \u001b[38;5;167;01mOSError\u001b[39;00m:\n\u001b[1;32m     29\u001b[0m         \u001b[38;5;66;03m# Child process not yet created. See #1731717\u001b[39;00m\n\u001b[1;32m     30\u001b[0m         \u001b[38;5;66;03m# e.errno == errno.ECHILD == 10\u001b[39;00m\n\u001b[1;32m     31\u001b[0m         \u001b[38;5;28;01mreturn\u001b[39;00m \u001b[38;5;28;01mNone\u001b[39;00m\n",
      "\u001b[0;31mKeyboardInterrupt\u001b[0m: "
     ]
    }
   ],
   "source": [
    "import multiprocessing\n",
    "\n",
    "def producer(q):\n",
    "    for i in ['sudh','kumar','pwskills','krish','naik']:\n",
    "        q.put(i)\n",
    "        \n",
    "def consumer(q):\n",
    "    while True:\n",
    "        item = q.get()\n",
    "        if item is None:\n",
    "            break\n",
    "        print(item)\n",
    "        \n",
    "if __name__  == '__main__':\n",
    "    queue = multiprocessing.Queue()\n",
    "    m1 = multiprocessing.Process(target = producer , args = (queue,))\n",
    "    m2 = multiprocessing.Process(target = consumer , args = (queue,))\n",
    "    m1.start()\n",
    "    m2.start()\n",
    "    queue.put('xyz')\n",
    "    m1.join()\n",
    "    m2.join()"
   ]
  },
  {
   "cell_type": "markdown",
   "id": "2ef39e9c",
   "metadata": {},
   "source": [
    "---"
   ]
  },
  {
   "cell_type": "markdown",
   "id": "3893a7e5",
   "metadata": {},
   "source": [
    "### Gives the synchoronized array\n",
    "### Use of Array."
   ]
  },
  {
   "cell_type": "code",
   "execution_count": 5,
   "id": "ae3c60df",
   "metadata": {},
   "outputs": [
    {
     "name": "stdout",
     "output_type": "stream",
     "text": [
      "[4, 9, 16, 36, 49, 64, 8649, 1, 7921, 4]\n"
     ]
    }
   ],
   "source": [
    "import multiprocessing \n",
    "\n",
    "def square(index,value):\n",
    "    value[index] = value[index] ** 2\n",
    "    \n",
    "if __name__ == '__main__':\n",
    "    arr = multiprocessing.Array('i',[2,3,4,6,7,8,93,1,89,2])\n",
    "    process = []\n",
    "    for i in range(10):\n",
    "        m = multiprocessing.Process(target = square,args = (i,arr))\n",
    "        process.append(m)\n",
    "        m.start()\n",
    "    for m in process:\n",
    "        m.join()\n",
    "    print(list(arr))"
   ]
  },
  {
   "cell_type": "markdown",
   "id": "d7739565",
   "metadata": {},
   "source": [
    "---"
   ]
  },
  {
   "cell_type": "markdown",
   "id": "eb572184",
   "metadata": {},
   "source": [
    "### Sender and reciever\n",
    "### Use of send and recv\n",
    "\n",
    "* example : In whatsapp we have a queue i.e pipe where msg in inserted and taken from  "
   ]
  },
  {
   "cell_type": "code",
   "execution_count": null,
   "id": "6377e07b",
   "metadata": {},
   "outputs": [
    {
     "name": "stdout",
     "output_type": "stream",
     "text": [
      "my name is sudh\n",
      "this is my msg  to my students \n",
      "i am taking class for dsm \n",
      "try to practice all the code \n"
     ]
    }
   ],
   "source": [
    "import multiprocessing\n",
    "\n",
    "def sender(conn,msgs):\n",
    "    for msg in msgs:\n",
    "        conn.send(msg)\n",
    "    conn.close()\n",
    "    \n",
    "def reciever(conn):\n",
    "    while True:\n",
    "        try:\n",
    "            msg = conn.recv()\n",
    "        except Exception as e :\n",
    "            print(e)\n",
    "            break\n",
    "        print(msg)\n",
    "        \n",
    "if __name__ == \"__main__\":\n",
    "    msgs = [\"my name is sudh\" , \"this is my msg  to my students \" , \"i am taking class for dsm \" , \"try to practice all the code \"]\n",
    "    parent_conn , child_conn = multiprocessing.Pipe()\n",
    "    m1 = multiprocessing.Process(target = sender , args = (child_conn,msgs))\n",
    "    m2 = multiprocessing.Process(target = reciever , args = (parent_conn,))\n",
    "    m1.start()\n",
    "    m2.start()\n",
    "    child_conn.close()\n",
    "    m2.join()\n",
    "    parent_conn.close()"
   ]
  },
  {
   "cell_type": "markdown",
   "id": "c19d8240",
   "metadata": {},
   "source": [
    "---"
   ]
  }
 ],
 "metadata": {
  "kernelspec": {
   "display_name": "Python 3 (ipykernel)",
   "language": "python",
   "name": "python3"
  },
  "language_info": {
   "codemirror_mode": {
    "name": "ipython",
    "version": 3
   },
   "file_extension": ".py",
   "mimetype": "text/x-python",
   "name": "python",
   "nbconvert_exporter": "python",
   "pygments_lexer": "ipython3",
   "version": "3.10.8"
  }
 },
 "nbformat": 4,
 "nbformat_minor": 5
}
