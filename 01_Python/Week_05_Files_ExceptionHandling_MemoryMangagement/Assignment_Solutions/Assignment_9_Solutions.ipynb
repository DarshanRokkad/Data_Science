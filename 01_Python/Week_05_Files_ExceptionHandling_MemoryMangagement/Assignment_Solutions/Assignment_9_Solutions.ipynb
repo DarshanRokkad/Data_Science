{
 "cells": [
  {
   "cell_type": "markdown",
   "id": "43e03f37",
   "metadata": {},
   "source": [
    "# <font color = 'orange'> Assignment-9 Solutions"
   ]
  },
  {
   "cell_type": "markdown",
   "id": "8d724145",
   "metadata": {},
   "source": [
    "---"
   ]
  },
  {
   "cell_type": "markdown",
   "id": "174a9d1a",
   "metadata": {},
   "source": [
    "### Q1. What is multithreading in python ? Why is it used? Name the module used to handle thread in python."
   ]
  },
  {
   "cell_type": "markdown",
   "id": "2a9d689f",
   "metadata": {},
   "source": [
    "#### * Multithreading is technique of execution of program where multiple threads i.e multiple process will execute simultaneously by context swicthing.\n",
    "#### * Multithreading is used for getting best performance.\n",
    "#### * We use threading module to handle the thread in python."
   ]
  },
  {
   "cell_type": "markdown",
   "id": "16524639",
   "metadata": {},
   "source": [
    "---"
   ]
  },
  {
   "cell_type": "markdown",
   "id": "53f0468c",
   "metadata": {},
   "source": [
    "### Q2. Why threading module used? Write the use of the following functions:\n",
    " a. activeCount().\n",
    " b. currentThread().\n",
    " c. enumerate()."
   ]
  },
  {
   "cell_type": "markdown",
   "id": "257e40e9",
   "metadata": {},
   "source": [
    "#### Threading module is used to handle the thread in python."
   ]
  },
  {
   "cell_type": "markdown",
   "id": "d1b3ecec",
   "metadata": {},
   "source": [
    "#### a. activeCount() -> this function is used get the active threads at the particular point of time.\n",
    "#### b. currentThread() -> this function is used to give the currently executing thread.\n",
    "#### c. enumerate() -> this function is used to iterate over the collections and it will keep track of the current position."
   ]
  },
  {
   "cell_type": "markdown",
   "id": "d298cbde",
   "metadata": {},
   "source": [
    "---"
   ]
  },
  {
   "cell_type": "markdown",
   "id": "5c7f9083",
   "metadata": {},
   "source": [
    "### Q3. Explain the following functions:\n",
    " a. run().\n",
    " b. start().\n",
    " c. join().\n",
    " d. isAlive()."
   ]
  },
  {
   "cell_type": "markdown",
   "id": "16b74ac8",
   "metadata": {},
   "source": [
    "#### a. run() -> run method is not called directly by the developers it is called indirectly on a target function. (or) we can create a custom thread class as subclass of threading.thread class and write a run() method so when the object of thread class is created and if we start the thread then the run method will execute.\n",
    "#### b. start() -> start function is used to start the execution of the thread.\n",
    "#### c. join() -> join function is used to ensure that a calling thread wait for execution of the called thread i.e parent thread until completion of child thread and after execution of child thread it is joined with parent thread.\n",
    "#### d. isAlive() -> this function will return true is the thread is alive or under execution else it will return false if the thread is dead or not under execution."
   ]
  },
  {
   "cell_type": "markdown",
   "id": "4e0d8096",
   "metadata": {},
   "source": [
    "---"
   ]
  },
  {
   "cell_type": "markdown",
   "id": "f567c174",
   "metadata": {},
   "source": [
    "### Q4. Write a python program to create two threads. Thread one must print the list of squares and thread two must print the list of cubes."
   ]
  },
  {
   "cell_type": "code",
   "execution_count": 14,
   "id": "493817f0",
   "metadata": {},
   "outputs": [
    {
     "name": "stdout",
     "output_type": "stream",
     "text": [
      "0\n",
      "1\n",
      "4\n",
      "9\n",
      "16\n",
      "25\n",
      "36\n",
      "49\n",
      "64\n",
      "81\n",
      "\n",
      "0\n",
      "1\n",
      "8\n",
      "27\n",
      "64\n",
      "125\n",
      "216\n",
      "343\n",
      "512\n",
      "729\n",
      "\n"
     ]
    }
   ],
   "source": [
    "import time\n",
    "def print_method(li):\n",
    "    for num in li:\n",
    "        print(num)\n",
    "    print()\n",
    "        \n",
    "list_of_squares = [i**2 for i in range(10)]\n",
    "list_of_cubes = [i**3 for i in range(10)]\n",
    "li = [list_of_squares,list_of_cubes]\n",
    "\n",
    "import threading \n",
    "thread = [ threading.Thread(target = print_method , args = (i,)) for i in li]\n",
    "\n",
    "for t in thread:\n",
    "    t.start()"
   ]
  },
  {
   "cell_type": "markdown",
   "id": "2a10d413",
   "metadata": {},
   "source": [
    "---"
   ]
  },
  {
   "cell_type": "markdown",
   "id": "9a0e58e2",
   "metadata": {},
   "source": [
    "### Q5. State advantages and disadvantages of multithreading."
   ]
  },
  {
   "cell_type": "markdown",
   "id": "211853b5",
   "metadata": {},
   "source": [
    "### Advantages\n",
    "#### 1. Improved performance.\n",
    "#### 2. Concurrency.\n",
    "#### 3. Efficient resource utilization.\n",
    "#### 4. parallelizm.\n",
    "#### 5.Responsiveness.\n",
    "\n",
    "### Disadvantages\n",
    "#### 1. Complexity.\n",
    "#### 2. Synchronization overhead.\n",
    "#### 3. Racing condition.\n",
    "#### 4. Deadlock.\n",
    "#### 5. Debugging and testing will be hard.\n",
    "#### 6. limited scaling."
   ]
  },
  {
   "cell_type": "markdown",
   "id": "845c3f51",
   "metadata": {},
   "source": [
    "---"
   ]
  },
  {
   "cell_type": "markdown",
   "id": "8dd21e4a",
   "metadata": {},
   "source": [
    "### Q6. Explain deadlocks and race conditions."
   ]
  },
  {
   "cell_type": "markdown",
   "id": "2a5fec80",
   "metadata": {},
   "source": [
    "#### Deadlocks -> Deadlock is a condition where a process is holding a resource and requesting for a resource which is held be other resource to complete its execution.\n",
    "\n",
    "#### Race conditions -> Race condition is a condition in which output depends on the order of execution of instructions and it is unpredictable."
   ]
  },
  {
   "cell_type": "markdown",
   "id": "2c4f9eff",
   "metadata": {},
   "source": [
    "---"
   ]
  }
 ],
 "metadata": {
  "kernelspec": {
   "display_name": "Python 3 (ipykernel)",
   "language": "python",
   "name": "python3"
  },
  "language_info": {
   "codemirror_mode": {
    "name": "ipython",
    "version": 3
   },
   "file_extension": ".py",
   "mimetype": "text/x-python",
   "name": "python",
   "nbconvert_exporter": "python",
   "pygments_lexer": "ipython3",
   "version": "3.9.13"
  }
 },
 "nbformat": 4,
 "nbformat_minor": 5
}
