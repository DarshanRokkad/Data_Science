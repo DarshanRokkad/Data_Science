{
 "cells": [
  {
   "cell_type": "markdown",
   "id": "50c79f34",
   "metadata": {},
   "source": [
    "# <font color = 'orange'> Assignment-7 Solutions"
   ]
  },
  {
   "cell_type": "markdown",
   "id": "77dbb4e2",
   "metadata": {},
   "source": [
    "---"
   ]
  },
  {
   "cell_type": "markdown",
   "id": "b6f4ea53",
   "metadata": {},
   "source": [
    "### Q1. What is an Exception in python? Write the difference between Exceptions and Syntax error."
   ]
  },
  {
   "cell_type": "markdown",
   "id": "bab37cdd",
   "metadata": {},
   "source": [
    "#### Exception is unexpected event that comes during the execution of program that effect the execution of the program.\n",
    "#### Syntax error is the type of compile error which is made by the human during coding.\n",
    "#### Exception arises due to the wrong input given by the user or the unhandled event."
   ]
  },
  {
   "cell_type": "markdown",
   "id": "0eeb23e7",
   "metadata": {},
   "source": [
    "---"
   ]
  },
  {
   "cell_type": "markdown",
   "id": "a98a8682",
   "metadata": {},
   "source": [
    "### Q2. What happens when an exception is not handled? Explain with an example."
   ]
  },
  {
   "cell_type": "markdown",
   "id": "d498b359",
   "metadata": {},
   "source": [
    "#### If exception is not handled then our program may crash or it may affect our system or run time error may occur.\n",
    "ex : ZeroDivisioError"
   ]
  },
  {
   "cell_type": "code",
   "execution_count": 1,
   "id": "d72491b2",
   "metadata": {},
   "outputs": [
    {
     "ename": "ZeroDivisionError",
     "evalue": "division by zero",
     "output_type": "error",
     "traceback": [
      "\u001b[1;31m---------------------------------------------------------------------------\u001b[0m",
      "\u001b[1;31mZeroDivisionError\u001b[0m                         Traceback (most recent call last)",
      "\u001b[1;32m~\\AppData\\Local\\Temp\\ipykernel_26520\\2361930616.py\u001b[0m in \u001b[0;36m<module>\u001b[1;34m\u001b[0m\n\u001b[1;32m----> 1\u001b[1;33m \u001b[0ma\u001b[0m \u001b[1;33m=\u001b[0m \u001b[1;36m5\u001b[0m\u001b[1;33m/\u001b[0m\u001b[1;36m0\u001b[0m\u001b[1;33m\u001b[0m\u001b[1;33m\u001b[0m\u001b[0m\n\u001b[0m\u001b[0;32m      2\u001b[0m \u001b[0mprint\u001b[0m\u001b[1;33m(\u001b[0m\u001b[0ma\u001b[0m\u001b[1;33m)\u001b[0m\u001b[1;33m\u001b[0m\u001b[1;33m\u001b[0m\u001b[0m\n",
      "\u001b[1;31mZeroDivisionError\u001b[0m: division by zero"
     ]
    }
   ],
   "source": [
    "a = 5/0\n",
    "print(a)"
   ]
  },
  {
   "cell_type": "markdown",
   "id": "eebc8e4b",
   "metadata": {},
   "source": [
    "---"
   ]
  },
  {
   "cell_type": "markdown",
   "id": "39df08df",
   "metadata": {},
   "source": [
    "### Q3. Which python staements are used to catch and handle exceptions? Explain with an example."
   ]
  },
  {
   "cell_type": "markdown",
   "id": "f313de63",
   "metadata": {},
   "source": [
    "#### In python we use try and except to catch and handle the exceptions."
   ]
  },
  {
   "cell_type": "code",
   "execution_count": 2,
   "id": "0eca3010",
   "metadata": {},
   "outputs": [
    {
     "name": "stdout",
     "output_type": "stream",
     "text": [
      "division by zero\n"
     ]
    }
   ],
   "source": [
    "try :\n",
    "    a = 5 / 0 \n",
    "    print(a)\n",
    "except ZeroDivisionError as ze:\n",
    "    print(ze)"
   ]
  },
  {
   "cell_type": "markdown",
   "id": "248bcd71",
   "metadata": {},
   "source": [
    "---"
   ]
  },
  {
   "cell_type": "markdown",
   "id": "5fb01330",
   "metadata": {},
   "source": [
    "### Q4. Expalin with an example:\n",
    " a. try and else.\n",
    " b. finally.\n",
    " c. raise."
   ]
  },
  {
   "cell_type": "markdown",
   "id": "2fd37a58",
   "metadata": {},
   "source": [
    "#### a. try and else : else block will execute only if try block executes completely."
   ]
  },
  {
   "cell_type": "code",
   "execution_count": 3,
   "id": "c74738a5",
   "metadata": {},
   "outputs": [
    {
     "name": "stdout",
     "output_type": "stream",
     "text": [
      "1.6666666666666667\n",
      "Try block has executed completely.\n"
     ]
    }
   ],
   "source": [
    "try :\n",
    "    a = 5 / 3\n",
    "    print(a)\n",
    "except ZeroDivisionError as ze:\n",
    "    print(ze)\n",
    "else :\n",
    "    print('Try block has executed completely.')"
   ]
  },
  {
   "cell_type": "markdown",
   "id": "f71ba478",
   "metadata": {},
   "source": [
    "#### b. finally : finally block will execute all the time no matter exception will occur or not it will execute."
   ]
  },
  {
   "cell_type": "code",
   "execution_count": 4,
   "id": "58fd9708",
   "metadata": {},
   "outputs": [
    {
     "name": "stdout",
     "output_type": "stream",
     "text": [
      "division by zero\n",
      "finally block will execute all the time.\n"
     ]
    }
   ],
   "source": [
    "try :\n",
    "    a = 5 / 0\n",
    "    print(a)\n",
    "except ZeroDivisionError as ze:\n",
    "    print(ze)\n",
    "finally :\n",
    "    print('finally block will execute all the time.')"
   ]
  },
  {
   "cell_type": "markdown",
   "id": "06569597",
   "metadata": {},
   "source": [
    "#### c.raise : raise is used to raise or trigger the user defined exception."
   ]
  },
  {
   "cell_type": "code",
   "execution_count": 6,
   "id": "14de3471",
   "metadata": {},
   "outputs": [
    {
     "name": "stdout",
     "output_type": "stream",
     "text": [
      "Balance : 2000\n",
      "Your balance is low i.e 2000 so you cannot withdraw 5000.\n"
     ]
    }
   ],
   "source": [
    "# user defined excpetion\n",
    "class lowBalanceError(Exception):\n",
    "    def __init__(self,msg):\n",
    "        self.msg = msg\n",
    "\n",
    "balance = 2000\n",
    "print('Balance :',balance)\n",
    "draw = 5000\n",
    "try :\n",
    "    if draw > balance :\n",
    "        raise lowBalanceError(f'Your balance is low i.e {balance} so you cannot withdraw {draw}.')\n",
    "    else:\n",
    "        print(f'You have withdrawn {draw} from your account.')\n",
    "except lowBalanceError as le:\n",
    "    print(le)"
   ]
  },
  {
   "cell_type": "markdown",
   "id": "815fbc4b",
   "metadata": {},
   "source": [
    "---"
   ]
  },
  {
   "cell_type": "markdown",
   "id": "fb0c942e",
   "metadata": {},
   "source": [
    "### Q5. What are custom exceptions in python? Why do we need custom Exceptions? Explain with an example."
   ]
  },
  {
   "cell_type": "markdown",
   "id": "6e0b774a",
   "metadata": {},
   "source": [
    "#### Custom exceptions in python are also called as user defined exceptions that are used to handle the specific error which is created by inheriting the Exception class .\n",
    "#### Custom exceptions is used to raise the user defined excpetion that are not present in the built library and that are present in the project."
   ]
  },
  {
   "cell_type": "code",
   "execution_count": 7,
   "id": "9cf3d1a0",
   "metadata": {},
   "outputs": [
    {
     "name": "stdout",
     "output_type": "stream",
     "text": [
      "Balance : 2000\n",
      "Your balance is low i.e 2000 so you cannot withdraw 5000.\n"
     ]
    }
   ],
   "source": [
    "class lowBalanceError(Exception):\n",
    "    def __init__(self,msg):\n",
    "        self.msg = msg\n",
    "\n",
    "balance = 2000\n",
    "print('Balance :',balance)\n",
    "draw = 5000\n",
    "try :\n",
    "    if draw > balance :\n",
    "        raise lowBalanceError(f'Your balance is low i.e {balance} so you cannot withdraw {draw}.')\n",
    "    else:\n",
    "        print(f'You have withdrawn {draw} from your account.')\n",
    "except lowBalanceError as le:\n",
    "    print(le)"
   ]
  },
  {
   "cell_type": "markdown",
   "id": "f99a27d4",
   "metadata": {},
   "source": [
    "---"
   ]
  },
  {
   "cell_type": "markdown",
   "id": "57cc51f4",
   "metadata": {},
   "source": [
    "### Q6. Create a custom exception class. Use this class to handle an exception."
   ]
  },
  {
   "cell_type": "code",
   "execution_count": 8,
   "id": "d7d69012",
   "metadata": {},
   "outputs": [
    {
     "name": "stdout",
     "output_type": "stream",
     "text": [
      "Balance : 2000\n",
      "Your balance is low i.e 2000 so you cannot withdraw 5000.\n"
     ]
    }
   ],
   "source": [
    "# user defined excpetion\n",
    "class lowBalanceError(Exception):\n",
    "    def __init__(self,msg):\n",
    "        self.msg = msg\n",
    "\n",
    "balance = 2000\n",
    "print('Balance :',balance)\n",
    "draw = 5000\n",
    "try :\n",
    "    if draw > balance :\n",
    "        raise lowBalanceError(f'Your balance is low i.e {balance} so you cannot withdraw {draw}.')\n",
    "    else:\n",
    "        print(f'You have withdrawn {draw} from your account.')\n",
    "except lowBalanceError as le:\n",
    "    print(le)"
   ]
  },
  {
   "cell_type": "markdown",
   "id": "cfbb7f50",
   "metadata": {},
   "source": [
    "---"
   ]
  }
 ],
 "metadata": {
  "kernelspec": {
   "display_name": "Python 3 (ipykernel)",
   "language": "python",
   "name": "python3"
  },
  "language_info": {
   "codemirror_mode": {
    "name": "ipython",
    "version": 3
   },
   "file_extension": ".py",
   "mimetype": "text/x-python",
   "name": "python",
   "nbconvert_exporter": "python",
   "pygments_lexer": "ipython3",
   "version": "3.9.13"
  }
 },
 "nbformat": 4,
 "nbformat_minor": 5
}
