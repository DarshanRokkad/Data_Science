{
 "cells": [
  {
   "cell_type": "markdown",
   "id": "f0311cf3",
   "metadata": {},
   "source": [
    "# <font color = \"orange\"> Assignment-1 Solutions"
   ]
  },
  {
   "cell_type": "markdown",
   "id": "cb4710dd",
   "metadata": {},
   "source": [
    "Q1. Create one variable containing following type of data:\n",
    "\n",
    "(i)string\n",
    "\n",
    "(ii)list\n",
    "\n",
    "(iii)float\n",
    "\n",
    "(iv)tuple"
   ]
  },
  {
   "cell_type": "code",
   "execution_count": 1,
   "id": "26fb9831",
   "metadata": {},
   "outputs": [
    {
     "name": "stdout",
     "output_type": "stream",
     "text": [
      "Darshan\n"
     ]
    },
    {
     "data": {
      "text/plain": [
       "str"
      ]
     },
     "execution_count": 1,
     "metadata": {},
     "output_type": "execute_result"
    }
   ],
   "source": [
    "# String\n",
    "s = \"Darshan\"\n",
    "print(s)\n",
    "type(s)"
   ]
  },
  {
   "cell_type": "code",
   "execution_count": 2,
   "id": "b083e7c9",
   "metadata": {},
   "outputs": [
    {
     "name": "stdout",
     "output_type": "stream",
     "text": [
      "[1, 4.5, 'hello', True]\n"
     ]
    },
    {
     "data": {
      "text/plain": [
       "list"
      ]
     },
     "execution_count": 2,
     "metadata": {},
     "output_type": "execute_result"
    }
   ],
   "source": [
    "# List\n",
    "l = [1,4.5,'hello',True]\n",
    "print(l)\n",
    "type(l)"
   ]
  },
  {
   "cell_type": "code",
   "execution_count": 3,
   "id": "fd7cd0de",
   "metadata": {},
   "outputs": [
    {
     "name": "stdout",
     "output_type": "stream",
     "text": [
      "7.5\n"
     ]
    },
    {
     "data": {
      "text/plain": [
       "float"
      ]
     },
     "execution_count": 3,
     "metadata": {},
     "output_type": "execute_result"
    }
   ],
   "source": [
    "# Float\n",
    "f = 7.5\n",
    "print(f)\n",
    "type(f)"
   ]
  },
  {
   "cell_type": "code",
   "execution_count": 4,
   "id": "d5182945",
   "metadata": {},
   "outputs": [
    {
     "name": "stdout",
     "output_type": "stream",
     "text": [
      "(2, 5, 76, 1)\n"
     ]
    },
    {
     "data": {
      "text/plain": [
       "tuple"
      ]
     },
     "execution_count": 4,
     "metadata": {},
     "output_type": "execute_result"
    }
   ],
   "source": [
    "# Tuple \n",
    "t = (2,5,76,1)\n",
    "print(t)\n",
    "type(t)"
   ]
  },
  {
   "cell_type": "markdown",
   "id": "60e712c6",
   "metadata": {},
   "source": [
    "---------------------------"
   ]
  },
  {
   "cell_type": "markdown",
   "id": "84e1d56f",
   "metadata": {},
   "source": [
    "Q2. Given are some following variables containing data:\n",
    "\n",
    "(i)\tvar1 = ‘ ‘\n",
    "\n",
    "(ii)\tvar2 = ‘[ DS , ML , Python]’\n",
    "\n",
    "(iii)\tvar3 = [ ‘DS’ , ’ML’ , ‘Python’ ]\n",
    "\n",
    "(iv)\tvar4 = 1.\n",
    "\n",
    "\n",
    "What will be the data type of the above given variable."
   ]
  },
  {
   "cell_type": "code",
   "execution_count": 5,
   "id": "fc013db3",
   "metadata": {},
   "outputs": [
    {
     "data": {
      "text/plain": [
       "str"
      ]
     },
     "execution_count": 5,
     "metadata": {},
     "output_type": "execute_result"
    }
   ],
   "source": [
    "var1 = ''\n",
    "type(var1)"
   ]
  },
  {
   "cell_type": "code",
   "execution_count": 6,
   "id": "0ed24c12",
   "metadata": {},
   "outputs": [
    {
     "data": {
      "text/plain": [
       "str"
      ]
     },
     "execution_count": 6,
     "metadata": {},
     "output_type": "execute_result"
    }
   ],
   "source": [
    "var2 = '[ DS , ML , Python]'\n",
    "type(var2)"
   ]
  },
  {
   "cell_type": "code",
   "execution_count": 7,
   "id": "1ac3f442",
   "metadata": {},
   "outputs": [
    {
     "data": {
      "text/plain": [
       "list"
      ]
     },
     "execution_count": 7,
     "metadata": {},
     "output_type": "execute_result"
    }
   ],
   "source": [
    "var3 = ['DS','ML','Python']\n",
    "type(var3)"
   ]
  },
  {
   "cell_type": "code",
   "execution_count": 8,
   "id": "6eb0d8dc",
   "metadata": {},
   "outputs": [
    {
     "data": {
      "text/plain": [
       "int"
      ]
     },
     "execution_count": 8,
     "metadata": {},
     "output_type": "execute_result"
    }
   ],
   "source": [
    "var4 = 1 \n",
    "type(var4)"
   ]
  },
  {
   "cell_type": "markdown",
   "id": "a2384523",
   "metadata": {},
   "source": [
    "---------------------------"
   ]
  },
  {
   "cell_type": "markdown",
   "id": "5f89c347",
   "metadata": {},
   "source": [
    "Q3. Explain the use of the following operators using an example:\n",
    "\n",
    "(i)/\n",
    "\n",
    "(ii)% \n",
    "\n",
    "(iii)//\n",
    "\n",
    "(iv)**"
   ]
  },
  {
   "cell_type": "code",
   "execution_count": 9,
   "id": "a234607f",
   "metadata": {},
   "outputs": [
    {
     "name": "stdout",
     "output_type": "stream",
     "text": [
      "a/b =  5.5\n",
      "a%b =  1\n",
      "a//b =  5\n",
      "a**b =  121\n"
     ]
    }
   ],
   "source": [
    "a = 11\n",
    "b = 2 \n",
    "\n",
    "print('a/b = ',a/b)\n",
    "print('a%b = ',a%b)\n",
    "print('a//b = ',a//b)\n",
    "print('a**b = ',a**b)"
   ]
  },
  {
   "cell_type": "markdown",
   "id": "113236aa",
   "metadata": {},
   "source": [
    "---------------------------"
   ]
  },
  {
   "cell_type": "markdown",
   "id": "e33856a3",
   "metadata": {},
   "source": [
    "Q4. Create a list of length 10 of your choice containing multiple types of data. Using for loop print the \n",
    "element and its data type."
   ]
  },
  {
   "cell_type": "code",
   "execution_count": 10,
   "id": "b05e1d18",
   "metadata": {},
   "outputs": [
    {
     "name": "stdout",
     "output_type": "stream",
     "text": [
      "2\n",
      "<class 'int'>\n",
      "\n",
      "3.5\n",
      "<class 'float'>\n",
      "\n",
      "True\n",
      "<class 'bool'>\n",
      "\n",
      "PW skills\n",
      "<class 'str'>\n",
      "\n",
      "data science and master\n",
      "<class 'str'>\n",
      "\n",
      "6\n",
      "<class 'int'>\n",
      "\n",
      "9\n",
      "<class 'int'>\n",
      "\n",
      "5.4\n",
      "<class 'float'>\n",
      "\n",
      "False\n",
      "<class 'bool'>\n",
      "\n",
      "darshan\n",
      "<class 'str'>\n",
      "\n"
     ]
    }
   ],
   "source": [
    "li = [2,3.5,True,\"PW skills\",'data science and master',6,9,5.4,False,'darshan']\n",
    "\n",
    "for item in li :\n",
    "    print(item)\n",
    "    print(type(item))\n",
    "    print()"
   ]
  },
  {
   "cell_type": "markdown",
   "id": "c66d93ae",
   "metadata": {},
   "source": [
    "---------------------------"
   ]
  },
  {
   "cell_type": "markdown",
   "id": "4dc77487",
   "metadata": {},
   "source": [
    "Q5. Using a while loop, verify if the number A is purely divisible by number B and if so then how many \n",
    "times it can be divisible."
   ]
  },
  {
   "cell_type": "code",
   "execution_count": 11,
   "id": "1f9b949c",
   "metadata": {},
   "outputs": [
    {
     "name": "stdout",
     "output_type": "stream",
     "text": [
      "Enter the value of a : 200\n",
      "Enter the value of b : 2\n",
      "a is 7 times divisible by b.\n"
     ]
    }
   ],
   "source": [
    "a = int(input(\"Enter the value of a : \"))\n",
    "b = int(input(\"Enter the value of b : \"))\n",
    "\n",
    "count = 0 \n",
    "\n",
    "while (a//b) != 0 :\n",
    "    a = a//b \n",
    "    count += 1 \n",
    "\n",
    "if count > 0 :\n",
    "    print(\"a is\",count,\"times divisible by b.\")\n",
    "else :\n",
    "    print(\"a is not divisble by b.\")"
   ]
  },
  {
   "cell_type": "markdown",
   "id": "dab9cdc6",
   "metadata": {},
   "source": [
    "---------------------------"
   ]
  },
  {
   "cell_type": "markdown",
   "id": "c617dc9b",
   "metadata": {},
   "source": [
    "Q6. Create a list containing 25 int type data. Using for loop and if-else condition print if the element is \n",
    "divisible by 3 or not."
   ]
  },
  {
   "cell_type": "code",
   "execution_count": 12,
   "id": "f33fa470",
   "metadata": {},
   "outputs": [
    {
     "name": "stdout",
     "output_type": "stream",
     "text": [
      "List :  [20, 96, 19, 89, 81, 63, 100, 85, 50, 16, 29, 7, 56, 17, 35, 2, 90, 26, 66, 37, 88, 45, 87, 52, 6]\n",
      "96 is divisable by 3\n",
      "81 is divisable by 3\n",
      "63 is divisable by 3\n",
      "90 is divisable by 3\n",
      "66 is divisable by 3\n",
      "45 is divisable by 3\n",
      "87 is divisable by 3\n",
      "6 is divisable by 3\n"
     ]
    }
   ],
   "source": [
    "import random as r \n",
    "nums = []\n",
    "\n",
    "for i in range(25):\n",
    "    nums.append(r.randint(1,100))\n",
    "    \n",
    "print(\"List : \",nums)\n",
    "for i in nums :\n",
    "    if i % 3 == 0 :\n",
    "        print(i,\"is divisable by 3\")"
   ]
  },
  {
   "cell_type": "markdown",
   "id": "4706ae9e",
   "metadata": {},
   "source": [
    "---------------------------"
   ]
  },
  {
   "cell_type": "markdown",
   "id": "57e56569",
   "metadata": {},
   "source": [
    "Q7. What do you understand about mutable and immutable data types? Give examples for both showing \n",
    "this property."
   ]
  },
  {
   "cell_type": "markdown",
   "id": "ca9e4e36",
   "metadata": {},
   "source": [
    "mutuable means the data structure whose value that can be changed .\n",
    "\n",
    "immutable means the data structure whose value that cannot be changed ."
   ]
  },
  {
   "cell_type": "code",
   "execution_count": 13,
   "id": "287888c1",
   "metadata": {},
   "outputs": [
    {
     "name": "stdout",
     "output_type": "stream",
     "text": [
      "['apple', 'bannana']\n",
      "['apple', 'mango']\n"
     ]
    }
   ],
   "source": [
    "# mutable \n",
    "fruits = ['apple','bannana']\n",
    "print(fruits)\n",
    "fruits[1] = 'mango'\n",
    "print(fruits)"
   ]
  },
  {
   "cell_type": "code",
   "execution_count": 14,
   "id": "873b2bfe",
   "metadata": {},
   "outputs": [
    {
     "name": "stdout",
     "output_type": "stream",
     "text": [
      "darshan\n"
     ]
    },
    {
     "ename": "TypeError",
     "evalue": "'str' object does not support item assignment",
     "output_type": "error",
     "traceback": [
      "\u001b[1;31m---------------------------------------------------------------------------\u001b[0m",
      "\u001b[1;31mTypeError\u001b[0m                                 Traceback (most recent call last)",
      "\u001b[1;32m~\\AppData\\Local\\Temp\\ipykernel_27680\\3198804988.py\u001b[0m in \u001b[0;36m<module>\u001b[1;34m\u001b[0m\n\u001b[0;32m      2\u001b[0m \u001b[0mname\u001b[0m \u001b[1;33m=\u001b[0m \u001b[1;34m\"darshan\"\u001b[0m\u001b[1;33m\u001b[0m\u001b[1;33m\u001b[0m\u001b[0m\n\u001b[0;32m      3\u001b[0m \u001b[0mprint\u001b[0m\u001b[1;33m(\u001b[0m\u001b[0mname\u001b[0m\u001b[1;33m)\u001b[0m\u001b[1;33m\u001b[0m\u001b[1;33m\u001b[0m\u001b[0m\n\u001b[1;32m----> 4\u001b[1;33m \u001b[0mname\u001b[0m\u001b[1;33m[\u001b[0m\u001b[1;36m3\u001b[0m\u001b[1;33m]\u001b[0m \u001b[1;33m=\u001b[0m \u001b[1;34m'm'\u001b[0m\u001b[1;33m\u001b[0m\u001b[1;33m\u001b[0m\u001b[0m\n\u001b[0m\u001b[0;32m      5\u001b[0m \u001b[1;31m#gives error because the strings are immutable.\u001b[0m\u001b[1;33m\u001b[0m\u001b[1;33m\u001b[0m\u001b[0m\n\u001b[0;32m      6\u001b[0m \u001b[0mprint\u001b[0m\u001b[1;33m(\u001b[0m\u001b[0mname\u001b[0m\u001b[1;33m)\u001b[0m\u001b[1;33m\u001b[0m\u001b[1;33m\u001b[0m\u001b[0m\n",
      "\u001b[1;31mTypeError\u001b[0m: 'str' object does not support item assignment"
     ]
    }
   ],
   "source": [
    "#immutable\n",
    "name = \"darshan\"\n",
    "print(name)\n",
    "name[3] = 'm'\n",
    "#gives error because the strings are immutable.\n",
    "print(name)"
   ]
  },
  {
   "cell_type": "markdown",
   "id": "91cfc2b3",
   "metadata": {},
   "source": [
    "---------------------------"
   ]
  }
 ],
 "metadata": {
  "kernelspec": {
   "display_name": "Python 3 (ipykernel)",
   "language": "python",
   "name": "python3"
  },
  "language_info": {
   "codemirror_mode": {
    "name": "ipython",
    "version": 3
   },
   "file_extension": ".py",
   "mimetype": "text/x-python",
   "name": "python",
   "nbconvert_exporter": "python",
   "pygments_lexer": "ipython3",
   "version": "3.9.13"
  }
 },
 "nbformat": 4,
 "nbformat_minor": 5
}
