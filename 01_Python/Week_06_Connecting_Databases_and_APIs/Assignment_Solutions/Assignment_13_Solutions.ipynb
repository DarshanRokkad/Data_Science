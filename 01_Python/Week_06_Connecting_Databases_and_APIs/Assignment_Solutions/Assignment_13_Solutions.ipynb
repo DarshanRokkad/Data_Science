{
 "cells": [
  {
   "cell_type": "markdown",
   "id": "061d4c0e",
   "metadata": {},
   "source": [
    "# <font color = 'orange'> Assignment-13 solutions"
   ]
  },
  {
   "cell_type": "markdown",
   "id": "3dda2030",
   "metadata": {},
   "source": [
    "---"
   ]
  },
  {
   "cell_type": "markdown",
   "id": "624aaad7",
   "metadata": {},
   "source": [
    "### Q1. What is an API? Give an example, where an API is used in real life."
   ]
  },
  {
   "cell_type": "markdown",
   "id": "e990be34",
   "metadata": {},
   "source": [
    "#### API stands for Application Programming Interface. It is a set of rules and protocols that allows different software applications to communicate with each other. APIs define the methods and data formats that applications can use to request and exchange information, enabling them to work together seamlessly.API commonly communicate in form of json format.\n",
    "\n",
    "#### ex: In zomato, we track the delivery agent location which use the google map api in background."
   ]
  },
  {
   "cell_type": "markdown",
   "id": "9e640e1d",
   "metadata": {},
   "source": [
    "---"
   ]
  },
  {
   "cell_type": "markdown",
   "id": "3333376a",
   "metadata": {},
   "source": [
    "### Q2. Give advantages and disadvantages of using API. "
   ]
  },
  {
   "cell_type": "markdown",
   "id": "a5ba9d59",
   "metadata": {},
   "source": [
    "Advantages of APIs:\n",
    "\n",
    "1. Interoperability\n",
    "2. Modularity\n",
    "3. Rapid Development\n",
    "4. Access to Third-Party Services\n",
    "5. Ecosystem Growth\n",
    "6. Scalability\n",
    "7. Security\n",
    "8. Cross-Platform Compatibility\n",
    "\n",
    "\n",
    "Disadvantages of APIs:\n",
    "\n",
    "1. Complexity\n",
    "2. Reliability\n",
    "3. Security Concerns\n",
    "4. Dependency\n",
    "5. Data Privacy\n",
    "6. Costs\n",
    "7. Versioning Challenges\n",
    "8. Rate Limits"
   ]
  },
  {
   "cell_type": "markdown",
   "id": "1817afc2",
   "metadata": {},
   "source": [
    "---"
   ]
  },
  {
   "cell_type": "markdown",
   "id": "a2bc844d",
   "metadata": {},
   "source": [
    "### Q3. What is a Web API? Differentiate between API and Web API."
   ]
  },
  {
   "cell_type": "markdown",
   "id": "9f058f69",
   "metadata": {},
   "source": [
    "#### Web API is a type of API which should be accessed over internet using http protocol .\n",
    "#### Difference between API and Web API is\n",
    "\n",
    "API:\n",
    "\n",
    "1. General term for interfaces allowing software components to communicate.\n",
    "2. Can use various transport protocols, not limited to HTTP.\n",
    "3. Can be used for local or remote communication within or between systems.\n",
    "4. Data exchange can use various formats, including custom ones.\n",
    "\n",
    "\n",
    "Web API:\n",
    "\n",
    "1. Specifically designed for internet-based communication using HTTP.\n",
    "2. Exclusively uses HTTP as the transport protocol.\n",
    "3. Accessible remotely over the internet.\n",
    "4. Typically exchanges data in standard formats like JSON or XML.\n",
    "5. Commonly used for web services and remote server interaction.\n",
    "\n",
    "\n",
    "\n",
    "\n"
   ]
  },
  {
   "cell_type": "markdown",
   "id": "a5bdb97f",
   "metadata": {},
   "source": [
    "---"
   ]
  },
  {
   "cell_type": "markdown",
   "id": "b129029e",
   "metadata": {},
   "source": [
    "### Q4. Explain REST and SOAP Architecture. Mention shortcomings of SOAP."
   ]
  },
  {
   "cell_type": "markdown",
   "id": "9dbc1426",
   "metadata": {},
   "source": [
    "#### REST (Representational State Transfer) and SOAP (Simple Object Access Protocol) are two architectural styles used for designing web services.\n",
    "\n",
    "#### REST (Representational State Transfer) is an architectural style for designing networked applications that emphasizes simplicity, statelessness, and resource-based interactions.\n",
    "#### SOAP (Simple Object Access Protocol) is a protocol for exchanging structured information in web services using XML.\n",
    "\n",
    "\n",
    "Shortcomings of SOAP:\n",
    "* Complexity\n",
    "* Performance overhead\n",
    "* Resource consumption\n",
    "* Limited browser support\n",
    "* Less human-readable\n",
    "* Less suitable for simple APIs"
   ]
  },
  {
   "cell_type": "markdown",
   "id": "6c219c08",
   "metadata": {},
   "source": [
    "---"
   ]
  },
  {
   "cell_type": "markdown",
   "id": "a8b5e55e",
   "metadata": {},
   "source": [
    "### Q5. Differentiate between REST and SOAP."
   ]
  },
  {
   "cell_type": "markdown",
   "id": "aa6235fb",
   "metadata": {},
   "source": [
    "REST (Representational State Transfer):\n",
    "\n",
    "* Stateless\n",
    "* Resource-based (identified by URIs)\n",
    "* Uses standard HTTP methods\n",
    "* Multiple representations (e.g., JSON, XML)\n",
    "* Stateless nature simplifies scalability\n",
    "\n",
    "SOAP (Simple Object Access Protocol):\n",
    "\n",
    "* Protocol for structured information exchange\n",
    "* XML-based message format\n",
    "* Can be complex due to specifications\n",
    "* Transport-agnostic (works over various protocols)\n",
    "* Relies on industry standards (e.g., WS-Security, WS-ReliableMessaging)\n",
    "* Performance overhead due to XML parsing"
   ]
  },
  {
   "cell_type": "markdown",
   "id": "e6eddfd8",
   "metadata": {},
   "source": [
    "---"
   ]
  }
 ],
 "metadata": {
  "kernelspec": {
   "display_name": "Python 3 (ipykernel)",
   "language": "python",
   "name": "python3"
  },
  "language_info": {
   "codemirror_mode": {
    "name": "ipython",
    "version": 3
   },
   "file_extension": ".py",
   "mimetype": "text/x-python",
   "name": "python",
   "nbconvert_exporter": "python",
   "pygments_lexer": "ipython3",
   "version": "3.9.13"
  }
 },
 "nbformat": 4,
 "nbformat_minor": 5
}
