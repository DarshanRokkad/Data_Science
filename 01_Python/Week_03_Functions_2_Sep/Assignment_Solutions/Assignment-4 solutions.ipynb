{
 "cells": [
  {
   "cell_type": "markdown",
   "id": "37ef07e9",
   "metadata": {},
   "source": [
    "# <font color = \"orange\"> Assignment-4 solutions"
   ]
  },
  {
   "cell_type": "markdown",
   "id": "e63a4bcb",
   "metadata": {},
   "source": [
    "---"
   ]
  },
  {
   "cell_type": "markdown",
   "id": "1de91303",
   "metadata": {},
   "source": [
    "### Q1. Create a python program to sort the given list of tuples based on integer value using a lambda function. "
   ]
  },
  {
   "cell_type": "code",
   "execution_count": 1,
   "id": "64b355a2",
   "metadata": {},
   "outputs": [
    {
     "name": "stdout",
     "output_type": "stream",
     "text": [
      "Unsorted list : [(5, 'apple'), (2, 'banana'), (8, 'cherry'), (1, 'date')]\n",
      "Sorted list : [(1, 'date'), (2, 'banana'), (5, 'apple'), (8, 'cherry')]\n"
     ]
    }
   ],
   "source": [
    "my_list = [(5, 'apple'), (2, 'banana'), (8, 'cherry'), (1, 'date')]\n",
    "print(\"Unsorted list :\", my_list)\n",
    "sorted_list = sorted(my_list,key = lambda x : x[0])\n",
    "print(\"Sorted list :\", sorted_list)"
   ]
  },
  {
   "cell_type": "markdown",
   "id": "f92daa03",
   "metadata": {},
   "source": [
    "---"
   ]
  },
  {
   "cell_type": "markdown",
   "id": "385b866b",
   "metadata": {},
   "source": [
    "### Q2. Write a Python Program to find the squares of all the numbers in the given list of integers using lambda and map functions. [1, 2, 3, 4, 5, 6, 7, 8, 9, 10]"
   ]
  },
  {
   "cell_type": "code",
   "execution_count": 2,
   "id": "11b1ae4b",
   "metadata": {},
   "outputs": [
    {
     "name": "stdout",
     "output_type": "stream",
     "text": [
      "[1, 2, 3, 4, 5, 6, 7, 8, 9, 10]\n",
      "[1, 4, 9, 16, 25, 36, 49, 64, 81, 100]\n"
     ]
    }
   ],
   "source": [
    "li1 = [1, 2, 3, 4, 5, 6, 7, 8, 9, 10]\n",
    "print(li1)\n",
    "\n",
    "square_numbers = list(map((lambda x : x * x),li1))\n",
    "\n",
    "print(square_numbers)"
   ]
  },
  {
   "cell_type": "markdown",
   "id": "6ce34492",
   "metadata": {},
   "source": [
    "---"
   ]
  },
  {
   "cell_type": "markdown",
   "id": "85cb81c6",
   "metadata": {},
   "source": [
    "### Q3. Write a python program to convert the given list of integers into a tuple of strings. Use map and lambda functions \n",
    "#### Given String: [1, 2, 3, 4, 5, 6, 7, 8, 9, 10]\n",
    "#### Expected output: ('1', '2', '3', '4', '5', '6', '7', '8', '9', '10')"
   ]
  },
  {
   "cell_type": "code",
   "execution_count": 3,
   "id": "4ab86527",
   "metadata": {},
   "outputs": [
    {
     "name": "stdout",
     "output_type": "stream",
     "text": [
      "[1, 2, 3, 4, 5, 6, 7, 8, 9, 10]\n",
      "('1', '2', '3', '4', '5', '6', '7', '8', '9', '10')\n"
     ]
    }
   ],
   "source": [
    "li2 = [1, 2, 3, 4, 5, 6, 7, 8, 9, 10]\n",
    "print(li2)\n",
    "\n",
    "tu = tuple(map(lambda x : str(x) , li2))\n",
    "\n",
    "print(tu)"
   ]
  },
  {
   "cell_type": "markdown",
   "id": "bbf9b9d6",
   "metadata": {},
   "source": [
    "---"
   ]
  },
  {
   "cell_type": "markdown",
   "id": "f29daddd",
   "metadata": {},
   "source": [
    "### Q4.  Write a python program using reduce function to compute the product of a list containing numbers from 1 to 25."
   ]
  },
  {
   "cell_type": "code",
   "execution_count": 4,
   "id": "2fabefa3",
   "metadata": {},
   "outputs": [
    {
     "name": "stdout",
     "output_type": "stream",
     "text": [
      "[1, 2, 3, 4, 5, 6, 7, 8, 9, 10, 11, 12, 13, 14, 15, 16, 17, 18, 19, 20, 21, 22, 23, 24, 25]\n",
      "Product of list containing numbers from 1 to 25 is 15511210043330985984000000.\n"
     ]
    }
   ],
   "source": [
    "li3 = [i for i in range(1,26)]\n",
    "print(li3)\n",
    "\n",
    "from functools import reduce \n",
    "product = reduce(lambda x,y : x*y , li3)\n",
    "\n",
    "print(f\"Product of list containing numbers from 1 to 25 is {product}.\")"
   ]
  },
  {
   "cell_type": "markdown",
   "id": "803f41fb",
   "metadata": {},
   "source": [
    "---"
   ]
  },
  {
   "cell_type": "markdown",
   "id": "80dc8d96",
   "metadata": {},
   "source": [
    "### Q5. Write a python program to filter the numbers in a given list that are divisible by 2 and 3 using the filter function. [2, 3, 6, 9, 27, 60, 90, 120, 55, 46] "
   ]
  },
  {
   "cell_type": "code",
   "execution_count": 5,
   "id": "4b7f4604",
   "metadata": {},
   "outputs": [
    {
     "name": "stdout",
     "output_type": "stream",
     "text": [
      "[2, 3, 6, 9, 27, 60, 90, 120, 55, 46]\n",
      "The number which are divisable by 2 and 3 are [6, 60, 90, 120]\n"
     ]
    }
   ],
   "source": [
    "li4 = [2, 3, 6, 9, 27, 60, 90, 120, 55, 46]\n",
    "print(li4)\n",
    "\n",
    "ans = list(filter(lambda x : x%2==0 and x%3==0 , li4))\n",
    "\n",
    "print('The number which are divisable by 2 and 3 are',ans)"
   ]
  },
  {
   "cell_type": "markdown",
   "id": "f03bf3b3",
   "metadata": {},
   "source": [
    "---"
   ]
  },
  {
   "cell_type": "markdown",
   "id": "6ca3e356",
   "metadata": {},
   "source": [
    "### Q6. Write a python program to find palindromes in the given list of strings using lambda and filter function.['python', 'php', 'aba', 'radar', 'level'] "
   ]
  },
  {
   "cell_type": "code",
   "execution_count": 6,
   "id": "6e012fbd",
   "metadata": {},
   "outputs": [
    {
     "name": "stdout",
     "output_type": "stream",
     "text": [
      "['python', 'php', 'aba', 'radar', 'level']\n",
      "Palindrome string in list are ['php', 'aba', 'radar', 'level']\n"
     ]
    }
   ],
   "source": [
    "li5 = ['python', 'php', 'aba', 'radar', 'level']\n",
    "print(li5)\n",
    "\n",
    "palindrome_strings = list(filter(lambda x : x == x[::-1],li5))\n",
    "         \n",
    "print(\"Palindrome string in list are\",palindrome_strings)"
   ]
  },
  {
   "cell_type": "markdown",
   "id": "b758c44e",
   "metadata": {},
   "source": [
    "---"
   ]
  }
 ],
 "metadata": {
  "kernelspec": {
   "display_name": "Python 3 (ipykernel)",
   "language": "python",
   "name": "python3"
  },
  "language_info": {
   "codemirror_mode": {
    "name": "ipython",
    "version": 3
   },
   "file_extension": ".py",
   "mimetype": "text/x-python",
   "name": "python",
   "nbconvert_exporter": "python",
   "pygments_lexer": "ipython3",
   "version": "3.9.13"
  }
 },
 "nbformat": 4,
 "nbformat_minor": 5
}
