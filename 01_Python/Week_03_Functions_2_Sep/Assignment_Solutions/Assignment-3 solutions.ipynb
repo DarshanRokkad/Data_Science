{
 "cells": [
  {
   "cell_type": "markdown",
   "id": "6d93cf8e",
   "metadata": {},
   "source": [
    "# <font color = \"orange\"> Assignment-3 solutions"
   ]
  },
  {
   "cell_type": "markdown",
   "id": "ea9c8da3",
   "metadata": {},
   "source": [
    "---"
   ]
  },
  {
   "cell_type": "markdown",
   "id": "5a3a1c9a",
   "metadata": {},
   "source": [
    "### Q1. Which keyword is used to create a function? Create a function to return a list of odd numbers in the range of 1 to 25."
   ]
  },
  {
   "cell_type": "markdown",
   "id": "1b3175e1",
   "metadata": {},
   "source": [
    "* We use ' def ' keyword to create the function."
   ]
  },
  {
   "cell_type": "code",
   "execution_count": 1,
   "id": "ceeed9e6",
   "metadata": {},
   "outputs": [
    {
     "data": {
      "text/plain": [
       "[1, 3, 5, 7, 9, 11, 13, 15, 17, 19, 21, 23]"
      ]
     },
     "execution_count": 1,
     "metadata": {},
     "output_type": "execute_result"
    }
   ],
   "source": [
    "def odd_numbers():\n",
    "    li = []\n",
    "    for i in range(1,25):\n",
    "        if i%2!=0:\n",
    "            li.append(i)\n",
    "    return li\n",
    "\n",
    "odd_numbers()"
   ]
  },
  {
   "cell_type": "markdown",
   "id": "710d344f",
   "metadata": {},
   "source": [
    "---"
   ]
  },
  {
   "cell_type": "markdown",
   "id": "96eee8be",
   "metadata": {},
   "source": [
    "### Q2. Why ***args** and ***kwargs is used in some functions? Create a function each for *args and **kwargs to demonstrate their use."
   ]
  },
  {
   "cell_type": "markdown",
   "id": "211478f4",
   "metadata": {},
   "source": [
    "* We use *args to take variable size input to function. \n",
    "* We use ****kwargs** to take the key-value pair to the function."
   ]
  },
  {
   "cell_type": "code",
   "execution_count": 2,
   "id": "4bdae1ce",
   "metadata": {},
   "outputs": [
    {
     "name": "stdout",
     "output_type": "stream",
     "text": [
      "1,2,3 and sum is 6\n",
      "\n",
      "4,5,6,7,8,9 and sum is 39\n"
     ]
    }
   ],
   "source": [
    "def add_element(*args):\n",
    "    s = 0 \n",
    "    for i in args:\n",
    "        s = s + i\n",
    "    return s \n",
    "\n",
    "print(f\"1,2,3 and sum is {add_element(1,2,3)}\")\n",
    "print()\n",
    "print(f\"4,5,6,7,8,9 and sum is {add_element(4,5,6,7,8,9)}\")"
   ]
  },
  {
   "cell_type": "code",
   "execution_count": 3,
   "id": "c0d3695e",
   "metadata": {},
   "outputs": [
    {
     "name": "stdout",
     "output_type": "stream",
     "text": [
      "{'name': 'darshan', 'age': 19}\n"
     ]
    }
   ],
   "source": [
    "def fun(**kwargs):\n",
    "    return kwargs\n",
    "\n",
    "di = fun(name='darshan',age=19)\n",
    "print(di)"
   ]
  },
  {
   "cell_type": "markdown",
   "id": "8652c707",
   "metadata": {},
   "source": [
    "---"
   ]
  },
  {
   "cell_type": "markdown",
   "id": "e53ea734",
   "metadata": {},
   "source": [
    "### Q3.  What is an iterator in python? \n",
    "### Name the method used to initialise the iterator object and the method used for iteration. Use these methods to print the first five elements of the given list [2, 4, 6, 8, 10, 12, 14, 16, 18, 20]."
   ]
  },
  {
   "cell_type": "markdown",
   "id": "ab54964c",
   "metadata": {},
   "source": [
    "* **Iterator** is an object that allow the user to traverse through squence of data.\n",
    "* We use **iter** to intialise the iterator.\n",
    "* We use **next()** for iteration."
   ]
  },
  {
   "cell_type": "code",
   "execution_count": 4,
   "id": "cc7956bd",
   "metadata": {},
   "outputs": [
    {
     "name": "stdout",
     "output_type": "stream",
     "text": [
      "2\n",
      "4\n",
      "6\n",
      "8\n",
      "10\n"
     ]
    }
   ],
   "source": [
    "l = [2, 4, 6, 8, 10, 12, 14, 16, 18, 20]\n",
    "it = iter(l)\n",
    "for i in range(5):\n",
    "    print(next(it))"
   ]
  },
  {
   "cell_type": "markdown",
   "id": "90e85e04",
   "metadata": {},
   "source": [
    "---"
   ]
  },
  {
   "cell_type": "markdown",
   "id": "64e640b7",
   "metadata": {},
   "source": [
    "### Q4.  What is a generator function in python? Why yield keyword is used? Give an example of a generator function."
   ]
  },
  {
   "cell_type": "markdown",
   "id": "63c05da3",
   "metadata": {},
   "source": [
    "A generator function in Python is a special type of function that uses the **yield** keyword to yield values one at a time during iteration, allowing for efficient memory usage and state preservation."
   ]
  },
  {
   "cell_type": "code",
   "execution_count": 5,
   "id": "d521375a",
   "metadata": {},
   "outputs": [
    {
     "name": "stdout",
     "output_type": "stream",
     "text": [
      "List of numbers :  [2, 4, 6, 8, 10, 12, 14, 16, 18, 20]\n",
      "Cube of the numbers : 8 64 216 512 1000 1728 2744 4096 5832 8000 "
     ]
    }
   ],
   "source": [
    "def cube(l):\n",
    "    for i in l:\n",
    "        yield i*i*i\n",
    "\n",
    "l = [2, 4, 6, 8, 10, 12, 14, 16, 18, 20]\n",
    "print(\"List of numbers : \",l)\n",
    "it = cube(l)\n",
    "print(\"Cube of the numbers : \",end='')\n",
    "for i in it:\n",
    "    print(i , end=\" \")"
   ]
  },
  {
   "cell_type": "markdown",
   "id": "d707bb5a",
   "metadata": {},
   "source": [
    "---"
   ]
  },
  {
   "cell_type": "markdown",
   "id": "742f56b7",
   "metadata": {},
   "source": [
    "### Q5. Create a generator function for prime numbers less than 1000. Use the next() method to print the first 20 prime numbers."
   ]
  },
  {
   "cell_type": "code",
   "execution_count": 6,
   "id": "f1ecdfe9",
   "metadata": {},
   "outputs": [
    {
     "name": "stdout",
     "output_type": "stream",
     "text": [
      "Prime number less then 100 are \n",
      "1 2 3 5 7 11 13 17 19 23 29 31 37 41 43 47 53 59 61 67 71 73 79 83 89 97 101 103 107 109 113 127 131 137 139 149 151 157 163 167 173 179 181 191 193 197 199 211 223 227 229 233 239 241 251 257 263 269 271 277 281 283 293 307 311 313 317 331 337 347 349 353 359 367 373 379 383 389 397 401 409 419 421 431 433 439 443 449 457 461 463 467 479 487 491 499 503 509 521 523 541 547 557 563 569 571 577 587 593 599 601 607 613 617 619 631 641 643 647 653 659 661 673 677 683 691 701 709 719 727 733 739 743 751 757 761 769 773 787 797 809 811 821 823 827 829 839 853 857 859 863 877 881 883 887 907 911 919 929 937 941 947 953 967 971 977 983 991 997 "
     ]
    }
   ],
   "source": [
    "def prime_num(n):\n",
    "    for i in range(1,n):\n",
    "        for j in range(2,i):\n",
    "            if i%j==0:\n",
    "                break\n",
    "        else:\n",
    "            yield i\n",
    "        \n",
    "itr = prime_num(1000)\n",
    "print(\"Prime number less then 100 are \")\n",
    "while True :\n",
    "    try :\n",
    "        print(next(itr),end=\" \")\n",
    "    except:\n",
    "        break"
   ]
  },
  {
   "cell_type": "markdown",
   "id": "cd991230",
   "metadata": {},
   "source": [
    "---"
   ]
  }
 ],
 "metadata": {
  "kernelspec": {
   "display_name": "Python 3 (ipykernel)",
   "language": "python",
   "name": "python3"
  },
  "language_info": {
   "codemirror_mode": {
    "name": "ipython",
    "version": 3
   },
   "file_extension": ".py",
   "mimetype": "text/x-python",
   "name": "python",
   "nbconvert_exporter": "python",
   "pygments_lexer": "ipython3",
   "version": "3.9.13"
  }
 },
 "nbformat": 4,
 "nbformat_minor": 5
}
