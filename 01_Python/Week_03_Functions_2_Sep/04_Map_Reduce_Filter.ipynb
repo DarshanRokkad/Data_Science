{
 "cells": [
  {
   "cell_type": "markdown",
   "id": "0532f1e6",
   "metadata": {},
   "source": [
    "# <font color = 'orange'>Map\n",
    "    * Not compulsary to use \n",
    "    * map(func, *iterables) --> map object"
   ]
  },
  {
   "cell_type": "markdown",
   "id": "23430b82",
   "metadata": {},
   "source": [
    "#### Q1. Create a list of square of a given list."
   ]
  },
  {
   "cell_type": "code",
   "execution_count": 8,
   "id": "2ecb1c1f",
   "metadata": {},
   "outputs": [],
   "source": [
    "l = [1,2,3,4,5]"
   ]
  },
  {
   "cell_type": "code",
   "execution_count": 15,
   "id": "34bbd117",
   "metadata": {},
   "outputs": [
    {
     "name": "stdout",
     "output_type": "stream",
     "text": [
      "[1, 2, 3, 4, 5]\n",
      "[1, 4, 9, 16, 25]\n"
     ]
    }
   ],
   "source": [
    "def fun(l):\n",
    "    tem = []\n",
    "    for i in l :\n",
    "        tem.append(i*i)\n",
    "    return tem\n",
    "\n",
    "print(l)\n",
    "print(fun(l))"
   ]
  },
  {
   "cell_type": "code",
   "execution_count": 16,
   "id": "cc0e82af",
   "metadata": {},
   "outputs": [
    {
     "name": "stdout",
     "output_type": "stream",
     "text": [
      "[1, 2, 3, 4, 5]\n",
      "[1, 4, 9, 16, 25]\n"
     ]
    }
   ],
   "source": [
    "# using list comprehension \n",
    "sq1 = [i*i for i in l]\n",
    "\n",
    "print(l)\n",
    "print(sq1)"
   ]
  },
  {
   "cell_type": "code",
   "execution_count": 17,
   "id": "209787c3",
   "metadata": {},
   "outputs": [
    {
     "name": "stdout",
     "output_type": "stream",
     "text": [
      "[1, 2, 3, 4, 5]\n",
      "[1, 4, 9, 16, 25]\n"
     ]
    }
   ],
   "source": [
    "# using map function\n",
    "def squ(x): \n",
    "    return x*x\n",
    "sq2 = list(map(squ,l))\n",
    "\n",
    "print(l)\n",
    "print(sq2)"
   ]
  },
  {
   "cell_type": "code",
   "execution_count": 18,
   "id": "61ac0c65",
   "metadata": {},
   "outputs": [
    {
     "name": "stdout",
     "output_type": "stream",
     "text": [
      "[1, 2, 3, 4, 5]\n",
      "[1, 4, 9, 16, 25]\n"
     ]
    }
   ],
   "source": [
    "# using lambda function in place of function in map function\n",
    "sq2 = list(map(lambda x : x*x,l))\n",
    "\n",
    "print(l)\n",
    "print(sq2)"
   ]
  },
  {
   "cell_type": "markdown",
   "id": "d53c0e70",
   "metadata": {},
   "source": [
    "#### Q2. Create a list by adding other 2 lists."
   ]
  },
  {
   "cell_type": "code",
   "execution_count": 30,
   "id": "3b369f56",
   "metadata": {},
   "outputs": [
    {
     "name": "stdout",
     "output_type": "stream",
     "text": [
      "[7, 9, 11, 13, 15]\n"
     ]
    }
   ],
   "source": [
    "l1 = [1,2,3,4,5]\n",
    "l2 = [6,7,8,9,10]\n",
    "\n",
    "l3 = list(map((lambda a,b : a+b),l1,l2))\n",
    "\n",
    "print(l3)"
   ]
  },
  {
   "cell_type": "markdown",
   "id": "1738aaf0",
   "metadata": {},
   "source": [
    "#### Q3. change the string to uppercase"
   ]
  },
  {
   "cell_type": "code",
   "execution_count": 25,
   "id": "ccf5ec5d",
   "metadata": {},
   "outputs": [
    {
     "data": {
      "text/plain": [
       "['P', 'W', 'S', 'K', 'I', 'L', 'L', 'S']"
      ]
     },
     "execution_count": 25,
     "metadata": {},
     "output_type": "execute_result"
    }
   ],
   "source": [
    "s = \"pwskills\"\n",
    "# ''.join(list(map(lambda x : x.upper() , s)))\n",
    "list(map(lambda x : x.upper() , s))"
   ]
  },
  {
   "cell_type": "markdown",
   "id": "fa8edad0",
   "metadata": {},
   "source": [
    "---"
   ]
  },
  {
   "cell_type": "markdown",
   "id": "0dc3be4f",
   "metadata": {},
   "source": [
    "# <font color = 'orange'>Reduce\n",
    "    * By default it will be not available we have to import.\n",
    "    * reduce(func, iterables , intializer) --> respective output.\n",
    "    * It is specially designed for the functions with more that 2 parameters."
   ]
  },
  {
   "cell_type": "markdown",
   "id": "690f1904",
   "metadata": {},
   "source": [
    "#### Q1. Give the sum of all elements of the list."
   ]
  },
  {
   "cell_type": "code",
   "execution_count": 28,
   "id": "f74cf640",
   "metadata": {},
   "outputs": [
    {
     "name": "stdout",
     "output_type": "stream",
     "text": [
      "19\n",
      "20\n"
     ]
    }
   ],
   "source": [
    "from functools import reduce\n",
    "\n",
    "l = [1,2,3,4,5,4]"
   ]
  },
  {
   "cell_type": "code",
   "execution_count": 32,
   "id": "5ab032f7",
   "metadata": {},
   "outputs": [
    {
     "name": "stdout",
     "output_type": "stream",
     "text": [
      "19\n",
      "20\n"
     ]
    }
   ],
   "source": [
    "def add(a,b):\n",
    "    return a+b\n",
    "\n",
    "print(reduce(add,l))\n",
    "print(reduce(add,l,1))"
   ]
  },
  {
   "cell_type": "code",
   "execution_count": 31,
   "id": "1a633f5c",
   "metadata": {},
   "outputs": [
    {
     "name": "stdout",
     "output_type": "stream",
     "text": [
      "19\n",
      "20\n"
     ]
    }
   ],
   "source": [
    "# using lambda function\n",
    "print(reduce(lambda x,y:x+y,l))\n",
    "print(reduce(lambda x,y:x+y,l,1))"
   ]
  },
  {
   "cell_type": "markdown",
   "id": "21a99873",
   "metadata": {},
   "source": [
    "* In reduce , take only **2 parameters** and it is designed for that.\n",
    "* Do not take more that 2 parameters in function it will not work."
   ]
  },
  {
   "cell_type": "code",
   "execution_count": 35,
   "id": "dddc870d",
   "metadata": {},
   "outputs": [
    {
     "ename": "TypeError",
     "evalue": "<lambda>() missing 1 required positional argument: 'z'",
     "output_type": "error",
     "traceback": [
      "\u001b[1;31m---------------------------------------------------------------------------\u001b[0m",
      "\u001b[1;31mTypeError\u001b[0m                                 Traceback (most recent call last)",
      "\u001b[1;32m~\\AppData\\Local\\Temp\\ipykernel_35648\\2940507021.py\u001b[0m in \u001b[0;36m<module>\u001b[1;34m\u001b[0m\n\u001b[0;32m      1\u001b[0m \u001b[1;31m# It will not work for function more than 2 parameters.\u001b[0m\u001b[1;33m\u001b[0m\u001b[1;33m\u001b[0m\u001b[0m\n\u001b[0;32m      2\u001b[0m \u001b[1;31m# Sometimes, it may work.\u001b[0m\u001b[1;33m\u001b[0m\u001b[1;33m\u001b[0m\u001b[0m\n\u001b[1;32m----> 3\u001b[1;33m \u001b[0mreduce\u001b[0m\u001b[1;33m(\u001b[0m\u001b[1;32mlambda\u001b[0m \u001b[0mx\u001b[0m \u001b[1;33m,\u001b[0m \u001b[0my\u001b[0m \u001b[1;33m,\u001b[0m \u001b[0mz\u001b[0m \u001b[1;33m:\u001b[0m \u001b[0mx\u001b[0m\u001b[1;33m+\u001b[0m\u001b[0my\u001b[0m\u001b[1;33m+\u001b[0m\u001b[0mz\u001b[0m \u001b[1;33m,\u001b[0m \u001b[0ml\u001b[0m\u001b[1;33m)\u001b[0m\u001b[1;33m\u001b[0m\u001b[1;33m\u001b[0m\u001b[0m\n\u001b[0m",
      "\u001b[1;31mTypeError\u001b[0m: <lambda>() missing 1 required positional argument: 'z'"
     ]
    }
   ],
   "source": [
    "# It will not work for function more than 2 parameters.\n",
    "# Sometimes, it may work.\n",
    "reduce(lambda x , y , z : x+y+z , l)"
   ]
  },
  {
   "cell_type": "code",
   "execution_count": 36,
   "id": "dfc135d7",
   "metadata": {},
   "outputs": [
    {
     "ename": "TypeError",
     "evalue": "reduce() of empty sequence with no initial value",
     "output_type": "error",
     "traceback": [
      "\u001b[1;31m---------------------------------------------------------------------------\u001b[0m",
      "\u001b[1;31mTypeError\u001b[0m                                 Traceback (most recent call last)",
      "\u001b[1;32m~\\AppData\\Local\\Temp\\ipykernel_35648\\4119395947.py\u001b[0m in \u001b[0;36m<module>\u001b[1;34m\u001b[0m\n\u001b[1;32m----> 1\u001b[1;33m \u001b[0mreduce\u001b[0m\u001b[1;33m(\u001b[0m\u001b[1;32mlambda\u001b[0m \u001b[0mx\u001b[0m \u001b[1;33m,\u001b[0m \u001b[0my\u001b[0m \u001b[1;33m:\u001b[0m \u001b[0mx\u001b[0m\u001b[1;33m+\u001b[0m\u001b[0my\u001b[0m \u001b[1;33m,\u001b[0m \u001b[1;33m[\u001b[0m\u001b[1;33m]\u001b[0m\u001b[1;33m)\u001b[0m\u001b[1;33m\u001b[0m\u001b[1;33m\u001b[0m\u001b[0m\n\u001b[0m",
      "\u001b[1;31mTypeError\u001b[0m: reduce() of empty sequence with no initial value"
     ]
    }
   ],
   "source": [
    "# it will not work for empty list\n",
    "reduce(lambda x , y : x+y , [])"
   ]
  },
  {
   "cell_type": "markdown",
   "id": "5989d871",
   "metadata": {},
   "source": [
    "####  * <font color='red'> Exception case."
   ]
  },
  {
   "cell_type": "code",
   "execution_count": 38,
   "id": "baf68de9",
   "metadata": {},
   "outputs": [
    {
     "data": {
      "text/plain": [
       "4"
      ]
     },
     "execution_count": 38,
     "metadata": {},
     "output_type": "execute_result"
    }
   ],
   "source": [
    "reduce(lambda x , y : x+y , [4])"
   ]
  },
  {
   "cell_type": "markdown",
   "id": "7b5ccd74",
   "metadata": {},
   "source": [
    "#### Q2. Give the largest of all elements of the list."
   ]
  },
  {
   "cell_type": "code",
   "execution_count": 47,
   "id": "5e544c3c",
   "metadata": {},
   "outputs": [
    {
     "name": "stdout",
     "output_type": "stream",
     "text": [
      "[1, 2, 31, 4, 5, 6]\n"
     ]
    },
    {
     "data": {
      "text/plain": [
       "31"
      ]
     },
     "execution_count": 47,
     "metadata": {},
     "output_type": "execute_result"
    }
   ],
   "source": [
    "l1 = [1, 2, 31, 4, 5, 6]\n",
    "print(l1)\n",
    "\n",
    "reduce((lambda x,y: x if x>y else y),l1)"
   ]
  },
  {
   "cell_type": "markdown",
   "id": "2a219627",
   "metadata": {},
   "source": [
    "---"
   ]
  },
  {
   "cell_type": "markdown",
   "id": "edb5da94",
   "metadata": {},
   "source": [
    "# <font color = 'orange'>Filter"
   ]
  },
  {
   "cell_type": "markdown",
   "id": "0ee3f3db",
   "metadata": {},
   "source": [
    "#### Q1. Give all the even numbers in the list."
   ]
  },
  {
   "cell_type": "code",
   "execution_count": 57,
   "id": "20ee0457",
   "metadata": {},
   "outputs": [
    {
     "data": {
      "text/plain": [
       "[2, 4, 6]"
      ]
     },
     "execution_count": 57,
     "metadata": {},
     "output_type": "execute_result"
    }
   ],
   "source": [
    "l2 = [1, 2, 3, 4, 5, 6]\n",
    "\n",
    "list(filter((lambda x : x%2==0), l2))"
   ]
  },
  {
   "cell_type": "markdown",
   "id": "ccd079e4",
   "metadata": {},
   "source": [
    "#### Q2. Give all the positive numbers in the list."
   ]
  },
  {
   "cell_type": "code",
   "execution_count": 56,
   "id": "e361e014",
   "metadata": {},
   "outputs": [
    {
     "data": {
      "text/plain": [
       "[4, 5, 6, 1]"
      ]
     },
     "execution_count": 56,
     "metadata": {},
     "output_type": "execute_result"
    }
   ],
   "source": [
    "l3 = [-2,4,-9,5,6,-3,-6,1,-7]\n",
    "\n",
    "list(filter((lambda x : x>0), l3))"
   ]
  },
  {
   "cell_type": "markdown",
   "id": "686cabef",
   "metadata": {},
   "source": [
    "#### Q3. Give all the name with length less than 6 in the list."
   ]
  },
  {
   "cell_type": "code",
   "execution_count": 59,
   "id": "b2dc60e8",
   "metadata": {},
   "outputs": [
    {
     "data": {
      "text/plain": [
       "['sudh', 'kumar', 'krish']"
      ]
     },
     "execution_count": 59,
     "metadata": {},
     "output_type": "execute_result"
    }
   ],
   "source": [
    "l4 = [\"sudh\" , \"pwskills\" , \"kumar\" , \"bengalore\" , \"krish\"]\n",
    "\n",
    "list(filter((lambda x: len(x)<7),l4))"
   ]
  }
 ],
 "metadata": {
  "kernelspec": {
   "display_name": "Python 3 (ipykernel)",
   "language": "python",
   "name": "python3"
  },
  "language_info": {
   "codemirror_mode": {
    "name": "ipython",
    "version": 3
   },
   "file_extension": ".py",
   "mimetype": "text/x-python",
   "name": "python",
   "nbconvert_exporter": "python",
   "pygments_lexer": "ipython3",
   "version": "3.9.13"
  }
 },
 "nbformat": 4,
 "nbformat_minor": 5
}
