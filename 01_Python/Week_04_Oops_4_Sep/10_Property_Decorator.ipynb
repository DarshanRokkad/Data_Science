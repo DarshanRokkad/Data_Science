{
 "cells": [
  {
   "cell_type": "markdown",
   "id": "b5128e86",
   "metadata": {},
   "source": [
    "# <font color = 'orange'> Property Decorator - Getter , Setter and Deleter"
   ]
  },
  {
   "cell_type": "markdown",
   "id": "d53ed9f3",
   "metadata": {},
   "source": [
    "---"
   ]
  },
  {
   "cell_type": "markdown",
   "id": "84c1e4a9",
   "metadata": {},
   "source": [
    "**Property** is a decorator used to expose the private or protected variable to the outer world."
   ]
  },
  {
   "cell_type": "code",
   "execution_count": 1,
   "id": "f19038e6",
   "metadata": {},
   "outputs": [],
   "source": [
    "class pwskills:\n",
    "    \n",
    "    def __init__(self, course_price , course_name):\n",
    "        self.__course_price = course_price\n",
    "        self.course_name = course_name"
   ]
  },
  {
   "cell_type": "code",
   "execution_count": 2,
   "id": "5f0a60fe",
   "metadata": {},
   "outputs": [],
   "source": [
    "pw = pwskills(3500 , \"data science masters\")"
   ]
  },
  {
   "cell_type": "code",
   "execution_count": 3,
   "id": "b3f122b5",
   "metadata": {},
   "outputs": [
    {
     "ename": "AttributeError",
     "evalue": "'pwskills' object has no attribute '__course_price'",
     "output_type": "error",
     "traceback": [
      "\u001b[1;31m---------------------------------------------------------------------------\u001b[0m",
      "\u001b[1;31mAttributeError\u001b[0m                            Traceback (most recent call last)",
      "\u001b[1;32m~\\AppData\\Local\\Temp\\ipykernel_24432\\423895978.py\u001b[0m in \u001b[0;36m<module>\u001b[1;34m\u001b[0m\n\u001b[0;32m      1\u001b[0m \u001b[1;31m# cannot\u001b[0m\u001b[1;33m\u001b[0m\u001b[1;33m\u001b[0m\u001b[0m\n\u001b[1;32m----> 2\u001b[1;33m \u001b[0mpw\u001b[0m\u001b[1;33m.\u001b[0m\u001b[0m__course_price\u001b[0m\u001b[1;33m\u001b[0m\u001b[1;33m\u001b[0m\u001b[0m\n\u001b[0m",
      "\u001b[1;31mAttributeError\u001b[0m: 'pwskills' object has no attribute '__course_price'"
     ]
    }
   ],
   "source": [
    "# cannot \n",
    "pw.__course_price"
   ]
  },
  {
   "cell_type": "markdown",
   "id": "95d3c7d4",
   "metadata": {},
   "source": [
    "* __  &emsp; -> private\n",
    "* \\_ &emsp;  -> protected\n",
    "* nothing &emsp; -> public"
   ]
  },
  {
   "cell_type": "code",
   "execution_count": 4,
   "id": "f5dd1ef4",
   "metadata": {},
   "outputs": [
    {
     "data": {
      "text/plain": [
       "3500"
      ]
     },
     "execution_count": 4,
     "metadata": {},
     "output_type": "execute_result"
    }
   ],
   "source": [
    "# As a creator only you can access it but \n",
    "# for external world it is not visible\n",
    "# even object cannot access it.\n",
    "pw._pwskills__course_price"
   ]
  },
  {
   "cell_type": "markdown",
   "id": "85157675",
   "metadata": {},
   "source": [
    "---"
   ]
  },
  {
   "cell_type": "markdown",
   "id": "07262c4c",
   "metadata": {},
   "source": [
    "## Now to make access of private variable to the outside world we need decorator"
   ]
  },
  {
   "cell_type": "code",
   "execution_count": 5,
   "id": "69d55f3d",
   "metadata": {},
   "outputs": [],
   "source": [
    "class pwskills1:\n",
    "    \n",
    "    def __init__(self, course_price , course_name):\n",
    "        self.__course_price = course_price\n",
    "        self.course_name = course_name\n",
    "        \n",
    "    @property \n",
    "    def read_course_price(self):\n",
    "        return self.__course_price\n",
    "    \n",
    "    # We use above function to set because it is binded by a property decorator\n",
    "    @read_course_price.setter\n",
    "    def set_course_price(self,price):\n",
    "        if price>1000:\n",
    "            self.__course_price = price\n",
    "        else :\n",
    "            print('You cannot set course price less than 1000.')\n",
    "    \n",
    "    @read_course_price.deleter\n",
    "    def del_course_price(self):\n",
    "        del self.__course_price"
   ]
  },
  {
   "cell_type": "code",
   "execution_count": 6,
   "id": "c6b686cb",
   "metadata": {},
   "outputs": [],
   "source": [
    "pw1 = pwskills1(3500,'Data Science')"
   ]
  },
  {
   "cell_type": "markdown",
   "id": "40b1c0e6",
   "metadata": {},
   "source": [
    "---"
   ]
  },
  {
   "cell_type": "markdown",
   "id": "3c700092",
   "metadata": {},
   "source": [
    "### Reading of private variable"
   ]
  },
  {
   "cell_type": "code",
   "execution_count": 7,
   "id": "0bf61e3a",
   "metadata": {},
   "outputs": [
    {
     "ename": "AttributeError",
     "evalue": "'pwskills1' object has no attribute '__course_price'",
     "output_type": "error",
     "traceback": [
      "\u001b[1;31m---------------------------------------------------------------------------\u001b[0m",
      "\u001b[1;31mAttributeError\u001b[0m                            Traceback (most recent call last)",
      "\u001b[1;32m~\\AppData\\Local\\Temp\\ipykernel_24432\\2526654740.py\u001b[0m in \u001b[0;36m<module>\u001b[1;34m\u001b[0m\n\u001b[1;32m----> 1\u001b[1;33m \u001b[0mpw1\u001b[0m\u001b[1;33m.\u001b[0m\u001b[0m__course_price\u001b[0m\u001b[1;33m\u001b[0m\u001b[1;33m\u001b[0m\u001b[0m\n\u001b[0m",
      "\u001b[1;31mAttributeError\u001b[0m: 'pwskills1' object has no attribute '__course_price'"
     ]
    }
   ],
   "source": [
    "pw1.__course_price"
   ]
  },
  {
   "cell_type": "code",
   "execution_count": 8,
   "id": "f160cf16",
   "metadata": {},
   "outputs": [
    {
     "name": "stdout",
     "output_type": "stream",
     "text": [
      "Course Price is 3500\n"
     ]
    }
   ],
   "source": [
    "# Can access private variable using a property decorator \n",
    "print(f'Course Price is {pw1.read_course_price}')"
   ]
  },
  {
   "cell_type": "markdown",
   "id": "36348131",
   "metadata": {},
   "source": [
    "---"
   ]
  },
  {
   "cell_type": "markdown",
   "id": "cb1af73a",
   "metadata": {},
   "source": [
    "### Setting of private variable"
   ]
  },
  {
   "cell_type": "code",
   "execution_count": 9,
   "id": "73cd8533",
   "metadata": {},
   "outputs": [],
   "source": [
    "# Using a setter method i will set the private method\n",
    "pw1.set_course_price = 2000"
   ]
  },
  {
   "cell_type": "code",
   "execution_count": 10,
   "id": "04081a06",
   "metadata": {},
   "outputs": [
    {
     "name": "stdout",
     "output_type": "stream",
     "text": [
      "Course Price is 2000\n"
     ]
    }
   ],
   "source": [
    "print(f'Course Price is {pw1.read_course_price}')"
   ]
  },
  {
   "cell_type": "code",
   "execution_count": 11,
   "id": "61bbcfed",
   "metadata": {},
   "outputs": [
    {
     "name": "stdout",
     "output_type": "stream",
     "text": [
      "You cannot set course price less than 1000.\n"
     ]
    }
   ],
   "source": [
    "# Using a setter method i will set the private method\n",
    "pw1.set_course_price = 900"
   ]
  },
  {
   "cell_type": "code",
   "execution_count": 12,
   "id": "2ff7ca25",
   "metadata": {},
   "outputs": [
    {
     "name": "stdout",
     "output_type": "stream",
     "text": [
      "Course Price is 2000\n"
     ]
    }
   ],
   "source": [
    "print(f'Course Price is {pw1.read_course_price}')"
   ]
  },
  {
   "cell_type": "markdown",
   "id": "ec7f8555",
   "metadata": {},
   "source": [
    "---"
   ]
  },
  {
   "cell_type": "markdown",
   "id": "817357d9",
   "metadata": {},
   "source": [
    "### Deleting of private variable"
   ]
  },
  {
   "cell_type": "code",
   "execution_count": 13,
   "id": "c1f15573",
   "metadata": {},
   "outputs": [
    {
     "name": "stdout",
     "output_type": "stream",
     "text": [
      "Course Price is 2000\n"
     ]
    }
   ],
   "source": [
    "print(f'Course Price is {pw1.read_course_price}')"
   ]
  },
  {
   "cell_type": "code",
   "execution_count": 14,
   "id": "58ca6646",
   "metadata": {},
   "outputs": [],
   "source": [
    "del pw1.del_course_price"
   ]
  },
  {
   "cell_type": "code",
   "execution_count": 15,
   "id": "a6141b75",
   "metadata": {},
   "outputs": [
    {
     "ename": "AttributeError",
     "evalue": "'pwskills1' object has no attribute '_pwskills1__course_price'",
     "output_type": "error",
     "traceback": [
      "\u001b[1;31m---------------------------------------------------------------------------\u001b[0m",
      "\u001b[1;31mAttributeError\u001b[0m                            Traceback (most recent call last)",
      "\u001b[1;32m~\\AppData\\Local\\Temp\\ipykernel_24432\\4288041565.py\u001b[0m in \u001b[0;36m<module>\u001b[1;34m\u001b[0m\n\u001b[1;32m----> 1\u001b[1;33m \u001b[0mprint\u001b[0m\u001b[1;33m(\u001b[0m\u001b[1;34mf'Course Price is {pw1.read_course_price}'\u001b[0m\u001b[1;33m)\u001b[0m\u001b[1;33m\u001b[0m\u001b[1;33m\u001b[0m\u001b[0m\n\u001b[0m",
      "\u001b[1;32m~\\AppData\\Local\\Temp\\ipykernel_24432\\3180534486.py\u001b[0m in \u001b[0;36mread_course_price\u001b[1;34m(self)\u001b[0m\n\u001b[0;32m      7\u001b[0m     \u001b[1;33m@\u001b[0m\u001b[0mproperty\u001b[0m\u001b[1;33m\u001b[0m\u001b[1;33m\u001b[0m\u001b[0m\n\u001b[0;32m      8\u001b[0m     \u001b[1;32mdef\u001b[0m \u001b[0mread_course_price\u001b[0m\u001b[1;33m(\u001b[0m\u001b[0mself\u001b[0m\u001b[1;33m)\u001b[0m\u001b[1;33m:\u001b[0m\u001b[1;33m\u001b[0m\u001b[1;33m\u001b[0m\u001b[0m\n\u001b[1;32m----> 9\u001b[1;33m         \u001b[1;32mreturn\u001b[0m \u001b[0mself\u001b[0m\u001b[1;33m.\u001b[0m\u001b[0m__course_price\u001b[0m\u001b[1;33m\u001b[0m\u001b[1;33m\u001b[0m\u001b[0m\n\u001b[0m\u001b[0;32m     10\u001b[0m \u001b[1;33m\u001b[0m\u001b[0m\n\u001b[0;32m     11\u001b[0m     \u001b[1;31m# We use above function to set because it is binded by a property decorator\u001b[0m\u001b[1;33m\u001b[0m\u001b[1;33m\u001b[0m\u001b[0m\n",
      "\u001b[1;31mAttributeError\u001b[0m: 'pwskills1' object has no attribute '_pwskills1__course_price'"
     ]
    }
   ],
   "source": [
    "print(f'Course Price is {pw1.read_course_price}')"
   ]
  },
  {
   "cell_type": "markdown",
   "id": "e7be4ad9",
   "metadata": {},
   "source": [
    "---"
   ]
  }
 ],
 "metadata": {
  "kernelspec": {
   "display_name": "Python 3 (ipykernel)",
   "language": "python",
   "name": "python3"
  },
  "language_info": {
   "codemirror_mode": {
    "name": "ipython",
    "version": 3
   },
   "file_extension": ".py",
   "mimetype": "text/x-python",
   "name": "python",
   "nbconvert_exporter": "python",
   "pygments_lexer": "ipython3",
   "version": "3.9.13"
  }
 },
 "nbformat": 4,
 "nbformat_minor": 5
}
