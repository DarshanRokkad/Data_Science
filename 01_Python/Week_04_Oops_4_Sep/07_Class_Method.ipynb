{
 "cells": [
  {
   "cell_type": "markdown",
   "id": "50fb4894",
   "metadata": {},
   "source": [
    "# <font color = 'orange'> Class methods"
   ]
  },
  {
   "cell_type": "markdown",
   "id": "b545f80d",
   "metadata": {},
   "source": [
    "* Class methods are used to pass the data to class without creating an object.\n",
    "* Interview question : If you dont have a constructor what will you do if you want to pass data how will you pass."
   ]
  },
  {
   "cell_type": "markdown",
   "id": "ceb48432",
   "metadata": {},
   "source": [
    "---"
   ]
  },
  {
   "cell_type": "code",
   "execution_count": 1,
   "id": "65270248",
   "metadata": {},
   "outputs": [],
   "source": [
    "class pwskills:\n",
    "    def __init__(self,name,email):\n",
    "        self.name = name \n",
    "        self.email = email\n",
    "    def student_details(self):\n",
    "        print(self.name,self.email)"
   ]
  },
  {
   "cell_type": "code",
   "execution_count": 2,
   "id": "7fe5f104",
   "metadata": {},
   "outputs": [
    {
     "name": "stdout",
     "output_type": "stream",
     "text": [
      "sudh\n",
      "sudh@gmail.com\n",
      "sudh sudh@gmail.com\n"
     ]
    }
   ],
   "source": [
    "pw = pwskills('sudh','sudh@gmail.com')\n",
    "print(pw.name)\n",
    "print(pw.email)\n",
    "pw.student_details()"
   ]
  },
  {
   "cell_type": "markdown",
   "id": "240f315d",
   "metadata": {},
   "source": [
    "---"
   ]
  },
  {
   "cell_type": "code",
   "execution_count": 3,
   "id": "0c76fb15",
   "metadata": {},
   "outputs": [],
   "source": [
    "# We have an alternative to pass the data to class without using the init method.\n",
    "class pwskills:\n",
    "    def __init__(self,name,email):\n",
    "        self.name = name \n",
    "        self.email = email\n",
    "        \n",
    "    @classmethod\n",
    "    # class name will be sent as the parameter to the function\n",
    "    def details(cls,name1,email1):\n",
    "        # this will create an object and returns it\n",
    "        return cls(name1,email1)\n",
    "    \n",
    "    def student_details(self):\n",
    "        print(self.name,self.email)"
   ]
  },
  {
   "cell_type": "code",
   "execution_count": 4,
   "id": "ba6c5d0b",
   "metadata": {},
   "outputs": [
    {
     "name": "stdout",
     "output_type": "stream",
     "text": [
      "darshan\n",
      "darshan@gmail.com\n",
      "darshan darshan@gmail.com\n"
     ]
    }
   ],
   "source": [
    "pw1 = pwskills.details('darshan','darshan@gmail.com')\n",
    "print(pw1.name)\n",
    "print(pw1.email)\n",
    "pw1.student_details()"
   ]
  },
  {
   "cell_type": "markdown",
   "id": "1a1b75b1",
   "metadata": {},
   "source": [
    "---"
   ]
  },
  {
   "cell_type": "markdown",
   "id": "9d7704c1",
   "metadata": {},
   "source": [
    "**Class variable and class methods**\n",
    "\n",
    "* We can create a **common variable and methods** for **all the objects** called class variable and class methods such that any object of the class can access that object.\n",
    "* We can access the class methods using object also.\n",
    "* If class variable is changed \n",
    "1. using class name (or) class method then class variable will be reflected to all the objects.\n",
    "2. using object then class variable will remain same it will not changes but change takes place only for that particular object. "
   ]
  },
  {
   "cell_type": "code",
   "execution_count": 5,
   "id": "50b861ef",
   "metadata": {},
   "outputs": [],
   "source": [
    "# We have an alternative to pass the data to class without using the init method.\n",
    "class pwskills2:\n",
    "    # class variable belongs to all the objects\n",
    "    customer_number = 9134534535\n",
    "    \n",
    "    def __init__(self,name,email):\n",
    "        self.name = name \n",
    "        self.email = email\n",
    "        \n",
    "    @classmethod\n",
    "    # it will change the class variable and\n",
    "    # changes are reflected in all the objects\n",
    "    def change_number(cls,mobile):\n",
    "        cls.customer_number = mobile\n",
    "    \n",
    "    @classmethod\n",
    "    # it will create and returns the object\n",
    "    def details(cls,name1,email1):\n",
    "        return cls(name1,email1)\n",
    "    \n",
    "    def student_details(self):\n",
    "        print(self.name,self.email,self.customer_number)"
   ]
  },
  {
   "cell_type": "code",
   "execution_count": 6,
   "id": "0d5893b0",
   "metadata": {},
   "outputs": [
    {
     "name": "stdout",
     "output_type": "stream",
     "text": [
      "Pw skills customer number = 9134534535\n"
     ]
    }
   ],
   "source": [
    "print(f'Pw skills customer number = {pwskills2.customer_number}')"
   ]
  },
  {
   "cell_type": "markdown",
   "id": "c883a4b2",
   "metadata": {},
   "source": [
    "---"
   ]
  },
  {
   "cell_type": "markdown",
   "id": "dc16b3e1",
   "metadata": {},
   "source": [
    "* Change of class variable using **class method** lead to change of class variable."
   ]
  },
  {
   "cell_type": "code",
   "execution_count": 7,
   "id": "305d25f2",
   "metadata": {},
   "outputs": [],
   "source": [
    "obj1 = pwskills2('sohil','sohil@gmail.com')\n",
    "obj2 = pwskills2.details('sudh','sudh@gmail.com')"
   ]
  },
  {
   "cell_type": "code",
   "execution_count": 8,
   "id": "18841602",
   "metadata": {},
   "outputs": [
    {
     "name": "stdout",
     "output_type": "stream",
     "text": [
      "sohil sohil@gmail.com 9134534535\n",
      "sudh sudh@gmail.com 9134534535\n"
     ]
    }
   ],
   "source": [
    "obj1.student_details()\n",
    "obj2.student_details()"
   ]
  },
  {
   "cell_type": "code",
   "execution_count": 9,
   "id": "01bbb19c",
   "metadata": {},
   "outputs": [
    {
     "name": "stdout",
     "output_type": "stream",
     "text": [
      "Pw skills customer number = 7834239804\n"
     ]
    }
   ],
   "source": [
    "# if pwskills want to change customer number \n",
    "# then it should be reflected to all the students\n",
    "pwskills2.change_number(7834239804)\n",
    "print(f'Pw skills customer number = {pwskills2.customer_number}')"
   ]
  },
  {
   "cell_type": "code",
   "execution_count": 10,
   "id": "92258a00",
   "metadata": {},
   "outputs": [
    {
     "name": "stdout",
     "output_type": "stream",
     "text": [
      "sohil sohil@gmail.com 7834239804\n",
      "sudh sudh@gmail.com 7834239804\n"
     ]
    }
   ],
   "source": [
    "obj1.student_details()\n",
    "obj2.student_details()"
   ]
  },
  {
   "cell_type": "markdown",
   "id": "fec6ce34",
   "metadata": {},
   "source": [
    "---"
   ]
  },
  {
   "cell_type": "markdown",
   "id": "c8b387dc",
   "metadata": {},
   "source": [
    "* Change of class variable using **object** do not lead to change of class variable but change reflect to only that object. "
   ]
  },
  {
   "cell_type": "code",
   "execution_count": 11,
   "id": "2426f82d",
   "metadata": {},
   "outputs": [],
   "source": [
    "# but only for particular student mentor number\n",
    "# should be assigned as a customer number \n",
    "obj1.customer_number = 8492014823"
   ]
  },
  {
   "cell_type": "code",
   "execution_count": 12,
   "id": "5bbea02c",
   "metadata": {},
   "outputs": [
    {
     "name": "stdout",
     "output_type": "stream",
     "text": [
      "Pw skills customer number = 7834239804\n"
     ]
    }
   ],
   "source": [
    "# Customer number will not change because it is for all the students\n",
    "# only for a particular student the customer will be changed\n",
    "print(f'Pw skills customer number = {pwskills2.customer_number}')"
   ]
  },
  {
   "cell_type": "code",
   "execution_count": 13,
   "id": "6cdecda3",
   "metadata": {},
   "outputs": [
    {
     "name": "stdout",
     "output_type": "stream",
     "text": [
      "sohil sohil@gmail.com 8492014823\n",
      "sudh sudh@gmail.com 7834239804\n"
     ]
    }
   ],
   "source": [
    "obj1.student_details()\n",
    "obj2.student_details()"
   ]
  },
  {
   "cell_type": "markdown",
   "id": "fb2fc98f",
   "metadata": {},
   "source": [
    "---"
   ]
  },
  {
   "cell_type": "markdown",
   "id": "40d2de9c",
   "metadata": {},
   "source": [
    "* We can access the class variable and methods using object."
   ]
  },
  {
   "cell_type": "code",
   "execution_count": 14,
   "id": "0b5b5396",
   "metadata": {},
   "outputs": [],
   "source": [
    "obj3 = obj1.details('dar','dar@gmail.com')"
   ]
  },
  {
   "cell_type": "code",
   "execution_count": 15,
   "id": "60dc1866",
   "metadata": {},
   "outputs": [
    {
     "name": "stdout",
     "output_type": "stream",
     "text": [
      "sohil sohil@gmail.com 8492014823\n",
      "sudh sudh@gmail.com 7834239804\n",
      "dar dar@gmail.com 7834239804\n"
     ]
    }
   ],
   "source": [
    "obj1.student_details()\n",
    "obj2.student_details()\n",
    "obj3.student_details()"
   ]
  },
  {
   "cell_type": "markdown",
   "id": "d030ac93",
   "metadata": {},
   "source": [
    "---"
   ]
  },
  {
   "cell_type": "markdown",
   "id": "b4db85a1",
   "metadata": {},
   "source": [
    "### We can add the external function to class as a class method."
   ]
  },
  {
   "cell_type": "code",
   "execution_count": 16,
   "id": "035a1600",
   "metadata": {},
   "outputs": [],
   "source": [
    "class pwskills3:\n",
    "    \n",
    "    mobile_number = 9134534535\n",
    "    \n",
    "    def __init__(self, name , email):\n",
    "        \n",
    "        self.name = name\n",
    "        self.email = email\n",
    "    \n",
    "    @classmethod\n",
    "    def change_number(cls, mobile):\n",
    "        pwskills2.mobile_number = mobile\n",
    "    \n",
    "    @classmethod\n",
    "    def details(cls , name1 , email1):\n",
    "        return cls(name1 , email1)\n",
    "    \n",
    "    def student_details(self):\n",
    "        print(self.name , self.email,pwskills3.mobile_number)"
   ]
  },
  {
   "cell_type": "code",
   "execution_count": 17,
   "id": "0305bbc3",
   "metadata": {},
   "outputs": [],
   "source": [
    "# external function\n",
    "def course_details(cls,course_name):\n",
    "    print(f'Course name is',course_name)"
   ]
  },
  {
   "cell_type": "code",
   "execution_count": 18,
   "id": "f94dad6b",
   "metadata": {},
   "outputs": [
    {
     "name": "stdout",
     "output_type": "stream",
     "text": [
      "Course name is data science\n"
     ]
    }
   ],
   "source": [
    "# making external function as the class method \n",
    "pwskills3.course_details = classmethod(course_details)\n",
    "# external function is now a class method so we can access it\n",
    "pwskills3.course_details('data science')"
   ]
  },
  {
   "cell_type": "code",
   "execution_count": 19,
   "id": "4ff3533d",
   "metadata": {},
   "outputs": [
    {
     "name": "stdout",
     "output_type": "stream",
     "text": [
      "rohan rohan@gmail.com 9134534535\n",
      "Course name is web dev\n"
     ]
    }
   ],
   "source": [
    "obj3 = pwskills3.details('rohan','rohan@gmail.com')\n",
    "obj3.student_details()\n",
    "# object can also access the external which is made as the class method\n",
    "obj3.course_details('web dev')"
   ]
  },
  {
   "cell_type": "markdown",
   "id": "ef7de739",
   "metadata": {},
   "source": [
    "---"
   ]
  },
  {
   "cell_type": "markdown",
   "id": "b1e021cb",
   "metadata": {},
   "source": [
    "### We can delete the class variable"
   ]
  },
  {
   "cell_type": "code",
   "execution_count": 20,
   "id": "5ff862e7",
   "metadata": {},
   "outputs": [],
   "source": [
    "class pwskills4:\n",
    "    \n",
    "    mobile_number = 9134534535\n",
    "    \n",
    "    def __init__(self, name , email):\n",
    "        \n",
    "        self.name = name\n",
    "        self.email = email\n",
    "    \n",
    "    @classmethod\n",
    "    def display_number(cls):\n",
    "        print(cls.mobile_number)\n",
    "    \n",
    "    @classmethod\n",
    "    def details(cls , name1 , email1):\n",
    "        return cls(name1 , email1)\n",
    "    \n",
    "    def student_details(self):\n",
    "        print(self.name , self.email,pwskills2.mobile_number)"
   ]
  },
  {
   "cell_type": "code",
   "execution_count": 21,
   "id": "0569fd76",
   "metadata": {},
   "outputs": [
    {
     "name": "stdout",
     "output_type": "stream",
     "text": [
      "9134534535\n",
      "9134534535\n"
     ]
    }
   ],
   "source": [
    "print(pwskills4.mobile_number)\n",
    "pwskills4.display_number()"
   ]
  },
  {
   "cell_type": "code",
   "execution_count": 22,
   "id": "0c87c1f1",
   "metadata": {},
   "outputs": [],
   "source": [
    "# We have 2 ways of deleting class variables or class methods\n",
    "del pwskills4.mobile_number\n",
    "delattr(pwskills4,'display_number')"
   ]
  },
  {
   "cell_type": "code",
   "execution_count": 23,
   "id": "ed359847",
   "metadata": {},
   "outputs": [
    {
     "ename": "AttributeError",
     "evalue": "type object 'pwskills4' has no attribute 'mobile_number'",
     "output_type": "error",
     "traceback": [
      "\u001b[1;31m---------------------------------------------------------------------------\u001b[0m",
      "\u001b[1;31mAttributeError\u001b[0m                            Traceback (most recent call last)",
      "\u001b[1;32m~\\AppData\\Local\\Temp\\ipykernel_27656\\1137595833.py\u001b[0m in \u001b[0;36m<module>\u001b[1;34m\u001b[0m\n\u001b[1;32m----> 1\u001b[1;33m \u001b[0mprint\u001b[0m\u001b[1;33m(\u001b[0m\u001b[0mpwskills4\u001b[0m\u001b[1;33m.\u001b[0m\u001b[0mmobile_number\u001b[0m\u001b[1;33m)\u001b[0m\u001b[1;33m\u001b[0m\u001b[1;33m\u001b[0m\u001b[0m\n\u001b[0m",
      "\u001b[1;31mAttributeError\u001b[0m: type object 'pwskills4' has no attribute 'mobile_number'"
     ]
    }
   ],
   "source": [
    "print(pwskills4.mobile_number)"
   ]
  },
  {
   "cell_type": "code",
   "execution_count": 24,
   "id": "481232eb",
   "metadata": {},
   "outputs": [
    {
     "ename": "AttributeError",
     "evalue": "type object 'pwskills4' has no attribute 'display_number'",
     "output_type": "error",
     "traceback": [
      "\u001b[1;31m---------------------------------------------------------------------------\u001b[0m",
      "\u001b[1;31mAttributeError\u001b[0m                            Traceback (most recent call last)",
      "\u001b[1;32m~\\AppData\\Local\\Temp\\ipykernel_27656\\24576710.py\u001b[0m in \u001b[0;36m<module>\u001b[1;34m\u001b[0m\n\u001b[1;32m----> 1\u001b[1;33m \u001b[0mpwskills4\u001b[0m\u001b[1;33m.\u001b[0m\u001b[0mdisplay_number\u001b[0m\u001b[1;33m(\u001b[0m\u001b[1;33m)\u001b[0m\u001b[1;33m\u001b[0m\u001b[1;33m\u001b[0m\u001b[0m\n\u001b[0m",
      "\u001b[1;31mAttributeError\u001b[0m: type object 'pwskills4' has no attribute 'display_number'"
     ]
    }
   ],
   "source": [
    "pwskills4.display_number()"
   ]
  },
  {
   "cell_type": "code",
   "execution_count": 25,
   "id": "2ea4e213",
   "metadata": {},
   "outputs": [
    {
     "data": {
      "text/plain": [
       "__main__.pwskills4"
      ]
     },
     "execution_count": 25,
     "metadata": {},
     "output_type": "execute_result"
    }
   ],
   "source": [
    "pwskills4"
   ]
  },
  {
   "cell_type": "code",
   "execution_count": 26,
   "id": "28cf3469",
   "metadata": {},
   "outputs": [],
   "source": [
    "del pwskills4"
   ]
  },
  {
   "cell_type": "code",
   "execution_count": 27,
   "id": "dab15873",
   "metadata": {},
   "outputs": [
    {
     "ename": "NameError",
     "evalue": "name 'pwskills4' is not defined",
     "output_type": "error",
     "traceback": [
      "\u001b[1;31m---------------------------------------------------------------------------\u001b[0m",
      "\u001b[1;31mNameError\u001b[0m                                 Traceback (most recent call last)",
      "\u001b[1;32m~\\AppData\\Local\\Temp\\ipykernel_27656\\903143064.py\u001b[0m in \u001b[0;36m<module>\u001b[1;34m\u001b[0m\n\u001b[1;32m----> 1\u001b[1;33m \u001b[0mpwskills4\u001b[0m\u001b[1;33m\u001b[0m\u001b[1;33m\u001b[0m\u001b[0m\n\u001b[0m",
      "\u001b[1;31mNameError\u001b[0m: name 'pwskills4' is not defined"
     ]
    }
   ],
   "source": [
    "pwskills4"
   ]
  },
  {
   "cell_type": "markdown",
   "id": "960c5903",
   "metadata": {},
   "source": [
    "---"
   ]
  }
 ],
 "metadata": {
  "kernelspec": {
   "display_name": "Python 3 (ipykernel)",
   "language": "python",
   "name": "python3"
  },
  "language_info": {
   "codemirror_mode": {
    "name": "ipython",
    "version": 3
   },
   "file_extension": ".py",
   "mimetype": "text/x-python",
   "name": "python",
   "nbconvert_exporter": "python",
   "pygments_lexer": "ipython3",
   "version": "3.9.13"
  }
 },
 "nbformat": 4,
 "nbformat_minor": 5
}
