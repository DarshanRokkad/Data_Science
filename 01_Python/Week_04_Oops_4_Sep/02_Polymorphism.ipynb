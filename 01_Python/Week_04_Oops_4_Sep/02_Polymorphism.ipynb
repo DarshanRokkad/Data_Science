{
 "cells": [
  {
   "cell_type": "markdown",
   "id": "4b470645",
   "metadata": {},
   "source": [
    "# <font color = 'orange'> Polymorphism"
   ]
  },
  {
   "cell_type": "markdown",
   "id": "b9cc0386",
   "metadata": {},
   "source": [
    "---"
   ]
  },
  {
   "cell_type": "markdown",
   "id": "7b03f9d4",
   "metadata": {},
   "source": [
    "* poly - many.\n",
    "* morph - forms.\n",
    "* Polymorphism in Object-Oriented Programming allows objects of different classes to be treated as objects of a common base class, enabling code to work with diverse types of objects in a unified manner."
   ]
  },
  {
   "cell_type": "markdown",
   "id": "9ca2dbd2",
   "metadata": {},
   "source": [
    "### Types of polymorphism \n",
    "1. Duck typing.\n",
    "\n",
    "* compile time polymorphism: \n",
    "2. Operator overloading.\n",
    "3. Method overloading.\n",
    "\n",
    "* runtime polymorphism :\n",
    "4. Method overriding."
   ]
  },
  {
   "cell_type": "markdown",
   "id": "fbf4046b",
   "metadata": {},
   "source": [
    "---"
   ]
  },
  {
   "cell_type": "code",
   "execution_count": 1,
   "id": "f747b889",
   "metadata": {},
   "outputs": [],
   "source": [
    "# function behaves different according to the input  \n",
    "def test1(a,b):\n",
    "    return a+b"
   ]
  },
  {
   "cell_type": "code",
   "execution_count": 2,
   "id": "7f66b4b5",
   "metadata": {},
   "outputs": [
    {
     "data": {
      "text/plain": [
       "7"
      ]
     },
     "execution_count": 2,
     "metadata": {},
     "output_type": "execute_result"
    }
   ],
   "source": [
    "test1(3,4)"
   ]
  },
  {
   "cell_type": "code",
   "execution_count": 3,
   "id": "ff066c6b",
   "metadata": {},
   "outputs": [
    {
     "data": {
      "text/plain": [
       "'sudh kumar'"
      ]
     },
     "execution_count": 3,
     "metadata": {},
     "output_type": "execute_result"
    }
   ],
   "source": [
    "test1('sudh ','kumar')"
   ]
  },
  {
   "cell_type": "code",
   "execution_count": 4,
   "id": "80880bb1",
   "metadata": {},
   "outputs": [
    {
     "data": {
      "text/plain": [
       "[3, 4, 5, 2, 7, 8, 1, 34]"
      ]
     },
     "execution_count": 4,
     "metadata": {},
     "output_type": "execute_result"
    }
   ],
   "source": [
    "test1([3,4,5,2],[7,8,1,34])"
   ]
  },
  {
   "cell_type": "markdown",
   "id": "e0510993",
   "metadata": {},
   "source": [
    "---"
   ]
  },
  {
   "cell_type": "markdown",
   "id": "3063fdab",
   "metadata": {},
   "source": [
    "## 1. Duck typing.\n",
    "\n",
    "* Function behave differently according to input."
   ]
  },
  {
   "cell_type": "code",
   "execution_count": 5,
   "id": "31de73a6",
   "metadata": {},
   "outputs": [],
   "source": [
    "class data_science:\n",
    "    def syllabus(self) : \n",
    "        print(\"this is my method for data science syllbaus \" )"
   ]
  },
  {
   "cell_type": "code",
   "execution_count": 6,
   "id": "ec175a23",
   "metadata": {},
   "outputs": [],
   "source": [
    "class web_dev :\n",
    "    def syllabus(self) : \n",
    "        print(\"this is my method for web dev \" )"
   ]
  },
  {
   "cell_type": "code",
   "execution_count": 7,
   "id": "3ad1a542",
   "metadata": {},
   "outputs": [],
   "source": [
    "# this function take the list of objects of different class.\n",
    "# this function behave differently based on object.\n",
    "def class_parcer(obj_list) : \n",
    "    for obj in obj_list : \n",
    "        obj.syllabus()"
   ]
  },
  {
   "cell_type": "code",
   "execution_count": 8,
   "id": "1958194c",
   "metadata": {},
   "outputs": [],
   "source": [
    "ds_obj = data_science()\n",
    "wd_obj = web_dev()\n",
    "\n",
    "obj_list = [ds_obj , wd_obj]"
   ]
  },
  {
   "cell_type": "code",
   "execution_count": 9,
   "id": "c1a153f2",
   "metadata": {},
   "outputs": [
    {
     "name": "stdout",
     "output_type": "stream",
     "text": [
      "this is my method for data science syllbaus \n",
      "this is my method for web dev \n"
     ]
    }
   ],
   "source": [
    "class_parcer(obj_list)"
   ]
  },
  {
   "cell_type": "markdown",
   "id": "805bfac0",
   "metadata": {},
   "source": [
    "---"
   ]
  },
  {
   "cell_type": "markdown",
   "id": "7f107d7e",
   "metadata": {},
   "source": [
    "## 2. Operator overloading.\n",
    "\n",
    "* Changing the functionality of the operator to make it work for user defined data type i.e objects."
   ]
  },
  {
   "cell_type": "code",
   "execution_count": 10,
   "id": "8ff5c844",
   "metadata": {},
   "outputs": [],
   "source": [
    "# a+ib\n",
    "class complex_num :\n",
    "    def __init__(self,real,img):\n",
    "        self.real = real\n",
    "        self.img = img\n",
    "    def add(self,c2):\n",
    "        real = self.real + c2.real \n",
    "        img = self.img + c2.img\n",
    "        return complex_num(real,img)   \n",
    "    def display(self):\n",
    "        print(f'{self.real} + i{self.img}')"
   ]
  },
  {
   "cell_type": "code",
   "execution_count": 11,
   "id": "60e3afb0",
   "metadata": {},
   "outputs": [
    {
     "name": "stdout",
     "output_type": "stream",
     "text": [
      "4 + i7\n",
      "8 + i3\n"
     ]
    }
   ],
   "source": [
    "c1 = complex_num(4,7)\n",
    "c2 = complex_num(8,3)\n",
    "c1.display()\n",
    "c2.display()"
   ]
  },
  {
   "cell_type": "code",
   "execution_count": 12,
   "id": "ac816a00",
   "metadata": {},
   "outputs": [
    {
     "name": "stdout",
     "output_type": "stream",
     "text": [
      "12 + i10\n"
     ]
    }
   ],
   "source": [
    "# adding 2 complex numbers\n",
    "c3 = c1.add(c2)\n",
    "c3.display()"
   ]
  },
  {
   "cell_type": "markdown",
   "id": "ba3bd597",
   "metadata": {},
   "source": [
    "---"
   ]
  },
  {
   "cell_type": "markdown",
   "id": "760e16d6",
   "metadata": {},
   "source": [
    "## 3. Method overloading.\n",
    "\n",
    "* 2 or more function with same name can be written but based on function call the methods are executed.\n",
    "* But those function should have different number of parameters."
   ]
  },
  {
   "cell_type": "code",
   "execution_count": 13,
   "id": "0abc358f",
   "metadata": {},
   "outputs": [
    {
     "name": "stdout",
     "output_type": "stream",
     "text": [
      "1724777787456\n",
      "1724777788752\n",
      "2 dars\n",
      "8 sudh 0.3\n"
     ]
    }
   ],
   "source": [
    "def fun1(a,b):\n",
    "    print(a,b)\n",
    "def fun2(a,b,c):\n",
    "    print(a,b,c)\n",
    "\n",
    "    \n",
    "print(id(fun1))\n",
    "print(id(fun2))\n",
    "fun1(2,'dars')\n",
    "fun2(8,'sudh',0.3)"
   ]
  },
  {
   "cell_type": "code",
   "execution_count": 14,
   "id": "f0c7a43a",
   "metadata": {},
   "outputs": [
    {
     "name": "stdout",
     "output_type": "stream",
     "text": [
      "1724777787456\n",
      "1724777788752\n",
      "2 dars None\n",
      "8 sudh 0.3\n"
     ]
    }
   ],
   "source": [
    "def fun(a=None , b = None , c =None):\n",
    "    print(a,b,c)\n",
    "\n",
    "print(id(fun1))\n",
    "print(id(fun2))\n",
    "fun(2,'dars')\n",
    "fun(8,'sudh',0.3)"
   ]
  },
  {
   "cell_type": "markdown",
   "id": "b9e7ee4b",
   "metadata": {},
   "source": [
    "---"
   ]
  },
  {
   "cell_type": "markdown",
   "id": "cc43be81",
   "metadata": {},
   "source": [
    "## 4. Method overriding.\n",
    "\n",
    "* During inheritence when the child class function overrides the parent class function then the overrided method is called.\n",
    "\n",
    "* Method overriding in Object-Oriented Programming occurs when a subclass provides a specific implementation for a method already defined in its superclass, allowing for customized behavior while adhering to a common method signature."
   ]
  },
  {
   "cell_type": "code",
   "execution_count": 17,
   "id": "782d2d8b",
   "metadata": {},
   "outputs": [],
   "source": [
    "class parent:\n",
    "    def __init__(self,name):\n",
    "        self.name = name\n",
    "    def resp(self):\n",
    "        print(f'Parent : {self.name} has to work.')"
   ]
  },
  {
   "cell_type": "code",
   "execution_count": 18,
   "id": "583843f6",
   "metadata": {},
   "outputs": [],
   "source": [
    "class child(parent):\n",
    "    def __init__(self,name):\n",
    "        self.name = name\n",
    "    def response(self):\n",
    "        print(f'Child : {self.name} has to study.')"
   ]
  },
  {
   "cell_type": "code",
   "execution_count": 19,
   "id": "b278db39",
   "metadata": {},
   "outputs": [
    {
     "name": "stdout",
     "output_type": "stream",
     "text": [
      "Parent : Ram has to work.\n",
      "Child : Soma has to study.\n"
     ]
    }
   ],
   "source": [
    "par = paren(\"Ram\")\n",
    "chi = child(\"Soma\")\n",
    "\n",
    "par.resp()\n",
    "chi.response()"
   ]
  },
  {
   "cell_type": "markdown",
   "id": "49c14f75",
   "metadata": {},
   "source": [
    "---"
   ]
  }
 ],
 "metadata": {
  "kernelspec": {
   "display_name": "Python 3 (ipykernel)",
   "language": "python",
   "name": "python3"
  },
  "language_info": {
   "codemirror_mode": {
    "name": "ipython",
    "version": 3
   },
   "file_extension": ".py",
   "mimetype": "text/x-python",
   "name": "python",
   "nbconvert_exporter": "python",
   "pygments_lexer": "ipython3",
   "version": "3.9.13"
  }
 },
 "nbformat": 4,
 "nbformat_minor": 5
}
