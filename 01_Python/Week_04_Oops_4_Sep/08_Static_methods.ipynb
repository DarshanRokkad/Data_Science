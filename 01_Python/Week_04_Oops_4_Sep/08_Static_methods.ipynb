{
 "cells": [
  {
   "cell_type": "markdown",
   "id": "78cc8c30",
   "metadata": {},
   "source": [
    "# <font color = 'orange'> Static methods"
   ]
  },
  {
   "cell_type": "markdown",
   "id": "5e32d82e",
   "metadata": {},
   "source": [
    "---"
   ]
  },
  {
   "cell_type": "code",
   "execution_count": 1,
   "id": "6e2acb54",
   "metadata": {},
   "outputs": [],
   "source": [
    "class pwskills:\n",
    "    def student_details(self,name,email,number):\n",
    "        print(name,email,number)"
   ]
  },
  {
   "cell_type": "code",
   "execution_count": 2,
   "id": "bf4535cd",
   "metadata": {},
   "outputs": [
    {
     "name": "stdout",
     "output_type": "stream",
     "text": [
      "sudh sudh@gmail.com 9865238472\n"
     ]
    }
   ],
   "source": [
    "pw = pwskills()\n",
    "pw.student_details('sudh','sudh@gmail.com',9865238472)"
   ]
  },
  {
   "cell_type": "markdown",
   "id": "07dc516d",
   "metadata": {},
   "source": [
    "* When the instance of the class is created then all the attribute and methods are created in memory.\n",
    "* The above will consume space if there are 1000 of objects gets created then the space was created in the memory.\n",
    "* We can create a method that belong to class not specific to the object."
   ]
  },
  {
   "cell_type": "markdown",
   "id": "e8db82fe",
   "metadata": {},
   "source": [
    "---"
   ]
  },
  {
   "cell_type": "code",
   "execution_count": 3,
   "id": "26305d2d",
   "metadata": {},
   "outputs": [],
   "source": [
    "class pwskills1:\n",
    "    def student_details(self , name , mail_id , number) : \n",
    "        print(name , mail_id, number)\n",
    "        \n",
    "    @staticmethod\n",
    "    # no need to pass any self or cls to the static method\n",
    "    def mentor_class(list_mentor) : \n",
    "        print(list_mentor)\n",
    "        \n",
    "    # mentor are going to be limited to keeping them as instance just consumes memory \n",
    "    # so making that as the static method is good \n",
    "    def mentor(self , mentor_list) :\n",
    "        print(mentor_list)"
   ]
  },
  {
   "cell_type": "code",
   "execution_count": 4,
   "id": "5b5efe22",
   "metadata": {},
   "outputs": [
    {
     "name": "stdout",
     "output_type": "stream",
     "text": [
      "['krish', 'sudh']\n",
      "['krish', 'sudh']\n"
     ]
    }
   ],
   "source": [
    "pw1 = pwskills1()\n",
    "# static method is available for the object of that class as well\n",
    "pw1.mentor_class([\"krish\" , \"sudh\"])\n",
    "pw1.mentor([\"krish\" , \"sudh\"])"
   ]
  },
  {
   "cell_type": "code",
   "execution_count": 5,
   "id": "a98feea0",
   "metadata": {},
   "outputs": [
    {
     "name": "stdout",
     "output_type": "stream",
     "text": [
      "['krish', 'sudh']\n"
     ]
    }
   ],
   "source": [
    "# static methods belongs to class \n",
    "pwskills1.mentor_class([\"krish\" , \"sudh\"])"
   ]
  },
  {
   "cell_type": "code",
   "execution_count": 6,
   "id": "b486fb42",
   "metadata": {},
   "outputs": [
    {
     "ename": "TypeError",
     "evalue": "mentor() missing 1 required positional argument: 'mentor_list'",
     "output_type": "error",
     "traceback": [
      "\u001b[1;31m---------------------------------------------------------------------------\u001b[0m",
      "\u001b[1;31mTypeError\u001b[0m                                 Traceback (most recent call last)",
      "\u001b[1;32m~\\AppData\\Local\\Temp\\ipykernel_13776\\1689747798.py\u001b[0m in \u001b[0;36m<module>\u001b[1;34m\u001b[0m\n\u001b[0;32m      1\u001b[0m \u001b[1;31m# we cannot call non static method without object\u001b[0m\u001b[1;33m\u001b[0m\u001b[1;33m\u001b[0m\u001b[0m\n\u001b[1;32m----> 2\u001b[1;33m \u001b[0mpwskills1\u001b[0m\u001b[1;33m.\u001b[0m\u001b[0mmentor\u001b[0m\u001b[1;33m(\u001b[0m\u001b[1;33m[\u001b[0m\u001b[1;34m\"krish\"\u001b[0m \u001b[1;33m,\u001b[0m \u001b[1;34m\"sudh\"\u001b[0m\u001b[1;33m]\u001b[0m\u001b[1;33m)\u001b[0m\u001b[1;33m\u001b[0m\u001b[1;33m\u001b[0m\u001b[0m\n\u001b[0m",
      "\u001b[1;31mTypeError\u001b[0m: mentor() missing 1 required positional argument: 'mentor_list'"
     ]
    }
   ],
   "source": [
    "# we cannot call non static method without object \n",
    "pwskills1.mentor([\"krish\" , \"sudh\"])"
   ]
  },
  {
   "cell_type": "markdown",
   "id": "c7d8ddaa",
   "metadata": {},
   "source": [
    "---"
   ]
  },
  {
   "cell_type": "markdown",
   "id": "c3c9af0d",
   "metadata": {},
   "source": [
    "We can access the static method inside \n",
    "1. non-static or instance method.\n",
    "2. class method.\n",
    "3. static method.\n",
    "* if it is declared after static method"
   ]
  },
  {
   "cell_type": "code",
   "execution_count": 7,
   "id": "c834d2ae",
   "metadata": {},
   "outputs": [],
   "source": [
    "class pwskills1:\n",
    "    def student_details(self , name , mail_id , number) : \n",
    "        print(name , mail_id, number)\n",
    "        # self.mentor_class() \n",
    "        # cannot call because it will declared after this method\n",
    "        \n",
    "    @staticmethod\n",
    "    def mentor_mail_id(mail_id):\n",
    "        print(mail_id)\n",
    "    \n",
    "    @staticmethod\n",
    "    def mentor_class(list_mentor) : \n",
    "        print(list_mentor)\n",
    "        pwskills1.mentor_mail_id(['krish@gmail.com','sudh@gmail.com'])\n",
    "        \n",
    "    @classmethod\n",
    "    def class_method(cls,class_name):\n",
    "        print(class_name)\n",
    "        cls.mentor_class([\"mohan\" , \"alak\"])\n",
    "        \n",
    "    def mentor(self , mentor_list) :\n",
    "        print(mentor_list)\n",
    "        self.mentor_class([\"krish\" , \"sudh\"])"
   ]
  },
  {
   "cell_type": "code",
   "execution_count": 8,
   "id": "f8303b70",
   "metadata": {},
   "outputs": [
    {
     "name": "stdout",
     "output_type": "stream",
     "text": [
      "mohan mohan@gmail.com 9675657657\n",
      "\n",
      "['krish@gmail.com', 'sudh@gmail.com']\n",
      "\n",
      "data science\n",
      "['krish@gmail.com', 'sudh@gmail.com']\n",
      "\n",
      "web dev\n",
      "['mohan', 'alak']\n",
      "['krish@gmail.com', 'sudh@gmail.com']\n",
      "\n",
      "['mohan', 'alak']\n",
      "['krish', 'sudh']\n",
      "['krish@gmail.com', 'sudh@gmail.com']\n"
     ]
    }
   ],
   "source": [
    "pw = pwskills1()\n",
    "\n",
    "pw.student_details(\"mohan\" , \"mohan@gmail.com\" , 9675657657)\n",
    "print()\n",
    "\n",
    "pw.mentor_mail_id(['krish@gmail.com','sudh@gmail.com'])\n",
    "print()\n",
    "\n",
    "pw.mentor_class('data science')\n",
    "print()\n",
    "\n",
    "pw.class_method('web dev')\n",
    "print()\n",
    "\n",
    "pw.mentor([\"mohan\" , \"alak\"])"
   ]
  },
  {
   "cell_type": "markdown",
   "id": "70f0cbea",
   "metadata": {},
   "source": [
    "* You can call static methods and class methods using class name but not non static method."
   ]
  },
  {
   "cell_type": "code",
   "execution_count": 9,
   "id": "b1531f5a",
   "metadata": {},
   "outputs": [
    {
     "name": "stdout",
     "output_type": "stream",
     "text": [
      "sudhshu@gmail.com\n",
      "\n",
      "krish naik\n",
      "['krish@gmail.com', 'sudh@gmail.com']\n",
      "\n",
      "data science\n",
      "['mohan', 'alak']\n",
      "['krish@gmail.com', 'sudh@gmail.com']\n"
     ]
    }
   ],
   "source": [
    "pwskills1.mentor_mail_id('sudhshu@gmail.com')\n",
    "print()\n",
    "\n",
    "pwskills1.mentor_class('krish naik')\n",
    "print()\n",
    "\n",
    "pwskills1.class_method('data science')"
   ]
  },
  {
   "cell_type": "markdown",
   "id": "f351fed3",
   "metadata": {},
   "source": [
    "#### Class method is used to overload init method and it gives access to variable using that variable we can do anything.\n",
    "#### Static method is mainly used to reduce memory utilization."
   ]
  },
  {
   "cell_type": "markdown",
   "id": "383d20e9",
   "metadata": {},
   "source": [
    "---"
   ]
  }
 ],
 "metadata": {
  "kernelspec": {
   "display_name": "Python 3 (ipykernel)",
   "language": "python",
   "name": "python3"
  },
  "language_info": {
   "codemirror_mode": {
    "name": "ipython",
    "version": 3
   },
   "file_extension": ".py",
   "mimetype": "text/x-python",
   "name": "python",
   "nbconvert_exporter": "python",
   "pygments_lexer": "ipython3",
   "version": "3.9.13"
  }
 },
 "nbformat": 4,
 "nbformat_minor": 5
}
