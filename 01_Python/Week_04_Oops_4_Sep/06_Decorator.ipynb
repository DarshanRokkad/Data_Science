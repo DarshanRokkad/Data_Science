{
 "cells": [
  {
   "cell_type": "markdown",
   "id": "d860961a",
   "metadata": {},
   "source": [
    "# <font color = 'orange'> Decorator"
   ]
  },
  {
   "cell_type": "markdown",
   "id": "9d8ade63",
   "metadata": {},
   "source": [
    "* If we want to execute some line with each and every function then we can use the decorator.\n",
    "* Decorators are used to remove the repeatedness for each and every function."
   ]
  },
  {
   "cell_type": "markdown",
   "id": "c6cb3e2c",
   "metadata": {},
   "source": [
    "---"
   ]
  },
  {
   "cell_type": "code",
   "execution_count": 1,
   "id": "9e7d65b6",
   "metadata": {},
   "outputs": [],
   "source": [
    "# If we want first and last line of this function \n",
    "# to be executed for all the function then We can use decorator\n",
    "def test():\n",
    "    print('This is the start of the function.')\n",
    "    print(4+6)\n",
    "    print('This the end of the function.')"
   ]
  },
  {
   "cell_type": "code",
   "execution_count": 2,
   "id": "bef41d7b",
   "metadata": {},
   "outputs": [
    {
     "name": "stdout",
     "output_type": "stream",
     "text": [
      "This is the start of the function.\n",
      "10\n",
      "This the end of the function.\n"
     ]
    }
   ],
   "source": [
    "test()"
   ]
  },
  {
   "cell_type": "markdown",
   "id": "5e2694b9",
   "metadata": {},
   "source": [
    "---"
   ]
  },
  {
   "cell_type": "markdown",
   "id": "14e709f8",
   "metadata": {},
   "source": [
    "* Decorator will bind the function inside inner decorator and return the binded function that contians the repeatative lines of code."
   ]
  },
  {
   "cell_type": "code",
   "execution_count": 3,
   "id": "074433b2",
   "metadata": {},
   "outputs": [],
   "source": [
    "def deco(func):\n",
    "    def inner_deco():\n",
    "        print('This is the start of the function.')\n",
    "        print()\n",
    "        func()\n",
    "        print()\n",
    "        print('This the end of the function.')\n",
    "    return inner_deco"
   ]
  },
  {
   "cell_type": "code",
   "execution_count": 4,
   "id": "5faa0c5a",
   "metadata": {},
   "outputs": [
    {
     "name": "stdout",
     "output_type": "stream",
     "text": [
      "9\n"
     ]
    }
   ],
   "source": [
    "# We have to decorate this function to get the additional functionality.\n",
    "def test1():\n",
    "    print(4+5)\n",
    "test1()"
   ]
  },
  {
   "cell_type": "code",
   "execution_count": 5,
   "id": "e2fdf36f",
   "metadata": {},
   "outputs": [
    {
     "name": "stdout",
     "output_type": "stream",
     "text": [
      "This is the start of the function.\n",
      "\n",
      "9\n",
      "\n",
      "This the end of the function.\n"
     ]
    }
   ],
   "source": [
    "@deco\n",
    "def test2():\n",
    "    print(4+5)\n",
    "test2()"
   ]
  },
  {
   "cell_type": "code",
   "execution_count": 6,
   "id": "13a5fae1",
   "metadata": {},
   "outputs": [
    {
     "name": "stdout",
     "output_type": "stream",
     "text": [
      "This is the start of the function.\n",
      "\n",
      "This is the normal function.\n",
      "Which Will be sent to decorator as a parameter.\n",
      "\n",
      "This the end of the function.\n"
     ]
    }
   ],
   "source": [
    "# We use line which repeat for each function \n",
    "# inside a decorator to decorate the function.\n",
    "@deco\n",
    "def test3():\n",
    "    print('This is the normal function.')\n",
    "    print('Which Will be sent to decorator as a parameter.')\n",
    "    \n",
    "test3()"
   ]
  },
  {
   "cell_type": "markdown",
   "id": "c3e9a254",
   "metadata": {},
   "source": [
    "---"
   ]
  },
  {
   "cell_type": "markdown",
   "id": "65b5cb0c",
   "metadata": {},
   "source": [
    "### Q. Calculate the time taken by each and every function. "
   ]
  },
  {
   "cell_type": "code",
   "execution_count": 7,
   "id": "7a99904b",
   "metadata": {},
   "outputs": [],
   "source": [
    "import time \n",
    "\n",
    "# decorator take functions as input and \n",
    "# adds start time , end time and time taken by the function functionality \n",
    "# to function use a inner decorator and returns that binded function.\n",
    "def timer_test(func):\n",
    "    def timer_test_inner():\n",
    "        start = time.time()\n",
    "        print('Timer starts')\n",
    "        print()\n",
    "        func()\n",
    "        print()\n",
    "        print('Timer ends')\n",
    "        end = time.time()\n",
    "        print('Time taken :',end-start)\n",
    "    return timer_test_inner"
   ]
  },
  {
   "cell_type": "code",
   "execution_count": 8,
   "id": "8114a3f0",
   "metadata": {},
   "outputs": [
    {
     "name": "stdout",
     "output_type": "stream",
     "text": [
      "Timer starts\n",
      "\n",
      "This is the original function.\n",
      "Original function ends here.\n",
      "\n",
      "Timer ends\n",
      "Time taken : 3.9091877937316895\n"
     ]
    }
   ],
   "source": [
    "@timer_test\n",
    "def test3():\n",
    "    print(\"This is the original function.\")\n",
    "    for i in range(100000000):\n",
    "        pass\n",
    "    print('Original function ends here.')\n",
    "\n",
    "test3()"
   ]
  },
  {
   "cell_type": "markdown",
   "id": "76cd1e48",
   "metadata": {},
   "source": [
    "---"
   ]
  }
 ],
 "metadata": {
  "kernelspec": {
   "display_name": "Python 3 (ipykernel)",
   "language": "python",
   "name": "python3"
  },
  "language_info": {
   "codemirror_mode": {
    "name": "ipython",
    "version": 3
   },
   "file_extension": ".py",
   "mimetype": "text/x-python",
   "name": "python",
   "nbconvert_exporter": "python",
   "pygments_lexer": "ipython3",
   "version": "3.9.13"
  }
 },
 "nbformat": 4,
 "nbformat_minor": 5
}
