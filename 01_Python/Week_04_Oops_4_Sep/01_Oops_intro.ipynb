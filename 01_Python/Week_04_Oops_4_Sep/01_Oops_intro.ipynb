{
 "cells": [
  {
   "cell_type": "markdown",
   "id": "f1f6da68",
   "metadata": {},
   "source": [
    "# <font color = 'orange'> OOPS - Object Oriented Programming System"
   ]
  },
  {
   "cell_type": "markdown",
   "id": "81a880cc",
   "metadata": {},
   "source": [
    "---"
   ]
  },
  {
   "cell_type": "markdown",
   "id": "58666054",
   "metadata": {},
   "source": [
    " * class \\<class name\\>.\n",
    "     * class is a user defined data type.\n",
    " * self (it not compulsary to use self only we can use other variable also)\n",
    "     * self is just a reference of the object."
   ]
  },
  {
   "cell_type": "code",
   "execution_count": 1,
   "id": "7b2cf78e",
   "metadata": {},
   "outputs": [
    {
     "name": "stdout",
     "output_type": "stream",
     "text": [
      "Welcome to pwskills.\n"
     ]
    }
   ],
   "source": [
    "class pwskills:\n",
    "    def welcome(self):\n",
    "        print('Welcome to pwskills.')\n",
    "\n",
    "rahul = pwskills()\n",
    "rahul.welcome()"
   ]
  },
  {
   "cell_type": "code",
   "execution_count": 2,
   "id": "64c61493",
   "metadata": {},
   "outputs": [
    {
     "name": "stdout",
     "output_type": "stream",
     "text": [
      "Welcome to pwskills.\n"
     ]
    }
   ],
   "source": [
    "sohan = pwskills()\n",
    "sohan.welcome()"
   ]
  },
  {
   "cell_type": "markdown",
   "id": "83bcc5b6",
   "metadata": {},
   "source": [
    "---"
   ]
  },
  {
   "cell_type": "markdown",
   "id": "4f6b8e4d",
   "metadata": {},
   "source": [
    "## Constructor \n",
    " * \\_\\_init\\_\\_\n",
    " * Constructor is used to intialize the object variable.\n",
    " * It will automatically executed when the instance of the class is created."
   ]
  },
  {
   "cell_type": "code",
   "execution_count": 3,
   "id": "ef9b9009",
   "metadata": {},
   "outputs": [
    {
     "name": "stdout",
     "output_type": "stream",
     "text": [
      "Welcome to pwskills darshan.\n",
      "You are 19 old.\n",
      "\n",
      "Welcome to pwskills sudh.\n",
      "You are 28 old.\n",
      "\n",
      "('darshan', 19)\n",
      "\n",
      "('sudh', 28)\n"
     ]
    }
   ],
   "source": [
    "class pwskills:\n",
    "    def __init__(self,name,age):\n",
    "        self.name = name \n",
    "        self.age = age \n",
    "    def display(self):\n",
    "        print(f'Welcome to pwskills {self.name}.')\n",
    "        print(f'You are {self.age} old.')\n",
    "    def return_details(self):\n",
    "        return self.name,self.age\n",
    "\n",
    "darshan = pwskills('darshan',19)\n",
    "sudh = pwskills('sudh',28)\n",
    "\n",
    "darshan.display()\n",
    "print()\n",
    "# another way of calling a method of the class/\n",
    "pwskills.display(sudh)\n",
    "print()\n",
    "\n",
    "print(darshan.return_details())\n",
    "print()\n",
    "print(sudh.return_details())"
   ]
  },
  {
   "cell_type": "code",
   "execution_count": 4,
   "id": "25c038db",
   "metadata": {},
   "outputs": [
    {
     "ename": "TypeError",
     "evalue": "__init__() missing 2 required positional arguments: 'name' and 'age'",
     "output_type": "error",
     "traceback": [
      "\u001b[1;31m---------------------------------------------------------------------------\u001b[0m",
      "\u001b[1;31mTypeError\u001b[0m                                 Traceback (most recent call last)",
      "\u001b[1;32m~\\AppData\\Local\\Temp\\ipykernel_36964\\4000584047.py\u001b[0m in \u001b[0;36m<module>\u001b[1;34m\u001b[0m\n\u001b[0;32m      1\u001b[0m \u001b[1;31m# if not parameter is sent then there will a error\u001b[0m\u001b[1;33m\u001b[0m\u001b[1;33m\u001b[0m\u001b[0m\n\u001b[1;32m----> 2\u001b[1;33m \u001b[0mrohan\u001b[0m \u001b[1;33m=\u001b[0m \u001b[0mpwskills\u001b[0m\u001b[1;33m(\u001b[0m\u001b[1;33m)\u001b[0m\u001b[1;33m\u001b[0m\u001b[1;33m\u001b[0m\u001b[0m\n\u001b[0m",
      "\u001b[1;31mTypeError\u001b[0m: __init__() missing 2 required positional arguments: 'name' and 'age'"
     ]
    }
   ],
   "source": [
    "# if not parameter is sent then there will a error\n",
    "rohan = pwskills()"
   ]
  },
  {
   "cell_type": "markdown",
   "id": "466082a9",
   "metadata": {},
   "source": [
    "---"
   ]
  }
 ],
 "metadata": {
  "kernelspec": {
   "display_name": "Python 3 (ipykernel)",
   "language": "python",
   "name": "python3"
  },
  "language_info": {
   "codemirror_mode": {
    "name": "ipython",
    "version": 3
   },
   "file_extension": ".py",
   "mimetype": "text/x-python",
   "name": "python",
   "nbconvert_exporter": "python",
   "pygments_lexer": "ipython3",
   "version": "3.9.13"
  }
 },
 "nbformat": 4,
 "nbformat_minor": 5
}
