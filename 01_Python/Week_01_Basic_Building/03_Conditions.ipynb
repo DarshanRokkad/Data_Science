{
 "cells": [
  {
   "cell_type": "code",
   "execution_count": 4,
   "id": "aab152f1-fe4c-4d0a-acc4-947e321349a8",
   "metadata": {},
   "outputs": [],
   "source": [
    "a = 10 \n",
    "if a > 10 :\n",
    "    print(\"this will execute once a greater than 10 \")"
   ]
  },
  {
   "cell_type": "code",
   "execution_count": 2,
   "id": "55a88e15-1c73-4ea7-b38d-47379ef37646",
   "metadata": {},
   "outputs": [
    {
     "data": {
      "text/plain": [
       "False"
      ]
     },
     "execution_count": 2,
     "metadata": {},
     "output_type": "execute_result"
    }
   ],
   "source": [
    "a > 10"
   ]
  },
  {
   "cell_type": "code",
   "execution_count": 5,
   "id": "5d95d777-9665-4ab3-a864-5928d8b3816d",
   "metadata": {},
   "outputs": [
    {
     "name": "stdout",
     "output_type": "stream",
     "text": [
      "this will execute once if will not be able to perform \n"
     ]
    }
   ],
   "source": [
    "a = 10 \n",
    "if a > 10 :\n",
    "    print(\"this will execute once a greater than 10 \")\n",
    "else :\n",
    "    print(\"this will execute once if will not be able to perform \")"
   ]
  },
  {
   "cell_type": "code",
   "execution_count": 6,
   "id": "79616ee7-82bb-4a4b-a410-3c1b657c862d",
   "metadata": {},
   "outputs": [
    {
     "name": "stdout",
     "output_type": "stream",
     "text": [
      "this is trying to check a condition for a where a could be 10 or lesser\n"
     ]
    }
   ],
   "source": [
    "if a > 10 :\n",
    "    print(\"this will execute once a greater than 10 \")\n",
    "elif a <= 10 :\n",
    "    print(\"this is trying to check a condition for a where a could be 10 or lesser\")\n",
    "else :\n",
    "    print(\"this will execute once if will not be able to perform \")"
   ]
  },
  {
   "cell_type": "code",
   "execution_count": 7,
   "id": "df72662a-09d3-45c5-b663-3f417444176f",
   "metadata": {},
   "outputs": [
    {
     "name": "stdin",
     "output_type": "stream",
     "text": [
      "enter a value for a  2\n"
     ]
    },
    {
     "name": "stdout",
     "output_type": "stream",
     "text": [
      "this is trying to check a condition for a where a could be 10 or lesser\n"
     ]
    }
   ],
   "source": [
    "a = int(input(\"enter a value for a \"))\n",
    "if a > 10 :\n",
    "    print(\"this will execute once a greater than 10 \")\n",
    "elif a <= 10 :\n",
    "    print(\"this is trying to check a condition for a where a could be 10 or lesser\")\n",
    "else :\n",
    "    print(\"this will execute once if will not be able to perform \")"
   ]
  },
  {
   "cell_type": "code",
   "execution_count": 11,
   "id": "e28a9b9e-cc7b-46a9-8deb-559126d62c5a",
   "metadata": {},
   "outputs": [
    {
     "name": "stdout",
     "output_type": "stream",
     "text": [
      "1\n",
      "2\n"
     ]
    }
   ],
   "source": [
    "n = 10\n",
    "i  = 1\n",
    "\n",
    "while i < n :\n",
    "    print(i)\n",
    "    i = i+1\n",
    "    if i == 3 :\n",
    "        break\n",
    "else :\n",
    "    print(\"this will be executed once while will complete it succesfully\")"
   ]
  },
  {
   "cell_type": "code",
   "execution_count": 14,
   "id": "a3ac4b93-bf4b-42c6-89ea-3f480a12a722",
   "metadata": {},
   "outputs": [
    {
     "name": "stdout",
     "output_type": "stream",
     "text": [
      "2\n",
      "4\n",
      "5\n",
      "6\n",
      "7\n",
      "8\n",
      "9\n",
      "10\n",
      "this will be executed once while will complete it succesfully\n"
     ]
    }
   ],
   "source": [
    "n = 10\n",
    "i  = 1\n",
    "\n",
    "while i < n :\n",
    "    \n",
    "    i = i+1\n",
    "    if i == 3 :\n",
    "        continue\n",
    "    print(i)\n",
    "else :\n",
    "    print(\"this will be executed once while will complete it succesfully\")"
   ]
  },
  {
   "cell_type": "code",
   "execution_count": 15,
   "id": "40747812-60c0-4985-b70b-1d6a85232932",
   "metadata": {},
   "outputs": [],
   "source": [
    "s = \"sudh\""
   ]
  },
  {
   "cell_type": "code",
   "execution_count": 16,
   "id": "5789f17a-abef-49eb-8cf2-61944222fd26",
   "metadata": {},
   "outputs": [
    {
     "name": "stdout",
     "output_type": "stream",
     "text": [
      "s\n",
      "u\n",
      "d\n",
      "h\n"
     ]
    }
   ],
   "source": [
    "for i in s :\n",
    "    print(i)"
   ]
  },
  {
   "cell_type": "code",
   "execution_count": 17,
   "id": "47c29282-60cb-4007-8e7b-d5eaedce36cf",
   "metadata": {},
   "outputs": [],
   "source": [
    "l = [34,56,34.56, \"pwskills\" , True , 5+6j]"
   ]
  },
  {
   "cell_type": "code",
   "execution_count": 21,
   "id": "4359f726-eedf-43a4-91e2-703b3e3fbb57",
   "metadata": {},
   "outputs": [
    {
     "name": "stdout",
     "output_type": "stream",
     "text": [
      "34\n",
      "56\n",
      "34.56\n",
      "pwskills\n"
     ]
    }
   ],
   "source": [
    "for j in l :\n",
    "    print(j)\n",
    "    if j == 'pwskills':\n",
    "        break\n",
    "else :\n",
    "    print(\"this will be executed once for loop will compelte itself succesfully \")"
   ]
  },
  {
   "cell_type": "code",
   "execution_count": 23,
   "id": "eb5e9dae-ace5-4fb7-b7cf-160576bc1dcc",
   "metadata": {},
   "outputs": [
    {
     "data": {
      "text/plain": [
       "[0, 1, 2, 3, 4, 5, 6, 7, 8, 9]"
      ]
     },
     "execution_count": 23,
     "metadata": {},
     "output_type": "execute_result"
    }
   ],
   "source": [
    "list(range(10))"
   ]
  },
  {
   "cell_type": "code",
   "execution_count": null,
   "id": "dd80833b-5eda-4186-b90c-654f8b5a4731",
   "metadata": {},
   "outputs": [],
   "source": []
  }
 ],
 "metadata": {
  "kernelspec": {
   "display_name": "Python 3 (ipykernel)",
   "language": "python",
   "name": "python3"
  },
  "language_info": {
   "codemirror_mode": {
    "name": "ipython",
    "version": 3
   },
   "file_extension": ".py",
   "mimetype": "text/x-python",
   "name": "python",
   "nbconvert_exporter": "python",
   "pygments_lexer": "ipython3",
   "version": "3.10.8"
  }
 },
 "nbformat": 4,
 "nbformat_minor": 5
}
