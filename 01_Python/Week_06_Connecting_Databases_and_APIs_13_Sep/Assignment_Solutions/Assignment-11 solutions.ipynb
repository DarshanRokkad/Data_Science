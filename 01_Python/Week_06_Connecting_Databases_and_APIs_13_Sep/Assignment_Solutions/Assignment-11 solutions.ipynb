{
 "cells": [
  {
   "cell_type": "markdown",
   "id": "acc62bca",
   "metadata": {},
   "source": [
    "# <font color = 'orange'> Assignment-11 solutions"
   ]
  },
  {
   "cell_type": "markdown",
   "id": "e3f880c4",
   "metadata": {},
   "source": [
    "---"
   ]
  },
  {
   "cell_type": "markdown",
   "id": "53cfafe4",
   "metadata": {},
   "source": [
    "### Q1. What is a database? Differentiate between SQL and NoSQL databases."
   ]
  },
  {
   "cell_type": "markdown",
   "id": "7fcf59e5",
   "metadata": {},
   "source": [
    "#### A database is a structured collection of data that is organized and stored in a way that makes it easy to access, manage, and retrieve information.\n",
    "#### SQL is Structured Query Language that used to store the structured data in the form of rows and columns.\n",
    "#### NOSQL is Not only SQL that used to store unstructured data in the form of collection in the document."
   ]
  },
  {
   "cell_type": "markdown",
   "id": "1d109792",
   "metadata": {},
   "source": [
    "---"
   ]
  },
  {
   "cell_type": "markdown",
   "id": "54dd6cee",
   "metadata": {},
   "source": [
    "### Q2. What is DDL? Explain why CREATE, DROP, ALTER, and TRUNCATE are used with an example."
   ]
  },
  {
   "cell_type": "markdown",
   "id": "fa10b741",
   "metadata": {},
   "source": [
    "#### DDL is Data Definition Language used to defining, managing and manipulating database.DDL is responsible for creating , altering and deleting database.\n",
    "\n"
   ]
  },
  {
   "cell_type": "markdown",
   "id": "f132ee91",
   "metadata": {},
   "source": [
    "#### 1. Create : Create is used to create the reation,veiw, database.\n",
    "#### ex: CREATE TABLE <table name\\>;\n",
    "\n",
    "#### 2. Drop : Drop is used to delete the database , realations and more.\n",
    "#### ex: DROP TABLE <table name\\>;\n",
    "\n",
    "#### 3. ALTER : Alter is used to modify the existing database objects structure.\n",
    "#### ex: ALTER TABLE customers DROP COLUMN phone_number;\n",
    "\n",
    "#### 4.TRUNCATE : Truncate is used to quickly and efficitenly delete the data from the table by retaining the table structure , constraints and indexes.\n",
    "#### ex: TRUNCATE TABLE table_name"
   ]
  },
  {
   "cell_type": "markdown",
   "id": "c2a8f23e",
   "metadata": {},
   "source": [
    "---"
   ]
  },
  {
   "cell_type": "markdown",
   "id": "3ff772a0",
   "metadata": {},
   "source": [
    "### Q3. What is DML? Explain INSERT, UPDATE, and DELETE with an example."
   ]
  },
  {
   "cell_type": "markdown",
   "id": "13ffdfa0",
   "metadata": {},
   "source": [
    "#### DML is Data manipulation language which is used to manipulate the data present in the database.\n"
   ]
  },
  {
   "cell_type": "markdown",
   "id": "709b6200",
   "metadata": {},
   "source": [
    "\n",
    "#### 1. Insert : Insert is used to insert the values inside the realtion.\n",
    "#### ex:  INSERT INTO employees (first_name, last_name, salary) VALUES ('John', 'Doe', 50000);\n",
    "\n",
    "#### 2. Update : Update is used to update the values that are already exhist inside the realtion.\n",
    "#### ex : UPDATE employees SET salary = salary * 1.1 WHERE department = 'Sales';\n",
    "\n",
    "#### 3.Delete : Delete is used to delete the row that is present in the relation.\n",
    "#### ex : DELETE FROM employees WHERE employment_status = 'Resigned';"
   ]
  },
  {
   "cell_type": "markdown",
   "id": "dd87bce4",
   "metadata": {},
   "source": [
    "---"
   ]
  },
  {
   "cell_type": "markdown",
   "id": "f8b7f44c",
   "metadata": {},
   "source": [
    "### Q4. What is DQL? Explain SELECT with an example."
   ]
  },
  {
   "cell_type": "markdown",
   "id": "8310f131",
   "metadata": {},
   "source": [
    "#### DQL is Data Query Language used to retrieve data from the database.\n",
    "#### ex : if we want to select all the column in the database to display we can use select to do SELECT * FROM <Database\\>"
   ]
  },
  {
   "cell_type": "markdown",
   "id": "32901c4f",
   "metadata": {},
   "source": [
    "---"
   ]
  },
  {
   "cell_type": "markdown",
   "id": "c61dcea9",
   "metadata": {},
   "source": [
    "### Q5. Explain Primary Key and Foreign Key."
   ]
  },
  {
   "cell_type": "markdown",
   "id": "2a6c7833",
   "metadata": {},
   "source": [
    "#### Primary key is a type of key in a realtion using which a tuple in a realtion can be identified uniquely.PK is used to maintain Entity integrity.\n",
    "#### Foreign Key is a type of key in a relation which refer to the primary key of other realtion which is used to maintain Referential integrity."
   ]
  },
  {
   "cell_type": "markdown",
   "id": "1221b6ea",
   "metadata": {},
   "source": [
    "---"
   ]
  },
  {
   "cell_type": "markdown",
   "id": "3906c911",
   "metadata": {},
   "source": [
    "### Q6. Write a python code to connect MySQL to python. Explain the cursor() and execute() method."
   ]
  },
  {
   "cell_type": "code",
   "execution_count": 4,
   "id": "79adc346",
   "metadata": {},
   "outputs": [],
   "source": [
    "import mysql.connector \n",
    "\n",
    "db = mysql.connector.connect(host = 'localhost' , user = 'root' , password = 'Darshan@25901')\n",
    "\n",
    "mycursor = db.cursor()\n",
    "mycursor.execute('CREATE DATABASE college')\n",
    "db.close()"
   ]
  },
  {
   "cell_type": "markdown",
   "id": "b3621fc4",
   "metadata": {},
   "source": [
    "---"
   ]
  },
  {
   "cell_type": "markdown",
   "id": "81e38148",
   "metadata": {},
   "source": [
    "### Q7. Give the order of execution of SQL clauses in an SQL query."
   ]
  },
  {
   "cell_type": "markdown",
   "id": "243bc841",
   "metadata": {},
   "source": [
    "1. FROM\n",
    "2. JOIN\n",
    "3. WHERE\n",
    "4. GROUP BY\n",
    "5. HAVING\n",
    "6. SELECT\n",
    "7. DISTINCT\n",
    "8. ORDER BY\n",
    "9. LIMIT/OFFSET (Optional)\n",
    "10. UNION/INTERSECT/EXCEPT (Optional)"
   ]
  },
  {
   "cell_type": "markdown",
   "id": "97ca4904",
   "metadata": {},
   "source": [
    "---"
   ]
  }
 ],
 "metadata": {
  "kernelspec": {
   "display_name": "Python 3 (ipykernel)",
   "language": "python",
   "name": "python3"
  },
  "language_info": {
   "codemirror_mode": {
    "name": "ipython",
    "version": 3
   },
   "file_extension": ".py",
   "mimetype": "text/x-python",
   "name": "python",
   "nbconvert_exporter": "python",
   "pygments_lexer": "ipython3",
   "version": "3.9.13"
  }
 },
 "nbformat": 4,
 "nbformat_minor": 5
}
