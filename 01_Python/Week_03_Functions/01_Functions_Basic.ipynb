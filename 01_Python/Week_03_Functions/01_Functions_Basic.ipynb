{
 "cells": [
  {
   "cell_type": "markdown",
   "id": "382d984c",
   "metadata": {},
   "source": [
    "# <font color = \"orange\"> Functions Part - 1"
   ]
  },
  {
   "cell_type": "code",
   "execution_count": 1,
   "id": "8f3e3a81",
   "metadata": {},
   "outputs": [
    {
     "name": "stdout",
     "output_type": "stream",
     "text": [
      "None\n"
     ]
    }
   ],
   "source": [
    "def fun1():\n",
    "    pass \n",
    "print(fun1())"
   ]
  },
  {
   "cell_type": "code",
   "execution_count": 2,
   "id": "48c22bb3",
   "metadata": {},
   "outputs": [
    {
     "name": "stdout",
     "output_type": "stream",
     "text": [
      "None\n"
     ]
    }
   ],
   "source": [
    "def fun2():\n",
    "    return None\n",
    "print(fun2())"
   ]
  },
  {
   "cell_type": "markdown",
   "id": "3af4f394",
   "metadata": {},
   "source": [
    "## Returning multiple values from function"
   ]
  },
  {
   "cell_type": "code",
   "execution_count": 3,
   "id": "883d085d",
   "metadata": {},
   "outputs": [
    {
     "name": "stdout",
     "output_type": "stream",
     "text": [
      "(1, 'hello', 4.5)\n",
      "Return value of function is: <class 'tuple'>\n",
      "\n",
      "hello\n",
      "5.5\n",
      "\n",
      "1 hello 4.5\n"
     ]
    }
   ],
   "source": [
    "def fun3():\n",
    "    return 1, 'hello' , 4.5\n",
    "\n",
    "print(fun3())\n",
    "print('Return value of function is:',type(fun3()))\n",
    "print()\n",
    "\n",
    "print(fun3()[1])\n",
    "print(fun3()[0] + fun3()[2])\n",
    "print()\n",
    "\n",
    "a , b , c = fun3()\n",
    "print(a,b,c)"
   ]
  },
  {
   "cell_type": "markdown",
   "id": "ac1f357a",
   "metadata": {},
   "source": [
    "## Function with parameter"
   ]
  },
  {
   "cell_type": "code",
   "execution_count": 4,
   "id": "1f2cd315",
   "metadata": {},
   "outputs": [
    {
     "name": "stdout",
     "output_type": "stream",
     "text": [
      "sudh is 23 years old.\n",
      "\n",
      "Darshan is 19 years old.\n",
      "\n"
     ]
    }
   ],
   "source": [
    "def fun4(name , age):\n",
    "    line = f\"{name} is {age} years old.\"\n",
    "    return line\n",
    "\n",
    "p1 = fun4('sudh',23)\n",
    "print(p1)\n",
    "print()\n",
    "\n",
    "# positional arguement\n",
    "p2 = fun4(age = 19 , name = 'Darshan')\n",
    "print(p2)\n",
    "print()"
   ]
  },
  {
   "cell_type": "markdown",
   "id": "3352c02e",
   "metadata": {},
   "source": [
    "#### Create a function which will take list as a input and give me a final list with all the numeric value"
   ]
  },
  {
   "cell_type": "code",
   "execution_count": 5,
   "id": "ccfc8fa8",
   "metadata": {},
   "outputs": [
    {
     "name": "stdout",
     "output_type": "stream",
     "text": [
      "[1, 2, 3, 4, 5]\n"
     ]
    }
   ],
   "source": [
    "def test1(li):\n",
    "    l = []\n",
    "    for i in li :\n",
    "        if type(i) == int or type(i) == float:\n",
    "            l.append(i)\n",
    "    return l\n",
    "\n",
    "l1 = [1,2,3,4,5,\"sudh\" , \"pwskills\" , [1,2,3,34,45]]\n",
    "out1 = test1(l1)\n",
    "print(out1)"
   ]
  },
  {
   "cell_type": "code",
   "execution_count": 6,
   "id": "beee1a0a",
   "metadata": {},
   "outputs": [
    {
     "name": "stdout",
     "output_type": "stream",
     "text": [
      "[1, 2, 3, 4, 5, 11, 24, 38, 34, 45]\n"
     ]
    }
   ],
   "source": [
    "# for inner list\n",
    "def test2(li):\n",
    "    l = []\n",
    "    for i in li :\n",
    "        \n",
    "        if type(i)== list:\n",
    "            for j in i :\n",
    "                if type(j) == int or type(j) == float:\n",
    "                    l.append(j)\n",
    "                    \n",
    "        if type(i) == int or type(i) == float:\n",
    "            l.append(i)\n",
    "            \n",
    "    return l\n",
    "\n",
    "l2 = [1,2,3,4,5,\"sudh\" , \"pwskills\" , [11,24,38,34,45]]\n",
    "out2 = test2(l2)\n",
    "print(out2)"
   ]
  },
  {
   "cell_type": "markdown",
   "id": "9e47d13c",
   "metadata": {},
   "source": [
    "# <font color = \"orange\"> Functions Part - 2"
   ]
  },
  {
   "cell_type": "markdown",
   "id": "9dedbcd0",
   "metadata": {},
   "source": [
    "## Types of functions :\n",
    "#### 1. Positional arguement. [ Function calling ]\n",
    "    ex: def fun(a,b):\n",
    "            ->fun(4,5)\n",
    "#### 2. Keyword arguement. [ Function calling ]\n",
    "    ex: def fun(a,b):\n",
    "            ->fun(b=4,a=3)\n",
    "#### 3. Default parameter function. [ Function definition ]\n",
    "    ex: def fun(a = 1):\n",
    "#### 4. Arbitary/Variable arguement. [  Function definition ]\n",
    "    ex: def fun(*num):\n",
    "        -> fun(2,3,4,5)\n",
    "        -> fun(2,5)"
   ]
  },
  {
   "cell_type": "markdown",
   "id": "d11cfb3c",
   "metadata": {},
   "source": [
    "### Variable arguement - varargs"
   ]
  },
  {
   "cell_type": "code",
   "execution_count": 7,
   "id": "f4acff79",
   "metadata": {},
   "outputs": [
    {
     "data": {
      "text/plain": [
       "tuple"
      ]
     },
     "execution_count": 7,
     "metadata": {},
     "output_type": "execute_result"
    }
   ],
   "source": [
    "def test2(*args):\n",
    "    return args\n",
    "type(test2())"
   ]
  },
  {
   "cell_type": "code",
   "execution_count": 8,
   "id": "7d17fd79",
   "metadata": {},
   "outputs": [
    {
     "name": "stdout",
     "output_type": "stream",
     "text": [
      "1 2 3 4 5 6 7 \n",
      "28\n",
      "\n",
      "1 2 \n",
      "3\n",
      "\n",
      "\n",
      "0\n"
     ]
    }
   ],
   "source": [
    "def test2(*args):\n",
    "    for i in args:\n",
    "        print(i,end=' ')\n",
    "    print()\n",
    "    return sum(args) \n",
    "\n",
    "out1 = test2(1,2,3,4,5,6,7)\n",
    "print(out1)\n",
    "print()\n",
    "\n",
    "out2 = test2(1,2)\n",
    "print(out2)\n",
    "print()\n",
    "\n",
    "out3 = test2()\n",
    "print(out3)"
   ]
  },
  {
   "cell_type": "code",
   "execution_count": 9,
   "id": "b4e77842",
   "metadata": {},
   "outputs": [
    {
     "name": "stdout",
     "output_type": "stream",
     "text": [
      "((2,), 3)\n"
     ]
    }
   ],
   "source": [
    "def fun6(a,*args):\n",
    "    return args , a \n",
    "\n",
    "print(fun6(3,2))"
   ]
  },
  {
   "cell_type": "code",
   "execution_count": 10,
   "id": "db142d16",
   "metadata": {},
   "outputs": [
    {
     "name": "stdout",
     "output_type": "stream",
     "text": [
      "((3,), 2)\n"
     ]
    },
    {
     "ename": "TypeError",
     "evalue": "fun5() missing 1 required keyword-only argument: 'a'",
     "output_type": "error",
     "traceback": [
      "\u001b[1;31m---------------------------------------------------------------------------\u001b[0m",
      "\u001b[1;31mTypeError\u001b[0m                                 Traceback (most recent call last)",
      "\u001b[1;32m~\\AppData\\Local\\Temp\\ipykernel_35580\\860370749.py\u001b[0m in \u001b[0;36m<module>\u001b[1;34m\u001b[0m\n\u001b[0;32m      3\u001b[0m \u001b[1;33m\u001b[0m\u001b[0m\n\u001b[0;32m      4\u001b[0m \u001b[0mprint\u001b[0m\u001b[1;33m(\u001b[0m\u001b[0mfun5\u001b[0m\u001b[1;33m(\u001b[0m\u001b[1;36m3\u001b[0m\u001b[1;33m,\u001b[0m\u001b[0ma\u001b[0m\u001b[1;33m=\u001b[0m\u001b[1;36m2\u001b[0m\u001b[1;33m)\u001b[0m\u001b[1;33m)\u001b[0m\u001b[1;33m\u001b[0m\u001b[1;33m\u001b[0m\u001b[0m\n\u001b[1;32m----> 5\u001b[1;33m \u001b[0mprint\u001b[0m\u001b[1;33m(\u001b[0m\u001b[0mfun5\u001b[0m\u001b[1;33m(\u001b[0m\u001b[1;36m3\u001b[0m\u001b[1;33m,\u001b[0m\u001b[1;36m2\u001b[0m\u001b[1;33m)\u001b[0m\u001b[1;33m)\u001b[0m \u001b[1;31m# all parameter will be taken by varagrs\u001b[0m\u001b[1;33m\u001b[0m\u001b[1;33m\u001b[0m\u001b[0m\n\u001b[0m",
      "\u001b[1;31mTypeError\u001b[0m: fun5() missing 1 required keyword-only argument: 'a'"
     ]
    }
   ],
   "source": [
    "def fun5(*args,a):\n",
    "    return args , a \n",
    "\n",
    "print(fun5(3,a=2))\n",
    "print(fun5(3,2)) # all parameter will be taken by varagrs"
   ]
  },
  {
   "cell_type": "markdown",
   "id": "ab761598",
   "metadata": {},
   "source": [
    "### keyword arguement - kwargs"
   ]
  },
  {
   "cell_type": "code",
   "execution_count": 11,
   "id": "f5082013",
   "metadata": {},
   "outputs": [
    {
     "data": {
      "text/plain": [
       "dict"
      ]
     },
     "execution_count": 11,
     "metadata": {},
     "output_type": "execute_result"
    }
   ],
   "source": [
    "def fun7(**kwargs):\n",
    "    return kwargs\n",
    "type(fun7())"
   ]
  },
  {
   "cell_type": "code",
   "execution_count": 12,
   "id": "996a73c8",
   "metadata": {},
   "outputs": [
    {
     "data": {
      "text/plain": [
       "{'a': 34, 'b': 23, 'c': [1, 2, 3, 4], 'd': ('sudh', 'pwskills')}"
      ]
     },
     "execution_count": 12,
     "metadata": {},
     "output_type": "execute_result"
    }
   ],
   "source": [
    "# returns dictionary \n",
    "fun7(a = 34 , b = 23 , c = [1,2,3,4] , d = (\"sudh\" , \"pwskills\"))"
   ]
  },
  {
   "cell_type": "markdown",
   "id": "f1d10121",
   "metadata": {},
   "source": [
    "#### Give me the key and value pair present in the dictionary whose value is a list. "
   ]
  },
  {
   "cell_type": "code",
   "execution_count": 13,
   "id": "b8201ca5",
   "metadata": {},
   "outputs": [
    {
     "data": {
      "text/plain": [
       "('c', [1, 2, 3, 4])"
      ]
     },
     "execution_count": 13,
     "metadata": {},
     "output_type": "execute_result"
    }
   ],
   "source": [
    "def test6(**kwargs):\n",
    "    for key in kwargs:\n",
    "        if type(kwargs[key]) == list :\n",
    "            return key , kwargs[key]\n",
    "    return None\n",
    "\n",
    "test6(a = 34 , b = 23 , c = [1,2,3,4] , d = (\"sudh\" , \"pwskills\"))"
   ]
  },
  {
   "cell_type": "markdown",
   "id": "a683d98b",
   "metadata": {},
   "source": [
    "#### Write a function that takes n arguement and a key value pair as input to function"
   ]
  },
  {
   "cell_type": "code",
   "execution_count": 14,
   "id": "67625cdc",
   "metadata": {},
   "outputs": [
    {
     "name": "stdout",
     "output_type": "stream",
     "text": [
      "((2, 3, 4, 5), {'a': 34, 'b': 98})\n",
      "\n",
      "<class 'tuple'>\n",
      "<class 'tuple'>\n",
      "<class 'dict'>\n"
     ]
    }
   ],
   "source": [
    "def test7(*args , **kwargs):\n",
    "    return args , kwargs\n",
    "\n",
    "out7 = test7(2,3,4,5,a= 34, b = 98)\n",
    "print(out7)\n",
    "print()\n",
    "print(type(out7))\n",
    "print(type(out7[0]))\n",
    "print(type(out7[1]))"
   ]
  }
 ],
 "metadata": {
  "kernelspec": {
   "display_name": "Python 3 (ipykernel)",
   "language": "python",
   "name": "python3"
  },
  "language_info": {
   "codemirror_mode": {
    "name": "ipython",
    "version": 3
   },
   "file_extension": ".py",
   "mimetype": "text/x-python",
   "name": "python",
   "nbconvert_exporter": "python",
   "pygments_lexer": "ipython3",
   "version": "3.9.13"
  }
 },
 "nbformat": 4,
 "nbformat_minor": 5
}
