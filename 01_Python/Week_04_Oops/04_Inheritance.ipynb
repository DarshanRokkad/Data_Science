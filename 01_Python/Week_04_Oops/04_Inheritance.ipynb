{
 "cells": [
  {
   "cell_type": "markdown",
   "id": "da976bff",
   "metadata": {},
   "source": [
    "# <font color = 'orange'> Inheritance"
   ]
  },
  {
   "cell_type": "markdown",
   "id": "ca8bfdc6",
   "metadata": {},
   "source": [
    "* Inheritance is the method of aquiring the properties of the parent class to the child class.\n",
    "\n",
    "* Inheritance in OOP allows a new class (subclass or derived class) to inherit properties and behaviors (attributes and methods) from an existing class (base class or superclass), promoting code reuse and establishing a hierarchical relationship between classes.\n",
    "\n",
    "* Use : Code reusability."
   ]
  },
  {
   "cell_type": "markdown",
   "id": "40df3c34",
   "metadata": {},
   "source": [
    "---"
   ]
  },
  {
   "cell_type": "code",
   "execution_count": 1,
   "id": "fd57e34a",
   "metadata": {},
   "outputs": [],
   "source": [
    "class parent:\n",
    "    def test(self):\n",
    "        print('This is the parent method.')\n",
    "        \n",
    "class child(parent):\n",
    "    pass"
   ]
  },
  {
   "cell_type": "code",
   "execution_count": 2,
   "id": "eba677ff",
   "metadata": {},
   "outputs": [
    {
     "name": "stdout",
     "output_type": "stream",
     "text": [
      "This is the parent method.\n"
     ]
    }
   ],
   "source": [
    "ch = child()\n",
    "ch.test()"
   ]
  },
  {
   "cell_type": "markdown",
   "id": "f167bbc7",
   "metadata": {},
   "source": [
    "---"
   ]
  },
  {
   "cell_type": "markdown",
   "id": "1ee9810c",
   "metadata": {},
   "source": [
    "Types of inheritance\n",
    "1. Multilevel inheritance.\n",
    "2. Multiple inheritance."
   ]
  },
  {
   "cell_type": "markdown",
   "id": "306b78c1",
   "metadata": {},
   "source": [
    "## 1. Multilevel inheritance."
   ]
  },
  {
   "cell_type": "code",
   "execution_count": 3,
   "id": "bd1f8ea6",
   "metadata": {},
   "outputs": [],
   "source": [
    "class class1:\n",
    "    def test1(self):\n",
    "        print('This is class 1.')\n",
    "\n",
    "class class2(class1):\n",
    "    def test2(self):\n",
    "        print('This is class 2.')\n",
    "        \n",
    "class class3(class2):\n",
    "    def test3(self):\n",
    "        print('This is class 3.')"
   ]
  },
  {
   "cell_type": "code",
   "execution_count": 4,
   "id": "4c4afc23",
   "metadata": {},
   "outputs": [
    {
     "name": "stdout",
     "output_type": "stream",
     "text": [
      "This is class 1.\n"
     ]
    }
   ],
   "source": [
    "c1 = class1()\n",
    "c1.test1()"
   ]
  },
  {
   "cell_type": "code",
   "execution_count": 5,
   "id": "9e9de4a3",
   "metadata": {},
   "outputs": [
    {
     "name": "stdout",
     "output_type": "stream",
     "text": [
      "This is class 1.\n",
      "This is class 2.\n"
     ]
    }
   ],
   "source": [
    "c2 = class2()\n",
    "c2.test1()\n",
    "c2.test2()"
   ]
  },
  {
   "cell_type": "code",
   "execution_count": 6,
   "id": "86d8646a",
   "metadata": {},
   "outputs": [
    {
     "name": "stdout",
     "output_type": "stream",
     "text": [
      "This is class 1.\n",
      "This is class 2.\n",
      "This is class 3.\n"
     ]
    }
   ],
   "source": [
    "c3 = class3()\n",
    "c3.test1()\n",
    "c3.test2()\n",
    "c3.test3()"
   ]
  },
  {
   "cell_type": "markdown",
   "id": "d3d2f3fe",
   "metadata": {},
   "source": [
    "## 2. Multiple inheritance."
   ]
  },
  {
   "cell_type": "code",
   "execution_count": 7,
   "id": "ca8c5485",
   "metadata": {},
   "outputs": [],
   "source": [
    "class class4:\n",
    "    def test4(self):\n",
    "        print('This is class 4.')\n",
    "\n",
    "class class5:\n",
    "    def test5(self):\n",
    "        print('This is class 5.')\n",
    "        \n",
    "class class6(class4,class5):\n",
    "    def test6(self):\n",
    "        print('This is class 6.')"
   ]
  },
  {
   "cell_type": "code",
   "execution_count": 8,
   "id": "256b0f3b",
   "metadata": {},
   "outputs": [
    {
     "name": "stdout",
     "output_type": "stream",
     "text": [
      "This is class 4.\n"
     ]
    }
   ],
   "source": [
    "c4 = class4()\n",
    "c4.test4()"
   ]
  },
  {
   "cell_type": "code",
   "execution_count": 9,
   "id": "3f8f1e57",
   "metadata": {},
   "outputs": [
    {
     "name": "stdout",
     "output_type": "stream",
     "text": [
      "This is class 5.\n"
     ]
    }
   ],
   "source": [
    "c5 = class5()\n",
    "c5.test5()"
   ]
  },
  {
   "cell_type": "code",
   "execution_count": 10,
   "id": "db38ce24",
   "metadata": {},
   "outputs": [
    {
     "name": "stdout",
     "output_type": "stream",
     "text": [
      "This is class 4.\n",
      "This is class 5.\n",
      "This is class 6.\n"
     ]
    }
   ],
   "source": [
    "c6 = class6()\n",
    "c6.test4()\n",
    "c6.test5()\n",
    "c6.test6()"
   ]
  },
  {
   "cell_type": "markdown",
   "id": "530049c9",
   "metadata": {},
   "source": [
    "---"
   ]
  }
 ],
 "metadata": {
  "kernelspec": {
   "display_name": "Python 3 (ipykernel)",
   "language": "python",
   "name": "python3"
  },
  "language_info": {
   "codemirror_mode": {
    "name": "ipython",
    "version": 3
   },
   "file_extension": ".py",
   "mimetype": "text/x-python",
   "name": "python",
   "nbconvert_exporter": "python",
   "pygments_lexer": "ipython3",
   "version": "3.9.13"
  }
 },
 "nbformat": 4,
 "nbformat_minor": 5
}
