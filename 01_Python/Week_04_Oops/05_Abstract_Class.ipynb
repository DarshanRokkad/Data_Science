{
 "cells": [
  {
   "cell_type": "markdown",
   "id": "d63b7af6",
   "metadata": {},
   "source": [
    "# <font color = 'orange'> Abstract class"
   ]
  },
  {
   "cell_type": "markdown",
   "id": "66ca57f9",
   "metadata": {},
   "source": [
    "* Abstract method will give the blue print and who ever want to implement it can inherit that class then define the abstract function and use it.\n",
    "* import abc.\n",
    "* To implement we have to inherit."
   ]
  },
  {
   "cell_type": "markdown",
   "id": "6f66e05a",
   "metadata": {},
   "source": [
    "---"
   ]
  },
  {
   "cell_type": "code",
   "execution_count": 1,
   "id": "9039a888",
   "metadata": {},
   "outputs": [],
   "source": [
    "import abc"
   ]
  },
  {
   "cell_type": "code",
   "execution_count": 2,
   "id": "bf043bbd",
   "metadata": {},
   "outputs": [],
   "source": [
    "# this is the blue print of pwskills\n",
    "class pwskills:\n",
    "    \n",
    "    @abc.abstractmethod\n",
    "    def student_details(self):\n",
    "        pass\n",
    "    \n",
    "    @abc.abstractmethod\n",
    "    def student_assignment(self):\n",
    "        pass\n",
    "    \n",
    "    \n",
    "    @abc.abstractmethod\n",
    "    def student_marks(self):\n",
    "        pass"
   ]
  },
  {
   "cell_type": "code",
   "execution_count": 3,
   "id": "2567b061",
   "metadata": {},
   "outputs": [],
   "source": [
    "class data_science(pwskills):\n",
    "    def student_details(self):\n",
    "        print('This is the data science student.')\n",
    "    def student_assignment(self):\n",
    "        print('This is the assignment given to the data science student.')"
   ]
  },
  {
   "cell_type": "code",
   "execution_count": 4,
   "id": "f4a20bd9",
   "metadata": {},
   "outputs": [],
   "source": [
    "class web_dev(pwskills):\n",
    "    def student_details(self):\n",
    "            print(\"This is the web development student.\")\n",
    "    def student_marks(self):\n",
    "             print(\"This is the marks of web dev class.\")"
   ]
  },
  {
   "cell_type": "code",
   "execution_count": 5,
   "id": "38dcee70",
   "metadata": {},
   "outputs": [
    {
     "name": "stdout",
     "output_type": "stream",
     "text": [
      "This is the data science student.\n",
      "This is the assignment given to the data science student.\n"
     ]
    }
   ],
   "source": [
    "ds = data_science()\n",
    "ds.student_details()\n",
    "ds.student_assignment()\n",
    "# if not implemented it fine no problem\n",
    "ds.student_marks()"
   ]
  },
  {
   "cell_type": "code",
   "execution_count": 6,
   "id": "35c40e91",
   "metadata": {},
   "outputs": [
    {
     "name": "stdout",
     "output_type": "stream",
     "text": [
      "This is the web development student.\n",
      "This is the marks of web dev class.\n"
     ]
    }
   ],
   "source": [
    "wd = web_dev()\n",
    "wd.student_details()\n",
    "wd.student_assignment()\n",
    "wd.student_marks()"
   ]
  },
  {
   "cell_type": "markdown",
   "id": "e1eac7dc",
   "metadata": {},
   "source": [
    "---"
   ]
  }
 ],
 "metadata": {
  "kernelspec": {
   "display_name": "Python 3 (ipykernel)",
   "language": "python",
   "name": "python3"
  },
  "language_info": {
   "codemirror_mode": {
    "name": "ipython",
    "version": 3
   },
   "file_extension": ".py",
   "mimetype": "text/x-python",
   "name": "python",
   "nbconvert_exporter": "python",
   "pygments_lexer": "ipython3",
   "version": "3.9.13"
  }
 },
 "nbformat": 4,
 "nbformat_minor": 5
}
