{
 "cells": [
  {
   "cell_type": "markdown",
   "id": "34c68b6d",
   "metadata": {},
   "source": [
    "# <font color = 'orange'> Encapsulation"
   ]
  },
  {
   "cell_type": "markdown",
   "id": "aa45f2bf",
   "metadata": {},
   "source": [
    "---"
   ]
  },
  {
   "cell_type": "markdown",
   "id": "9411d55f",
   "metadata": {},
   "source": [
    "* Encapsulation is binding of data and method together.\n",
    "* capsule - data + function.\n",
    "* Encapsulation prevents the access of any kind of data directly.\n",
    "\n",
    "* Encapsulation in Object-Oriented Programming involves bundling data and the methods that operate on that data into a single unit, providing controlled access to the data to maintain data integrity and reduce complexity."
   ]
  },
  {
   "cell_type": "code",
   "execution_count": 1,
   "id": "7ac1e560",
   "metadata": {},
   "outputs": [
    {
     "name": "stdout",
     "output_type": "stream",
     "text": [
      "a = 23\n",
      "b = 65\n",
      "\n",
      "a = 467\n",
      "b = 65\n"
     ]
    }
   ],
   "source": [
    "# Here we can set and access the data of the class \n",
    "class test : \n",
    "    def __init__(self , a,b ) : \n",
    "        self.a = a \n",
    "        self.b = b \n",
    "\n",
    "t = test(23,65)\n",
    "print('a =',t.a)\n",
    "print('b =',t.b)\n",
    "print()\n",
    "\n",
    "# should avoid the direct access of the data\n",
    "t.a = 467\n",
    "print('a =',t.a)\n",
    "print('b =',t.b)"
   ]
  },
  {
   "cell_type": "markdown",
   "id": "cbfa9e58",
   "metadata": {},
   "source": [
    "---"
   ]
  },
  {
   "cell_type": "code",
   "execution_count": 2,
   "id": "acf76f0b",
   "metadata": {},
   "outputs": [],
   "source": [
    "# While setting we can make sure the value will be set correctly \n",
    "class car:\n",
    "    def __init__(self,year,make,model,speed):\n",
    "        self.__year = year \n",
    "        self.__make = make\n",
    "        self.__model = model\n",
    "        self.__speed = speed\n",
    "    def set_speed(self,speed):\n",
    "        self.__speed = speed if speed > 0 else self.speed \n",
    "    def get_speed(self) : \n",
    "        return self.__speed"
   ]
  },
  {
   "cell_type": "code",
   "execution_count": 3,
   "id": "16aaa0ec",
   "metadata": {},
   "outputs": [],
   "source": [
    "invo = car(2004,'toyoto','innova',150)"
   ]
  },
  {
   "cell_type": "markdown",
   "id": "e99dd334",
   "metadata": {},
   "source": [
    "---"
   ]
  },
  {
   "cell_type": "markdown",
   "id": "5d9a96bb",
   "metadata": {},
   "source": [
    "#### 1.Cannot access the private variable"
   ]
  },
  {
   "cell_type": "code",
   "execution_count": 4,
   "id": "2abdb1ed",
   "metadata": {},
   "outputs": [
    {
     "ename": "AttributeError",
     "evalue": "'car' object has no attribute '__speed'",
     "output_type": "error",
     "traceback": [
      "\u001b[1;31m---------------------------------------------------------------------------\u001b[0m",
      "\u001b[1;31mAttributeError\u001b[0m                            Traceback (most recent call last)",
      "\u001b[1;32m~\\AppData\\Local\\Temp\\ipykernel_22972\\1784838399.py\u001b[0m in \u001b[0;36m<module>\u001b[1;34m\u001b[0m\n\u001b[1;32m----> 1\u001b[1;33m \u001b[0mprint\u001b[0m\u001b[1;33m(\u001b[0m\u001b[0minvo\u001b[0m\u001b[1;33m.\u001b[0m\u001b[0m__speed\u001b[0m\u001b[1;33m)\u001b[0m\u001b[1;33m\u001b[0m\u001b[1;33m\u001b[0m\u001b[0m\n\u001b[0m",
      "\u001b[1;31mAttributeError\u001b[0m: 'car' object has no attribute '__speed'"
     ]
    }
   ],
   "source": [
    "print(invo.__speed)"
   ]
  },
  {
   "cell_type": "markdown",
   "id": "b1f5fde1",
   "metadata": {},
   "source": [
    "#### 2.Can access the private variable using method of class"
   ]
  },
  {
   "cell_type": "code",
   "execution_count": 5,
   "id": "175571b8",
   "metadata": {},
   "outputs": [
    {
     "name": "stdout",
     "output_type": "stream",
     "text": [
      "150\n"
     ]
    }
   ],
   "source": [
    "print(invo.get_speed())"
   ]
  },
  {
   "cell_type": "markdown",
   "id": "abdfe5a7",
   "metadata": {},
   "source": [
    "---"
   ]
  },
  {
   "cell_type": "markdown",
   "id": "ded9cf5f",
   "metadata": {},
   "source": [
    "#### 1.Cannot set the private variable"
   ]
  },
  {
   "cell_type": "code",
   "execution_count": 6,
   "id": "c98192dc",
   "metadata": {},
   "outputs": [
    {
     "name": "stdout",
     "output_type": "stream",
     "text": [
      "150\n",
      "150\n"
     ]
    }
   ],
   "source": [
    "print(invo.get_speed())\n",
    "\n",
    "invo.__speed = 600\n",
    "\n",
    "print(invo.get_speed())"
   ]
  },
  {
   "cell_type": "code",
   "execution_count": 7,
   "id": "54e6876e",
   "metadata": {},
   "outputs": [
    {
     "name": "stdout",
     "output_type": "stream",
     "text": [
      "600\n"
     ]
    }
   ],
   "source": [
    "# this is a local variable\n",
    "print(invo.__speed)"
   ]
  },
  {
   "cell_type": "markdown",
   "id": "bd59772c",
   "metadata": {},
   "source": [
    "#### 2.Can set the private variable using method of class"
   ]
  },
  {
   "cell_type": "code",
   "execution_count": 8,
   "id": "4a3bd7ed",
   "metadata": {},
   "outputs": [
    {
     "name": "stdout",
     "output_type": "stream",
     "text": [
      "150\n",
      "300\n"
     ]
    }
   ],
   "source": [
    "print(invo.get_speed())\n",
    "\n",
    "# can set private variable and function also validates the seting value\n",
    "invo.set_speed(300)\n",
    "\n",
    "print(invo.get_speed())"
   ]
  },
  {
   "cell_type": "markdown",
   "id": "f3344aab",
   "metadata": {},
   "source": [
    "---"
   ]
  },
  {
   "cell_type": "markdown",
   "id": "e6f3b004",
   "metadata": {},
   "source": [
    "#### 1.Can access the private variable using class name"
   ]
  },
  {
   "cell_type": "code",
   "execution_count": 9,
   "id": "ec2bd6d6",
   "metadata": {},
   "outputs": [
    {
     "name": "stdout",
     "output_type": "stream",
     "text": [
      "300\n"
     ]
    }
   ],
   "source": [
    "print(invo._car__speed)"
   ]
  },
  {
   "cell_type": "markdown",
   "id": "751ec135",
   "metadata": {},
   "source": [
    "#### 2.Can set the private variable using class name"
   ]
  },
  {
   "cell_type": "code",
   "execution_count": 10,
   "id": "47e1e9b6",
   "metadata": {},
   "outputs": [
    {
     "name": "stdout",
     "output_type": "stream",
     "text": [
      "300\n",
      "600\n"
     ]
    }
   ],
   "source": [
    "print(invo._car__speed)\n",
    "\n",
    "# this will set private variable\n",
    "invo._car__speed = 600\n",
    "\n",
    "print(invo._car__speed)"
   ]
  },
  {
   "cell_type": "markdown",
   "id": "823a2fc8",
   "metadata": {},
   "source": [
    "---"
   ]
  },
  {
   "cell_type": "markdown",
   "id": "9fa6b942",
   "metadata": {},
   "source": [
    "## Q1.Bank class"
   ]
  },
  {
   "cell_type": "code",
   "execution_count": 11,
   "id": "073715d3",
   "metadata": {},
   "outputs": [],
   "source": [
    "class bank_account:\n",
    "    def __init__(self,balance):\n",
    "        self.__balance = balance\n",
    "    def deposit(self,amount):\n",
    "        self.__balance += amount\n",
    "    def withdraw(self,amount):\n",
    "        if self.__balance >= amount:\n",
    "            self.__balance -= amount\n",
    "            return True\n",
    "        else:\n",
    "            return False\n",
    "    def get_balance(self):\n",
    "        return self.__balance"
   ]
  },
  {
   "cell_type": "code",
   "execution_count": 12,
   "id": "2d312fbd",
   "metadata": {},
   "outputs": [],
   "source": [
    "bank_obj = bank_account(1000)"
   ]
  },
  {
   "cell_type": "code",
   "execution_count": 13,
   "id": "199b8c7b",
   "metadata": {},
   "outputs": [
    {
     "name": "stdout",
     "output_type": "stream",
     "text": [
      "1000\n",
      "3000\n"
     ]
    }
   ],
   "source": [
    "print(bank_obj.get_balance())\n",
    "bank_obj.deposit(2000)\n",
    "print(bank_obj.get_balance())"
   ]
  },
  {
   "cell_type": "code",
   "execution_count": 14,
   "id": "6889156b",
   "metadata": {},
   "outputs": [
    {
     "name": "stdout",
     "output_type": "stream",
     "text": [
      "3000\n",
      "You cannot withdraw that much of money.\n",
      "3000\n"
     ]
    }
   ],
   "source": [
    "print(bank_obj.get_balance())\n",
    "if not bank_obj.withdraw(5000):\n",
    "    print('You cannot withdraw that much of money.')\n",
    "print(bank_obj.get_balance())"
   ]
  },
  {
   "cell_type": "code",
   "execution_count": 15,
   "id": "ca0c4ba0",
   "metadata": {},
   "outputs": [
    {
     "name": "stdout",
     "output_type": "stream",
     "text": [
      "3000\n",
      "2000\n"
     ]
    }
   ],
   "source": [
    "print(bank_obj.get_balance())\n",
    "if not bank_obj.withdraw(1000):\n",
    "    print('You cannot withdraw that much of money.')\n",
    "print(bank_obj.get_balance())"
   ]
  }
 ],
 "metadata": {
  "kernelspec": {
   "display_name": "Python 3 (ipykernel)",
   "language": "python",
   "name": "python3"
  },
  "language_info": {
   "codemirror_mode": {
    "name": "ipython",
    "version": 3
   },
   "file_extension": ".py",
   "mimetype": "text/x-python",
   "name": "python",
   "nbconvert_exporter": "python",
   "pygments_lexer": "ipython3",
   "version": "3.9.13"
  }
 },
 "nbformat": 4,
 "nbformat_minor": 5
}
