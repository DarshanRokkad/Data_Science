{
 "cells": [
  {
   "cell_type": "markdown",
   "id": "912e84d4",
   "metadata": {},
   "source": [
    "# <font color = 'orange'> Assignment-6 Solutions"
   ]
  },
  {
   "cell_type": "markdown",
   "id": "ebbc8ba4",
   "metadata": {},
   "source": [
    "---"
   ]
  },
  {
   "cell_type": "markdown",
   "id": "3d6e5b22",
   "metadata": {},
   "source": [
    "### Q1. Create a vehicle class with an init method having instance variables as name_of_vehicle, max_speed and average_of_vehicle. "
   ]
  },
  {
   "cell_type": "code",
   "execution_count": 1,
   "id": "7cdd3fb0",
   "metadata": {},
   "outputs": [
    {
     "name": "stdout",
     "output_type": "stream",
     "text": [
      "Swift\n",
      "90\n",
      "19\n"
     ]
    }
   ],
   "source": [
    "class vehicle:\n",
    "    def __init__(self,name_of_vehicle,max_speed,average_of_vehicle):\n",
    "        self.name_of_vehicle = name_of_vehicle\n",
    "        self.max_speed = max_speed\n",
    "        self.average_of_vehicle = average_of_vehicle\n",
    "    def display(self):\n",
    "        print(self.name_of_vehicle)\n",
    "        print(self.max_speed)\n",
    "        print(self.average_of_vehicle)\n",
    "\n",
    "v1 = vehicle('Swift',90,19)\n",
    "v1.display()"
   ]
  },
  {
   "cell_type": "markdown",
   "id": "4423c6a3",
   "metadata": {},
   "source": [
    "---"
   ]
  },
  {
   "cell_type": "markdown",
   "id": "a35cc631",
   "metadata": {},
   "source": [
    "### Q2. Create a child class car from the vehicle class created in Question 1, which will inherit the vehicle class. Create a method named seating_capacity which takes capacity as an argument and returns the name of the vehicle and its seating capacity."
   ]
  },
  {
   "cell_type": "code",
   "execution_count": 2,
   "id": "d7460c41",
   "metadata": {},
   "outputs": [
    {
     "name": "stdout",
     "output_type": "stream",
     "text": [
      "Innova\n",
      "120\n",
      "14\n",
      "('Innova', 11)\n"
     ]
    }
   ],
   "source": [
    "class car(vehicle):\n",
    "    def seating_capacity(self,capacity):\n",
    "        self.capacity = capacity\n",
    "        return self.name_of_vehicle , self.capacity\n",
    "\n",
    "c1 = car('Innova',120,14)\n",
    "c1.display()\n",
    "print(c1.seating_capacity(11))"
   ]
  },
  {
   "cell_type": "markdown",
   "id": "a8e598c7",
   "metadata": {},
   "source": [
    "---"
   ]
  },
  {
   "cell_type": "markdown",
   "id": "47ec7732",
   "metadata": {},
   "source": [
    "### Q3. What is multiple inheritance? Write a python code to demonstrate multiple inheritance."
   ]
  },
  {
   "cell_type": "markdown",
   "id": "84b21ebd",
   "metadata": {},
   "source": [
    "#### Multiple inheritance is a type of inheritance in which a class is inherited from more that 1 class."
   ]
  },
  {
   "cell_type": "code",
   "execution_count": 3,
   "id": "32e1c001",
   "metadata": {},
   "outputs": [],
   "source": [
    "class c1:\n",
    "    def display1(self):\n",
    "        print('Display function of class1.')\n",
    "class c2:\n",
    "    def display2(self):\n",
    "        print('Display function of class2.')\n",
    "class c3(c1,c2):\n",
    "    def display3(self):\n",
    "        print('Display function of class3.')"
   ]
  },
  {
   "cell_type": "code",
   "execution_count": 4,
   "id": "061396a6",
   "metadata": {},
   "outputs": [
    {
     "name": "stdout",
     "output_type": "stream",
     "text": [
      "Display function of class1.\n",
      "Display function of class2.\n",
      "Display function of class3.\n"
     ]
    }
   ],
   "source": [
    "c3_obj = c3()\n",
    "c3_obj.display1()\n",
    "c3_obj.display2()\n",
    "c3_obj.display3()"
   ]
  },
  {
   "cell_type": "markdown",
   "id": "781448ed",
   "metadata": {},
   "source": [
    "---"
   ]
  },
  {
   "cell_type": "markdown",
   "id": "d3fbc965",
   "metadata": {},
   "source": [
    "### Q4. What are getter and setter in python? Create a class and create a getter and a setter method in this class."
   ]
  },
  {
   "cell_type": "markdown",
   "id": "49f36880",
   "metadata": {},
   "source": [
    "#### Getter is used to get or read the private variable of the class.\n",
    "#### Setter is used to set the value of the private variable of the class."
   ]
  },
  {
   "cell_type": "code",
   "execution_count": 5,
   "id": "f193b033",
   "metadata": {},
   "outputs": [],
   "source": [
    "class google_account:\n",
    "    def __init__(self,email,password):\n",
    "        self.email = email\n",
    "        self.__password = password\n",
    "        \n",
    "    # This is the getter\n",
    "    @property \n",
    "    def access_password(self):\n",
    "        return self.__password\n",
    "    \n",
    "    @access_password.setter\n",
    "    def set_password(self,new_password):\n",
    "        print('password changed successfully.')\n",
    "        self.__password = new_password"
   ]
  },
  {
   "cell_type": "code",
   "execution_count": 6,
   "id": "80e78444",
   "metadata": {},
   "outputs": [],
   "source": [
    "user1 = google_account('pwskills@gmail.com','ksirhsh@pw')"
   ]
  },
  {
   "cell_type": "code",
   "execution_count": 7,
   "id": "cb276712",
   "metadata": {},
   "outputs": [
    {
     "data": {
      "text/plain": [
       "'ksirhsh@pw'"
      ]
     },
     "execution_count": 7,
     "metadata": {},
     "output_type": "execute_result"
    }
   ],
   "source": [
    "user1.access_password"
   ]
  },
  {
   "cell_type": "code",
   "execution_count": 8,
   "id": "53cdf74b",
   "metadata": {},
   "outputs": [
    {
     "name": "stdout",
     "output_type": "stream",
     "text": [
      "password changed successfully.\n"
     ]
    }
   ],
   "source": [
    "user1.set_password = 'sudh@pw'"
   ]
  },
  {
   "cell_type": "code",
   "execution_count": 9,
   "id": "92d7055b",
   "metadata": {},
   "outputs": [
    {
     "data": {
      "text/plain": [
       "'sudh@pw'"
      ]
     },
     "execution_count": 9,
     "metadata": {},
     "output_type": "execute_result"
    }
   ],
   "source": [
    "user1.access_password"
   ]
  },
  {
   "cell_type": "markdown",
   "id": "8fb61487",
   "metadata": {},
   "source": [
    "---"
   ]
  },
  {
   "cell_type": "markdown",
   "id": "1d51e417",
   "metadata": {},
   "source": [
    "### Q5.What is method overriding in python? Write a python code to demonstrate method overriding."
   ]
  },
  {
   "cell_type": "markdown",
   "id": "6fc59ab8",
   "metadata": {},
   "source": [
    "#### Method overriding is the runtime polymorphism in python where the a child class which is inherited from parent class ,then if child class contains a overrided method then the overrided method will be called when the child class object call overrided method . "
   ]
  },
  {
   "cell_type": "code",
   "execution_count": 10,
   "id": "f301cc1a",
   "metadata": {},
   "outputs": [],
   "source": [
    "class parent:\n",
    "    def reponsibility(self):\n",
    "        print('Parents responsibility is to work.')\n",
    "\n",
    "class child:\n",
    "    # below reponsibility method overrides the parent class reponsibility method\n",
    "    def reponsibility(self):\n",
    "        print('Child responsibility is to study for exam and get good marks.')"
   ]
  },
  {
   "cell_type": "code",
   "execution_count": 11,
   "id": "3df0cb37",
   "metadata": {},
   "outputs": [
    {
     "name": "stdout",
     "output_type": "stream",
     "text": [
      "Child responsibility is to study for exam and get good marks.\n"
     ]
    }
   ],
   "source": [
    "c1 = child()\n",
    "c1.reponsibility()"
   ]
  },
  {
   "cell_type": "markdown",
   "id": "33faf454",
   "metadata": {},
   "source": [
    "---"
   ]
  }
 ],
 "metadata": {
  "kernelspec": {
   "display_name": "Python 3 (ipykernel)",
   "language": "python",
   "name": "python3"
  },
  "language_info": {
   "codemirror_mode": {
    "name": "ipython",
    "version": 3
   },
   "file_extension": ".py",
   "mimetype": "text/x-python",
   "name": "python",
   "nbconvert_exporter": "python",
   "pygments_lexer": "ipython3",
   "version": "3.9.13"
  }
 },
 "nbformat": 4,
 "nbformat_minor": 5
}
