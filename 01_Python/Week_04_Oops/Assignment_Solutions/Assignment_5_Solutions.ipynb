{
 "cells": [
  {
   "cell_type": "markdown",
   "id": "66280aee",
   "metadata": {},
   "source": [
    "# <font color = 'orange'> Assignment-5 Solutions"
   ]
  },
  {
   "cell_type": "markdown",
   "id": "7ae47411",
   "metadata": {},
   "source": [
    "---"
   ]
  },
  {
   "cell_type": "markdown",
   "id": "3ffcf143",
   "metadata": {},
   "source": [
    "### Q1. Explain Class and Object with respect to Object-Oriented Programming. Give a suitable example."
   ]
  },
  {
   "cell_type": "markdown",
   "id": "eed7402b",
   "metadata": {},
   "source": [
    "#### Class is a blueprint which contains data members and members function. Class don't consumes space.\n",
    "#### Object is the instance of the Class that represent the real world entity which occupies space."
   ]
  },
  {
   "cell_type": "code",
   "execution_count": 1,
   "id": "c17e4c82",
   "metadata": {},
   "outputs": [],
   "source": [
    "# pwskills is the class\n",
    "class pwskills:\n",
    "    def __init__(self,name):\n",
    "        self.name = name\n",
    "    def hello(self):\n",
    "        print(f'Welcome to pwskills {self.name}')"
   ]
  },
  {
   "cell_type": "code",
   "execution_count": 2,
   "id": "14a7c8c9",
   "metadata": {},
   "outputs": [
    {
     "name": "stdout",
     "output_type": "stream",
     "text": [
      "Welcome to pwskills darshan\n"
     ]
    }
   ],
   "source": [
    "# pw is the object\n",
    "pw = pwskills('darshan')\n",
    "pw.hello()"
   ]
  },
  {
   "cell_type": "markdown",
   "id": "8d4b046b",
   "metadata": {},
   "source": [
    "---"
   ]
  },
  {
   "cell_type": "markdown",
   "id": "a8d4341a",
   "metadata": {},
   "source": [
    "### Q2.  Name the four pillars of OOPs."
   ]
  },
  {
   "cell_type": "markdown",
   "id": "ca5444c9",
   "metadata": {},
   "source": [
    "#### 1. Abstraction.\n",
    "#### 2. Encapsulation.\n",
    "#### 3. Polymorphism.\n",
    "#### 4. Inheritance."
   ]
  },
  {
   "cell_type": "markdown",
   "id": "bf441047",
   "metadata": {},
   "source": [
    "---"
   ]
  },
  {
   "cell_type": "markdown",
   "id": "2e287f7c",
   "metadata": {},
   "source": [
    "###  Q3. Explain why the \\_\\_init\\_\\_() function is used. Give a suitable example."
   ]
  },
  {
   "cell_type": "markdown",
   "id": "be3dd847",
   "metadata": {},
   "source": [
    "####  \\_\\_init\\_\\_() function is a constructor of the class which is called automatically when the instance of class is created and used to intialize the data members of the object."
   ]
  },
  {
   "cell_type": "code",
   "execution_count": 3,
   "id": "419c9d3b",
   "metadata": {},
   "outputs": [],
   "source": [
    "# pwskills is the class\n",
    "class pwskills1:\n",
    "    def __init__(self,name):\n",
    "        print('__init__ method executed.')\n",
    "        # intializing name attribute of the class\n",
    "        self.name = name\n",
    "    def display(self):\n",
    "        print(f'Your name is {self.name}')"
   ]
  },
  {
   "cell_type": "code",
   "execution_count": 4,
   "id": "8fac2b1e",
   "metadata": {},
   "outputs": [
    {
     "name": "stdout",
     "output_type": "stream",
     "text": [
      "__init__ method executed.\n",
      "Your name is Darshan\n"
     ]
    }
   ],
   "source": [
    "pw1 = pwskills1('Darshan')\n",
    "pw1.display()"
   ]
  },
  {
   "cell_type": "markdown",
   "id": "cc3c0c75",
   "metadata": {},
   "source": [
    "---"
   ]
  },
  {
   "cell_type": "markdown",
   "id": "36056355",
   "metadata": {},
   "source": [
    "###  Q4. Why self is used in OOPs?"
   ]
  },
  {
   "cell_type": "markdown",
   "id": "1e98c62f",
   "metadata": {},
   "source": [
    "#### Self is a keyword in python which refer to the current object of the class."
   ]
  },
  {
   "cell_type": "markdown",
   "id": "640d196f",
   "metadata": {},
   "source": [
    "---"
   ]
  },
  {
   "cell_type": "markdown",
   "id": "463018c7",
   "metadata": {},
   "source": [
    "###  Q5. What is inheritance? Give an example for each type of inheritance."
   ]
  },
  {
   "cell_type": "markdown",
   "id": "8253de5d",
   "metadata": {},
   "source": [
    "#### Inheritance is method of inheriting the property, protected and public attritbute of one class to another class."
   ]
  },
  {
   "cell_type": "markdown",
   "id": "efaa0735",
   "metadata": {},
   "source": [
    "---"
   ]
  }
 ],
 "metadata": {
  "kernelspec": {
   "display_name": "Python 3 (ipykernel)",
   "language": "python",
   "name": "python3"
  },
  "language_info": {
   "codemirror_mode": {
    "name": "ipython",
    "version": 3
   },
   "file_extension": ".py",
   "mimetype": "text/x-python",
   "name": "python",
   "nbconvert_exporter": "python",
   "pygments_lexer": "ipython3",
   "version": "3.9.13"
  }
 },
 "nbformat": 4,
 "nbformat_minor": 5
}
