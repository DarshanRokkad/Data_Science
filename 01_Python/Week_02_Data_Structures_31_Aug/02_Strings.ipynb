{
 "cells": [
  {
   "cell_type": "markdown",
   "id": "44ee7140",
   "metadata": {},
   "source": [
    "# Strings"
   ]
  },
  {
   "cell_type": "code",
   "execution_count": 1,
   "id": "f24ce036",
   "metadata": {},
   "outputs": [],
   "source": [
    "course_name = \"Pw Skills Data Science\""
   ]
  },
  {
   "cell_type": "code",
   "execution_count": 2,
   "id": "786381e6",
   "metadata": {},
   "outputs": [
    {
     "data": {
      "text/plain": [
       "'Pw Skills Data Science'"
      ]
     },
     "execution_count": 2,
     "metadata": {},
     "output_type": "execute_result"
    }
   ],
   "source": [
    "course_name "
   ]
  },
  {
   "cell_type": "code",
   "execution_count": 8,
   "id": "d56ce05c",
   "metadata": {},
   "outputs": [
    {
     "name": "stdout",
     "output_type": "stream",
     "text": [
      "Pw Skills Data Science\n",
      "P klsDt cec\n",
      "cien\n",
      "ecneicS ataD sllikS wP\n"
     ]
    }
   ],
   "source": [
    "# string slicing \n",
    "print(course_name[:])\n",
    "print(course_name[::2])\n",
    "print(course_name[-6:-2])\n",
    "print(course_name[::-1]) # reversing the string using slicing"
   ]
  },
  {
   "cell_type": "code",
   "execution_count": 10,
   "id": "78a35689",
   "metadata": {},
   "outputs": [
    {
     "name": "stdout",
     "output_type": "stream",
     "text": [
      "Pw Skills Data Science Darshan\n"
     ]
    }
   ],
   "source": [
    "# Concatination\n",
    "\n",
    "name = \"Darshan\"\n",
    "print(course_name + \" \" + name)"
   ]
  },
  {
   "cell_type": "code",
   "execution_count": 15,
   "id": "661938f2",
   "metadata": {},
   "outputs": [
    {
     "name": "stdout",
     "output_type": "stream",
     "text": [
      "Pw Skills Data SciencePw Skills Data SciencePw Skills Data SciencePw Skills Data SciencePw Skills Data Science\n",
      "\n",
      "20\n"
     ]
    }
   ],
   "source": [
    "# multiplication of number with string and number \n",
    "print(5 * course_name)\n",
    "print()\n",
    "print(5 * 4)"
   ]
  },
  {
   "cell_type": "markdown",
   "id": "5e61aedd",
   "metadata": {},
   "source": [
    "# Function\n",
    "\n",
    "1. length    - len(var)\n",
    "2. find      - var.find(char)\n",
    "3. count     - var.count(char)\n",
    "4. split     - var.split(char) [returns the list]\n",
    "5. partition - var.partition(char) [returns the tuple]\n",
    "6. upper     - var.upper()\n",
    "7. lower     - var.lower()\n",
    "8. isupper   - var.isupper()\n",
    "9. islower   - var.islower()\n",
    "10. swapcase - var.swapcase()\n",
    "11. title    - var.title()\n",
    "12. capitalize - var.capitalize()\n",
    "13. reversed - var.reversed()\n",
    "14. join - ' '.join(string)\n",
    "---\n",
    "15. strip - var.strip('')\n",
    "16. lstrip - var.lstrip('')\n",
    "17. rstrip - var.rstrip('')\n",
    "---\n",
    "18. replace - var.replace(old,new)\n",
    "---\n",
    "19. center - var.center(length,char)\n",
    "---\n",
    "20. startswith - var.startswith(char)\n",
    "21. endswith - var.endswith(char)\n",
    "---\n",
    "22. isalnum - var.isalnum()\n",
    "23. istitle - var.istitle()\n",
    "24. isspace - var.isspace()"
   ]
  },
  {
   "cell_type": "code",
   "execution_count": 36,
   "id": "91508499",
   "metadata": {},
   "outputs": [
    {
     "name": "stdout",
     "output_type": "stream",
     "text": [
      "Pw Skills Data Science\n"
     ]
    }
   ],
   "source": [
    "c = \"Pw Skills Data Science\"\n",
    "print(c)"
   ]
  },
  {
   "cell_type": "code",
   "execution_count": 73,
   "id": "6989d707",
   "metadata": {},
   "outputs": [
    {
     "name": "stdout",
     "output_type": "stream",
     "text": [
      "length :  22\n",
      "\n",
      "find 'l':  6\n",
      "\n",
      "find right most 'l':  7\n",
      "\n",
      "count 'l' :  2\n",
      "\n",
      "split 'i' :  ['pw sk', 'lls data sc', 'ence']\n",
      "\n",
      "partition according to first 'i' :  ('pw sk', 'i', 'lls data science')\n",
      "\n",
      "converting to upper case :  PW SKILLS DATA SCIENCE\n",
      "\n",
      "converting to lower case :  pw skills data science\n",
      "\n",
      "pw skills data science\n",
      "checking upper case :  False\n",
      "\n",
      "checking lower case :  True\n",
      "\n",
      "Swapping case :  PW SKILLS DATA SCIENCE\n",
      "\n",
      "pw skills data science\n",
      "title :  Pw Skills Data Science\n",
      "\n",
      "counting space using count :  23\n",
      "\n",
      "String captializing :  Pw skills data science\n",
      "\n",
      "Center function :  ----pw skills data science----\n",
      "\n",
      "using of expand tabs function : hello           hi\n"
     ]
    }
   ],
   "source": [
    "print(\"length : \",len(c))\n",
    "print()\n",
    "print(\"find 'l': \",c.find('l'))\n",
    "print()\n",
    "print(\"find right most 'l': \",c.rfind('l'))\n",
    "print()\n",
    "print(\"count 'l' : \",c.count('l'))\n",
    "print()\n",
    "print(\"split 'i' : \",c.split('i'))\n",
    "print()\n",
    "print(\"partition according to first 'i' : \",c.partition('i')) \n",
    "print()\n",
    "print(\"converting to upper case : \",c.upper())\n",
    "print()\n",
    "print(\"converting to lower case : \",c.lower())\n",
    "print()\n",
    "print(c)\n",
    "print(\"checking upper case : \",c.isupper())\n",
    "print()\n",
    "print(\"checking lower case : \",c.islower())\n",
    "print()\n",
    "print(\"Swapping case : \",c.swapcase())\n",
    "print()\n",
    "c = c.lower()\n",
    "print(c)\n",
    "print(\"title : \",c.title())\n",
    "print()\n",
    "print(\"counting space using count : \",c.count(''))\n",
    "print()\n",
    "print(\"String captializing : \",c.capitalize())\n",
    "print()\n",
    "print(\"Center function : \",c.center(30,'-'))\n",
    "print()\n",
    "print('using of expand tabs function : hello\\t\\thi'.expandtabs())"
   ]
  },
  {
   "cell_type": "code",
   "execution_count": 59,
   "id": "88baec20",
   "metadata": {},
   "outputs": [
    {
     "name": "stdout",
     "output_type": "stream",
     "text": [
      "i is a vowel.\n",
      "n is not a vowel.\n",
      "e is a vowel.\n",
      "u is a vowel.\n",
      "r is not a vowel.\n",
      "o is a vowel.\n",
      "n is not a vowel.\n"
     ]
    }
   ],
   "source": [
    "# tell wheather the character is vowel or not \n",
    "name = \"ineuron\"\n",
    "vowel = 'aAeEiIoOuU'\n",
    "for n in name :\n",
    "    if n in vowel :\n",
    "        print(f\"{n} is a vowel.\")\n",
    "    else :\n",
    "        print(f\"{n} is not a vowel.\")"
   ]
  },
  {
   "cell_type": "code",
   "execution_count": 64,
   "id": "152c30f2",
   "metadata": {},
   "outputs": [
    {
     "name": "stdout",
     "output_type": "stream",
     "text": [
      "malayalam is a palindrome string.\n"
     ]
    }
   ],
   "source": [
    "# tell wheather the string is palindrome or not \n",
    "\n",
    "def palindrome_check(s):\n",
    "    n = len(s)\n",
    "    for i in range(n//2):\n",
    "        if s[i] != s[n-1-i]:\n",
    "            return False \n",
    "    return True\n",
    "\n",
    "# s = \"hello\"\n",
    "s = \"malayalam\"\n",
    "res = palindrome_check(s) \n",
    "if res :\n",
    "    print(f\"{s} is a palindrome string.\")\n",
    "else :\n",
    "    print(f\"{s} is not a palindrome string.\")"
   ]
  },
  {
   "cell_type": "code",
   "execution_count": 1,
   "id": "1925cdb1",
   "metadata": {},
   "outputs": [
    {
     "data": {
      "text/plain": [
       "'t n a'"
      ]
     },
     "execution_count": 1,
     "metadata": {},
     "output_type": "execute_result"
    }
   ],
   "source": [
    "' '.join(reversed(\"ant\"))"
   ]
  },
  {
   "cell_type": "code",
   "execution_count": 2,
   "id": "6fe2ed00",
   "metadata": {},
   "outputs": [
    {
     "data": {
      "text/plain": [
       "'t Pwskills n Pwskills a'"
      ]
     },
     "execution_count": 2,
     "metadata": {},
     "output_type": "execute_result"
    }
   ],
   "source": [
    "' Pwskills '.join(reversed(\"ant\"))"
   ]
  },
  {
   "cell_type": "code",
   "execution_count": 7,
   "id": "95f8d88b",
   "metadata": {},
   "outputs": [
    {
     "data": {
      "text/plain": [
       "'Welcome to hia pwskills.Welcome to hi cience Masters'"
      ]
     },
     "execution_count": 7,
     "metadata": {},
     "output_type": "execute_result"
    }
   ],
   "source": [
    "# important\n",
    "str1=\"Welcome to Data pwskills.Welcome to Dat cience Masters\"\n",
    "str1.replace(\"Dat\",\"Data\").replace(\"Data\",'hi')"
   ]
  },
  {
   "cell_type": "markdown",
   "id": "ffe8934c",
   "metadata": {},
   "source": [
    "# Important multiplication\n",
    "* bool * bool => int\n",
    "* use of not => bool "
   ]
  },
  {
   "cell_type": "code",
   "execution_count": 33,
   "id": "5be5e4a0",
   "metadata": {},
   "outputs": [
    {
     "name": "stdout",
     "output_type": "stream",
     "text": [
      "1\n",
      "0\n",
      "0\n",
      "0\n"
     ]
    }
   ],
   "source": [
    "print(True * True ) \n",
    "print(True * False ) \n",
    "print(False * True ) \n",
    "print(False * False )"
   ]
  },
  {
   "cell_type": "code",
   "execution_count": 34,
   "id": "44fb0fc0",
   "metadata": {},
   "outputs": [
    {
     "name": "stdout",
     "output_type": "stream",
     "text": [
      "False\n",
      "True\n",
      "True\n",
      "True\n"
     ]
    }
   ],
   "source": [
    "print(not True * True)\n",
    "print(not True * False)\n",
    "print(not False * True )\n",
    "print(not False * False)"
   ]
  },
  {
   "cell_type": "code",
   "execution_count": 8,
   "id": "6a5a18a6",
   "metadata": {},
   "outputs": [
    {
     "name": "stdout",
     "output_type": "stream",
     "text": [
      "True\n",
      "True\n",
      "0\n",
      "0\n"
     ]
    }
   ],
   "source": [
    "#important - bracket precedence is more that not \n",
    "print(not(False) * True)\n",
    "print(not(False) * False)\n",
    "print((not(False)) * False ) # output datatype\n",
    "print((not False) * False )  # output datatype"
   ]
  },
  {
   "cell_type": "code",
   "execution_count": null,
   "id": "ecdbacb9",
   "metadata": {},
   "outputs": [],
   "source": []
  }
 ],
 "metadata": {
  "kernelspec": {
   "display_name": "Python 3 (ipykernel)",
   "language": "python",
   "name": "python3"
  },
  "language_info": {
   "codemirror_mode": {
    "name": "ipython",
    "version": 3
   },
   "file_extension": ".py",
   "mimetype": "text/x-python",
   "name": "python",
   "nbconvert_exporter": "python",
   "pygments_lexer": "ipython3",
   "version": "3.9.13"
  }
 },
 "nbformat": 4,
 "nbformat_minor": 5
}
