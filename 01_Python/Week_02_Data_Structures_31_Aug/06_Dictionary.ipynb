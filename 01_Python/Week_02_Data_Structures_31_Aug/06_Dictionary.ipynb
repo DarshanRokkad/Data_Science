{
 "cells": [
  {
   "cell_type": "markdown",
   "id": "4d616fc0",
   "metadata": {},
   "source": [
    "# Dictionary "
   ]
  },
  {
   "cell_type": "code",
   "execution_count": 1,
   "id": "bc7f20da",
   "metadata": {},
   "outputs": [
    {
     "data": {
      "text/plain": [
       "dict"
      ]
     },
     "execution_count": 1,
     "metadata": {},
     "output_type": "execute_result"
    }
   ],
   "source": [
    "d = {}\n",
    "type(d)"
   ]
  },
  {
   "cell_type": "code",
   "execution_count": 2,
   "id": "1f4ed58f",
   "metadata": {},
   "outputs": [
    {
     "data": {
      "text/plain": [
       "{'name': 'sudh', 'email_id': 'ss@gmail.com', 'number': 234324}"
      ]
     },
     "execution_count": 2,
     "metadata": {},
     "output_type": "execute_result"
    }
   ],
   "source": [
    "d1 = {\"name\" : \"sudh\" , \"email_id\" : \"ss@gmail.com\" , \"number\" :234324}\n",
    "d1"
   ]
  },
  {
   "cell_type": "code",
   "execution_count": 3,
   "id": "e84d15b6",
   "metadata": {
    "scrolled": true
   },
   "outputs": [
    {
     "name": "stdout",
     "output_type": "stream",
     "text": [
      "sudh\n"
     ]
    }
   ],
   "source": [
    "print(d1['name'])"
   ]
  },
  {
   "cell_type": "code",
   "execution_count": 4,
   "id": "fd7fc1bb",
   "metadata": {},
   "outputs": [
    {
     "data": {
      "text/plain": [
       "{'name': 'sudh', 'email_id': 'ss@gmail.com', 'number': 234324, 'usn': 2022}"
      ]
     },
     "execution_count": 4,
     "metadata": {},
     "output_type": "execute_result"
    }
   ],
   "source": [
    "# keys should be unique\n",
    "d1['usn'] = 2022\n",
    "d1"
   ]
  },
  {
   "cell_type": "markdown",
   "id": "0789c1e7",
   "metadata": {},
   "source": [
    "---"
   ]
  },
  {
   "cell_type": "markdown",
   "id": "cc11e68c",
   "metadata": {},
   "source": [
    "# Key\n",
    "* Can take number , string , boolean , tuple as a key in dictionary.\n",
    "* we cannnot take special character , list , set , dictionary as a key in dictionary."
   ]
  },
  {
   "cell_type": "code",
   "execution_count": 5,
   "id": "335b33bb",
   "metadata": {},
   "outputs": [
    {
     "name": "stdout",
     "output_type": "stream",
     "text": [
      "{True: 'this is true', (2, 3, 4): 'tuple', 'string': 'hello', 4: 'four'}\n",
      "this is true\n",
      "this is true\n"
     ]
    }
   ],
   "source": [
    "d3 = {True: 'this is true', (2, 3, 4): 'tuple', 'string': 'hello', 4: 'four'}\n",
    "print(d3)\n",
    "print(d3[1])\n",
    "print(d3[True])"
   ]
  },
  {
   "cell_type": "code",
   "execution_count": 6,
   "id": "b2f69aa9",
   "metadata": {},
   "outputs": [
    {
     "ename": "TypeError",
     "evalue": "unhashable type: 'list'",
     "output_type": "error",
     "traceback": [
      "\u001b[1;31m---------------------------------------------------------------------------\u001b[0m",
      "\u001b[1;31mTypeError\u001b[0m                                 Traceback (most recent call last)",
      "\u001b[1;32m~\\AppData\\Local\\Temp\\ipykernel_26644\\3159302312.py\u001b[0m in \u001b[0;36m<module>\u001b[1;34m\u001b[0m\n\u001b[1;32m----> 1\u001b[1;33m \u001b[0md3\u001b[0m\u001b[1;33m[\u001b[0m\u001b[1;33m[\u001b[0m\u001b[1;36m3\u001b[0m\u001b[1;33m,\u001b[0m\u001b[1;36m4\u001b[0m\u001b[1;33m,\u001b[0m\u001b[1;36m5\u001b[0m\u001b[1;33m,\u001b[0m\u001b[1;36m2\u001b[0m\u001b[1;33m]\u001b[0m\u001b[1;33m]\u001b[0m \u001b[1;33m=\u001b[0m \u001b[1;34m\"list\"\u001b[0m\u001b[1;33m\u001b[0m\u001b[1;33m\u001b[0m\u001b[0m\n\u001b[0m",
      "\u001b[1;31mTypeError\u001b[0m: unhashable type: 'list'"
     ]
    }
   ],
   "source": [
    "d3[[3,4,5,2]] = \"list\""
   ]
  },
  {
   "cell_type": "code",
   "execution_count": 7,
   "id": "0297b551",
   "metadata": {},
   "outputs": [
    {
     "ename": "TypeError",
     "evalue": "unhashable type: 'dict'",
     "output_type": "error",
     "traceback": [
      "\u001b[1;31m---------------------------------------------------------------------------\u001b[0m",
      "\u001b[1;31mTypeError\u001b[0m                                 Traceback (most recent call last)",
      "\u001b[1;32m~\\AppData\\Local\\Temp\\ipykernel_26644\\1076117762.py\u001b[0m in \u001b[0;36m<module>\u001b[1;34m\u001b[0m\n\u001b[1;32m----> 1\u001b[1;33m \u001b[0md3\u001b[0m\u001b[1;33m[\u001b[0m\u001b[1;33m{\u001b[0m\u001b[1;36m2\u001b[0m\u001b[1;33m:\u001b[0m\u001b[1;36m4\u001b[0m\u001b[1;33m}\u001b[0m\u001b[1;33m]\u001b[0m \u001b[1;33m=\u001b[0m \u001b[1;36m9\u001b[0m\u001b[1;33m\u001b[0m\u001b[1;33m\u001b[0m\u001b[0m\n\u001b[0m",
      "\u001b[1;31mTypeError\u001b[0m: unhashable type: 'dict'"
     ]
    }
   ],
   "source": [
    "d3[{2:4}] = 9"
   ]
  },
  {
   "cell_type": "code",
   "execution_count": 8,
   "id": "fa7a2c7f",
   "metadata": {},
   "outputs": [
    {
     "ename": "TypeError",
     "evalue": "unhashable type: 'set'",
     "output_type": "error",
     "traceback": [
      "\u001b[1;31m---------------------------------------------------------------------------\u001b[0m",
      "\u001b[1;31mTypeError\u001b[0m                                 Traceback (most recent call last)",
      "\u001b[1;32m~\\AppData\\Local\\Temp\\ipykernel_26644\\595939113.py\u001b[0m in \u001b[0;36m<module>\u001b[1;34m\u001b[0m\n\u001b[1;32m----> 1\u001b[1;33m \u001b[0md3\u001b[0m\u001b[1;33m[\u001b[0m\u001b[1;33m{\u001b[0m\u001b[1;36m2\u001b[0m\u001b[1;33m,\u001b[0m\u001b[1;36m4\u001b[0m\u001b[1;33m}\u001b[0m\u001b[1;33m]\u001b[0m \u001b[1;33m=\u001b[0m \u001b[1;36m9\u001b[0m\u001b[1;33m\u001b[0m\u001b[1;33m\u001b[0m\u001b[0m\n\u001b[0m",
      "\u001b[1;31mTypeError\u001b[0m: unhashable type: 'set'"
     ]
    }
   ],
   "source": [
    "d3[{2,4}] = 9"
   ]
  },
  {
   "cell_type": "markdown",
   "id": "396ca030",
   "metadata": {},
   "source": [
    "---"
   ]
  },
  {
   "cell_type": "markdown",
   "id": "6ce35c76",
   "metadata": {},
   "source": [
    "# Value \n",
    "* can be anything integer , string , bool , list , tuple , set , dicitonary"
   ]
  },
  {
   "cell_type": "code",
   "execution_count": 9,
   "id": "d716ce50",
   "metadata": {},
   "outputs": [
    {
     "data": {
      "text/plain": [
       "{'integer': 2,\n",
       " 'string': 'Darshan',\n",
       " 'boolean': True,\n",
       " 'list': [3, 4, 6, 1],\n",
       " 'tuple': (5, 7, 2),\n",
       " 'set': {1, 2, 5},\n",
       " 'dictonary': {'name': 'darshan', 'age': 18}}"
      ]
     },
     "execution_count": 9,
     "metadata": {},
     "output_type": "execute_result"
    }
   ],
   "source": [
    "d4 = {'integer': 2 , 'string' : \"Darshan\", \"boolean\":True , \"list\" : [3,4,6,1],\"tuple\":(5,7,2),\"set\":{2,5,2,1,2},\"dictonary\":{\"name\":\"darshan\",\"age\":18}}\n",
    "d4"
   ]
  },
  {
   "cell_type": "code",
   "execution_count": 10,
   "id": "db467b06",
   "metadata": {},
   "outputs": [
    {
     "name": "stdout",
     "output_type": "stream",
     "text": [
      "integer  :  2\n",
      " ->  <class 'int'>\n",
      "\n",
      "string  :  Darshan\n",
      " ->  <class 'str'>\n",
      "\n",
      "boolean  :  True\n",
      " ->  <class 'bool'>\n",
      "\n",
      "list  :  [3, 4, 6, 1]\n",
      " ->  <class 'list'>\n",
      "\n",
      "tuple  :  (5, 7, 2)\n",
      " ->  <class 'tuple'>\n",
      "\n",
      "set  :  {1, 2, 5}\n",
      " ->  <class 'set'>\n",
      "\n",
      "dictonary  :  {'name': 'darshan', 'age': 18}\n",
      " ->  <class 'dict'>\n",
      "\n"
     ]
    }
   ],
   "source": [
    "for i in d4 :\n",
    "    print(i , \" : \" ,d4[i])\n",
    "    print(\" -> \", type(d4[i]))\n",
    "    print()"
   ]
  },
  {
   "cell_type": "code",
   "execution_count": 11,
   "id": "73e872ac",
   "metadata": {},
   "outputs": [
    {
     "data": {
      "text/plain": [
       "'darshan'"
      ]
     },
     "execution_count": 11,
     "metadata": {},
     "output_type": "execute_result"
    }
   ],
   "source": [
    "d4['dictonary']['name']"
   ]
  },
  {
   "cell_type": "code",
   "execution_count": 12,
   "id": "ac168f5e",
   "metadata": {},
   "outputs": [
    {
     "data": {
      "text/plain": [
       "{'integer': 2,\n",
       " 'boolean': True,\n",
       " 'list': [3, 4, 6, 1],\n",
       " 'tuple': (5, 7, 2),\n",
       " 'set': {1, 2, 5},\n",
       " 'dictonary': {'name': 'darshan', 'age': 18}}"
      ]
     },
     "execution_count": 12,
     "metadata": {},
     "output_type": "execute_result"
    }
   ],
   "source": [
    "del d4['string']\n",
    "d4"
   ]
  },
  {
   "cell_type": "markdown",
   "id": "97470751",
   "metadata": {},
   "source": [
    "---"
   ]
  },
  {
   "cell_type": "markdown",
   "id": "62f7eaeb",
   "metadata": {},
   "source": [
    "# Dictionary function\n",
    "1. clear - var.clear()\n",
    "<br><br>\n",
    "2. keys - var.keys()\n",
    "3. values - var.values()\n",
    "4. items - var.items() [returns key and value in form of **list of tuples**]\n",
    "<br><br>\n",
    "5. pop - var.pop(key)\n",
    "6. dict - d.fromkeys((),())\n",
    "7. update - d1.update(d2) [updates only d1]\n",
    "<br><br>\n",
    "8. access - d[key] [Gives **error** if the key is not present in the dictionary]\n",
    "9. get - d.get(key) [To **avoid error** will accessing value that is not there in dictionary] "
   ]
  },
  {
   "cell_type": "code",
   "execution_count": 13,
   "id": "7a6291fa",
   "metadata": {},
   "outputs": [
    {
     "data": {
      "text/plain": [
       "{}"
      ]
     },
     "execution_count": 13,
     "metadata": {},
     "output_type": "execute_result"
    }
   ],
   "source": [
    "d4.clear()\n",
    "d4"
   ]
  },
  {
   "cell_type": "code",
   "execution_count": 14,
   "id": "5a9e5902",
   "metadata": {},
   "outputs": [
    {
     "name": "stdout",
     "output_type": "stream",
     "text": [
      "{'integer': 2, 'string': 'Darshan', 'boolean': True, 'list': [3, 4, 6, 1], 'tuple': (5, 7, 2), 'set': {1, 2, 5}, 'dictonary': {'name': 'darshan', 'age': 18}}\n",
      "\n",
      "Type : <class 'dict'>\n",
      "\n",
      "Length : 7\n"
     ]
    }
   ],
   "source": [
    "d = {'integer': 2 , 'string' : \"Darshan\", \"boolean\":True , \"list\" : [3,4,6,1],\"tuple\":(5,7,2),\"set\":{2,5,2,1,2},\"dictonary\":{\"name\":\"darshan\",\"age\":18}}\n",
    "print(d)\n",
    "print()\n",
    "print(\"Type :\",type(d))\n",
    "print()\n",
    "print(\"Length :\",len(d))"
   ]
  },
  {
   "cell_type": "code",
   "execution_count": 15,
   "id": "dc985e27",
   "metadata": {},
   "outputs": [
    {
     "name": "stdout",
     "output_type": "stream",
     "text": [
      "dict_keys(['integer', 'string', 'boolean', 'list', 'tuple', 'set', 'dictonary'])\n",
      "------------------------------\n",
      "['integer', 'string', 'boolean', 'list', 'tuple', 'set', 'dictonary']\n"
     ]
    }
   ],
   "source": [
    "print(d.keys())\n",
    "print('-'.center(30,'-'))\n",
    "print(list(d.keys()))"
   ]
  },
  {
   "cell_type": "code",
   "execution_count": 16,
   "id": "0445d0aa",
   "metadata": {},
   "outputs": [
    {
     "name": "stdout",
     "output_type": "stream",
     "text": [
      "dict_values([2, 'Darshan', True, [3, 4, 6, 1], (5, 7, 2), {1, 2, 5}, {'name': 'darshan', 'age': 18}])\n",
      "------------------------------\n",
      "[2, 'Darshan', True, [3, 4, 6, 1], (5, 7, 2), {1, 2, 5}, {'name': 'darshan', 'age': 18}]\n"
     ]
    }
   ],
   "source": [
    "print(d.values())\n",
    "print('-'.center(30,'-'))\n",
    "print(list(d.values()))"
   ]
  },
  {
   "cell_type": "code",
   "execution_count": 17,
   "id": "05eaf287",
   "metadata": {},
   "outputs": [
    {
     "data": {
      "text/plain": [
       "[('integer', 2),\n",
       " ('string', 'Darshan'),\n",
       " ('boolean', True),\n",
       " ('list', [3, 4, 6, 1]),\n",
       " ('tuple', (5, 7, 2)),\n",
       " ('set', {1, 2, 5}),\n",
       " ('dictonary', {'name': 'darshan', 'age': 18})]"
      ]
     },
     "execution_count": 17,
     "metadata": {},
     "output_type": "execute_result"
    }
   ],
   "source": [
    "list(d.items())"
   ]
  },
  {
   "cell_type": "code",
   "execution_count": 18,
   "id": "5725f2e0",
   "metadata": {},
   "outputs": [
    {
     "data": {
      "text/plain": [
       "'Darshan'"
      ]
     },
     "execution_count": 18,
     "metadata": {},
     "output_type": "execute_result"
    }
   ],
   "source": [
    "# Need an arguement for pop\n",
    "d.pop('string')"
   ]
  },
  {
   "cell_type": "code",
   "execution_count": 19,
   "id": "27c2cf0d",
   "metadata": {},
   "outputs": [
    {
     "ename": "NameError",
     "evalue": "name 'd11' is not defined",
     "output_type": "error",
     "traceback": [
      "\u001b[1;31m---------------------------------------------------------------------------\u001b[0m",
      "\u001b[1;31mNameError\u001b[0m                                 Traceback (most recent call last)",
      "\u001b[1;32m~\\AppData\\Local\\Temp\\ipykernel_26644\\4147033389.py\u001b[0m in \u001b[0;36m<module>\u001b[1;34m\u001b[0m\n\u001b[1;32m----> 1\u001b[1;33m \u001b[0md11\u001b[0m\u001b[1;33m.\u001b[0m\u001b[0mfromkeys\u001b[0m\u001b[1;33m(\u001b[0m\u001b[1;33m(\u001b[0m\u001b[1;36m1\u001b[0m\u001b[1;33m,\u001b[0m\u001b[1;36m2\u001b[0m\u001b[1;33m,\u001b[0m\u001b[1;36m3\u001b[0m\u001b[1;33m)\u001b[0m \u001b[1;33m,\u001b[0m \u001b[1;33m(\u001b[0m\u001b[1;34m'a'\u001b[0m\u001b[1;33m,\u001b[0m\u001b[1;34m'b'\u001b[0m\u001b[1;33m,\u001b[0m\u001b[1;34m'c'\u001b[0m\u001b[1;33m)\u001b[0m\u001b[1;33m)\u001b[0m\u001b[1;33m\u001b[0m\u001b[1;33m\u001b[0m\u001b[0m\n\u001b[0m",
      "\u001b[1;31mNameError\u001b[0m: name 'd11' is not defined"
     ]
    }
   ],
   "source": [
    "d11.fromkeys((1,2,3) , ('a','b','c'))"
   ]
  },
  {
   "cell_type": "code",
   "execution_count": 20,
   "id": "05a97153",
   "metadata": {},
   "outputs": [
    {
     "name": "stdout",
     "output_type": "stream",
     "text": [
      "{'key1': 'value', 'key2': 'value2'}\n",
      "{'key3': 'value3', 'key4': 'value4'}\n",
      "------------------------------\n",
      "{'key1': 'value', 'key2': 'value2', 'key3': 'value3', 'key4': 'value4'}\n",
      "{'key3': 'value3', 'key4': 'value4'}\n"
     ]
    }
   ],
   "source": [
    "d9 = {\"key1\" : \"value\" , \"key2\" : \"value2\"}\n",
    "d10 = {\"key3\" : \"value3\" , \"key4\" :\"value4\"}\n",
    "print(d9)\n",
    "print(d10)\n",
    "print('-'.center(30,'-'))\n",
    "d9.update(d10)\n",
    "print(d9)\n",
    "print(d10)"
   ]
  },
  {
   "cell_type": "code",
   "execution_count": 21,
   "id": "09585c51",
   "metadata": {},
   "outputs": [
    {
     "name": "stdout",
     "output_type": "stream",
     "text": [
      "value\n",
      "None\n"
     ]
    },
    {
     "ename": "KeyError",
     "evalue": "'key5'",
     "output_type": "error",
     "traceback": [
      "\u001b[1;31m---------------------------------------------------------------------------\u001b[0m",
      "\u001b[1;31mKeyError\u001b[0m                                  Traceback (most recent call last)",
      "\u001b[1;32m~\\AppData\\Local\\Temp\\ipykernel_26644\\356841150.py\u001b[0m in \u001b[0;36m<module>\u001b[1;34m\u001b[0m\n\u001b[0;32m      1\u001b[0m \u001b[0mprint\u001b[0m\u001b[1;33m(\u001b[0m\u001b[0md9\u001b[0m\u001b[1;33m.\u001b[0m\u001b[0mget\u001b[0m\u001b[1;33m(\u001b[0m\u001b[1;34m'key1'\u001b[0m\u001b[1;33m)\u001b[0m\u001b[1;33m)\u001b[0m\u001b[1;33m\u001b[0m\u001b[1;33m\u001b[0m\u001b[0m\n\u001b[0;32m      2\u001b[0m \u001b[0mprint\u001b[0m\u001b[1;33m(\u001b[0m\u001b[0md9\u001b[0m\u001b[1;33m.\u001b[0m\u001b[0mget\u001b[0m\u001b[1;33m(\u001b[0m\u001b[1;34m'key5'\u001b[0m\u001b[1;33m)\u001b[0m\u001b[1;33m)\u001b[0m\u001b[1;33m\u001b[0m\u001b[1;33m\u001b[0m\u001b[0m\n\u001b[1;32m----> 3\u001b[1;33m \u001b[0mprint\u001b[0m\u001b[1;33m(\u001b[0m\u001b[0md9\u001b[0m\u001b[1;33m[\u001b[0m\u001b[1;34m'key5'\u001b[0m\u001b[1;33m]\u001b[0m\u001b[1;33m)\u001b[0m\u001b[1;33m\u001b[0m\u001b[1;33m\u001b[0m\u001b[0m\n\u001b[0m",
      "\u001b[1;31mKeyError\u001b[0m: 'key5'"
     ]
    }
   ],
   "source": [
    "print(d9.get('key1'))\n",
    "print(d9.get('key5'))\n",
    "print(d9['key5'])"
   ]
  },
  {
   "cell_type": "code",
   "execution_count": 22,
   "id": "de232ec2",
   "metadata": {},
   "outputs": [
    {
     "data": {
      "text/plain": [
       "False"
      ]
     },
     "execution_count": 22,
     "metadata": {},
     "output_type": "execute_result"
    }
   ],
   "source": [
    "'key5' in d9"
   ]
  },
  {
   "cell_type": "markdown",
   "id": "0c8384a2",
   "metadata": {},
   "source": [
    "---\n",
    "# Dictionary Comprehension"
   ]
  },
  {
   "cell_type": "code",
   "execution_count": 23,
   "id": "563455f8",
   "metadata": {},
   "outputs": [
    {
     "name": "stdout",
     "output_type": "stream",
     "text": [
      "{1: 1, 2: 8, 3: 27, 4: 64, 5: 125, 6: 216, 7: 343, 8: 512, 9: 729, 10: 1000}\n",
      "------------------------------\n",
      "1 1\n",
      "2 8\n",
      "3 27\n",
      "4 64\n",
      "5 125\n",
      "6 216\n",
      "7 343\n",
      "8 512\n",
      "9 729\n",
      "10 1000\n",
      "------------------------------\n",
      "1 1\n",
      "2 8\n",
      "3 27\n",
      "4 64\n",
      "5 125\n",
      "6 216\n",
      "7 343\n",
      "8 512\n",
      "9 729\n",
      "10 1000\n"
     ]
    }
   ],
   "source": [
    "# Create a dictionary with key as number from 1 to 10 and the value as the cube of that corresponding number\n",
    "cub = {i:i**3 for i in range (1,11) }\n",
    "print(cub)\n",
    "\n",
    "print('-'.center(30,'-'))\n",
    "for key , value in cub.items():\n",
    "    print(key , value)\n",
    "    \n",
    "print('-'.center(30,'-'))\n",
    "for key in cub.keys():\n",
    "    print(key,cub[key])"
   ]
  },
  {
   "cell_type": "code",
   "execution_count": 24,
   "id": "3f5682fe",
   "metadata": {},
   "outputs": [
    {
     "name": "stdout",
     "output_type": "stream",
     "text": [
      "{1: 0.0, 2: 0.3010299956639812, 3: 0.47712125471966244, 4: 0.6020599913279624, 5: 0.6989700043360189, 6: 0.7781512503836436, 7: 0.8450980400142568, 8: 0.9030899869919435, 9: 0.9542425094393249, 10: 1.0}\n",
      "------------------------------\n",
      "0.3010299956639812\n",
      "0.6020599913279624\n",
      "0.7781512503836436\n",
      "0.9030899869919435\n",
      "1.0\n"
     ]
    }
   ],
   "source": [
    "import math\n",
    "d21 = {i :math.log10(i) for i in range(1,11)}\n",
    "print(d21)\n",
    "\n",
    "# give the value of the even key \n",
    "print('-'.center(30,'-'))\n",
    "for key in d21:\n",
    "    if key%2==0:\n",
    "        print(d21[key])"
   ]
  },
  {
   "cell_type": "markdown",
   "id": "e1406844",
   "metadata": {},
   "source": [
    "---"
   ]
  },
  {
   "cell_type": "markdown",
   "id": "50c31e86",
   "metadata": {},
   "source": [
    "### = (Equal)"
   ]
  },
  {
   "cell_type": "code",
   "execution_count": 25,
   "id": "f214febf",
   "metadata": {},
   "outputs": [],
   "source": [
    "d4 = {'dictonary': {'name': 'darshan', 'age': 18}}\n",
    "d5 = d4 "
   ]
  },
  {
   "cell_type": "code",
   "execution_count": 26,
   "id": "563eb901",
   "metadata": {},
   "outputs": [
    {
     "name": "stdout",
     "output_type": "stream",
     "text": [
      "{'dictonary': {'name': 'darshan', 'age': 18}}\n",
      "{'dictonary': {'name': 'darshan', 'age': 18}}\n"
     ]
    }
   ],
   "source": [
    "print(d4)\n",
    "print(d5)"
   ]
  },
  {
   "cell_type": "code",
   "execution_count": 27,
   "id": "e1dc924c",
   "metadata": {},
   "outputs": [
    {
     "name": "stdout",
     "output_type": "stream",
     "text": [
      "{'dictonary': {'name': 'darshan', 'age': 18}, 'age': 20}\n",
      "{'dictonary': {'name': 'darshan', 'age': 18}, 'age': 20}\n"
     ]
    }
   ],
   "source": [
    "d4['age'] = 20\n",
    "print(d4)\n",
    "print(d5)"
   ]
  },
  {
   "cell_type": "markdown",
   "id": "177de0b2",
   "metadata": {},
   "source": [
    "---\n",
    "# Modification in collections type values."
   ]
  },
  {
   "cell_type": "markdown",
   "id": "fad4f38b",
   "metadata": {},
   "source": [
    "## Shallow copy "
   ]
  },
  {
   "cell_type": "code",
   "execution_count": 28,
   "id": "719dca32",
   "metadata": {},
   "outputs": [
    {
     "name": "stdout",
     "output_type": "stream",
     "text": [
      "{'dictonary': {'name': 'darshan', 'age': 18}}\n",
      "{'dictonary': {'name': 'darshan', 'age': 18}}\n",
      "------------------------------\n",
      "{'dictonary': {'name': 'darshan', 'age': 18}, 'diamond': 'ruby'}\n",
      "{'dictonary': {'name': 'darshan', 'age': 18}}\n"
     ]
    }
   ],
   "source": [
    "d4 = {'dictonary': {'name': 'darshan', 'age': 18}}\n",
    "d5 = d4.copy()\n",
    "print(d4)\n",
    "print(d5)\n",
    "print('-'.center(30,'-'))\n",
    "d4['diamond'] = 'ruby'\n",
    "print(d4)\n",
    "print(d5)"
   ]
  },
  {
   "cell_type": "code",
   "execution_count": 29,
   "id": "ea7cfd4a",
   "metadata": {
    "scrolled": true
   },
   "outputs": [
    {
     "name": "stdout",
     "output_type": "stream",
     "text": [
      "{'dictonary': {'name': 'darshan', 'age': 18}}\n",
      "{'dictonary': {'name': 'darshan', 'age': 18}}\n",
      "------------------------------\n",
      "{'dictonary': {'name': 'krish', 'age': 18}}\n",
      "{'dictonary': {'name': 'krish', 'age': 18}}\n"
     ]
    }
   ],
   "source": [
    "d4 = {'dictonary': {'name': 'darshan', 'age': 18}}\n",
    "d5 = d4.copy()\n",
    "print(d4)\n",
    "print(d5)\n",
    "print('-'.center(30,'-'))\n",
    "d4['dictonary']['name'] = 'krish'\n",
    "print(d4)\n",
    "print(d5)"
   ]
  },
  {
   "cell_type": "markdown",
   "id": "4f50f364",
   "metadata": {},
   "source": [
    "## Deep copy"
   ]
  },
  {
   "cell_type": "code",
   "execution_count": 30,
   "id": "400e6a8e",
   "metadata": {},
   "outputs": [
    {
     "name": "stdout",
     "output_type": "stream",
     "text": [
      "{'dictonary': {'name': 'darshan', 'age': 18}}\n",
      "{'dictonary': {'name': 'darshan', 'age': 18}}\n",
      "------------------------------\n",
      "{'dictonary': {'name': 'krish', 'age': 18}}\n",
      "{'dictonary': {'name': 'darshan', 'age': 18}}\n"
     ]
    }
   ],
   "source": [
    "d4 = {'dictonary': {'name': 'darshan', 'age': 18}}\n",
    "import copy\n",
    "d6 = copy.deepcopy(d4)\n",
    "print(d4)\n",
    "print(d6)\n",
    "print('-'.center(30,'-'))\n",
    "d4['dictonary']['name'] = 'krish'\n",
    "print(d4)\n",
    "print(d6)"
   ]
  },
  {
   "cell_type": "markdown",
   "id": "cfc2634f",
   "metadata": {},
   "source": [
    "---"
   ]
  }
 ],
 "metadata": {
  "kernelspec": {
   "display_name": "Python 3 (ipykernel)",
   "language": "python",
   "name": "python3"
  },
  "language_info": {
   "codemirror_mode": {
    "name": "ipython",
    "version": 3
   },
   "file_extension": ".py",
   "mimetype": "text/x-python",
   "name": "python",
   "nbconvert_exporter": "python",
   "pygments_lexer": "ipython3",
   "version": "3.9.13"
  }
 },
 "nbformat": 4,
 "nbformat_minor": 5
}
