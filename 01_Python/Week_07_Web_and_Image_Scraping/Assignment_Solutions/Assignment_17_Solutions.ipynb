{
 "cells": [
  {
   "cell_type": "markdown",
   "id": "f148963a",
   "metadata": {},
   "source": [
    "# <font color = 'orange'> Assignment 17 solutions"
   ]
  },
  {
   "cell_type": "markdown",
   "id": "045f1bf7",
   "metadata": {},
   "source": [
    "---"
   ]
  },
  {
   "cell_type": "markdown",
   "id": "b96af371",
   "metadata": {},
   "source": [
    "### Go to this given URL and solve the following questions\n",
    "URL: https://www.youtube.com/@PW-Foundation/videos\n",
    "\n",
    "1. Write a python program to extract the video **URL** of the first five videos.\n",
    "\n",
    "2. Write a python program to extract the URL of the video **thumbnails** of the first five videos.\n",
    "\n",
    "3. Write a python program to extract the **title** of the first five videos.\n",
    "\n",
    "4. Write a python program to extract the **number of views** of the first five videos.\n",
    "\n",
    "5. Write a python program to extract the **time of posting of video** for the first five videos.\n",
    "\n",
    "* Create a **simple UI** with all functionalities mentioned above and deploy it in AWS.\n",
    "#### Note: Save all the data scraped in the above questions in a CSV file\n",
    "#### Note:  Create your assignment in Jupyter notebook and upload it to GitHub & share that uploaded assignment file link through your dashboard. Make sure the repository is public. Submit your deployment link as well."
   ]
  },
  {
   "cell_type": "markdown",
   "id": "f89de3c2",
   "metadata": {},
   "source": [
    "## Answer notebook link : "
   ]
  },
  {
   "cell_type": "markdown",
   "id": "85e35050",
   "metadata": {},
   "source": [
    "---"
   ]
  }
 ],
 "metadata": {
  "kernelspec": {
   "display_name": "Python 3 (ipykernel)",
   "language": "python",
   "name": "python3"
  },
  "language_info": {
   "codemirror_mode": {
    "name": "ipython",
    "version": 3
   },
   "file_extension": ".py",
   "mimetype": "text/x-python",
   "name": "python",
   "nbconvert_exporter": "python",
   "pygments_lexer": "ipython3",
   "version": "3.9.13"
  }
 },
 "nbformat": 4,
 "nbformat_minor": 5
}
