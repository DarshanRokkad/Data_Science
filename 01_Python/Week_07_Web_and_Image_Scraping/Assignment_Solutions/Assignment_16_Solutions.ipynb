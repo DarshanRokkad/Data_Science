{
 "cells": [
  {
   "cell_type": "markdown",
   "id": "700fd4ce",
   "metadata": {},
   "source": [
    "# <font color = 'orange'> Assignment 16 solutions"
   ]
  },
  {
   "cell_type": "markdown",
   "id": "bce777e2",
   "metadata": {},
   "source": [
    "---"
   ]
  },
  {
   "cell_type": "markdown",
   "id": "844d0383",
   "metadata": {},
   "source": [
    "### Q1. What is Web Scraping? Why is it Used? Give three areas where Web Scraping is used to get data."
   ]
  },
  {
   "cell_type": "markdown",
   "id": "9283cfc6",
   "metadata": {},
   "source": [
    "#### Web scraping is the automated process of extracting information from websites then parse it then store it somewhere.\n",
    "#### Web scraping is used to get data from some website and also for research and analysics.\n",
    "#### Areas : Job portal research , Ecommerce price monitering and stock market price monitering. "
   ]
  },
  {
   "cell_type": "markdown",
   "id": "491db76b",
   "metadata": {},
   "source": [
    "---"
   ]
  },
  {
   "cell_type": "markdown",
   "id": "b894f495",
   "metadata": {},
   "source": [
    "### Q2. What are the different methods used for Web Scraping?"
   ]
  },
  {
   "cell_type": "markdown",
   "id": "a5950a72",
   "metadata": {},
   "source": [
    "1. Manual copy paste.\n",
    "2. Text pattern matching. \n",
    "3. HTML parsing.\n",
    "4. API's.\n",
    "5. Webscraping Framework.\n",
    "6. Machine learning techniques."
   ]
  },
  {
   "cell_type": "markdown",
   "id": "a0ae6396",
   "metadata": {},
   "source": [
    "---"
   ]
  },
  {
   "cell_type": "markdown",
   "id": "a0376348",
   "metadata": {},
   "source": [
    "### Q3. What is Beautiful Soup? Why is it used?"
   ]
  },
  {
   "cell_type": "markdown",
   "id": "0f5b96c5",
   "metadata": {},
   "source": [
    "#### Beautiful Soup is a Python library that is commonly used for web scraping tasks. It provides tools for parsing HTML and XML documents, navigating through their structure, and extracting data from them in a structured and easy-to-use manner. \n",
    "#### Beautiful Soup is used for HTML prasing , data extraction , web scraping , data cleaning , compatiability."
   ]
  },
  {
   "cell_type": "markdown",
   "id": "249ef79a",
   "metadata": {},
   "source": [
    "---"
   ]
  },
  {
   "cell_type": "markdown",
   "id": "31ab5627",
   "metadata": {},
   "source": [
    "### Q4. Why is flask used in this Web Scraping project?"
   ]
  },
  {
   "cell_type": "markdown",
   "id": "67d519f4",
   "metadata": {},
   "source": [
    "#### Flask is used for Web development , API development , data presentation , error handling , logging , Data integration."
   ]
  },
  {
   "cell_type": "markdown",
   "id": "f56112ed",
   "metadata": {},
   "source": [
    "---"
   ]
  },
  {
   "cell_type": "markdown",
   "id": "bcee5bd0",
   "metadata": {},
   "source": [
    "### Q5. Write the names of AWS services used in this project. Also, explain the use of each service."
   ]
  },
  {
   "cell_type": "markdown",
   "id": "861c830f",
   "metadata": {},
   "source": [
    "#### We have used Elastic beanstalk and Code pipeline AWS services in our project. \n",
    "\n",
    "#### Use of Elastic Beanstalk :\n",
    "* Elastic Beanstalk is a Platform-as-a-Service (PaaS) offering that simplifies the deployment and management of web applications. It allows you to easily deploy web applications and services without dealing with the underlying infrastructure.\n",
    "* In our project we hosted our Flask application into Elastic beanstalk environment which handles scaling , load balancing and infrastructure management.\n",
    "\n",
    "#### Use of Code Pipeline :\n",
    "* AWS CodePipeline is a continuous integration and continuous delivery (CI/CD) service that automates the building, testing, and deployment of code changes to various AWS services.\n",
    "* IAM allows us to define roles and permissions for users and applications."
   ]
  },
  {
   "cell_type": "markdown",
   "id": "520b8bd2",
   "metadata": {},
   "source": [
    "---"
   ]
  }
 ],
 "metadata": {
  "kernelspec": {
   "display_name": "Python 3 (ipykernel)",
   "language": "python",
   "name": "python3"
  },
  "language_info": {
   "codemirror_mode": {
    "name": "ipython",
    "version": 3
   },
   "file_extension": ".py",
   "mimetype": "text/x-python",
   "name": "python",
   "nbconvert_exporter": "python",
   "pygments_lexer": "ipython3",
   "version": "3.9.13"
  }
 },
 "nbformat": 4,
 "nbformat_minor": 5
}
