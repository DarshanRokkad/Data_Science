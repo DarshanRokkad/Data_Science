{
 "cells": [
  {
   "cell_type": "markdown",
   "id": "93839715",
   "metadata": {},
   "source": [
    "# <font color = 'orange'> Working with files"
   ]
  },
  {
   "cell_type": "markdown",
   "id": "2ebd0850",
   "metadata": {},
   "source": [
    "---"
   ]
  },
  {
   "cell_type": "code",
   "execution_count": 1,
   "id": "5fde5387",
   "metadata": {},
   "outputs": [],
   "source": [
    "f = open('01_test.txt','w')"
   ]
  },
  {
   "cell_type": "code",
   "execution_count": 2,
   "id": "75bdf10c",
   "metadata": {},
   "outputs": [
    {
     "data": {
      "text/plain": [
       "34"
      ]
     },
     "execution_count": 2,
     "metadata": {},
     "output_type": "execute_result"
    }
   ],
   "source": [
    "f.write('This is my first write on the file')"
   ]
  },
  {
   "cell_type": "code",
   "execution_count": 3,
   "id": "1d313a76",
   "metadata": {},
   "outputs": [
    {
     "data": {
      "text/plain": [
       "_io.TextIOWrapper"
      ]
     },
     "execution_count": 3,
     "metadata": {},
     "output_type": "execute_result"
    }
   ],
   "source": [
    "type(f)"
   ]
  },
  {
   "cell_type": "code",
   "execution_count": 4,
   "id": "dbd33945",
   "metadata": {},
   "outputs": [],
   "source": [
    "f.close()"
   ]
  },
  {
   "cell_type": "markdown",
   "id": "c9ac398d",
   "metadata": {},
   "source": [
    "---"
   ]
  },
  {
   "cell_type": "markdown",
   "id": "5679abb8",
   "metadata": {},
   "source": [
    "## Write\n",
    "#### When a write is performed on a file the previous content will get erased and new content will be written if file is exhist before \n",
    "#### else it will create a new file and then write a content to it."
   ]
  },
  {
   "cell_type": "code",
   "execution_count": 5,
   "id": "b2a1543d",
   "metadata": {},
   "outputs": [],
   "source": [
    "f = open('01_test.txt','w')"
   ]
  },
  {
   "cell_type": "code",
   "execution_count": 6,
   "id": "0b6cf1ab",
   "metadata": {},
   "outputs": [
    {
     "data": {
      "text/plain": [
       "766"
      ]
     },
     "execution_count": 6,
     "metadata": {},
     "output_type": "execute_result"
    }
   ],
   "source": [
    "f.write(\"Data Science Masters course is highly curated and uniquely designed according to the latest industry standards. This program instills students the skills essential to knowledge discovery efforts to identify standard, novel, and truly differentiated solutions and decision-making, including skills in managing, querying, analyzing, visualizing, and extracting meaning from extremely large data sets. This trending program provides students with the statistical, mathematical and computational skills needed to meet the large-scale data science challenges of today's professional world. You will learn all the stack required to work in data science industry including cloud infrastructure and real-time industry projects. This course will be taught in Hindi language. \")"
   ]
  },
  {
   "cell_type": "code",
   "execution_count": 7,
   "id": "ca3e4012",
   "metadata": {},
   "outputs": [],
   "source": [
    "f.close()"
   ]
  },
  {
   "cell_type": "markdown",
   "id": "ba224028",
   "metadata": {},
   "source": [
    "---"
   ]
  },
  {
   "cell_type": "markdown",
   "id": "2f5fc457",
   "metadata": {},
   "source": [
    "## Append\n",
    "### When a append to a file then previous exhisting content will be there and new content will be added at the last."
   ]
  },
  {
   "cell_type": "code",
   "execution_count": 8,
   "id": "eab6e6c1",
   "metadata": {},
   "outputs": [],
   "source": [
    "f = open('01_test.txt','a')\n",
    "f.write('\"This is the content added using append\"')\n",
    "f.close()"
   ]
  },
  {
   "cell_type": "markdown",
   "id": "267754cb",
   "metadata": {},
   "source": [
    "---"
   ]
  },
  {
   "cell_type": "markdown",
   "id": "90980b42",
   "metadata": {},
   "source": [
    "## Read\n",
    "### We can read from file only if it is exhisting."
   ]
  },
  {
   "cell_type": "code",
   "execution_count": 9,
   "id": "2da4ef06",
   "metadata": {},
   "outputs": [],
   "source": [
    "f = open('01_test.txt','r')\n",
    "data = f.read()\n",
    "f.close()"
   ]
  },
  {
   "cell_type": "code",
   "execution_count": 10,
   "id": "31ebff1b",
   "metadata": {},
   "outputs": [
    {
     "data": {
      "text/plain": [
       "'Data Science Masters course is highly curated and uniquely designed according to the latest industry standards. This program instills students the skills essential to knowledge discovery efforts to identify standard, novel, and truly differentiated solutions and decision-making, including skills in managing, querying, analyzing, visualizing, and extracting meaning from extremely large data sets. This trending program provides students with the statistical, mathematical and computational skills needed to meet the large-scale data science challenges of today\\'s professional world. You will learn all the stack required to work in data science industry including cloud infrastructure and real-time industry projects. This course will be taught in Hindi language. \"This is the content added using append\"'"
      ]
     },
     "execution_count": 10,
     "metadata": {},
     "output_type": "execute_result"
    }
   ],
   "source": [
    "data"
   ]
  },
  {
   "cell_type": "markdown",
   "id": "088ac84f",
   "metadata": {},
   "source": [
    "---"
   ]
  },
  {
   "cell_type": "code",
   "execution_count": 11,
   "id": "6e26a1b2",
   "metadata": {},
   "outputs": [],
   "source": [
    "f = open('01_test.txt','r')"
   ]
  },
  {
   "cell_type": "code",
   "execution_count": 12,
   "id": "2f7078a6",
   "metadata": {},
   "outputs": [
    {
     "name": "stdout",
     "output_type": "stream",
     "text": [
      "0\n",
      "806\n"
     ]
    }
   ],
   "source": [
    "# the pointer will start from 0th index \n",
    "# and after reading it will reach to end of file\n",
    "# f.tell() will give the pointer location \n",
    "print(f.tell())\n",
    "f.read()\n",
    "print(f.tell())"
   ]
  },
  {
   "cell_type": "code",
   "execution_count": 13,
   "id": "846b397e",
   "metadata": {},
   "outputs": [
    {
     "data": {
      "text/plain": [
       "''"
      ]
     },
     "execution_count": 13,
     "metadata": {},
     "output_type": "execute_result"
    }
   ],
   "source": [
    "# So as the pointer is at end it will not have anything to read\n",
    "f.read()"
   ]
  },
  {
   "cell_type": "code",
   "execution_count": 14,
   "id": "a12a51b5",
   "metadata": {},
   "outputs": [
    {
     "name": "stdout",
     "output_type": "stream",
     "text": [
      "806\n",
      "2\n"
     ]
    }
   ],
   "source": [
    "# Now , we can bring pointer to certian index using seek and we can read from there\n",
    "# we can place cursor at any place\n",
    "print(f.tell())\n",
    "f.seek(2)\n",
    "print(f.tell())"
   ]
  },
  {
   "cell_type": "code",
   "execution_count": 15,
   "id": "47e55890",
   "metadata": {},
   "outputs": [
    {
     "data": {
      "text/plain": [
       "'ta Science Masters course is highly curated and uniquely designed according to the latest industry standards. This program instills students the skills essential to knowledge discovery efforts to identify standard, novel, and truly differentiated solutions and decision-making, including skills in managing, querying, analyzing, visualizing, and extracting meaning from extremely large data sets. This trending program provides students with the statistical, mathematical and computational skills needed to meet the large-scale data science challenges of today\\'s professional world. You will learn all the stack required to work in data science industry including cloud infrastructure and real-time industry projects. This course will be taught in Hindi language. \"This is the content added using append\"'"
      ]
     },
     "execution_count": 15,
     "metadata": {},
     "output_type": "execute_result"
    }
   ],
   "source": [
    "f.read()"
   ]
  },
  {
   "cell_type": "code",
   "execution_count": 16,
   "id": "98ff4756",
   "metadata": {},
   "outputs": [],
   "source": [
    "f.close()"
   ]
  },
  {
   "cell_type": "markdown",
   "id": "c41b4e70",
   "metadata": {},
   "source": [
    "---"
   ]
  },
  {
   "cell_type": "code",
   "execution_count": 17,
   "id": "faea5c19",
   "metadata": {},
   "outputs": [
    {
     "name": "stdout",
     "output_type": "stream",
     "text": [
      "Data Science Masters course is highly curated and uniquely designed according to the latest industry standards. This program instills students the skills essential to knowledge discovery efforts to identify standard, novel, and truly differentiated solutions and decision-making, including skills in managing, querying, analyzing, visualizing, and extracting meaning from extremely large data sets. This trending program provides students with the statistical, mathematical and computational skills needed to meet the large-scale data science challenges of today's professional world. You will learn all the stack required to work in data science industry including cloud infrastructure and real-time industry projects. This course will be taught in Hindi language. \"This is the content added using append\"\n"
     ]
    }
   ],
   "source": [
    "f = open('01_test.txt','r')\n",
    "\n",
    "# we can read character by character\n",
    "for i in f:\n",
    "    print(i)\n",
    "    \n",
    "f.close()"
   ]
  },
  {
   "cell_type": "markdown",
   "id": "9f750aab",
   "metadata": {},
   "source": [
    "---"
   ]
  },
  {
   "cell_type": "markdown",
   "id": "2f7e8829",
   "metadata": {},
   "source": [
    "## File size\n",
    "### We can know the size of the file "
   ]
  },
  {
   "cell_type": "code",
   "execution_count": 18,
   "id": "c18673d5",
   "metadata": {},
   "outputs": [
    {
     "name": "stdout",
     "output_type": "stream",
     "text": [
      "File size 806 bytes.\n"
     ]
    }
   ],
   "source": [
    "import os \n",
    "\n",
    "print('File size {} bytes.'.format(os.path.getsize('01_test.txt')))"
   ]
  },
  {
   "cell_type": "markdown",
   "id": "3ec69286",
   "metadata": {},
   "source": [
    "---"
   ]
  },
  {
   "cell_type": "markdown",
   "id": "b45d19e6",
   "metadata": {},
   "source": [
    "## Copy file\n",
    "### We can copy one file to another file  "
   ]
  },
  {
   "cell_type": "code",
   "execution_count": 19,
   "id": "1bb4df41",
   "metadata": {},
   "outputs": [
    {
     "data": {
      "text/plain": [
       "'01_test_copy.txt'"
      ]
     },
     "execution_count": 19,
     "metadata": {},
     "output_type": "execute_result"
    }
   ],
   "source": [
    "import shutil\n",
    "shutil.copy('01_test.txt','01_test_copy.txt')"
   ]
  },
  {
   "cell_type": "markdown",
   "id": "2e6ff5d3",
   "metadata": {},
   "source": [
    "---"
   ]
  },
  {
   "cell_type": "markdown",
   "id": "e0dbb036",
   "metadata": {},
   "source": [
    "## Delete file\n",
    "### We can delete file using os module"
   ]
  },
  {
   "cell_type": "code",
   "execution_count": 20,
   "id": "c3a46399",
   "metadata": {},
   "outputs": [],
   "source": [
    "import os \n",
    "os.remove('01_test_copy.txt')"
   ]
  },
  {
   "cell_type": "markdown",
   "id": "155f64c8",
   "metadata": {},
   "source": [
    "---"
   ]
  },
  {
   "cell_type": "markdown",
   "id": "a45ad6a6",
   "metadata": {},
   "source": [
    "## Another way of using a file\n",
    "### We can use with(filename,mode) as var to use file"
   ]
  },
  {
   "cell_type": "code",
   "execution_count": 21,
   "id": "f7e8d739",
   "metadata": {},
   "outputs": [
    {
     "name": "stdout",
     "output_type": "stream",
     "text": [
      "Data Science Masters course is highly curated and uniquely designed according to the latest industry standards. This program instills students the skills essential to knowledge discovery efforts to identify standard, novel, and truly differentiated solutions and decision-making, including skills in managing, querying, analyzing, visualizing, and extracting meaning from extremely large data sets. This trending program provides students with the statistical, mathematical and computational skills needed to meet the large-scale data science challenges of today's professional world. You will learn all the stack required to work in data science industry including cloud infrastructure and real-time industry projects. This course will be taught in Hindi language. \"This is the content added using append\"\n"
     ]
    }
   ],
   "source": [
    "with open('01_test.txt','r') as f:\n",
    "    data = f.read()\n",
    "print(data)"
   ]
  },
  {
   "cell_type": "markdown",
   "id": "5ca54074",
   "metadata": {},
   "source": [
    "---"
   ]
  },
  {
   "cell_type": "markdown",
   "id": "3f25b85b",
   "metadata": {},
   "source": [
    "## Rename file\n",
    "### We can rename the file using os modules"
   ]
  },
  {
   "cell_type": "code",
   "execution_count": 22,
   "id": "604aad16",
   "metadata": {},
   "outputs": [],
   "source": [
    "import os\n",
    "os.rename('01_test.txt','01_test1.txt')"
   ]
  },
  {
   "cell_type": "markdown",
   "id": "7752415b",
   "metadata": {},
   "source": [
    "---"
   ]
  }
 ],
 "metadata": {
  "kernelspec": {
   "display_name": "Python 3 (ipykernel)",
   "language": "python",
   "name": "python3"
  },
  "language_info": {
   "codemirror_mode": {
    "name": "ipython",
    "version": 3
   },
   "file_extension": ".py",
   "mimetype": "text/x-python",
   "name": "python",
   "nbconvert_exporter": "python",
   "pygments_lexer": "ipython3",
   "version": "3.9.13"
  }
 },
 "nbformat": 4,
 "nbformat_minor": 5
}
