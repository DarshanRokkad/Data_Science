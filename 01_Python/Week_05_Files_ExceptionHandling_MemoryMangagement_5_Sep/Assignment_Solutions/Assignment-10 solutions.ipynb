{
 "cells": [
  {
   "cell_type": "markdown",
   "id": "3f075768",
   "metadata": {},
   "source": [
    "# <font color = 'orange'> Assignment-10 Solutions"
   ]
  },
  {
   "cell_type": "markdown",
   "id": "89588fe9",
   "metadata": {},
   "source": [
    "---"
   ]
  },
  {
   "cell_type": "markdown",
   "id": "43bc0ba8",
   "metadata": {},
   "source": [
    "### Q1. What is multiprocessing in python? Why is it useful? "
   ]
  },
  {
   "cell_type": "markdown",
   "id": "a26ec1e5",
   "metadata": {},
   "source": [
    "#### Multiprocessing is a technique where we allow multiple process to execute concurrenctly.\n",
    "#### it is used to load a large dataset in a chunks fastly , used for parrallel data processing , faster computation. "
   ]
  },
  {
   "cell_type": "markdown",
   "id": "9b337d80",
   "metadata": {},
   "source": [
    "---"
   ]
  },
  {
   "cell_type": "markdown",
   "id": "3ad3d96d",
   "metadata": {},
   "source": [
    "### Q2. What are the differences between multiprocessing and multithreading?\n"
   ]
  },
  {
   "cell_type": "markdown",
   "id": "07275577",
   "metadata": {},
   "source": [
    "####  Multiprocessing runs multiple processes simultaneously within a single thread, where  Multithreading runs multiple threads simultaneously within a single process."
   ]
  },
  {
   "cell_type": "markdown",
   "id": "00b423b6",
   "metadata": {},
   "source": [
    "---"
   ]
  },
  {
   "cell_type": "markdown",
   "id": "4d8d5555",
   "metadata": {},
   "source": [
    "### Q3. Write a python code to create a process using the multiprocessing module."
   ]
  },
  {
   "cell_type": "code",
   "execution_count": 1,
   "id": "e6bc5a7a",
   "metadata": {},
   "outputs": [
    {
     "name": "stdout",
     "output_type": "stream",
     "text": [
      "This is a function executed by the multiprocessing module.\n"
     ]
    }
   ],
   "source": [
    "import multiprocessing\n",
    "\n",
    "def func():\n",
    "    print('This is a function executed by the multiprocessing module.')\n",
    "    \n",
    "if __name__ == '__main__':\n",
    "    m = multiprocessing.Process( target = func )\n",
    "    m.start()\n",
    "    m.join()"
   ]
  },
  {
   "cell_type": "markdown",
   "id": "67ec10b5",
   "metadata": {},
   "source": [
    "---"
   ]
  },
  {
   "cell_type": "markdown",
   "id": "cb768cd3",
   "metadata": {},
   "source": [
    "### Q4. What is a multiprocessing pool in python? Why is it used?"
   ]
  },
  {
   "cell_type": "markdown",
   "id": "2c5680f2",
   "metadata": {},
   "source": [
    "#### Pool is group of resources is managed collectively , by allowing them to be reused.\n",
    "#### Pool is used to create a pool of worker process to execute a function or task parallel."
   ]
  },
  {
   "cell_type": "markdown",
   "id": "cfe4314f",
   "metadata": {},
   "source": [
    "---"
   ]
  },
  {
   "cell_type": "markdown",
   "id": "317f807b",
   "metadata": {},
   "source": [
    "### Q5. How can we create a pool of worker processes in python using the multiprocessing module?"
   ]
  },
  {
   "cell_type": "code",
   "execution_count": 2,
   "id": "25445354",
   "metadata": {},
   "outputs": [
    {
     "name": "stdout",
     "output_type": "stream",
     "text": [
      "[4, 9, 16, 25, 36, 49, 64, 81]\n"
     ]
    }
   ],
   "source": [
    "def square(n):\n",
    "    return n**2\n",
    "\n",
    "if __name__ == '__main__':\n",
    "    with multiprocessing.Pool(processes = 5) as pool:\n",
    "        sq_num = pool.map(square,[2,3,4,5,6,7,8,9])\n",
    "        print(sq_num)"
   ]
  },
  {
   "cell_type": "markdown",
   "id": "68eb3c6c",
   "metadata": {},
   "source": [
    "---"
   ]
  },
  {
   "cell_type": "markdown",
   "id": "19fe79d2",
   "metadata": {},
   "source": [
    "### Q6. Write a python program to create 4 processes, each process should print a different number using the multiprocessing module in python."
   ]
  },
  {
   "cell_type": "code",
   "execution_count": 3,
   "id": "a7e08581",
   "metadata": {},
   "outputs": [
    {
     "name": "stdout",
     "output_type": "stream",
     "text": [
      "Process 1: Number 1\n",
      "Process 2: Number 2\n",
      "Process 3: Number 3\n",
      "Process 4: Number 4\n",
      "All processes have finished.\n"
     ]
    }
   ],
   "source": [
    "import multiprocessing\n",
    "\n",
    "def print_number(number):\n",
    "    print(f\"Process {number}: Number {number}\")\n",
    "\n",
    "if __name__ == \"__main__\":\n",
    "    numbers = [1, 2, 3, 4]\n",
    "    processes = [ multiprocessing.Process(target=print_number, args=(number,)) for number in numbers ]\n",
    "    for process in processes:\n",
    "        process.start()\n",
    "    for process in processes:\n",
    "        process.join()\n",
    "    print(\"All processes have finished.\")"
   ]
  },
  {
   "cell_type": "markdown",
   "id": "fd7ef143",
   "metadata": {},
   "source": [
    "---"
   ]
  }
 ],
 "metadata": {
  "kernelspec": {
   "display_name": "Python 3 (ipykernel)",
   "language": "python",
   "name": "python3"
  },
  "language_info": {
   "codemirror_mode": {
    "name": "ipython",
    "version": 3
   },
   "file_extension": ".py",
   "mimetype": "text/x-python",
   "name": "python",
   "nbconvert_exporter": "python",
   "pygments_lexer": "ipython3",
   "version": "3.10.8"
  }
 },
 "nbformat": 4,
 "nbformat_minor": 5
}
