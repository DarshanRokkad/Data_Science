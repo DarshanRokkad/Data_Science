{
 "cells": [
  {
   "cell_type": "markdown",
   "id": "2f1334eb",
   "metadata": {},
   "source": [
    "# <font color = 'orange'> Exception handling with try and except"
   ]
  },
  {
   "cell_type": "markdown",
   "id": "ab65a5c9",
   "metadata": {},
   "source": [
    "---"
   ]
  },
  {
   "cell_type": "markdown",
   "id": "b2129ea8",
   "metadata": {},
   "source": [
    "## Few Errors\n",
    "\n",
    "* After getting error the line below will not execute."
   ]
  },
  {
   "cell_type": "code",
   "execution_count": 1,
   "id": "9c548e48",
   "metadata": {},
   "outputs": [
    {
     "ename": "ZeroDivisionError",
     "evalue": "division by zero",
     "output_type": "error",
     "traceback": [
      "\u001b[1;31m---------------------------------------------------------------------------\u001b[0m",
      "\u001b[1;31mZeroDivisionError\u001b[0m                         Traceback (most recent call last)",
      "\u001b[1;32m~\\AppData\\Local\\Temp\\ipykernel_7656\\634227606.py\u001b[0m in \u001b[0;36m<module>\u001b[1;34m\u001b[0m\n\u001b[0;32m      1\u001b[0m \u001b[1;31m# zero division\u001b[0m\u001b[1;33m\u001b[0m\u001b[1;33m\u001b[0m\u001b[0m\n\u001b[0;32m      2\u001b[0m \u001b[0ma\u001b[0m \u001b[1;33m=\u001b[0m \u001b[1;36m10\u001b[0m\u001b[1;33m\u001b[0m\u001b[1;33m\u001b[0m\u001b[0m\n\u001b[1;32m----> 3\u001b[1;33m \u001b[0ma\u001b[0m \u001b[1;33m/\u001b[0m \u001b[1;36m0\u001b[0m\u001b[1;33m\u001b[0m\u001b[1;33m\u001b[0m\u001b[0m\n\u001b[0m",
      "\u001b[1;31mZeroDivisionError\u001b[0m: division by zero"
     ]
    }
   ],
   "source": [
    "# zero division\n",
    "a = 10 \n",
    "a / 0"
   ]
  },
  {
   "cell_type": "code",
   "execution_count": 2,
   "id": "76b65c64",
   "metadata": {},
   "outputs": [
    {
     "name": "stdout",
     "output_type": "stream",
     "text": [
      "this is print\n"
     ]
    }
   ],
   "source": [
    "# file not found error\n",
    "f = open('file.txt','r')\n",
    "print('this is print')"
   ]
  },
  {
   "cell_type": "markdown",
   "id": "910decc0",
   "metadata": {},
   "source": [
    "---"
   ]
  },
  {
   "cell_type": "markdown",
   "id": "48e34dd6",
   "metadata": {},
   "source": [
    "## Handling Errors\n",
    "\n",
    "* try\n",
    "* except\n",
    "* else\n",
    "* finally\n",
    "* We can have any number of try and catch."
   ]
  },
  {
   "cell_type": "code",
   "execution_count": 3,
   "id": "b032e1af",
   "metadata": {},
   "outputs": [
    {
     "name": "stdout",
     "output_type": "stream",
     "text": [
      "This is print statement will execute even if error is present.\n"
     ]
    }
   ],
   "source": [
    "try :\n",
    "    f = open('file.txt','r')\n",
    "except Exception as e:\n",
    "    print('There is some error in the code.',e)\n",
    "print('This is print statement will execute even if error is present.')"
   ]
  },
  {
   "cell_type": "markdown",
   "id": "ffb13707",
   "metadata": {},
   "source": [
    "---"
   ]
  },
  {
   "cell_type": "markdown",
   "id": "0e2c7144",
   "metadata": {},
   "source": [
    "#### In else block whatever code needs to be executed after the successful execution of the try block can be kept."
   ]
  },
  {
   "cell_type": "code",
   "execution_count": 4,
   "id": "65983530",
   "metadata": {},
   "outputs": [
    {
     "name": "stdout",
     "output_type": "stream",
     "text": [
      "Else block will execute only after successfull execution of try block.\n"
     ]
    }
   ],
   "source": [
    "# if file not found then not need to close \n",
    "# if file is present then no error so we can close the file in else block.\n",
    "try :\n",
    "    f = open('file.txt','w')\n",
    "    f.write('This is sample file.')\n",
    "except Exception as e :\n",
    "    print('There is some error in the code.',e)\n",
    "else :\n",
    "    f.close()\n",
    "    print('Else block will execute only after successfull execution of try block.')"
   ]
  },
  {
   "cell_type": "code",
   "execution_count": 5,
   "id": "e2e7ce29",
   "metadata": {},
   "outputs": [
    {
     "name": "stdout",
     "output_type": "stream",
     "text": [
      "There is some error in the code. [Errno 2] No such file or directory: 'file1.txt'\n"
     ]
    }
   ],
   "source": [
    "try :\n",
    "    f = open('file1.txt','r')\n",
    "    data = f.read()\n",
    "except Exception as e :\n",
    "    print('There is some error in the code.',e)\n",
    "else :\n",
    "    f.close()\n",
    "    print('Else block will execute only after successfull execution of try block.')"
   ]
  },
  {
   "cell_type": "markdown",
   "id": "cd1813a2",
   "metadata": {},
   "source": [
    "---"
   ]
  },
  {
   "cell_type": "markdown",
   "id": "d0d0fbf7",
   "metadata": {},
   "source": [
    "#### In finally block whatever code needs to be executed complusary in any condition should kept.\n",
    "#### We have to close the database no matter whatever error comes."
   ]
  },
  {
   "cell_type": "code",
   "execution_count": 6,
   "id": "9c06a08e",
   "metadata": {
    "scrolled": false
   },
   "outputs": [
    {
     "name": "stdout",
     "output_type": "stream",
     "text": [
      "This will always execute.\n"
     ]
    },
    {
     "ename": "FileNotFoundError",
     "evalue": "[Errno 2] No such file or directory: 'file1.txt'",
     "output_type": "error",
     "traceback": [
      "\u001b[1;31m---------------------------------------------------------------------------\u001b[0m",
      "\u001b[1;31mFileNotFoundError\u001b[0m                         Traceback (most recent call last)",
      "\u001b[1;32m~\\AppData\\Local\\Temp\\ipykernel_7656\\1673364995.py\u001b[0m in \u001b[0;36m<module>\u001b[1;34m\u001b[0m\n\u001b[0;32m      1\u001b[0m \u001b[1;31m# No matter what database has to be closed so we can used finally\u001b[0m\u001b[1;33m\u001b[0m\u001b[1;33m\u001b[0m\u001b[0m\n\u001b[0;32m      2\u001b[0m \u001b[1;32mtry\u001b[0m\u001b[1;33m:\u001b[0m\u001b[1;33m\u001b[0m\u001b[1;33m\u001b[0m\u001b[0m\n\u001b[1;32m----> 3\u001b[1;33m     \u001b[0mf\u001b[0m \u001b[1;33m=\u001b[0m \u001b[0mopen\u001b[0m\u001b[1;33m(\u001b[0m\u001b[1;34m'file1.txt'\u001b[0m\u001b[1;33m,\u001b[0m\u001b[1;34m'r'\u001b[0m\u001b[1;33m)\u001b[0m\u001b[1;33m\u001b[0m\u001b[1;33m\u001b[0m\u001b[0m\n\u001b[0m\u001b[0;32m      4\u001b[0m     \u001b[0mdata\u001b[0m \u001b[1;33m=\u001b[0m \u001b[0mf\u001b[0m\u001b[1;33m.\u001b[0m\u001b[0mread\u001b[0m\u001b[1;33m(\u001b[0m\u001b[1;33m)\u001b[0m\u001b[1;33m\u001b[0m\u001b[1;33m\u001b[0m\u001b[0m\n\u001b[0;32m      5\u001b[0m \u001b[1;32mfinally\u001b[0m \u001b[1;33m:\u001b[0m\u001b[1;33m\u001b[0m\u001b[1;33m\u001b[0m\u001b[0m\n",
      "\u001b[1;31mFileNotFoundError\u001b[0m: [Errno 2] No such file or directory: 'file1.txt'"
     ]
    }
   ],
   "source": [
    "# No matter what database has to be closed so we can used finally\n",
    "try:\n",
    "    f = open('file1.txt','r')\n",
    "    data = f.read()\n",
    "finally :\n",
    "    print('This will always execute.')"
   ]
  },
  {
   "cell_type": "code",
   "execution_count": 7,
   "id": "8086b76b",
   "metadata": {},
   "outputs": [
    {
     "name": "stdout",
     "output_type": "stream",
     "text": [
      "this block will execute once try will execute itself without an exception\n",
      "i will execute always \n"
     ]
    }
   ],
   "source": [
    "# Unsuccessfull execution\n",
    "try:\n",
    "    f = open(\"test1.txt\" , 'w')\n",
    "    f.write(\"this is my msg\")\n",
    "except Exception as e :\n",
    "    print(\"there is some issue with my code \", e)\n",
    "else :\n",
    "    f.close()\n",
    "    print(\"this block will execute once try will execute itself without an exception\")\n",
    "finally :\n",
    "    print(\"i will execute always \")"
   ]
  },
  {
   "cell_type": "code",
   "execution_count": 9,
   "id": "3ae84a15",
   "metadata": {
    "scrolled": true
   },
   "outputs": [
    {
     "name": "stdout",
     "output_type": "stream",
     "text": [
      "there is some issue with my code  [Errno 2] No such file or directory: 'test2.txt'\n",
      "i will execute always \n"
     ]
    }
   ],
   "source": [
    "# Successfull condition\n",
    "try:\n",
    "    f = open(\"test2.txt\" , 'r')\n",
    "    data = f.read()\n",
    "except Exception as e :\n",
    "    print(\"there is some issue with my code \", e)\n",
    "else :\n",
    "    f.close()\n",
    "    print(\"this block will execute once try will execute itself without an exception\")\n",
    "finally :\n",
    "    print(\"i will execute always \")"
   ]
  },
  {
   "cell_type": "markdown",
   "id": "b652ab50",
   "metadata": {},
   "source": [
    "---"
   ]
  }
 ],
 "metadata": {
  "kernelspec": {
   "display_name": "Python 3 (ipykernel)",
   "language": "python",
   "name": "python3"
  },
  "language_info": {
   "codemirror_mode": {
    "name": "ipython",
    "version": 3
   },
   "file_extension": ".py",
   "mimetype": "text/x-python",
   "name": "python",
   "nbconvert_exporter": "python",
   "pygments_lexer": "ipython3",
   "version": "3.9.13"
  }
 },
 "nbformat": 4,
 "nbformat_minor": 5
}
