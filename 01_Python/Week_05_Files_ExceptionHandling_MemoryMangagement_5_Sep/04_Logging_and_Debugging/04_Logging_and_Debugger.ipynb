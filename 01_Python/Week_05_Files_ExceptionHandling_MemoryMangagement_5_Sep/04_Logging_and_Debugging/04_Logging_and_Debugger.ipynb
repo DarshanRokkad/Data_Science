{
 "cells": [
  {
   "cell_type": "markdown",
   "id": "30acb923",
   "metadata": {},
   "source": [
    "# <font color = 'orange'> Logging and Debugger "
   ]
  },
  {
   "cell_type": "markdown",
   "id": "998e808b",
   "metadata": {},
   "source": [
    "---"
   ]
  },
  {
   "cell_type": "markdown",
   "id": "75ae8ae9",
   "metadata": {},
   "source": [
    "There should be no print statement we have to log error , information and etc..."
   ]
  },
  {
   "cell_type": "code",
   "execution_count": 1,
   "id": "00dc739f",
   "metadata": {},
   "outputs": [
    {
     "name": "stdout",
     "output_type": "stream",
     "text": [
      "This is a error\n"
     ]
    }
   ],
   "source": [
    "print('This is a error')"
   ]
  },
  {
   "cell_type": "markdown",
   "id": "e8756d94",
   "metadata": {},
   "source": [
    "---"
   ]
  },
  {
   "cell_type": "markdown",
   "id": "9cdddfdf",
   "metadata": {},
   "source": [
    "## Logging\n",
    "* Logging will be done only below and the mentioned level.\n",
    "* Hierarchy of logging.\n",
    "* They are just a label.\n",
    "1. NOSET\n",
    "2. DEBUG\n",
    "3. INFO\n",
    "4. WARNING\n",
    "5. ERROR\n",
    "6. CRITICAL"
   ]
  },
  {
   "cell_type": "code",
   "execution_count": 1,
   "id": "a0907cd0",
   "metadata": {},
   "outputs": [],
   "source": [
    "import logging "
   ]
  },
  {
   "cell_type": "code",
   "execution_count": 3,
   "id": "380c2466",
   "metadata": {},
   "outputs": [],
   "source": [
    "# Here logging level is info.\n",
    "# So,We can log only the below label.\n",
    "logging.basicConfig(filename='04_test.log',level=logging.INFO)"
   ]
  },
  {
   "cell_type": "code",
   "execution_count": 6,
   "id": "b33cb6f4",
   "metadata": {},
   "outputs": [],
   "source": [
    "logging.info('this is my line of execution.')"
   ]
  },
  {
   "cell_type": "code",
   "execution_count": 7,
   "id": "207959dc",
   "metadata": {},
   "outputs": [],
   "source": [
    "logging.error('this is my error.')"
   ]
  },
  {
   "cell_type": "code",
   "execution_count": 8,
   "id": "ad363d6a",
   "metadata": {},
   "outputs": [],
   "source": [
    "logging.critical('this is my critical.')"
   ]
  },
  {
   "cell_type": "code",
   "execution_count": 9,
   "id": "6af0a2d6",
   "metadata": {},
   "outputs": [],
   "source": [
    "logging.warning('this is my warning.')"
   ]
  },
  {
   "cell_type": "code",
   "execution_count": 10,
   "id": "6c6c77d6",
   "metadata": {},
   "outputs": [],
   "source": [
    "# This level is above the info level so it cannot log\n",
    "logging.debug('this is my debug.')"
   ]
  },
  {
   "cell_type": "code",
   "execution_count": 13,
   "id": "1a695f9b",
   "metadata": {},
   "outputs": [
    {
     "ename": "AttributeError",
     "evalue": "module 'logging' has no attribute 'noset'",
     "output_type": "error",
     "traceback": [
      "\u001b[1;31m---------------------------------------------------------------------------\u001b[0m",
      "\u001b[1;31mAttributeError\u001b[0m                            Traceback (most recent call last)",
      "\u001b[1;32m~\\AppData\\Local\\Temp\\ipykernel_18048\\4079525559.py\u001b[0m in \u001b[0;36m<module>\u001b[1;34m\u001b[0m\n\u001b[0;32m      1\u001b[0m \u001b[1;31m# This level is above the info level so it cannot log\u001b[0m\u001b[1;33m\u001b[0m\u001b[1;33m\u001b[0m\u001b[0m\n\u001b[0;32m      2\u001b[0m \u001b[1;31m# here is deprecated so we cannot use\u001b[0m\u001b[1;33m\u001b[0m\u001b[1;33m\u001b[0m\u001b[0m\n\u001b[1;32m----> 3\u001b[1;33m \u001b[0mlogging\u001b[0m\u001b[1;33m.\u001b[0m\u001b[0mnoset\u001b[0m\u001b[1;33m(\u001b[0m\u001b[1;34m'this is my debug.'\u001b[0m\u001b[1;33m)\u001b[0m\u001b[1;33m\u001b[0m\u001b[1;33m\u001b[0m\u001b[0m\n\u001b[0m",
      "\u001b[1;31mAttributeError\u001b[0m: module 'logging' has no attribute 'noset'"
     ]
    }
   ],
   "source": [
    "# This level is above the info level so it cannot log\n",
    "# here is deprecated so we cannot use\n",
    "logging.noset('this is my debug.')"
   ]
  },
  {
   "cell_type": "code",
   "execution_count": 15,
   "id": "6b2034a3",
   "metadata": {},
   "outputs": [],
   "source": [
    "# We have to close log file\n",
    "logging.shutdown()"
   ]
  },
  {
   "cell_type": "markdown",
   "id": "5786280a",
   "metadata": {},
   "source": [
    "---"
   ]
  },
  {
   "cell_type": "markdown",
   "id": "0d2f4381",
   "metadata": {},
   "source": [
    "### We can log the message with time"
   ]
  },
  {
   "cell_type": "code",
   "execution_count": 2,
   "id": "4cc7162a",
   "metadata": {},
   "outputs": [],
   "source": [
    "logging.basicConfig(filename='04_test1.log',level=logging.DEBUG,format='%(asctime)s%(message)s')"
   ]
  },
  {
   "cell_type": "code",
   "execution_count": 3,
   "id": "07d04014",
   "metadata": {},
   "outputs": [],
   "source": [
    "logging.info('this is my info log')"
   ]
  },
  {
   "cell_type": "code",
   "execution_count": 4,
   "id": "4610bcc4",
   "metadata": {},
   "outputs": [],
   "source": [
    "logging.debug('this is debug.')"
   ]
  },
  {
   "cell_type": "code",
   "execution_count": 5,
   "id": "4789ddd3",
   "metadata": {},
   "outputs": [],
   "source": [
    "logging.warning('this is a warning.')"
   ]
  },
  {
   "cell_type": "markdown",
   "id": "c3cd9273",
   "metadata": {},
   "source": [
    "---"
   ]
  },
  {
   "cell_type": "markdown",
   "id": "c7f5af98",
   "metadata": {},
   "source": [
    "### We can log even with more information like log level and name of the path."
   ]
  },
  {
   "cell_type": "code",
   "execution_count": 2,
   "id": "e72b3f9b",
   "metadata": {},
   "outputs": [],
   "source": [
    "logging.basicConfig(filename='04_test2.log',level=logging.DEBUG,format='%(asctime)s %(name)s %(levelname)s %(message)s')"
   ]
  },
  {
   "cell_type": "code",
   "execution_count": 3,
   "id": "0f37be82",
   "metadata": {},
   "outputs": [],
   "source": [
    "logging.info('This is my information log.')"
   ]
  },
  {
   "cell_type": "markdown",
   "id": "817c83a8",
   "metadata": {},
   "source": [
    "---"
   ]
  },
  {
   "cell_type": "markdown",
   "id": "cc73fa47",
   "metadata": {},
   "source": [
    "### Take the list and create 2 list one list contain integer and another list contain only the string."
   ]
  },
  {
   "cell_type": "code",
   "execution_count": 4,
   "id": "086614e6",
   "metadata": {},
   "outputs": [],
   "source": [
    "l = [1,2,3,4,[4,5,6] , \"sudh\" ,\"kumar\"]"
   ]
  },
  {
   "cell_type": "code",
   "execution_count": 5,
   "id": "c82df666",
   "metadata": {},
   "outputs": [
    {
     "name": "stdout",
     "output_type": "stream",
     "text": [
      "[1, 2, 3, 4, 4, 5, 6] ['sudh', 'kumar']\n"
     ]
    }
   ],
   "source": [
    "l1_int = []\n",
    "l2_string = []\n",
    "\n",
    "for i in l :\n",
    "    if type(i) == list:\n",
    "        for j in i :\n",
    "            if type(j) == int :\n",
    "                l1_int.append(j)\n",
    "    elif type(i) == int :\n",
    "        l1_int.append(i)\n",
    "    else :\n",
    "        if type(i) == str:\n",
    "            l2_string.append(i)"
   ]
  },
  {
   "cell_type": "code",
   "execution_count": 8,
   "id": "c188a7d8",
   "metadata": {},
   "outputs": [
    {
     "data": {
      "text/plain": [
       "[1, 2, 3, 4, 4, 5, 6]"
      ]
     },
     "execution_count": 8,
     "metadata": {},
     "output_type": "execute_result"
    }
   ],
   "source": [
    "l1_int"
   ]
  },
  {
   "cell_type": "code",
   "execution_count": 9,
   "id": "7104a855",
   "metadata": {},
   "outputs": [
    {
     "data": {
      "text/plain": [
       "['sudh', 'kumar']"
      ]
     },
     "execution_count": 9,
     "metadata": {},
     "output_type": "execute_result"
    }
   ],
   "source": [
    "l2_string"
   ]
  },
  {
   "cell_type": "markdown",
   "id": "300aa5b6",
   "metadata": {},
   "source": [
    "---"
   ]
  },
  {
   "cell_type": "markdown",
   "id": "0ee8cc81",
   "metadata": {},
   "source": [
    "### Now log this file."
   ]
  },
  {
   "cell_type": "markdown",
   "id": "7447253f",
   "metadata": {},
   "source": [
    "### <font color = 'red'> By logging we can understand the flow of execution and debug the program."
   ]
  },
  {
   "cell_type": "markdown",
   "id": "dbc9782c",
   "metadata": {},
   "source": [
    "### <font color = 'red'> We can find where our code is crashing."
   ]
  },
  {
   "cell_type": "code",
   "execution_count": 13,
   "id": "4f009d29",
   "metadata": {},
   "outputs": [],
   "source": [
    "l1_int = []\n",
    "l2_string = []\n",
    "\n",
    "for i in l :\n",
    "    logging.info('This is the start of my first for loop {}.'.format(l))\n",
    "    logging.info('This is the value of i am logging {}.'.format(i))\n",
    "    if type(i) == list:\n",
    "        for j in i :\n",
    "            logging.info('logging my j {j} and i is {i}'.format(i = i , j = j))\n",
    "            if type(j) == int :\n",
    "                l1_int.append(j)\n",
    "    elif type(i) == int :\n",
    "        l1_int.append(i)\n",
    "    else :\n",
    "        if type(i) == str:\n",
    "            l2_string.append(i)\n",
    "\n",
    "logging.info(\"This is my final result with all the int {l1} , with all string {l2}\".format(l1=l1_int,l2=l2_string))"
   ]
  },
  {
   "cell_type": "markdown",
   "id": "4fe10db5",
   "metadata": {},
   "source": [
    "---"
   ]
  }
 ],
 "metadata": {
  "kernelspec": {
   "display_name": "Python 3 (ipykernel)",
   "language": "python",
   "name": "python3"
  },
  "language_info": {
   "codemirror_mode": {
    "name": "ipython",
    "version": 3
   },
   "file_extension": ".py",
   "mimetype": "text/x-python",
   "name": "python",
   "nbconvert_exporter": "python",
   "pygments_lexer": "ipython3",
   "version": "3.9.13"
  }
 },
 "nbformat": 4,
 "nbformat_minor": 5
}
