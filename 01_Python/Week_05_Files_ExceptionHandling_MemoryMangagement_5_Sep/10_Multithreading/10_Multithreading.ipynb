{
 "cells": [
  {
   "cell_type": "markdown",
   "id": "0c687d29",
   "metadata": {},
   "source": [
    "# <font color = 'orange'> Multithreading"
   ]
  },
  {
   "cell_type": "markdown",
   "id": "ccb347f6",
   "metadata": {},
   "source": [
    "### Multithreading is concept through which we can execute the multiple process concurrently"
   ]
  },
  {
   "cell_type": "markdown",
   "id": "4715f598",
   "metadata": {},
   "source": [
    "---"
   ]
  },
  {
   "cell_type": "code",
   "execution_count": 1,
   "id": "b7000d63",
   "metadata": {},
   "outputs": [],
   "source": [
    "def test(num):\n",
    "    print('This is my test id %d' % num)"
   ]
  },
  {
   "cell_type": "code",
   "execution_count": 2,
   "id": "93b05f7a",
   "metadata": {},
   "outputs": [
    {
     "name": "stdout",
     "output_type": "stream",
     "text": [
      "This is my test id 10\n"
     ]
    }
   ],
   "source": [
    "test(10)"
   ]
  },
  {
   "cell_type": "code",
   "execution_count": 3,
   "id": "5ab0e2f9",
   "metadata": {},
   "outputs": [
    {
     "name": "stdout",
     "output_type": "stream",
     "text": [
      "This is my test id 2\n"
     ]
    }
   ],
   "source": [
    "test(2)"
   ]
  },
  {
   "cell_type": "code",
   "execution_count": 4,
   "id": "492d9a94",
   "metadata": {},
   "outputs": [
    {
     "name": "stdout",
     "output_type": "stream",
     "text": [
      "This is my test id 8\n"
     ]
    }
   ],
   "source": [
    "test(8)"
   ]
  },
  {
   "cell_type": "markdown",
   "id": "667f8df1",
   "metadata": {},
   "source": [
    "---"
   ]
  },
  {
   "cell_type": "markdown",
   "id": "966053b4",
   "metadata": {},
   "source": [
    "### We can use thread to achieve concurrent execution of thread."
   ]
  },
  {
   "cell_type": "code",
   "execution_count": 5,
   "id": "4c3d35d4",
   "metadata": {},
   "outputs": [],
   "source": [
    "import threading "
   ]
  },
  {
   "cell_type": "code",
   "execution_count": 6,
   "id": "d806ee5c",
   "metadata": {},
   "outputs": [],
   "source": [
    "# We have to assign a target function.\n",
    "# We have to tell args sent for target function.\n",
    "thred = [threading.Thread(target=test,args=(i,))for i in [10,2,3]]"
   ]
  },
  {
   "cell_type": "code",
   "execution_count": 7,
   "id": "3e90110a",
   "metadata": {
    "scrolled": true
   },
   "outputs": [
    {
     "data": {
      "text/plain": [
       "[<Thread(Thread-5, initial)>,\n",
       " <Thread(Thread-6, initial)>,\n",
       " <Thread(Thread-7, initial)>]"
      ]
     },
     "execution_count": 7,
     "metadata": {},
     "output_type": "execute_result"
    }
   ],
   "source": [
    "# We will get the thread ids of all thread created\n",
    "thred"
   ]
  },
  {
   "cell_type": "code",
   "execution_count": 8,
   "id": "320aae62",
   "metadata": {},
   "outputs": [
    {
     "name": "stdout",
     "output_type": "stream",
     "text": [
      "This is my test id 10\n",
      "This is my test id 2\n",
      "This is my test id 3\n"
     ]
    }
   ],
   "source": [
    "# it will start all 3 thread at a time\n",
    "for t in thred :\n",
    "    t.start()"
   ]
  },
  {
   "cell_type": "code",
   "execution_count": 9,
   "id": "9736a930",
   "metadata": {},
   "outputs": [
    {
     "data": {
      "text/plain": [
       "[<Thread(Thread-5, stopped 16404)>,\n",
       " <Thread(Thread-6, stopped 23020)>,\n",
       " <Thread(Thread-7, stopped 25376)>]"
      ]
     },
     "execution_count": 9,
     "metadata": {},
     "output_type": "execute_result"
    }
   ],
   "source": [
    "thred"
   ]
  },
  {
   "cell_type": "markdown",
   "id": "0610d260",
   "metadata": {},
   "source": [
    "---"
   ]
  },
  {
   "cell_type": "markdown",
   "id": "a8246bd4",
   "metadata": {},
   "source": [
    "### Download multiple files concurrently\n",
    "\n",
    "* Download the given below data file concurrently in respective file list."
   ]
  },
  {
   "cell_type": "code",
   "execution_count": 10,
   "id": "2e6a0e3b",
   "metadata": {},
   "outputs": [
    {
     "data": {
      "text/plain": [
       "['https://raw.githubusercontent.com/itsfoss/text-files/master/agatha.txt',\n",
       " 'https://raw.githubusercontent.com/itsfoss/text-files/master/sherlock.txt',\n",
       " 'https://raw.githubusercontent.com/itsfoss/text-files/master/sample_log_file.txt']"
      ]
     },
     "execution_count": 10,
     "metadata": {},
     "output_type": "execute_result"
    }
   ],
   "source": [
    "url_list = ['https://raw.githubusercontent.com/itsfoss/text-files/master/agatha.txt' , 'https://raw.githubusercontent.com/itsfoss/text-files/master/sherlock.txt' ,'https://raw.githubusercontent.com/itsfoss/text-files/master/sample_log_file.txt' ]\n",
    "url_list"
   ]
  },
  {
   "cell_type": "code",
   "execution_count": 11,
   "id": "41540cfd",
   "metadata": {},
   "outputs": [
    {
     "data": {
      "text/plain": [
       "['data1.txt', 'data2.txt', 'data3.txt']"
      ]
     },
     "execution_count": 11,
     "metadata": {},
     "output_type": "execute_result"
    }
   ],
   "source": [
    "data_file_list = ['data1.txt','data2.txt','data3.txt']\n",
    "data_file_list"
   ]
  },
  {
   "cell_type": "code",
   "execution_count": 12,
   "id": "8435c374",
   "metadata": {},
   "outputs": [],
   "source": [
    "import urllib.request\n",
    "\n",
    "def file_download(url,file_name):\n",
    "    urllib.request.urlretrieve(url,file_name)"
   ]
  },
  {
   "cell_type": "code",
   "execution_count": 13,
   "id": "8e06b5af",
   "metadata": {},
   "outputs": [
    {
     "data": {
      "text/plain": [
       "[<Thread(Thread-8, initial)>,\n",
       " <Thread(Thread-9, initial)>,\n",
       " <Thread(Thread-10, initial)>]"
      ]
     },
     "execution_count": 13,
     "metadata": {},
     "output_type": "execute_result"
    }
   ],
   "source": [
    "download_thread = [ threading.Thread(target=file_download,args=(url_list[i],data_file_list[i])) for i in range(len(url_list)) ]\n",
    "download_thread"
   ]
  },
  {
   "cell_type": "code",
   "execution_count": 14,
   "id": "41e9b6e7",
   "metadata": {},
   "outputs": [],
   "source": [
    "for t in download_thread:\n",
    "    t.start()"
   ]
  },
  {
   "cell_type": "code",
   "execution_count": 15,
   "id": "3daa07f1",
   "metadata": {},
   "outputs": [
    {
     "data": {
      "text/plain": [
       "[<Thread(Thread-8, started 18356)>,\n",
       " <Thread(Thread-9, started 1124)>,\n",
       " <Thread(Thread-10, started 1468)>]"
      ]
     },
     "execution_count": 15,
     "metadata": {},
     "output_type": "execute_result"
    }
   ],
   "source": [
    "download_thread"
   ]
  },
  {
   "cell_type": "markdown",
   "id": "61b46130",
   "metadata": {},
   "source": [
    "---"
   ]
  },
  {
   "cell_type": "markdown",
   "id": "4ac37d1d",
   "metadata": {},
   "source": [
    "### We can make thread sleep for few sec "
   ]
  },
  {
   "cell_type": "code",
   "execution_count": 16,
   "id": "4d8eac21",
   "metadata": {},
   "outputs": [],
   "source": [
    " import time "
   ]
  },
  {
   "cell_type": "code",
   "execution_count": 17,
   "id": "1b955127",
   "metadata": {},
   "outputs": [],
   "source": [
    "def test2(x):\n",
    "    for i in range(x):\n",
    "        print('test2 print the value of x %d and print the value of i %d'%(x,i))"
   ]
  },
  {
   "cell_type": "code",
   "execution_count": 18,
   "id": "18bf3115",
   "metadata": {},
   "outputs": [
    {
     "name": "stdout",
     "output_type": "stream",
     "text": [
      "test2 print the value of x 10 and print the value of i 0\n",
      "test2 print the value of x 10 and print the value of i 1\n",
      "test2 print the value of x 10 and print the value of i 2\n",
      "test2 print the value of x 10 and print the value of i 3\n",
      "test2 print the value of x 10 and print the value of i 4\n",
      "test2 print the value of x 10 and print the value of i 5\n",
      "test2 print the value of x 10 and print the value of i 6\n",
      "test2 print the value of x 10 and print the value of i 7\n",
      "test2 print the value of x 10 and print the value of i 8\n",
      "test2 print the value of x 10 and print the value of i 9\n"
     ]
    }
   ],
   "source": [
    "test2(10)"
   ]
  },
  {
   "cell_type": "code",
   "execution_count": 19,
   "id": "ff1781d8",
   "metadata": {},
   "outputs": [],
   "source": [
    "def test2(x):\n",
    "    for i in range(x):\n",
    "        print('test2 print the value of x %d and print the value of i %d'%(x,i))\n",
    "        time.sleep(1)"
   ]
  },
  {
   "cell_type": "code",
   "execution_count": 20,
   "id": "9133482f",
   "metadata": {},
   "outputs": [
    {
     "name": "stdout",
     "output_type": "stream",
     "text": [
      "test2 print the value of x 10 and print the value of i 0\n",
      "test2 print the value of x 10 and print the value of i 1\n",
      "test2 print the value of x 10 and print the value of i 2\n",
      "test2 print the value of x 10 and print the value of i 3\n",
      "test2 print the value of x 10 and print the value of i 4\n",
      "test2 print the value of x 10 and print the value of i 5\n",
      "test2 print the value of x 10 and print the value of i 6\n",
      "test2 print the value of x 10 and print the value of i 7\n",
      "test2 print the value of x 10 and print the value of i 8\n",
      "test2 print the value of x 10 and print the value of i 9\n"
     ]
    }
   ],
   "source": [
    "test2(10)"
   ]
  },
  {
   "cell_type": "code",
   "execution_count": 21,
   "id": "e130838e",
   "metadata": {},
   "outputs": [
    {
     "data": {
      "text/plain": [
       "[<Thread(Thread-11, initial)>,\n",
       " <Thread(Thread-12, initial)>,\n",
       " <Thread(Thread-13, initial)>]"
      ]
     },
     "execution_count": 21,
     "metadata": {},
     "output_type": "execute_result"
    }
   ],
   "source": [
    "thread2 = [threading.Thread(target=test2,args=(i,)) for i in [8,4,9]]\n",
    "thread2"
   ]
  },
  {
   "cell_type": "code",
   "execution_count": 22,
   "id": "123b4692",
   "metadata": {},
   "outputs": [
    {
     "name": "stdout",
     "output_type": "stream",
     "text": [
      "test2 print the value of x 8 and print the value of i 0\n",
      "test2 print the value of x 4 and print the value of i 0\n",
      "test2 print the value of x 9 and print the value of i 0\n",
      "test2 print the value of x 9 and print the value of i 1\n",
      "test2 print the value of x 8 and print the value of i 1\n",
      "test2 print the value of x 4 and print the value of i 1\n",
      "test2 print the value of x 4 and print the value of i 2\n",
      "test2 print the value of x 9 and print the value of i 2\n",
      "test2 print the value of x 8 and print the value of i 2\n",
      "test2 print the value of x 9 and print the value of i 3test2 print the value of x 8 and print the value of i 3\n",
      "test2 print the value of x 4 and print the value of i 3\n",
      "\n",
      "test2 print the value of x 9 and print the value of i 4test2 print the value of x 8 and print the value of i 4\n",
      "\n",
      "test2 print the value of x 9 and print the value of i 5test2 print the value of x 8 and print the value of i 5\n",
      "\n",
      "test2 print the value of x 9 and print the value of i 6test2 print the value of x 8 and print the value of i 6\n",
      "\n",
      "test2 print the value of x 8 and print the value of i 7test2 print the value of x 9 and print the value of i 7\n",
      "\n",
      "test2 print the value of x 9 and print the value of i 8\n"
     ]
    }
   ],
   "source": [
    "# threads running simultaneously\n",
    "for t in thread2:\n",
    "    t.start()"
   ]
  },
  {
   "cell_type": "markdown",
   "id": "dd17c979",
   "metadata": {},
   "source": [
    "---"
   ]
  },
  {
   "cell_type": "markdown",
   "id": "30ad9ca7",
   "metadata": {},
   "source": [
    "### Use of lock variable to use shared resources "
   ]
  },
  {
   "cell_type": "code",
   "execution_count": 23,
   "id": "71fb5c7e",
   "metadata": {},
   "outputs": [
    {
     "name": "stdout",
     "output_type": "stream",
     "text": [
      "Value of x 5 and value of shared variable 1\n",
      "Value of x 6 and value of shared variable 2\n",
      "Value of x 7 and value of shared variable 3\n",
      "Value of x 8 and value of shared variable 4\n",
      "Value of x 9 and value of shared variable 5\n"
     ]
    }
   ],
   "source": [
    "shared_var = 0 \n",
    "lock_var = threading.Lock()\n",
    "def test3(x):\n",
    "    global shared_var\n",
    "    with lock_var:\n",
    "        shared_var += 1\n",
    "        print('Value of x %d and value of shared variable %d'%(x,shared_var))\n",
    "        time.sleep(1)\n",
    "\n",
    "thread5 = [threading.Thread(target=test3,args=(i,)) for i in range(5,10)]\n",
    "for t in thread5:\n",
    "    t.start()"
   ]
  },
  {
   "cell_type": "markdown",
   "id": "b89b54c3",
   "metadata": {},
   "source": [
    "---"
   ]
  }
 ],
 "metadata": {
  "kernelspec": {
   "display_name": "Python 3 (ipykernel)",
   "language": "python",
   "name": "python3"
  },
  "language_info": {
   "codemirror_mode": {
    "name": "ipython",
    "version": 3
   },
   "file_extension": ".py",
   "mimetype": "text/x-python",
   "name": "python",
   "nbconvert_exporter": "python",
   "pygments_lexer": "ipython3",
   "version": "3.9.13"
  }
 },
 "nbformat": 4,
 "nbformat_minor": 5
}
