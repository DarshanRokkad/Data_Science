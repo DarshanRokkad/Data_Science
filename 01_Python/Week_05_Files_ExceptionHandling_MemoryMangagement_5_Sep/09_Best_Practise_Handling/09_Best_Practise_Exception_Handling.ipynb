{
 "cells": [
  {
   "cell_type": "markdown",
   "id": "6c7aef21",
   "metadata": {},
   "source": [
    "# <font color = 'orange'> Best Practise in Exception Handling"
   ]
  },
  {
   "cell_type": "markdown",
   "id": "c9b20667",
   "metadata": {},
   "source": [
    "---"
   ]
  },
  {
   "cell_type": "markdown",
   "id": "4d77f498",
   "metadata": {},
   "source": [
    "### 1.Use always a specific exception."
   ]
  },
  {
   "cell_type": "code",
   "execution_count": 1,
   "id": "862bc4b9",
   "metadata": {},
   "outputs": [
    {
     "name": "stdout",
     "output_type": "stream",
     "text": [
      "division by zero\n"
     ]
    }
   ],
   "source": [
    "# Don't use \n",
    "\n",
    "try:\n",
    "    a = 5/0\n",
    "except Exception as e :\n",
    "    print(e)"
   ]
  },
  {
   "cell_type": "code",
   "execution_count": 2,
   "id": "e23288ae",
   "metadata": {},
   "outputs": [
    {
     "name": "stdout",
     "output_type": "stream",
     "text": [
      "division by zero\n"
     ]
    }
   ],
   "source": [
    "# Use specific exception like this\n",
    "try:\n",
    "    a = 5/0\n",
    "except ZeroDivisionError as e :\n",
    "    print(e)"
   ]
  },
  {
   "cell_type": "markdown",
   "id": "f1d5f142",
   "metadata": {},
   "source": [
    "---"
   ]
  },
  {
   "cell_type": "markdown",
   "id": "9a56d196",
   "metadata": {},
   "source": [
    "### 2.Print always a valid message."
   ]
  },
  {
   "cell_type": "code",
   "execution_count": 3,
   "id": "7cb7b726",
   "metadata": {},
   "outputs": [
    {
     "name": "stdout",
     "output_type": "stream",
     "text": [
      "This is zero division error i am handling division by zero\n"
     ]
    }
   ],
   "source": [
    "try:\n",
    "    a = 5/0\n",
    "except ZeroDivisionError as e :\n",
    "    print('This is zero division error i am handling',e)"
   ]
  },
  {
   "cell_type": "markdown",
   "id": "3a6db42e",
   "metadata": {},
   "source": [
    "---"
   ]
  },
  {
   "cell_type": "markdown",
   "id": "49afea0c",
   "metadata": {},
   "source": [
    "### 3.Always log the error."
   ]
  },
  {
   "cell_type": "code",
   "execution_count": 4,
   "id": "2a0b1a1b",
   "metadata": {},
   "outputs": [],
   "source": [
    "import logging\n",
    "logging.basicConfig(filename='error.log',level = logging.ERROR)\n",
    "try:\n",
    "    a = 5/0\n",
    "except ZeroDivisionError as e :\n",
    "    logging.error('This is zero division error i am handling {}'.format(e)) "
   ]
  },
  {
   "cell_type": "markdown",
   "id": "8d8ffec4",
   "metadata": {},
   "source": [
    "---"
   ]
  },
  {
   "cell_type": "markdown",
   "id": "b248a02d",
   "metadata": {},
   "source": [
    "### 4.Always avoid to write a multiple exception handling."
   ]
  },
  {
   "cell_type": "code",
   "execution_count": 5,
   "id": "3ab5b56e",
   "metadata": {},
   "outputs": [],
   "source": [
    "try :\n",
    "    a = 10/0\n",
    "except FileNotFoundError as e : \n",
    "    logging.error(\"this is my file not found  {} \".format(e))\n",
    "except AttributeError as e : \n",
    "    logging.error(\"this is my attribute erro  {} \".format(e))\n",
    "except ZeroDivisionError as e :\n",
    "    logging.error(\"this is my zero dedision error i am handling {} \".format(e))"
   ]
  },
  {
   "cell_type": "markdown",
   "id": "6787e192",
   "metadata": {},
   "source": [
    "---"
   ]
  },
  {
   "cell_type": "markdown",
   "id": "325ea72e",
   "metadata": {},
   "source": [
    "### 5.Prepare a documentation."
   ]
  },
  {
   "cell_type": "markdown",
   "id": "22ce8c14",
   "metadata": {},
   "source": [
    "---"
   ]
  },
  {
   "cell_type": "markdown",
   "id": "778d1ea6",
   "metadata": {},
   "source": [
    "### 6.Cleanup all the resources.\n",
    "* close the file after usage .\n",
    "* close the database after usage to avoid misusage.\n",
    "#### Use finally block to do all this operations."
   ]
  },
  {
   "cell_type": "code",
   "execution_count": 6,
   "id": "82ac9f87",
   "metadata": {},
   "outputs": [
    {
     "name": "stdout",
     "output_type": "stream",
     "text": [
      "ERROR:root:This is zero division error i am handling division by zero\n",
      "ERROR:root:this is my zero dedision error i am handling division by zero \n",
      "ERROR:root:This is file not found error [Errno 2] No such file or directory: 'file.txt'\n",
      "ERROR:root:This is file not found error [Errno 2] No such file or directory: 'file.txt'\n",
      "ERROR:root:This is file not found error [Errno 2] No such file or directory: 'file.txt'\n",
      "ERROR:root:This is file not found error [Errno 2] No such file or directory: 'file.txt'\n",
      "ERROR:root:This is file not found error [Errno 2] No such file or directory: 'file1.txt'\n",
      "ERROR:root:This is file not found error [Errno 2] No such file or directory: 'file1.txt'\n",
      "ERROR:root:This is file not found error [Errno 2] No such file or directory: 'file1.txt'\n",
      "ERROR:root:This is zero division error i am handling division by zero\n",
      "ERROR:root:this is my zero dedision error i am handling division by zero \n",
      "ERROR:root:This is file not found error [Errno 2] No such file or directory: 'file1.txt'\n",
      "ERROR:root:This is file not found error [Errno 2] No such file or directory: 'file1.txt'\n",
      "ERROR:root:This is file not found error [Errno 2] No such file or directory: 'test.txt'\n",
      "ERROR:root:This is file not found error [Errno 2] No such file or directory: 'test.txt'\n",
      "ERROR:root:This is zero division error i am handling division by zero\n",
      "ERROR:root:this is my zero dedision error i am handling division by zero \n",
      "\n"
     ]
    }
   ],
   "source": [
    "try:\n",
    "    fi = open('error.log','r')\n",
    "    data = fi.read()\n",
    "    print(data)\n",
    "except FileNotFoundError as e:\n",
    "    logging.error('This is file not found error {}'.format(e))\n",
    "finally:\n",
    "    fi.close()"
   ]
  },
  {
   "cell_type": "markdown",
   "id": "a0b14fd2",
   "metadata": {},
   "source": [
    "---"
   ]
  },
  {
   "cell_type": "code",
   "execution_count": 7,
   "id": "b670a475",
   "metadata": {},
   "outputs": [],
   "source": [
    "logging.shutdown()"
   ]
  },
  {
   "cell_type": "markdown",
   "id": "69e0faf8",
   "metadata": {},
   "source": [
    "---"
   ]
  }
 ],
 "metadata": {
  "kernelspec": {
   "display_name": "Python 3 (ipykernel)",
   "language": "python",
   "name": "python3"
  },
  "language_info": {
   "codemirror_mode": {
    "name": "ipython",
    "version": 3
   },
   "file_extension": ".py",
   "mimetype": "text/x-python",
   "name": "python",
   "nbconvert_exporter": "python",
   "pygments_lexer": "ipython3",
   "version": "3.9.13"
  }
 },
 "nbformat": 4,
 "nbformat_minor": 5
}
