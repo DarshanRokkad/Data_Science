{
 "cells": [
  {
   "cell_type": "markdown",
   "id": "8d187bab",
   "metadata": {},
   "source": [
    "# <font color = 'orange'> Lambda Functions\n",
    "    * It is an anonymous function.\n",
    "    * it is not complusary to use."
   ]
  },
  {
   "cell_type": "code",
   "execution_count": 2,
   "id": "15989f02",
   "metadata": {},
   "outputs": [
    {
     "data": {
      "text/plain": [
       "11"
      ]
     },
     "execution_count": 2,
     "metadata": {},
     "output_type": "execute_result"
    }
   ],
   "source": [
    "def fun(a,b):\n",
    "    return a+b \n",
    "fun(4,7)"
   ]
  },
  {
   "cell_type": "code",
   "execution_count": 4,
   "id": "9d26fcc7",
   "metadata": {},
   "outputs": [
    {
     "data": {
      "text/plain": [
       "function"
      ]
     },
     "execution_count": 4,
     "metadata": {},
     "output_type": "execute_result"
    }
   ],
   "source": [
    "type(lambda a,b:a+b)"
   ]
  },
  {
   "cell_type": "code",
   "execution_count": 5,
   "id": "4e29238e",
   "metadata": {},
   "outputs": [
    {
     "name": "stdout",
     "output_type": "stream",
     "text": [
      "11\n"
     ]
    }
   ],
   "source": [
    "# it is anonymous function\n",
    "a = lambda a,b:a+b\n",
    "print(a(4,7))"
   ]
  },
  {
   "cell_type": "code",
   "execution_count": 6,
   "id": "d4d0de54",
   "metadata": {},
   "outputs": [
    {
     "name": "stdout",
     "output_type": "stream",
     "text": [
      "7\n",
      "3\n"
     ]
    }
   ],
   "source": [
    "max_ele = lambda a,b:a if a>b else b\n",
    "print(max_ele(5,7))\n",
    "print(max_ele(3,1))"
   ]
  },
  {
   "cell_type": "code",
   "execution_count": 12,
   "id": "ab8640fe",
   "metadata": {},
   "outputs": [
    {
     "name": "stdout",
     "output_type": "stream",
     "text": [
      "4\n"
     ]
    }
   ],
   "source": [
    "num = lambda n : n if n in [5,2,3,4] else 0\n",
    "print(num(4))"
   ]
  }
 ],
 "metadata": {
  "kernelspec": {
   "display_name": "Python 3 (ipykernel)",
   "language": "python",
   "name": "python3"
  },
  "language_info": {
   "codemirror_mode": {
    "name": "ipython",
    "version": 3
   },
   "file_extension": ".py",
   "mimetype": "text/x-python",
   "name": "python",
   "nbconvert_exporter": "python",
   "pygments_lexer": "ipython3",
   "version": "3.9.13"
  }
 },
 "nbformat": 4,
 "nbformat_minor": 5
}
