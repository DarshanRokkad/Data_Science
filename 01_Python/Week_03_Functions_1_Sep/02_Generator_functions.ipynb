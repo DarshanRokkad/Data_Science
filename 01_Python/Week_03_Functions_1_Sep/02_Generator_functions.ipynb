{
 "cells": [
  {
   "cell_type": "markdown",
   "id": "bc82a1a6",
   "metadata": {},
   "source": [
    "# <font color = 'orange'> Generator Functions"
   ]
  },
  {
   "cell_type": "code",
   "execution_count": 2,
   "id": "88c26d13",
   "metadata": {},
   "outputs": [
    {
     "data": {
      "text/plain": [
       "range(1, 10)"
      ]
     },
     "execution_count": 2,
     "metadata": {},
     "output_type": "execute_result"
    }
   ],
   "source": [
    "# it is not generating numbers until we put it into a loop\n",
    "range(1,10)"
   ]
  },
  {
   "cell_type": "code",
   "execution_count": 3,
   "id": "b8827dd2",
   "metadata": {},
   "outputs": [
    {
     "name": "stdout",
     "output_type": "stream",
     "text": [
      "1 2 3 4 5 6 7 8 9 "
     ]
    }
   ],
   "source": [
    "for i in range(1,10):\n",
    "    print(i,end=' ')"
   ]
  },
  {
   "cell_type": "code",
   "execution_count": 6,
   "id": "cd4ba537",
   "metadata": {},
   "outputs": [
    {
     "name": "stdout",
     "output_type": "stream",
     "text": [
      "[1, 2, 3, 4, 4, 5, 6, 7, 8, 7]\n"
     ]
    }
   ],
   "source": [
    "# Write a function the give list that contains only integer avlue value from a list of multiple data type value\n",
    "\n",
    "def test1(li):\n",
    "    a = []\n",
    "    for i in li :\n",
    "        if type(i) == int :\n",
    "            a.append(i)\n",
    "    return a\n",
    "\n",
    "l = [1,2,3,4,4,5,6,7,8,7,\"sudh\"  , \"pwskills\"]\n",
    "out1 = test1(l)\n",
    "print(out1)"
   ]
  },
  {
   "cell_type": "markdown",
   "id": "5889aae1",
   "metadata": {},
   "source": [
    "Here the function will go through each item of a list and if it is integer then i will add in new list and return . it will return only when all elements are checked and add to list .\n",
    "* But if we have a million of item in a given list then it will be a waste of memory for holding temprary data in a.\n",
    "\n",
    "#### But RANGE will not hold list of value and when we iterate through it will give us the value it will not use any extra space as like list. range will remember the last data what it has generated and next based on that it will generate the data."
   ]
  },
  {
   "cell_type": "code",
   "execution_count": 15,
   "id": "fea9c856",
   "metadata": {},
   "outputs": [
    {
     "name": "stdout",
     "output_type": "stream",
     "text": [
      "[0, 1, 1, 2, 3, 5, 8, 13, 21]\n"
     ]
    }
   ],
   "source": [
    "# Here it will create a final list and give the result but to store those value in a list consumes space.\n",
    "# So We can get a range of value through which we can iterate over.\n",
    "\n",
    "def fib(n):\n",
    "    f = 0 \n",
    "    s = 1 \n",
    "    result = []\n",
    "    for i in range(n):\n",
    "        if i == 0 or i == 1 :\n",
    "            result.append(i)\n",
    "        else:\n",
    "            next_value = f + s\n",
    "            result.append(next_value)\n",
    "            f = s\n",
    "            s = next_value\n",
    "    return result\n",
    "\n",
    "print(fib(9))\n",
    "            "
   ]
  },
  {
   "cell_type": "code",
   "execution_count": 17,
   "id": "d08d187d",
   "metadata": {},
   "outputs": [
    {
     "name": "stdout",
     "output_type": "stream",
     "text": [
      "<class 'generator'>\n",
      "0 1 1 2 3 5 8 13 21 "
     ]
    }
   ],
   "source": [
    "# Here we use generate function to get the range of values so that we can iterate over it\n",
    "# we use yield to get the iterator \n",
    "\n",
    "def test_fib(n):\n",
    "    f,s = 0,1 \n",
    "    for i in range(n):\n",
    "        yield f\n",
    "        f,s = s,f+s\n",
    "        \n",
    "it = test_fib(9)\n",
    "print(type(it))\n",
    "\n",
    "# generator gives iterator to iterate over it \n",
    "for num in it:\n",
    "    print(num , end=' ')"
   ]
  }
 ],
 "metadata": {
  "kernelspec": {
   "display_name": "Python 3 (ipykernel)",
   "language": "python",
   "name": "python3"
  },
  "language_info": {
   "codemirror_mode": {
    "name": "ipython",
    "version": 3
   },
   "file_extension": ".py",
   "mimetype": "text/x-python",
   "name": "python",
   "nbconvert_exporter": "python",
   "pygments_lexer": "ipython3",
   "version": "3.9.13"
  }
 },
 "nbformat": 4,
 "nbformat_minor": 5
}
