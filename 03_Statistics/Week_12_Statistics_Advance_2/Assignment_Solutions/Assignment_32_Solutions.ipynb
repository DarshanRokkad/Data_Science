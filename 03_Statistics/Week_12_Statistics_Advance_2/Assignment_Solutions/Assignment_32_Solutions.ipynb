{
 "cells": [
  {
   "cell_type": "markdown",
   "id": "f6fb8b5e",
   "metadata": {},
   "source": [
    "# <font color = 'orange'> Assignment-32 Solutions"
   ]
  },
  {
   "cell_type": "markdown",
   "id": "ebaa80a8",
   "metadata": {},
   "source": [
    "---"
   ]
  },
  {
   "cell_type": "markdown",
   "id": "4d38045d",
   "metadata": {},
   "source": [
    "## Q1. Calculate the 95% confidence interval for a sample of data with a mean of 50 and a standard deviation of 5 using Python. Interpret the results.\n",
    "\n",
    "## <font color = 'red'> Data insufficient sample size is not given."
   ]
  },
  {
   "cell_type": "code",
   "execution_count": 12,
   "id": "062a6a64",
   "metadata": {},
   "outputs": [
    {
     "name": "stdout",
     "output_type": "stream",
     "text": [
      "Confidence interval is [49.00789152424566,50.99210847575434]\n"
     ]
    }
   ],
   "source": [
    "import math \n",
    "import scipy.stats as stat\n",
    "\n",
    "# sample size is not given so we take it as 100\n",
    "sample_size = 100\n",
    "\n",
    "sample_mean = 50 \n",
    "sample_std = 5 \n",
    "confidence_level = 0.95\n",
    "significance = 1 - confidence_level\n",
    "\n",
    "cdf = confidence_level + (significance/2)\n",
    "\n",
    "# percent point function given the corresponding t score for the cumulative distribution function\n",
    "t_stats = stat.t.ppf(cdf,df=sample_size-1)\n",
    "\n",
    "margin_of_error = t_stats * (sample_std / math.sqrt(sample_size))\n",
    "\n",
    "lower_confidence_level = sample_mean - margin_of_error\n",
    "upper_confidence_level = sample_mean + margin_of_error\n",
    "\n",
    "print(f'Confidence interval is [{lower_confidence_level},{upper_confidence_level}]')"
   ]
  },
  {
   "cell_type": "markdown",
   "id": "46add413",
   "metadata": {},
   "source": [
    "---"
   ]
  },
  {
   "cell_type": "markdown",
   "id": "e03101cf",
   "metadata": {},
   "source": [
    "## Q2. Conduct a chi-square goodness of fit test to determine if the distribution of colors of M&Ms in a bag matches the expected distribution of 20% blue, 20% orange, 20% green, 10% yellow, 10% red, and 20% brown. Use Python to perform the test with a significance level of 0.05.\n",
    "\n",
    "## <font color = 'red'> Observed data is not given "
   ]
  },
  {
   "cell_type": "code",
   "execution_count": 14,
   "id": "50bbbeaf",
   "metadata": {},
   "outputs": [
    {
     "name": "stdout",
     "output_type": "stream",
     "text": [
      "Test Chi2 statistic: 5.0\n",
      "p-value: 0.4158801869955079\n",
      "Critical Chi Square value for 0.05 significance level for 5 degrees of freedom is : 11.0705\n",
      "\n",
      "Fail to reject null hypothesis\n",
      "Conclusion : The distribution of colors of M&Ms in the bag matches the expected distribution.\n"
     ]
    }
   ],
   "source": [
    "import numpy as np\n",
    "from scipy.stats import chisquare\n",
    "from scipy.stats import chi2\n",
    "\n",
    "obs_freq = np.array([10, 20, 15, 5, 5, 15])\n",
    "exp_freq = np.array([0.2, 0.2, 0.2, 0.1, 0.1, 0.2]) * np.sum(obs_freq)\n",
    "\n",
    "null_hypothesis = \"The distribution of colors of M&Ms in the bag matches the expected distribution.\"\n",
    "alternate_hypothesis = \"The distribution of colors of M&Ms in the bag does not match the expected distribution.\"\n",
    "\n",
    "# perform chi-square goodness of fit test\n",
    "test_statistic, p_value = chisquare(obs_freq, exp_freq)\n",
    "\n",
    "# print results\n",
    "print(\"Test Chi2 statistic:\", test_statistic)\n",
    "print(\"p-value:\", p_value)\n",
    "\n",
    "# Critical chi2 value\n",
    "df = len(obs_freq)-1\n",
    "alpha = 0.05\n",
    "chi2_crit = chi2.ppf(1-alpha,df)\n",
    "print(f\"Critical Chi Square value for {alpha} significance level for {df} degrees of freedom is : {chi2_crit:.4f}\")\n",
    "\n",
    "print()\n",
    "# compare p-value with significance level\n",
    "alpha = 0.05\n",
    "if p_value < alpha:\n",
    "    print(\"Reject null hypothesis\")\n",
    "    print(f\"Conculsion : {alternate_hypothesis}\")\n",
    "else:\n",
    "    print(\"Fail to reject null hypothesis\")\n",
    "    print(f\"Conclusion : {null_hypothesis}\")"
   ]
  },
  {
   "cell_type": "markdown",
   "id": "15d6e75d",
   "metadata": {},
   "source": [
    "---"
   ]
  },
  {
   "attachments": {
    "image.png": {
     "image/png": "[encoded data removed]"
    }
   },
   "cell_type": "markdown",
   "id": "7270477a",
   "metadata": {},
   "source": [
    "## Q3. Use Python to calculate the chi-square statistic and p-value for a contingency table with the following data:\n",
    "![image.png](attachment:image.png)\n",
    "## Interpret the results of the test."
   ]
  },
  {
   "cell_type": "code",
   "execution_count": 18,
   "id": "2aeb9b9e",
   "metadata": {},
   "outputs": [
    {
     "name": "stdout",
     "output_type": "stream",
     "text": [
      "\n",
      "Expected Frequencies : \n",
      "           Group A  Group B\n",
      "Outcome 1     15.0     20.0\n",
      "Outcome 2     15.0     20.0\n",
      "Outcome 3     15.0     20.0\n",
      "\n",
      "Chi square statistic :  5.833333333333334\n",
      "P-value statistic :  0.05411376622282158\n",
      "Degree of freedom :  2\n"
     ]
    }
   ],
   "source": [
    "from scipy.stats import chi2_contingency\n",
    "import numpy as np\n",
    "import pandas as pd\n",
    "\n",
    "contingency_table = np.array([[20,15],[10,25],[15,20]])\n",
    "\n",
    "#chisquare test for independence\n",
    "chi_square,p_value,degree,expected = chi2_contingency(contingency_table)\n",
    "\n",
    "expected_df = pd.DataFrame(expected)\n",
    "expected_df.columns = ['Group A','Group B']\n",
    "expected_df.index = ['Outcome 1','Outcome 2','Outcome 3']\n",
    "\n",
    "\n",
    "print(f\"\\nExpected Frequencies : \\n{expected_df}\")\n",
    "print()\n",
    "print(\"Chi square statistic : \" , chi_square)\n",
    "print(\"P-value statistic : \" , p_value)\n",
    "print(\"Degree of freedom : \" , degree)"
   ]
  },
  {
   "cell_type": "markdown",
   "id": "ddcf9c7e",
   "metadata": {},
   "source": [
    "---"
   ]
  },
  {
   "cell_type": "markdown",
   "id": "9cda0acb",
   "metadata": {},
   "source": [
    "## Q4. A study of the prevalence of smoking in a population of 500 individuals found that 60 individuals smoked. Use Python to calculate the 95% confidence interval for the true proportion of individuals in the population who smoke."
   ]
  },
  {
   "cell_type": "code",
   "execution_count": null,
   "id": "57973277",
   "metadata": {},
   "outputs": [],
   "source": []
  },
  {
   "cell_type": "markdown",
   "id": "ef998e79",
   "metadata": {},
   "source": [
    "---"
   ]
  },
  {
   "cell_type": "markdown",
   "id": "8b70a1bf",
   "metadata": {},
   "source": [
    "## Q5. Calculate the 90% confidence interval for a sample of data with a mean of 75 and a standard deviation of 12 using Python. Interpret the results."
   ]
  },
  {
   "cell_type": "code",
   "execution_count": null,
   "id": "68f695a5",
   "metadata": {},
   "outputs": [],
   "source": []
  },
  {
   "cell_type": "markdown",
   "id": "fc73efbf",
   "metadata": {},
   "source": [
    "---"
   ]
  },
  {
   "cell_type": "markdown",
   "id": "dd93d3cd",
   "metadata": {},
   "source": [
    "## Q6. Use Python to plot the chi-square distribution with 10 degrees of freedom. Label the axes and shade the area corresponding to a chi-square statistic of 15."
   ]
  },
  {
   "cell_type": "code",
   "execution_count": null,
   "id": "28eba44e",
   "metadata": {},
   "outputs": [],
   "source": []
  },
  {
   "cell_type": "markdown",
   "id": "8cf28f4d",
   "metadata": {},
   "source": [
    "---"
   ]
  },
  {
   "cell_type": "markdown",
   "id": "b1219b18",
   "metadata": {},
   "source": [
    "## Q7. A random sample of 1000 people was asked if they preferred Coke or Pepsi. Of the sample, 520 preferred Coke. Calculate a 99% confidence interval for the true proportion of people in the population who prefer Coke."
   ]
  },
  {
   "cell_type": "code",
   "execution_count": null,
   "id": "44c23109",
   "metadata": {},
   "outputs": [],
   "source": []
  },
  {
   "cell_type": "markdown",
   "id": "600694e2",
   "metadata": {},
   "source": [
    "---"
   ]
  },
  {
   "cell_type": "markdown",
   "id": "736f6011",
   "metadata": {},
   "source": [
    "## Q8. A researcher hypothesizes that a coin is biased towards tails. They flip the coin 100 times and observe 45 tails. Conduct a chi-square goodness of fit test to determine if the observed frequencies match the expected frequencies of a fair coin. Use a significance level of 0.05."
   ]
  },
  {
   "cell_type": "code",
   "execution_count": null,
   "id": "34fbcf60",
   "metadata": {},
   "outputs": [],
   "source": []
  },
  {
   "cell_type": "markdown",
   "id": "dc1444d0",
   "metadata": {},
   "source": [
    "---"
   ]
  },
  {
   "attachments": {
    "image.png": {
     "image/png": "[encoded data removed]"
    }
   },
   "cell_type": "markdown",
   "id": "851440e1",
   "metadata": {},
   "source": [
    "## Q9. A study was conducted to determine if there is an association between smoking status (smoker or non-smoker) and lung cancer diagnosis (yes or no). The results are shown in the contingency table below. Conduct a chi-square test for independence to determine if there is a significant association between smoking status and lung cancer diagnosis.  \n",
    "![image.png](attachment:image.png)\n",
    "## Use a significance level of 0.05."
   ]
  },
  {
   "cell_type": "code",
   "execution_count": null,
   "id": "db4df2c2",
   "metadata": {},
   "outputs": [],
   "source": []
  },
  {
   "cell_type": "markdown",
   "id": "eedb6729",
   "metadata": {},
   "source": [
    "---"
   ]
  },
  {
   "attachments": {
    "image.png": {
     "image/png": "[encoded data removed]"
    }
   },
   "cell_type": "markdown",
   "id": "d2b1ed83",
   "metadata": {},
   "source": [
    "## Q10. A study was conducted to determine if the proportion of people who prefer milk chocolate, dark chocolate, or white chocolate is different in the U.S. versus the U.K. A random sample of 500 people from the U.S. and a random sample of 500 people from the U.K. were surveyed. The results are shown in the contingency table below. Conduct a chi-square test for independence to determine if there is a significant association between chocolate preference and country of origin.\n",
    "![image.png](attachment:image.png)\n",
    "## Use a significance level of 0.01."
   ]
  },
  {
   "cell_type": "code",
   "execution_count": null,
   "id": "ed4282e9",
   "metadata": {},
   "outputs": [],
   "source": []
  },
  {
   "cell_type": "markdown",
   "id": "42626a88",
   "metadata": {},
   "source": [
    "---"
   ]
  },
  {
   "cell_type": "markdown",
   "id": "101d3ebe",
   "metadata": {},
   "source": [
    "## Q11. A random sample of 30 people was selected from a population with an unknown mean and standard deviation. The sample mean was found to be 72 and the sample standard deviation was found to be 10. Conduct a hypothesis test to determine if the population mean is significantly different from 70. Use a significance level of 0.05."
   ]
  },
  {
   "cell_type": "code",
   "execution_count": null,
   "id": "eaaee141",
   "metadata": {},
   "outputs": [],
   "source": []
  },
  {
   "cell_type": "markdown",
   "id": "636e0ff3",
   "metadata": {},
   "source": [
    "---"
   ]
  }
 ],
 "metadata": {
  "kernelspec": {
   "display_name": "Python 3 (ipykernel)",
   "language": "python",
   "name": "python3"
  },
  "language_info": {
   "codemirror_mode": {
    "name": "ipython",
    "version": 3
   },
   "file_extension": ".py",
   "mimetype": "text/x-python",
   "name": "python",
   "nbconvert_exporter": "python",
   "pygments_lexer": "ipython3",
   "version": "3.9.13"
  }
 },
 "nbformat": 4,
 "nbformat_minor": 5
}
