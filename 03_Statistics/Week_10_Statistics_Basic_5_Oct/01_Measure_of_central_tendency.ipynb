{
 "cells": [
  {
   "cell_type": "markdown",
   "id": "e4ba8ea8",
   "metadata": {},
   "source": [
    "# <font color = 'orange'> Measure of central tendency"
   ]
  },
  {
   "cell_type": "markdown",
   "id": "22ff778d",
   "metadata": {},
   "source": [
    "---"
   ]
  },
  {
   "cell_type": "markdown",
   "id": "188e3be5",
   "metadata": {},
   "source": [
    "## Mean"
   ]
  },
  {
   "cell_type": "code",
   "execution_count": 1,
   "id": "241d392b",
   "metadata": {},
   "outputs": [
    {
     "data": {
      "text/plain": [
       "[12, 13, 14, 21, 24]"
      ]
     },
     "execution_count": 1,
     "metadata": {},
     "output_type": "execute_result"
    }
   ],
   "source": [
    "age =  [12,13,14,21,24]\n",
    "age"
   ]
  },
  {
   "cell_type": "code",
   "execution_count": 2,
   "id": "5a369a62",
   "metadata": {},
   "outputs": [
    {
     "data": {
      "text/plain": [
       "16.8"
      ]
     },
     "execution_count": 2,
     "metadata": {},
     "output_type": "execute_result"
    }
   ],
   "source": [
    "# mean according to calculation\n",
    "(12+13+14+21+24)/5"
   ]
  },
  {
   "cell_type": "code",
   "execution_count": 3,
   "id": "9fdeefe6",
   "metadata": {
    "scrolled": true
   },
   "outputs": [
    {
     "name": "stdout",
     "output_type": "stream",
     "text": [
      "[12 13 14 21 24]\n",
      "Mean : 16.8\n"
     ]
    }
   ],
   "source": [
    "import numpy as np \n",
    "arr_age = np.array(age)\n",
    "print(arr_age)\n",
    "print('Mean :',np.mean(age))"
   ]
  },
  {
   "cell_type": "markdown",
   "id": "fb371970",
   "metadata": {},
   "source": [
    "---"
   ]
  },
  {
   "cell_type": "markdown",
   "id": "4ac08da2",
   "metadata": {},
   "source": [
    "## Median"
   ]
  },
  {
   "cell_type": "code",
   "execution_count": 4,
   "id": "9e783191",
   "metadata": {},
   "outputs": [
    {
     "data": {
      "text/plain": [
       "[45, 34, 55, 76, 45, 35, 89, 98, 75]"
      ]
     },
     "execution_count": 4,
     "metadata": {},
     "output_type": "execute_result"
    }
   ],
   "source": [
    "weights=[45,34,55,76,45,35,89,98,75]\n",
    "weights"
   ]
  },
  {
   "cell_type": "code",
   "execution_count": 5,
   "id": "00d03331",
   "metadata": {},
   "outputs": [
    {
     "name": "stdout",
     "output_type": "stream",
     "text": [
      "Mean : 61.333333333333336\n",
      "Median : 55.0\n"
     ]
    }
   ],
   "source": [
    "print('Mean :',np.mean(weights))\n",
    "print('Median :',np.median(weights))"
   ]
  },
  {
   "cell_type": "markdown",
   "id": "e19ce2c5",
   "metadata": {},
   "source": [
    "### presence of an outlier"
   ]
  },
  {
   "cell_type": "code",
   "execution_count": 6,
   "id": "2d01ea5c",
   "metadata": {},
   "outputs": [
    {
     "data": {
      "text/plain": [
       "[45, 34, 55, 76, 45, 35, 89, 98, 75, 1000]"
      ]
     },
     "execution_count": 6,
     "metadata": {},
     "output_type": "execute_result"
    }
   ],
   "source": [
    "weights=[45,34,55,76,45,35,89,98,75,1000]\n",
    "weights"
   ]
  },
  {
   "cell_type": "code",
   "execution_count": 7,
   "id": "fe106dde",
   "metadata": {},
   "outputs": [
    {
     "name": "stdout",
     "output_type": "stream",
     "text": [
      "Mean : 155.2\n",
      "Median : 65.0\n"
     ]
    }
   ],
   "source": [
    "print('Mean :',np.mean(weights))\n",
    "print('Median :',np.median(weights))"
   ]
  },
  {
   "cell_type": "markdown",
   "id": "2d868e51",
   "metadata": {},
   "source": [
    "#### Due to presence of outlier ,mean will disperse more from actuall mean but not median "
   ]
  },
  {
   "cell_type": "markdown",
   "id": "92c67a54",
   "metadata": {},
   "source": [
    "---"
   ]
  },
  {
   "cell_type": "markdown",
   "id": "5636a554",
   "metadata": {},
   "source": [
    "## Mode"
   ]
  },
  {
   "cell_type": "code",
   "execution_count": 8,
   "id": "988002a6",
   "metadata": {},
   "outputs": [],
   "source": [
    "from scipy import stats"
   ]
  },
  {
   "cell_type": "code",
   "execution_count": 9,
   "id": "6ff72e6b",
   "metadata": {},
   "outputs": [
    {
     "name": "stderr",
     "output_type": "stream",
     "text": [
      "C:\\Users\\darsh\\AppData\\Local\\Temp\\ipykernel_10376\\4197893964.py:1: FutureWarning: Unlike other reduction functions (e.g. `skew`, `kurtosis`), the default behavior of `mode` typically preserves the axis it acts along. In SciPy 1.11.0, this behavior will change: the default value of `keepdims` will become False, the `axis` over which the statistic is taken will be eliminated, and the value None will no longer be accepted. Set `keepdims` to True or False to avoid this warning.\n",
      "  stats.mode(weights)\n"
     ]
    },
    {
     "data": {
      "text/plain": [
       "ModeResult(mode=array([45]), count=array([2]))"
      ]
     },
     "execution_count": 9,
     "metadata": {},
     "output_type": "execute_result"
    }
   ],
   "source": [
    "stats.mode(weights)"
   ]
  },
  {
   "cell_type": "markdown",
   "id": "c7062310",
   "metadata": {},
   "source": [
    "---"
   ]
  }
 ],
 "metadata": {
  "kernelspec": {
   "display_name": "Python 3 (ipykernel)",
   "language": "python",
   "name": "python3"
  },
  "language_info": {
   "codemirror_mode": {
    "name": "ipython",
    "version": 3
   },
   "file_extension": ".py",
   "mimetype": "text/x-python",
   "name": "python",
   "nbconvert_exporter": "python",
   "pygments_lexer": "ipython3",
   "version": "3.9.13"
  }
 },
 "nbformat": 4,
 "nbformat_minor": 5
}
