{
 "cells": [
  {
   "cell_type": "markdown",
   "id": "d9c083fb",
   "metadata": {},
   "source": [
    "# <font color = 'orange'> Assignment-26 Solutions"
   ]
  },
  {
   "cell_type": "markdown",
   "id": "617f3f0f",
   "metadata": {},
   "source": [
    "---"
   ]
  },
  {
   "cell_type": "markdown",
   "id": "b17294e0",
   "metadata": {},
   "source": [
    "## Q1. What is Statistics?"
   ]
  },
  {
   "cell_type": "markdown",
   "id": "10223e93",
   "metadata": {},
   "source": [
    "#### Statistics is the science of collecting , orgranizing and analyzing of data. It provides a set of tools and techniques for making sense of complex and often uncertain information. Statistics is used in various disciplines and industries to draw conclusions, make informed decisions, and understand patterns or trends in data."
   ]
  },
  {
   "cell_type": "markdown",
   "id": "a23ad800",
   "metadata": {},
   "source": [
    "---"
   ]
  },
  {
   "cell_type": "markdown",
   "id": "75c74036",
   "metadata": {},
   "source": [
    "## Q2. Define the different types of statistics and give an example of when each type might be used."
   ]
  },
  {
   "cell_type": "markdown",
   "id": "fef05d44",
   "metadata": {},
   "source": [
    "#### There are 2 types of statistics :\n",
    "\n",
    "#### 1.Descriptive Statistics : Descriptive statistics involve the collection, organization, summarization, and presentation of data. They help you describe and understand the main characteristics and patterns within a dataset. \n",
    "#### Example: Suppose you are a teacher and you want to understand the performance of your students in a recent math test. You calculate the mean (average) score, the median (middle score), and the standard deviation (a measure of how spread out the scores are). You may also create a histogram to visualize the distribution of scores. These descriptive statistics will give you a clear picture of how your students performed on the test.\n",
    "\n",
    "#### 2.Informative Statistics : Inferential statistics involve making predictions, inferences, or generalizations about a population based on a sample of data. These methods are used to draw conclusions and test hypotheses. \n",
    "#### Example: Imagine a pharmaceutical company wants to test a new drug's effectiveness in reducing blood pressure. Instead of testing the drug on every potential patient, which would be impractical, they select a random sample of patients and administer the drug. Afterward, they use inferential statistics to determine if the observed reduction in blood pressure in the sample is statistically significant and can be generalized to the larger population of patients with high blood pressure."
   ]
  },
  {
   "cell_type": "markdown",
   "id": "1c4913a1",
   "metadata": {},
   "source": [
    "---"
   ]
  },
  {
   "cell_type": "markdown",
   "id": "e82b8139",
   "metadata": {},
   "source": [
    "## Q3.  What are the different types of data and how do they differ from each other? Provide an example of each type of data."
   ]
  },
  {
   "cell_type": "markdown",
   "id": "9e1ffc4a",
   "metadata": {},
   "source": [
    "### Majorly we have 2 types of data:\n",
    "### 1. Quantitative.\n",
    "### a. Discrete:  \n",
    "#### Discrete data consist of individual, distinct, and separate values or categories.These values are typically countable and often represent whole numbers or categories with gaps between them.Discrete data points do not have values between them.\n",
    "#### Examples of discrete data include the number of students in a class, the number of cars in a parking lot, and the number of books on a shelf.\n",
    "### b. Continuos: \n",
    "#### Continuous data consist of an unbroken range of values, and there are no gaps between these values. These values can take on any real number within a certain range.Continuous data is typically measured and can have decimal or fractional values.\n",
    "#### Examples of continuous data include height measurements (e.g., 175.5 cm), temperature (e.g., 22.75°C), and weight (e.g., 68.3 kg).\n",
    "\n",
    "### 2. Qualitative.\n",
    "### a. Nominal: \n",
    "#### Nominal data, also known as categorical data, consist of categories or labels without any inherent order or ranking. The categories are typically mutually exclusive.\n",
    "#### Example: Colors (e.g., red, blue, green), Types of fruits (e.g., apple, banana, orange), Gender (e.g., male, female, non-binary).\n",
    "### b. Ordinal: \n",
    "#### Ordinal data represent categories with a meaningful order or ranking, but the intervals between categories are not necessarily equal.\n",
    "#### Example: Educational levels (e.g., high school diploma, bachelor's degree, master's degree), Survey responses (e.g., strongly agree, agree, neutral, disagree, strongly disagree)."
   ]
  },
  {
   "cell_type": "markdown",
   "id": "9166321b",
   "metadata": {},
   "source": [
    "---"
   ]
  },
  {
   "cell_type": "markdown",
   "id": "b62dc5d5",
   "metadata": {},
   "source": [
    "## Q4. Categorise the following datasets with respect to quantitative and qualitative data types:\n",
    "\n",
    "### (i)\tGrading in exam: A+, A, B+, B, C+, C, D, E\n",
    "\n",
    "### (ii)\tColour of mangoes: yellow, green, orange, red\n",
    "\n",
    "### (iii)\tHeight data of a class: [178.9, 179, 179.5, 176, 177.2, 178.3, 175.8,...]\n",
    "\n",
    "### (iv)\tNumber of mangoes exported by a farm: [500, 600, 478, 672, …]"
   ]
  },
  {
   "cell_type": "markdown",
   "id": "9ab3ce4c",
   "metadata": {},
   "source": [
    "#### (i) Grading in exam: Qualitative(ordinal).\n",
    "#### (ii) Colour of mangoes: Qualitative(nominal).\n",
    "#### (iii) Height data of a class: Quantitative(continuous).\n",
    "#### (iv) Number of mangoes exported by a farm: Quantitative(Discreate)."
   ]
  },
  {
   "cell_type": "markdown",
   "id": "0c8ae09b",
   "metadata": {},
   "source": [
    "---"
   ]
  },
  {
   "cell_type": "markdown",
   "id": "4675b0f5",
   "metadata": {},
   "source": [
    "## Q5. Explain the concept of levels of measurement and give an example of a variable for each level."
   ]
  },
  {
   "cell_type": "markdown",
   "id": "445bb734",
   "metadata": {},
   "source": [
    "### 1.Nominal Level of Measurement:\n",
    "\n",
    "* Nominal data are the simplest and most basic type of data.\n",
    "* At this level, data are categorized into distinct, non-numeric categories or labels, and there is no inherent order or ranking among the categories.\n",
    "* Nominal data can only be used for qualitative descriptions and are typically analyzed using frequencies and modes.\n",
    "#### Example: Eye color is a nominal variable. Categories include brown, blue, green, and so on. There is no inherent order or ranking among these categories; they are simply labels.\n",
    "\n",
    "### 2.Ordinal Level of Measurement:\n",
    "\n",
    "* Ordinal data have categories that possess a meaningful order or ranking, but the intervals between categories are not necessarily equal or measurable.\n",
    "* The distance between ordinal categories may not be uniform, making it inappropriate to perform arithmetic operations.\n",
    "#### Example: Educational attainment is an ordinal variable. Categories like \"high school diploma,\" \"bachelor's degree,\" and \"master's degree\" represent an order of increasing education level, but the difference between each level is not quantitatively equivalent.\n",
    "\n",
    "### 3.Interval Level of Measurement:\n",
    "\n",
    "* Interval data have ordered categories with equal intervals between them, but they lack a true zero point.\n",
    "* Arithmetic operations such as addition and subtraction are meaningful, but multiplication and division are not, as there is no true zero.\n",
    "#### Example: Temperature in degrees Celsius or Fahrenheit is an interval variable. The difference between 10°C and 20°C is the same as between 20°C and 30°C, but a temperature of 0°C or 0°F does not represent the complete absence of temperature.\n",
    "\n",
    "### 4.Ratio Level of Measurement:\n",
    "\n",
    "* Ratio data have ordered categories with equal intervals between them, and they possess a true zero point, indicating the complete absence of the attribute.\n",
    "* All arithmetic operations, including multiplication and division, are meaningful for ratio data.\n",
    "#### Example: Height in centimeters is a ratio variable. A height of 0 cm represents the complete absence of height, and you can perform meaningful operations like doubling someone's height (e.g., 160 cm to 320 cm) or calculating height ratios (e.g., 160 cm is twice as tall as 80 cm)."
   ]
  },
  {
   "cell_type": "markdown",
   "id": "85659d3d",
   "metadata": {},
   "source": [
    "---"
   ]
  },
  {
   "cell_type": "markdown",
   "id": "a8162658",
   "metadata": {},
   "source": [
    "### Q6. Why is it important to understand the level of measurement when analyzing data? Provide an example to illustrate your answer."
   ]
  },
  {
   "cell_type": "markdown",
   "id": "b60557e9",
   "metadata": {},
   "source": [
    "#### Understanding the level of measurement when analyzing data is crucial because it determines the types of statistical operations that can be performed on the data, the appropriate summary statistics to use, and the meaningfulness of certain calculations. Failing to consider the level of measurement can lead to inappropriate or misleading conclusions.\n",
    "\n",
    "#### Example : Suppose we are collecting data on people's levels of satisfaction with a new product, and they can respond with \"Satisfied,\" \"Neutral,\" or \"Dissatisfied.\"\n",
    "\n",
    "#### Nominal Level: If we treat this data as nominal, we can count the number of people in each category. For example, we might have 50 people satisfied, 30 neutral, and 20 dissatisfied. But you can't calculate an average satisfaction level.\n",
    "\n",
    "#### Ordinal Level: If we treat it as ordinal, we acknowledge the order but not the equal intervals between categories. we can say more people are satisfied than dissatisfied, but you can't quantify the difference in satisfaction levels.\n",
    "\n",
    "#### Interval or Ratio Level: If we assigned numerical values to the categories (e.g., \"Satisfied\"=3, \"Neutral\"=2, \"Dissatisfied\"=1) and treated it as interval or ratio data, we could calculate an average satisfaction score. For instance, the average satisfaction score is (3 + 2 + 1) / 3 = 2, which might be interpreted as a \"neutral\" overall satisfaction level."
   ]
  },
  {
   "cell_type": "markdown",
   "id": "e3c515f4",
   "metadata": {},
   "source": [
    "---"
   ]
  },
  {
   "cell_type": "markdown",
   "id": "ccdfa0d2",
   "metadata": {},
   "source": [
    "### Q7. How nominal data type is different from ordinal data type."
   ]
  },
  {
   "cell_type": "markdown",
   "id": "6d5db0b8",
   "metadata": {},
   "source": [
    "#### Nature of Categories:\n",
    "\n",
    "* Nominal Data: In nominal data, categories or labels represent distinct, non-numeric attributes or groups. These categories have no inherent order, ranking, or numerical significance. They are used to classify items into mutually exclusive groups.\n",
    "* Ordinal Data: In ordinal data, categories also represent attributes or groups, but they have a meaningful order or ranking. The order indicates a relative position or preference among the categories, but the intervals between categories may not be equal or quantitatively meaningful.\n",
    "\n",
    "#### Arithmetic Operations:\n",
    "\n",
    "* Nominal Data: Arithmetic operations like addition, subtraction, multiplication, and division are not meaningful for nominal data. You can't perform mathematical calculations on nominal categories.\n",
    "* Ordinal Data: While you can determine the order or ranking of categories in ordinal data, arithmetic operations are still not meaningful. You can't say that the difference between two ordinal categories represents a specific quantity or amount."
   ]
  },
  {
   "cell_type": "markdown",
   "id": "8b76dac1",
   "metadata": {},
   "source": [
    "---"
   ]
  },
  {
   "cell_type": "markdown",
   "id": "6046ca4a",
   "metadata": {},
   "source": [
    "### Q8. Which type of plot can be used to display data in terms of range?"
   ]
  },
  {
   "cell_type": "markdown",
   "id": "a847c08b",
   "metadata": {},
   "source": [
    "#### To display data in terms of range, a box plot, also known as a box-and-whisker plot, is a suitable choice. A box plot is a graphical representation that summarizes the distribution of a dataset, including the range, quartiles, and potential outliers. It provides a visual depiction of the central tendency and spread of the data.\n",
    "#### Box plot contains minimum, maximum, 25% , 50% ,75% .\n",
    "#### From Box plot we can determine the scewness of the curve, We can determine the outliers present in the data and many more."
   ]
  },
  {
   "cell_type": "markdown",
   "id": "5a0472e5",
   "metadata": {},
   "source": [
    "---"
   ]
  },
  {
   "cell_type": "markdown",
   "id": "d92e118e",
   "metadata": {},
   "source": [
    "### Q9. Describe the difference between descriptive and inferential statistics. Give an example of each type of statistics and explain how they are used."
   ]
  },
  {
   "cell_type": "markdown",
   "id": "dcea40b9",
   "metadata": {},
   "source": [
    "#### Descriptive Statistics:\n",
    "\n",
    "* Descriptive statistics involve summarizing, organizing, and presenting data in a meaningful and concise manner. They aim to provide a clear and understandable snapshot of the main characteristics of a dataset.\n",
    "* Descriptive statistics do not involve making inferences or drawing conclusions beyond the data itself. Instead, they focus on describing what the data looks like.\n",
    "* Common measures in descriptive statistics include the mean (average), median (middle value), mode (most frequent value), range (difference between the maximum and minimum values), and measures of dispersion like the standard deviation.\n",
    "* Example: Let's say you have a dataset of test scores (95, 88, 76, 92, 85) for a group of students. You calculate the mean score (average) to understand the typical performance of the students. In this case, the mean is (95 + 88 + 76 + 92 + 85) / 5 = 87.2. This provides a descriptive summary of the dataset.\n",
    "* Use: Descriptive statistics are used to provide a clear and concise summary of data, which is helpful for understanding data distributions, identifying patterns, and making data more interpretable.\n",
    "\n",
    "#### Inferential Statistics:\n",
    "\n",
    "* Inferential statistics involve drawing conclusions, making predictions, or testing hypotheses about a population based on a sample of data. They extend beyond the observed data to make generalizations.\n",
    "* Inferential statistics use techniques such as hypothesis testing, confidence intervals, regression analysis, and analysis of variance (ANOVA) to make inferences about a larger population.\n",
    "* These techniques allow researchers to assess whether observed patterns or differences are statistically significant and whether they can be generalized to the entire population.\n",
    "* Example: Imagine you want to determine if a new weight loss program is effective. You select a sample of participants and measure their weight loss after the program. Using inferential statistics, you can perform hypothesis tests to assess whether the observed weight loss in the sample is statistically significant and whether it can be generalized to the broader population.\n",
    "* Use: Inferential statistics are used to make informed decisions, test research hypotheses, and generalize findings from a sample to a larger population. They are critical in scientific research, quality control, policy analysis, and many other fields where making predictions and drawing conclusions from data are essential."
   ]
  },
  {
   "cell_type": "markdown",
   "id": "4f9c8d1f",
   "metadata": {},
   "source": [
    "---"
   ]
  },
  {
   "cell_type": "markdown",
   "id": "7c5aadba",
   "metadata": {},
   "source": [
    "### Q10. What are some common measures of central tendency and variability used in statistics? Explain how each measure can be used to describe a dataset."
   ]
  },
  {
   "cell_type": "markdown",
   "id": "62f7d631",
   "metadata": {},
   "source": [
    "### Measures of Central Tendency:\n",
    "1. Mean (Average):\n",
    "\n",
    "* The mean is calculated by summing all the data points in a dataset and then dividing by the number of data points.\n",
    "* It represents the \"typical\" value in the dataset and provides an overall sense of the data's center.\n",
    "* The mean is sensitive to outliers and extreme values, so it may not accurately represent the center if the data is skewed.\n",
    "\n",
    "2. Median:\n",
    "\n",
    "* The median is the middle value when the data is sorted in ascending or descending order.\n",
    "* It is less affected by extreme values or outliers compared to the mean.\n",
    "* The median is especially useful when the data is skewed or contains outliers.\n",
    "\n",
    "3. Mode:\n",
    "* The mode is the value that appears most frequently in the dataset.\n",
    "* It can be used to describe the most common value or category in a dataset.\n",
    "* A dataset can have one mode (unimodal), multiple modes (multimodal), or no mode (no value is repeated).\n",
    "\n",
    "### Measures of Variability (Dispersion):\n",
    "1. Variance:\n",
    "* Variance measures the average squared deviation of each data point from the mean.\n",
    "* It quantifies how spread out the data points are around the mean.\n",
    "* Variance is useful for understanding the degree of variability, but its units are squared, making it less interpretable.\n",
    "\n",
    "2. Standard Deviation:\n",
    "* The standard deviation is the square root of the variance.\n",
    "* It provides a more interpretable measure of the spread of data because it's in the same units as the original data.\n",
    "* Standard deviation indicates the average deviation of data points from the mean, with higher values indicating greater variability."
   ]
  },
  {
   "cell_type": "markdown",
   "id": "33772318",
   "metadata": {},
   "source": [
    "---"
   ]
  }
 ],
 "metadata": {
  "kernelspec": {
   "display_name": "Python 3 (ipykernel)",
   "language": "python",
   "name": "python3"
  },
  "language_info": {
   "codemirror_mode": {
    "name": "ipython",
    "version": 3
   },
   "file_extension": ".py",
   "mimetype": "text/x-python",
   "name": "python",
   "nbconvert_exporter": "python",
   "pygments_lexer": "ipython3",
   "version": "3.9.13"
  }
 },
 "nbformat": 4,
 "nbformat_minor": 5
}
