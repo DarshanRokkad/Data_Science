{
 "cells": [
  {
   "cell_type": "markdown",
   "id": "85864d50",
   "metadata": {},
   "source": [
    "# <font color = 'orange'> Measure of despersion"
   ]
  },
  {
   "cell_type": "markdown",
   "id": "29d37ae3",
   "metadata": {},
   "source": [
    "---"
   ]
  },
  {
   "cell_type": "markdown",
   "id": "5fc2dc12",
   "metadata": {},
   "source": [
    "## Variance and Standard deviation"
   ]
  },
  {
   "cell_type": "code",
   "execution_count": 1,
   "id": "7617dd61",
   "metadata": {},
   "outputs": [
    {
     "data": {
      "text/plain": [
       "[23, 43, 23, 56, 74, 32, 68, 98, 45, 32]"
      ]
     },
     "execution_count": 1,
     "metadata": {},
     "output_type": "execute_result"
    }
   ],
   "source": [
    "ages_list = [23,43,23,56,74,32,68,98,45,32]\n",
    "ages_list"
   ]
  },
  {
   "cell_type": "markdown",
   "id": "366af30e",
   "metadata": {},
   "source": [
    "---"
   ]
  },
  {
   "cell_type": "markdown",
   "id": "9d47cf21",
   "metadata": {},
   "source": [
    "### Using Numpy"
   ]
  },
  {
   "cell_type": "code",
   "execution_count": 2,
   "id": "33771e6a",
   "metadata": {},
   "outputs": [],
   "source": [
    "import numpy as np "
   ]
  },
  {
   "cell_type": "code",
   "execution_count": 3,
   "id": "9050266a",
   "metadata": {},
   "outputs": [
    {
     "name": "stdout",
     "output_type": "stream",
     "text": [
      "Mean : 49.4\n"
     ]
    }
   ],
   "source": [
    "mean = np.mean(ages_list)\n",
    "print('Mean :',mean)"
   ]
  },
  {
   "cell_type": "code",
   "execution_count": 4,
   "id": "68fb6b62",
   "metadata": {},
   "outputs": [
    {
     "name": "stdout",
     "output_type": "stream",
     "text": [
      "Variance : 541.64\n"
     ]
    }
   ],
   "source": [
    "variance = np.var(ages_list)\n",
    "print('Variance :',variance)"
   ]
  },
  {
   "cell_type": "code",
   "execution_count": 5,
   "id": "2ad830ea",
   "metadata": {},
   "outputs": [
    {
     "name": "stdout",
     "output_type": "stream",
     "text": [
      "Standard Deviation : 23.273160507331188\n"
     ]
    }
   ],
   "source": [
    "standard_deviation = np.std(ages_list)\n",
    "print('Standard Deviation :',standard_deviation)"
   ]
  },
  {
   "cell_type": "markdown",
   "id": "b3b7cf79",
   "metadata": {},
   "source": [
    "---"
   ]
  },
  {
   "cell_type": "markdown",
   "id": "76c3559c",
   "metadata": {},
   "source": [
    "### Using Pandas "
   ]
  },
  {
   "cell_type": "code",
   "execution_count": 6,
   "id": "fe61f112",
   "metadata": {},
   "outputs": [
    {
     "data": {
      "text/plain": [
       "[[10, 12, 13], [34, 23, 45], [32, 34, 21]]"
      ]
     },
     "execution_count": 6,
     "metadata": {},
     "output_type": "execute_result"
    }
   ],
   "source": [
    "data = [[10,12,13],[34,23,45],[32,34,21]]\n",
    "data"
   ]
  },
  {
   "cell_type": "code",
   "execution_count": 7,
   "id": "2820b2ac",
   "metadata": {},
   "outputs": [],
   "source": [
    "import pandas as pd "
   ]
  },
  {
   "cell_type": "code",
   "execution_count": 8,
   "id": "2a384680",
   "metadata": {},
   "outputs": [
    {
     "data": {
      "text/html": [
       "<div>\n",
       "<style scoped>\n",
       "    .dataframe tbody tr th:only-of-type {\n",
       "        vertical-align: middle;\n",
       "    }\n",
       "\n",
       "    .dataframe tbody tr th {\n",
       "        vertical-align: top;\n",
       "    }\n",
       "\n",
       "    .dataframe thead th {\n",
       "        text-align: right;\n",
       "    }\n",
       "</style>\n",
       "<table border=\"1\" class=\"dataframe\">\n",
       "  <thead>\n",
       "    <tr style=\"text-align: right;\">\n",
       "      <th></th>\n",
       "      <th>column 1</th>\n",
       "      <th>column 2</th>\n",
       "      <th>column 3</th>\n",
       "    </tr>\n",
       "  </thead>\n",
       "  <tbody>\n",
       "    <tr>\n",
       "      <th>row 1</th>\n",
       "      <td>10</td>\n",
       "      <td>12</td>\n",
       "      <td>13</td>\n",
       "    </tr>\n",
       "    <tr>\n",
       "      <th>row 2</th>\n",
       "      <td>34</td>\n",
       "      <td>23</td>\n",
       "      <td>45</td>\n",
       "    </tr>\n",
       "    <tr>\n",
       "      <th>row 3</th>\n",
       "      <td>32</td>\n",
       "      <td>34</td>\n",
       "      <td>21</td>\n",
       "    </tr>\n",
       "  </tbody>\n",
       "</table>\n",
       "</div>"
      ],
      "text/plain": [
       "       column 1  column 2  column 3\n",
       "row 1        10        12        13\n",
       "row 2        34        23        45\n",
       "row 3        32        34        21"
      ]
     },
     "execution_count": 8,
     "metadata": {},
     "output_type": "execute_result"
    }
   ],
   "source": [
    "df = pd.DataFrame(data,index=['row 1','row 2','row 3'],columns=['column 1','column 2','column 3'])\n",
    "df"
   ]
  },
  {
   "cell_type": "markdown",
   "id": "877cf044",
   "metadata": {},
   "source": [
    "#### Calculation along the column "
   ]
  },
  {
   "cell_type": "code",
   "execution_count": 9,
   "id": "8f1dc382",
   "metadata": {},
   "outputs": [
    {
     "name": "stdout",
     "output_type": "stream",
     "text": [
      "Mean : column 1    25.333333\n",
      "column 2    23.000000\n",
      "column 3    26.333333\n",
      "dtype: float64\n"
     ]
    }
   ],
   "source": [
    "# mean = np.mean(df,axis=0)\n",
    "mean = df.mean(axis = 0)\n",
    "print('Mean :',mean)"
   ]
  },
  {
   "cell_type": "code",
   "execution_count": 10,
   "id": "f6f391fd",
   "metadata": {},
   "outputs": [
    {
     "name": "stdout",
     "output_type": "stream",
     "text": [
      "Variance : column 1    177.333333\n",
      "column 2    121.000000\n",
      "column 3    277.333333\n",
      "dtype: float64\n"
     ]
    }
   ],
   "source": [
    "variance = df.var(axis=0)\n",
    "print('Variance :',variance)"
   ]
  },
  {
   "cell_type": "code",
   "execution_count": 11,
   "id": "91ead318",
   "metadata": {},
   "outputs": [
    {
     "name": "stdout",
     "output_type": "stream",
     "text": [
      "Standard Deviation : column 1    13.316656\n",
      "column 2    11.000000\n",
      "column 3    16.653328\n",
      "dtype: float64\n"
     ]
    }
   ],
   "source": [
    "standard_deviation = df.std(axis =0)\n",
    "print('Standard Deviation :',standard_deviation)"
   ]
  },
  {
   "cell_type": "markdown",
   "id": "8292176f",
   "metadata": {},
   "source": [
    "#### Calculation along the row "
   ]
  },
  {
   "cell_type": "code",
   "execution_count": 12,
   "id": "d258108e",
   "metadata": {},
   "outputs": [
    {
     "name": "stdout",
     "output_type": "stream",
     "text": [
      "Mean : row 1    11.666667\n",
      "row 2    34.000000\n",
      "row 3    29.000000\n",
      "dtype: float64\n"
     ]
    }
   ],
   "source": [
    "mean = df.mean(axis = 1)\n",
    "print('Mean :',mean)"
   ]
  },
  {
   "cell_type": "code",
   "execution_count": 13,
   "id": "8c833d8c",
   "metadata": {},
   "outputs": [
    {
     "name": "stdout",
     "output_type": "stream",
     "text": [
      "Variance : row 1      2.333333\n",
      "row 2    121.000000\n",
      "row 3     49.000000\n",
      "dtype: float64\n"
     ]
    }
   ],
   "source": [
    "variance = df.var(axis=1)\n",
    "print('Variance :',variance)"
   ]
  },
  {
   "cell_type": "code",
   "execution_count": 14,
   "id": "0bc1162e",
   "metadata": {},
   "outputs": [
    {
     "name": "stdout",
     "output_type": "stream",
     "text": [
      "Standard Deviation : row 1     1.527525\n",
      "row 2    11.000000\n",
      "row 3     7.000000\n",
      "dtype: float64\n"
     ]
    }
   ],
   "source": [
    "standard_deviation = df.std(axis = 1)\n",
    "print('Standard Deviation :',standard_deviation)"
   ]
  },
  {
   "cell_type": "markdown",
   "id": "204a8add",
   "metadata": {},
   "source": [
    "---"
   ]
  }
 ],
 "metadata": {
  "kernelspec": {
   "display_name": "Python 3 (ipykernel)",
   "language": "python",
   "name": "python3"
  },
  "language_info": {
   "codemirror_mode": {
    "name": "ipython",
    "version": 3
   },
   "file_extension": ".py",
   "mimetype": "text/x-python",
   "name": "python",
   "nbconvert_exporter": "python",
   "pygments_lexer": "ipython3",
   "version": "3.9.13"
  }
 },
 "nbformat": 4,
 "nbformat_minor": 5
}
