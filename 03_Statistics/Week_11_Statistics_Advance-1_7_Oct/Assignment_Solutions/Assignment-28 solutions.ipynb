{
 "cells": [
  {
   "cell_type": "markdown",
   "id": "39e73a64",
   "metadata": {},
   "source": [
    "# <font color = 'orange'> Assignment-28 Solutions"
   ]
  },
  {
   "cell_type": "markdown",
   "id": "813aa60f",
   "metadata": {},
   "source": [
    "---"
   ]
  },
  {
   "cell_type": "markdown",
   "id": "38cdf347",
   "metadata": {},
   "source": [
    "## Q1. What is the Probability density function?"
   ]
  },
  {
   "cell_type": "markdown",
   "id": "be54ddd8",
   "metadata": {},
   "source": [
    "A Probability Density Function (PDF) is a statistical concept used in probability theory and statistics to describe the likelihood of continuous random variables taking on specific values within a given range. It provides a way to model and understand the probability distribution of a continuous random variable."
   ]
  },
  {
   "cell_type": "markdown",
   "id": "cf4fa732",
   "metadata": {},
   "source": [
    "---"
   ]
  },
  {
   "cell_type": "markdown",
   "id": "f04b294a",
   "metadata": {},
   "source": [
    "## Q2. What are the types of Probability distribution?"
   ]
  },
  {
   "cell_type": "markdown",
   "id": "de287eff",
   "metadata": {},
   "source": [
    "Probability distributions are mathematical functions that describe how the probabilities are distributed across the possible values of a random variable. There are several types of probability distributions, and they can be broadly categorized into two main groups: discrete probability distributions and continuous probability distributions.\n",
    "\n",
    "### 1. **Discrete Probability Distributions:**\n",
    "These distributions are associated with discrete random variables, which can take on a countable set of distinct values. Some common discrete probability distributions include:\n",
    "\n",
    "a. **Bernoulli Distribution:** This distribution models a random experiment with only **two possible** outcomes, often referred to as \"success\" and \"failure.\" It's used in situations like coin flipping or binary events.\n",
    "\n",
    "b. **Binomial Distribution:** The binomial distribution describes the **number of successes in a fixed number of independent Bernoulli trials**. It is used for problems involving multiple, identical, and independent binary outcomes.\n",
    "\n",
    "c. **Poisson Distribution:** The Poisson distribution is used to model the **number of events occurring in a fixed interval** of time or space when events are rare and random, such as the number of phone calls at a call center within a minute.\n",
    "\n",
    "### 2. **Continuous Probability Distributions:**\n",
    "These distributions are associated with continuous random variables, which can take on any value within a range. Some common continuous probability distributions include:\n",
    "\n",
    "a. **Normal Distribution (Gaussian Distribution):** The normal distribution is a bell-shaped curve and is used to model a wide range of natural phenomena. It's characterized by its mean (average) and standard deviation.\n",
    "\n",
    "b. **Uniform Distribution:** In this distribution, all values within a specified range are equally likely to occur. It forms a rectangle on the probability density function.\n",
    "\n",
    "c. **Exponential Distribution:** The exponential distribution is often used to model the time between events in a Poisson process, such as the time between arrivals of customers at a service center.\n",
    "\n",
    "d. **Log-Normal Distribution:** This distribution arises when the logarithm of a random variable follows a normal distribution. It is commonly used in finance and economics.\n",
    "\n",
    "e. **Chi-Square Distribution:** The chi-square distribution is commonly used in hypothesis testing and confidence interval estimation. It arises in the context of sampling from a normal distribution."
   ]
  },
  {
   "cell_type": "markdown",
   "id": "f3ebd39d",
   "metadata": {},
   "source": [
    "---"
   ]
  },
  {
   "cell_type": "markdown",
   "id": "eada0b2f",
   "metadata": {},
   "source": [
    "## Q3. Write a Python function to calculate the probability density function of a normal distribution with given mean and standard deviation at a given point."
   ]
  },
  {
   "cell_type": "code",
   "execution_count": 1,
   "id": "a4a8ea3b",
   "metadata": {},
   "outputs": [
    {
     "name": "stdout",
     "output_type": "stream",
     "text": [
      "PDF at 1.5 is 0.12951759566589174\n"
     ]
    }
   ],
   "source": [
    "import scipy.stats as stat \n",
    "\n",
    "def calculate_pdf(point,mean,std):\n",
    "    pdf = stat.norm.pdf(point,loc = mean,scale = std)\n",
    "    return pdf\n",
    "\n",
    "mean = 0\n",
    "std = 1\n",
    "point = 1.5\n",
    "pdf = calculate_pdf(point,mean,std)\n",
    "\n",
    "# PDF will give the gradient descent at that point in CDF.\n",
    "print(f'PDF at {point} is {pdf}')"
   ]
  },
  {
   "cell_type": "markdown",
   "id": "c203d66f",
   "metadata": {},
   "source": [
    "---"
   ]
  },
  {
   "cell_type": "markdown",
   "id": "91dd33ab",
   "metadata": {},
   "source": [
    "## Q4. What are the properties of Binomial distribution? Give two examples of events where binomial distribution can be applied."
   ]
  },
  {
   "cell_type": "markdown",
   "id": "f2e0f50e",
   "metadata": {},
   "source": [
    "### Binomial distribution Properties:\n",
    "\n",
    "1. **Fixed Number of Trials (n)**: The binomial distribution describes the outcome of a fixed number of independent and identical trials, denoted as \"n\" (e.g., coin flips, attempts at free throws, or attempts at solving a problem).\n",
    "\n",
    "2. **Two Possible Outcomes**: Each trial results in one of two possible outcomes: \"success\" (usually denoted as \"S\") or \"failure\" (usually denoted as \"F\"). These outcomes are mutually exclusive.\n",
    "\n",
    "3. **Constant Probability of Success (p)**: The probability of success, denoted as \"p,\" remains the same for each trial. The probability of failure (q) is complementary to p, i.e., q = 1 - p.\n",
    "\n",
    "4. **Independence**: The trials are independent of each other, meaning the outcome of one trial does not affect the outcome of subsequent trials. This independence assumption is crucial.\n",
    "\n",
    "5. **Discreteness**: The random variable representing the number of successes, denoted as \"X,\" can only take on discrete values (0, 1, 2, ..., n).\n",
    "\n",
    "### Examples for binomial distribution:\n",
    "\n",
    "1. **Coin Flips**: When flipping a fair coin (with a probability of success, p, of landing heads), each flip is an independent trial, and you are interested in the number of heads (successes) that occur in a fixed number of flips (n). For example, finding the probability of getting exactly 3 heads in 5 coin flips follows a binomial distribution.\n",
    "\n",
    "2. **Quality Control**: In a manufacturing process, you may want to determine the probability of a product being defective or non-defective (success or failure). Each product undergoes independent testing, and you are interested in the number of defective products in a sample of a fixed size. For instance, finding the probability that 2 out of 10 randomly selected items are defective."
   ]
  },
  {
   "cell_type": "markdown",
   "id": "474c118a",
   "metadata": {},
   "source": [
    "---"
   ]
  },
  {
   "cell_type": "markdown",
   "id": "7d97d349",
   "metadata": {},
   "source": [
    "## Q5. Generate a random sample of size 1000 from a binomial distribution with probability of success 0.4 and plot a histogram of the results using matplotlib."
   ]
  },
  {
   "cell_type": "code",
   "execution_count": 3,
   "id": "e6503806",
   "metadata": {},
   "outputs": [
    {
     "name": "stdout",
     "output_type": "stream",
     "text": [
      "for number of success 0.0 has probability density 11.78\n",
      "\n",
      "for number of success 0.05 has probability density 0.0\n",
      "\n",
      "for number of success 0.1 has probability density 0.0\n",
      "\n",
      "for number of success 0.15 has probability density 0.0\n",
      "\n",
      "for number of success 0.2 has probability density 0.0\n",
      "\n",
      "for number of success 0.25 has probability density 0.0\n",
      "\n",
      "for number of success 0.3 has probability density 0.0\n",
      "\n",
      "for number of success 0.35 has probability density 0.0\n",
      "\n",
      "for number of success 0.4 has probability density 0.0\n",
      "\n",
      "for number of success 0.45 has probability density 0.0\n",
      "\n",
      "for number of success 0.5 has probability density 0.0\n",
      "\n",
      "for number of success 0.55 has probability density 0.0\n",
      "\n",
      "for number of success 0.6 has probability density 0.0\n",
      "\n",
      "for number of success 0.65 has probability density 0.0\n",
      "\n",
      "for number of success 0.7 has probability density 0.0\n",
      "\n",
      "for number of success 0.75 has probability density 0.0\n",
      "\n",
      "for number of success 0.8 has probability density 0.0\n",
      "\n",
      "for number of success 0.85 has probability density 0.0\n",
      "\n",
      "for number of success 0.9 has probability density 0.0\n",
      "\n",
      "for number of success 0.95 has probability density 8.22\n",
      "\n"
     ]
    },
    {
     "data": {
      "image/png": "[encoded data removed]",
      "text/plain": [
       "<Figure size 640x480 with 1 Axes>"
      ]
     },
     "metadata": {},
     "output_type": "display_data"
    }
   ],
   "source": [
    "import numpy as np \n",
    "import matplotlib.pyplot as plt \n",
    "\n",
    "trails = 1\n",
    "p = 0.4 \n",
    "sample_size = 1000\n",
    "\n",
    "random_sample = np.random.binomial(trails,p,sample_size)\n",
    "\n",
    "distribution = plt.hist(random_sample,bins = 20,density = True)\n",
    "\n",
    "probability_density = distribution[0]\n",
    "number_success = distribution[1]\n",
    "for i in range(len(probability_density)):\n",
    "    print(f'for number of success {round(number_success[i],2)} has probability density {round(probability_density[i],2)}')\n",
    "    print()\n",
    "\n",
    "plt.title(f'Binomial distribution with {trails} trails and probability of success {p}')\n",
    "plt.xlabel('Number of Success')\n",
    "plt.ylabel('Probability Density')\n",
    "\n",
    "plt.show()"
   ]
  },
  {
   "cell_type": "markdown",
   "id": "ab9aeb32",
   "metadata": {},
   "source": [
    "---"
   ]
  },
  {
   "cell_type": "markdown",
   "id": "65fd54ed",
   "metadata": {},
   "source": [
    "## Q6. Write a Python function to calculate the cumulative distribution function of a Poisson distribution with given mean at a given point."
   ]
  },
  {
   "cell_type": "code",
   "execution_count": 4,
   "id": "a7063208",
   "metadata": {},
   "outputs": [
    {
     "name": "stdout",
     "output_type": "stream",
     "text": [
      "CDF at k = 3 and mean = 5 is 0.2650259152973616\n"
     ]
    }
   ],
   "source": [
    "import scipy.stats as stat\n",
    "import math \n",
    "\n",
    "def poisson_cdf(k , mean):\n",
    "    cdf = stat.poisson.cdf(k,mu=mean)\n",
    "    return cdf\n",
    "\n",
    "mean = 5\n",
    "k = 3 \n",
    "cdf =  poisson_cdf(k,mean)\n",
    "\n",
    "print(f'CDF at k = {k} and mean = {mean} is {cdf}')"
   ]
  },
  {
   "cell_type": "markdown",
   "id": "816cff3c",
   "metadata": {},
   "source": [
    "---"
   ]
  },
  {
   "cell_type": "markdown",
   "id": "714b3ff6",
   "metadata": {},
   "source": [
    "## Q7. How Binomial distribution different from Poisson distribution?"
   ]
  },
  {
   "cell_type": "markdown",
   "id": "31008fae",
   "metadata": {},
   "source": [
    "The Binomial and Poisson distributions are both probability distributions used to model the number of events or successes in a series of trials or occurrences. However, they have several key differences:\n",
    "\n",
    "1. **Nature of Trials**:\n",
    "    * **Binomial Distribution**: The Binomial distribution is used to model the number of successes (or \"success\" events) in a fixed number of independent and identically distributed trials. Each trial has two possible outcomes: success or failure.\n",
    "    * **Poisson Distribution**: The Poisson distribution is used to model the number of events that occur in a fixed interval of time or space. The events are assumed to be rare and random, and the interval is continuous.\n",
    "\n",
    "2. **Number of Trials**:\n",
    "    * **Binomial Distribution**: It explicitly requires a fixed number of trials (n) to be specified in advance. The distribution describes the number of successes in these fixed, finite trials.\n",
    "    * **Poisson Distribution**: It does not require a fixed number of trials. Instead, it focuses on the rate (λ) at which events occur in a given interval.\n",
    "\n",
    "3. **Parameterization**:\n",
    "    * **Binomial Distribution**: It is parameterized by two parameters: the number of trials (n) and the probability of success in each trial (p).\n",
    "    * **Poisson Distribution**: It is parameterized by a single parameter, λ (lambda), which represents the average rate of event occurrences in the given interval.\n",
    "\n",
    "4. **Outcomes**:\n",
    "    * **Binomial Distribution**: The random variable in a Binomial distribution represents the count of successes (the number of \"success\" outcomes) in the fixed number of trials, and it can take on discrete values from 0 to n.\n",
    "    * **Poisson Distribution**: The random variable in a Poisson distribution represents the count of events that occur within the specified interval, and it can take on discrete values from 0 to infinity.\n",
    "\n",
    "5. **Assumptions**:\n",
    "    * **Binomial Distribution**: It assumes that the trials are independent and identically distributed with a constant probability of success, and that the number of trials is fixed in advance.\n",
    "    * **Poisson Distribution**: It assumes that the events occur randomly in time or space, are rare, and are independent of each other within the specified interval.\n",
    "\n",
    "6. **Applications**:\n",
    "    * **Binomial Distribution**: It is often used in situations where there are a fixed number of trials, such as modeling the number of successful attempts in a fixed number of attempts or the number of defective items in a sample of a fixed size.\n",
    "    * **Poisson Distribution**: It is used in scenarios where events occur randomly over time or space, such as modeling the number of customer arrivals at a service center in a given time period or the number of accidents at an intersection in a day."
   ]
  },
  {
   "cell_type": "markdown",
   "id": "253edd0d",
   "metadata": {},
   "source": [
    "---"
   ]
  },
  {
   "cell_type": "markdown",
   "id": "ae5ba662",
   "metadata": {},
   "source": [
    "## Q8. Generate a random sample of size 1000 from a Poisson distribution with mean 5 and calculate the sample mean and variance."
   ]
  },
  {
   "cell_type": "code",
   "execution_count": 5,
   "id": "b8a99ae9",
   "metadata": {},
   "outputs": [
    {
     "name": "stdout",
     "output_type": "stream",
     "text": [
      "Mean : 4.959\n",
      "Standard Deviation : 2.259495297627326\n"
     ]
    }
   ],
   "source": [
    "import numpy as np \n",
    "import scipy.stats as stat\n",
    "\n",
    "mean = 5\n",
    "sample_size = 1000\n",
    "\n",
    "random_sample = np.random.poisson(mean,sample_size)\n",
    "\n",
    "sample_mean = np.mean(random_sample)\n",
    "sample_std = np.std(random_sample)\n",
    "\n",
    "print(f'Mean : {sample_mean}')\n",
    "print(f'Standard Deviation : {sample_std}')"
   ]
  },
  {
   "cell_type": "markdown",
   "id": "f88b3329",
   "metadata": {},
   "source": [
    "---"
   ]
  },
  {
   "cell_type": "markdown",
   "id": "7171554f",
   "metadata": {},
   "source": [
    "## Q9. How mean and variance are related in Binomial distribution and Poisson distribution?"
   ]
  },
  {
   "cell_type": "markdown",
   "id": "aaf77c4e",
   "metadata": {},
   "source": [
    "### Binomial Distribution:\n",
    "\n",
    "In a Binomial distribution, where you have a fixed number of independent trials (n) with a constant probability of success (p) in each trial, the mean (μ) and variance (σ^2) are related as follows:\n",
    "\n",
    "* Mean (μ) = n * p\n",
    "* Variance (σ^2) = n * p * q\n",
    "\n",
    "In other words, the variance in a Binomial distribution is a product of the number of trials (n), the probability of success (p), and the probability of failure (q = 1 - p). As the number of trials (n) increases while keeping the probability of success (p) constant, the variance also increases.\n",
    "\n",
    "### Poisson Distribution:\n",
    "\n",
    "In a Poisson distribution, where you model the number of rare and random events occurring within a fixed interval of time or space, the mean (λ) and variance (σ^2) are related as follows:\n",
    "\n",
    "* Mean (λ) = Variance (σ^2)\n",
    "\n",
    "In a Poisson distribution, the mean (λ) is equal to the variance (σ^2). This is a unique property of the Poisson distribution and signifies that the variability in the number of events (variance) is equal to the average rate of events (mean). It implies that in situations where events occur at a low and relatively constant rate, the Poisson distribution is appropriate, and the variance is approximately equal to the mean."
   ]
  },
  {
   "cell_type": "markdown",
   "id": "79b1edd7",
   "metadata": {},
   "source": [
    "---"
   ]
  },
  {
   "cell_type": "markdown",
   "id": "dc8727bb",
   "metadata": {},
   "source": [
    "## Q10. In normal distribution with respect to mean position, where does the least frequent data appear?"
   ]
  },
  {
   "cell_type": "markdown",
   "id": "60b6a44e",
   "metadata": {},
   "source": [
    "In a normal distribution (also known as a Gaussian distribution), the least frequent data appears in the tails of the distribution, farthest away from the mean position. Specifically, the data points that are located in the tails of the distribution, in the extreme lower and upper ends, are the least frequent.\n",
    "\n",
    "In a standard normal distribution (with a mean of 0 and a standard deviation of 1), about 68% of the data falls within one standard deviation of the mean, about 95% falls within two standard deviations, and about 99.7% falls within three standard deviations. This means that the data in the tails, which are more than three standard deviations away from the mean in either direction, make up only a small percentage of the total data.\n",
    "\n",
    "So, the least frequent data points in a normal distribution are the ones that are located very far from the mean, in the tails of the distribution. These data points represent extreme values and are relatively rare occurrences in the context of the distribution."
   ]
  },
  {
   "cell_type": "markdown",
   "id": "5661615f",
   "metadata": {},
   "source": [
    "---"
   ]
  }
 ],
 "metadata": {
  "kernelspec": {
   "display_name": "Python 3 (ipykernel)",
   "language": "python",
   "name": "python3"
  },
  "language_info": {
   "codemirror_mode": {
    "name": "ipython",
    "version": 3
   },
   "file_extension": ".py",
   "mimetype": "text/x-python",
   "name": "python",
   "nbconvert_exporter": "python",
   "pygments_lexer": "ipython3",
   "version": "3.9.13"
  }
 },
 "nbformat": 4,
 "nbformat_minor": 5
}
