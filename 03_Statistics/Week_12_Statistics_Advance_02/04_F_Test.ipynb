{
 "cells": [
  {
   "cell_type": "markdown",
   "id": "e2224e4e",
   "metadata": {},
   "source": [
    "# <font color = 'orange'> F Test"
   ]
  },
  {
   "cell_type": "markdown",
   "id": "7d467c61",
   "metadata": {},
   "source": [
    "---"
   ]
  },
  {
   "cell_type": "code",
   "execution_count": 1,
   "id": "909448cd",
   "metadata": {},
   "outputs": [],
   "source": [
    "#Evidence to say that the two population variances are not equal.\n",
    "# Check we come to  conclusion whether one worker is better than the other\n",
    "\n",
    "worker1= [18, 19, 22, 25, 27, 28, 41, 45, 51, 55]\n",
    "worker2= [14, 15, 15, 17, 18, 22, 25, 25, 27, 34]"
   ]
  },
  {
   "cell_type": "markdown",
   "id": "90945754",
   "metadata": {},
   "source": [
    "### Calculate the F test statistics "
   ]
  },
  {
   "cell_type": "code",
   "execution_count": 2,
   "id": "04d448a8",
   "metadata": {},
   "outputs": [
    {
     "name": "stdout",
     "output_type": "stream",
     "text": [
      "4.387122002085506\n"
     ]
    }
   ],
   "source": [
    "import numpy as np \n",
    "\n",
    "f_test = np.var(worker1) / np.var(worker2)\n",
    "\n",
    "print(f_test)"
   ]
  },
  {
   "cell_type": "markdown",
   "id": "99ce6346",
   "metadata": {},
   "source": [
    "### To find the critical value we need degree of freedom"
   ]
  },
  {
   "cell_type": "code",
   "execution_count": 5,
   "id": "38befb36",
   "metadata": {},
   "outputs": [],
   "source": [
    "dof1 = len(worker1) - 1\n",
    "dof2 = len(worker2) - 1\n",
    "\n",
    "significance_value = 0.05\n",
    "confidence_interval = 1 - significance_value"
   ]
  },
  {
   "cell_type": "code",
   "execution_count": 6,
   "id": "1f3d0a52",
   "metadata": {},
   "outputs": [
    {
     "name": "stdout",
     "output_type": "stream",
     "text": [
      "3.178893104458269\n"
     ]
    }
   ],
   "source": [
    "import scipy.stats as stat\n",
    "\n",
    "critical_value = stat.f.ppf(q = confidence_interval,dfn=dof1 , dfd = dof2)\n",
    "print(critical_value)"
   ]
  },
  {
   "cell_type": "code",
   "execution_count": 7,
   "id": "4d8e5a90",
   "metadata": {},
   "outputs": [
    {
     "name": "stdout",
     "output_type": "stream",
     "text": [
      "Accept the Null hypothesis.\n"
     ]
    }
   ],
   "source": [
    "if f_test < critical_value:\n",
    "    print('Reject the Null hypothesis.')\n",
    "else :\n",
    "    print('Accept the Null hypothesis.')"
   ]
  },
  {
   "cell_type": "markdown",
   "id": "d40d5352",
   "metadata": {},
   "source": [
    "### Conclusion : Atleast one worker will be better than the other i.e worker 1 is better than worker 2"
   ]
  },
  {
   "cell_type": "markdown",
   "id": "199fbf1c",
   "metadata": {},
   "source": [
    "---"
   ]
  }
 ],
 "metadata": {
  "kernelspec": {
   "display_name": "Python 3 (ipykernel)",
   "language": "python",
   "name": "python3"
  },
  "language_info": {
   "codemirror_mode": {
    "name": "ipython",
    "version": 3
   },
   "file_extension": ".py",
   "mimetype": "text/x-python",
   "name": "python",
   "nbconvert_exporter": "python",
   "pygments_lexer": "ipython3",
   "version": "3.9.13"
  }
 },
 "nbformat": 4,
 "nbformat_minor": 5
}
