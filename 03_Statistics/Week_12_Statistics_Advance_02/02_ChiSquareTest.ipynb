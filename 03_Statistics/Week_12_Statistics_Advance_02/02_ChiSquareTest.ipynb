{
 "cells": [
  {
   "cell_type": "markdown",
   "id": "b240cda0",
   "metadata": {},
   "source": [
    "# <font color = 'orange'> Chi Square Test"
   ]
  },
  {
   "cell_type": "markdown",
   "id": "f02d0a2d",
   "metadata": {},
   "source": [
    "---"
   ]
  },
  {
   "cell_type": "code",
   "execution_count": 1,
   "id": "25a4b9f8",
   "metadata": {},
   "outputs": [],
   "source": [
    "import scipy.stats as stat\n",
    "import numpy as np "
   ]
  },
  {
   "cell_type": "markdown",
   "id": "11c9905f",
   "metadata": {},
   "source": [
    "### Q) Number of hours student study daily in a weekly basis."
   ]
  },
  {
   "cell_type": "code",
   "execution_count": 2,
   "id": "ce4373be",
   "metadata": {},
   "outputs": [],
   "source": [
    "# monday , tuesday , wednesday , thursday , friday , saturday , sunday \n",
    "expected_data = [8,6,7,9,6,9,7]\n",
    "\n",
    "# we took some sample and observed student how much hours they are studing\n",
    "observed_data = [7,8,6,9,9,6,7]"
   ]
  },
  {
   "cell_type": "markdown",
   "id": "4ae54e0e",
   "metadata": {},
   "source": [
    "#### Sum of expected data and observed data should be same this is one of the condition "
   ]
  },
  {
   "cell_type": "code",
   "execution_count": 3,
   "id": "2a5a0665",
   "metadata": {},
   "outputs": [
    {
     "name": "stdout",
     "output_type": "stream",
     "text": [
      "Sum of expected data : 52\n",
      "Sum of observed data : 52\n"
     ]
    }
   ],
   "source": [
    "# the sum should be same\n",
    "\n",
    "print('Sum of expected data :',sum(expected_data))\n",
    "print('Sum of observed data :',sum(observed_data))"
   ]
  },
  {
   "cell_type": "markdown",
   "id": "4a482fc1",
   "metadata": {},
   "source": [
    "#### Now, we will apply the chi square goodness of fit"
   ]
  },
  {
   "cell_type": "code",
   "execution_count": 4,
   "id": "ce43c61d",
   "metadata": {},
   "outputs": [],
   "source": [
    "chisquare_test_statistics , p_value = stat.chisquare(observed_data, expected_data)"
   ]
  },
  {
   "cell_type": "code",
   "execution_count": 5,
   "id": "0caee24d",
   "metadata": {},
   "outputs": [
    {
     "name": "stdout",
     "output_type": "stream",
     "text": [
      "3.4345238095238093\n",
      "0.7526596580922865\n"
     ]
    }
   ],
   "source": [
    "print(chisquare_test_statistics)\n",
    "print(p_value)"
   ]
  },
  {
   "cell_type": "markdown",
   "id": "69499276",
   "metadata": {},
   "source": [
    "#### Now, we will find the critical value "
   ]
  },
  {
   "cell_type": "code",
   "execution_count": 6,
   "id": "7257ad60",
   "metadata": {},
   "outputs": [],
   "source": [
    "# 5% level of significance \n",
    "significance = 0.05\n",
    "confidence_interval = 1 - significance\n",
    "\n",
    "# degree of freedom = k - 1\n",
    "dof = len(observed_data) - 1\n",
    "\n",
    "# finding the critical value \n",
    "critical_value = stat.chi2.ppf(confidence_interval,dof)"
   ]
  },
  {
   "cell_type": "code",
   "execution_count": 7,
   "id": "d92da133",
   "metadata": {},
   "outputs": [
    {
     "name": "stdout",
     "output_type": "stream",
     "text": [
      "12.591587243743977\n"
     ]
    }
   ],
   "source": [
    "print(critical_value)"
   ]
  },
  {
   "cell_type": "markdown",
   "id": "11025e7a",
   "metadata": {},
   "source": [
    "#### Output"
   ]
  },
  {
   "cell_type": "code",
   "execution_count": 8,
   "id": "2117cb5d",
   "metadata": {},
   "outputs": [
    {
     "name": "stdout",
     "output_type": "stream",
     "text": [
      "Accept the null hypothesis.\n"
     ]
    }
   ],
   "source": [
    "if chisquare_test_statistics > critical_value:\n",
    "    print('Reject the null hypothesis.')\n",
    "else:\n",
    "    print('Accept the null hypothesis.')"
   ]
  },
  {
   "cell_type": "markdown",
   "id": "67bc883e",
   "metadata": {},
   "source": [
    "#### Conclusion - The data we got from warden i.e expected is matching the data we took sample i.e observed so we will except the null hypothesis."
   ]
  },
  {
   "cell_type": "markdown",
   "id": "9e79930a",
   "metadata": {},
   "source": [
    "---"
   ]
  }
 ],
 "metadata": {
  "kernelspec": {
   "display_name": "Python 3 (ipykernel)",
   "language": "python",
   "name": "python3"
  },
  "language_info": {
   "codemirror_mode": {
    "name": "ipython",
    "version": 3
   },
   "file_extension": ".py",
   "mimetype": "text/x-python",
   "name": "python",
   "nbconvert_exporter": "python",
   "pygments_lexer": "ipython3",
   "version": "3.9.13"
  }
 },
 "nbformat": 4,
 "nbformat_minor": 5
}
