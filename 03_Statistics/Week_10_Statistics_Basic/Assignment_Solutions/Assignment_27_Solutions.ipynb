{
 "cells": [
  {
   "cell_type": "markdown",
   "id": "cf8896ae",
   "metadata": {},
   "source": [
    "# <font color = 'orange'> Assignment-27 Solutions"
   ]
  },
  {
   "cell_type": "markdown",
   "id": "66b629b2",
   "metadata": {},
   "source": [
    "---"
   ]
  },
  {
   "cell_type": "markdown",
   "id": "bc31f28a",
   "metadata": {},
   "source": [
    "### Q1. What are the three measures of central tendency?"
   ]
  },
  {
   "cell_type": "markdown",
   "id": "256d1c4a",
   "metadata": {},
   "source": [
    "1. Mean: The mean, also known as the average, is calculated by summing up all the values in a dataset and then dividing by the number of values. It represents the \"typical\" value of the data and is sensitive to extreme outliers.\n",
    "\n",
    "2. Median: The median is the middle value in a dataset when the values are arranged in ascending or descending order. If there is an even number of data points, the median is the average of the two middle values. The median is less affected by extreme values compared to the mean, making it a more robust measure in the presence of outliers.\n",
    "\n",
    "3. Mode: The mode is the value that appears most frequently in a dataset. A dataset can have one mode (unimodal), more than one mode (multimodal), or no mode at all if all values occur with the same frequency. The mode is particularly useful for categorical or discrete data, but it can also be applied to continuous data."
   ]
  },
  {
   "cell_type": "markdown",
   "id": "c2f0fad2",
   "metadata": {},
   "source": [
    "---"
   ]
  },
  {
   "cell_type": "markdown",
   "id": "b8cf18fb",
   "metadata": {},
   "source": [
    "### Q2. What is the difference between the mean, median, and mode? How are they used to measure the central tendency of a dataset?"
   ]
  },
  {
   "cell_type": "markdown",
   "id": "19e52c5a",
   "metadata": {},
   "source": [
    "1. Mean:\n",
    "* Calculation: The mean, also known as the average, is calculated by adding up all the values in a dataset and then dividing by the number of values.\n",
    "* Sensitivity to Outliers: The mean is sensitive to extreme outliers in the data. A single very large or very small value can significantly impact the mean, pulling it in the direction of the outlier.\n",
    "* Use: The mean is commonly used when you want to find the arithmetic average of a dataset. It's appropriate for data that is approximately normally distributed and does not have extreme outliers.\n",
    "\n",
    "2. Median:\n",
    "* Calculation: The median is the middle value in a dataset when the values are arranged in ascending or descending order. If there is an even number of data points, the median is the average of the two middle values.\n",
    "* Sensitivity to Outliers: The median is less sensitive to extreme outliers than the mean. Outliers have minimal effect on the median because it focuses on the middle value(s).\n",
    "* Use: The median is often used when the data contains outliers or is skewed. It provides a more robust measure of central tendency in such cases. It's also used when you are concerned about the ordinal position of values rather than their actual numerical values.\n",
    "\n",
    "3. Mode:\n",
    "* Calculation: The mode is the value that occurs most frequently in a dataset.\n",
    "* Sensitivity to Outliers: The mode is not influenced by outliers because it is based on frequency rather than numerical values.\n",
    "* Use: The mode is used primarily with categorical or discrete data, such as categories or groups. It can also be applied to continuous data, but it may not be as informative in such cases. The mode can help identify the most common category or value in a dataset."
   ]
  },
  {
   "cell_type": "markdown",
   "id": "b03ac749",
   "metadata": {},
   "source": [
    "---"
   ]
  },
  {
   "cell_type": "markdown",
   "id": "8dfc13c8",
   "metadata": {},
   "source": [
    "### Q3. Measure the three measures of central tendency for the given height data:\n",
    "\n",
    " [178,177,176,177,178.2,178,175,179,180,175,178.9,176.2,177,172.5,178,176.5]"
   ]
  },
  {
   "cell_type": "code",
   "execution_count": 1,
   "id": "bb0ef680",
   "metadata": {},
   "outputs": [
    {
     "name": "stdout",
     "output_type": "stream",
     "text": [
      "Height : [178, 177, 176, 177, 178.2, 178, 175, 179, 180, 175, 178.9, 176.2, 177, 172.5, 178, 176.5]\n",
      "\n",
      "Mean : 177.01875\n",
      "Median : 177.0\n",
      "Mode : 177.0\n"
     ]
    }
   ],
   "source": [
    "import numpy as np\n",
    "from scipy import stats \n",
    "\n",
    "height = [178,177,176,177,178.2,178,175,179,180,175,178.9,176.2,177,172.5,178,176.5]\n",
    "print('Height :',height)\n",
    "print()\n",
    "\n",
    "mean = np.mean(height)\n",
    "median = np.median(height)\n",
    "mode = stats.mode(height,keepdims=True)\n",
    "\n",
    "print('Mean :',mean)\n",
    "print('Median :',median)\n",
    "print('Mode :',mode.mode[0])"
   ]
  },
  {
   "cell_type": "markdown",
   "id": "656f0bf4",
   "metadata": {},
   "source": [
    "---"
   ]
  },
  {
   "cell_type": "markdown",
   "id": "dedfd265",
   "metadata": {},
   "source": [
    "### Q4. Find the standard deviation for the given data:\n",
    "\n",
    "[178,177,176,177,178.2,178,175,179,180,175,178.9,176.2,177,172.5,178,176.5]"
   ]
  },
  {
   "cell_type": "code",
   "execution_count": 2,
   "id": "95a69bb4",
   "metadata": {},
   "outputs": [
    {
     "name": "stdout",
     "output_type": "stream",
     "text": [
      "Height : [178, 177, 176, 177, 178.2, 178, 175, 179, 180, 175, 178.9, 176.2, 177, 172.5, 178, 176.5]\n",
      "\n",
      "Standard Deviation : 1.7885814036548633\n"
     ]
    }
   ],
   "source": [
    "print('Height :',height)\n",
    "print()\n",
    "\n",
    "standard_deviation = np.std(height)\n",
    "\n",
    "print('Standard Deviation :',standard_deviation)"
   ]
  },
  {
   "cell_type": "markdown",
   "id": "01273595",
   "metadata": {},
   "source": [
    "---"
   ]
  },
  {
   "cell_type": "markdown",
   "id": "cf3204a3",
   "metadata": {},
   "source": [
    "### Q5. How are measures of dispersion such as range, variance, and standard deviation used to describe the spread of a dataset? Provide an example."
   ]
  },
  {
   "cell_type": "markdown",
   "id": "d61c6723",
   "metadata": {},
   "source": [
    "1. **Range**:\n",
    "* Calculation: The range is the simplest measure of dispersion and is calculated as the difference between the maximum and minimum values in a dataset.\n",
    "* Use: The range gives a rough idea of how spread out the data is. A larger range indicates greater variability in the data. However, it can be influenced by outliers and may not provide a complete picture of the data's distribution.\n",
    "* Example: Consider the following dataset of exam scores: [65, 75, 80, 85, 90]. The range is 90 (maximum) - 65 (minimum) = 25.\n",
    "\n",
    "2. **Variance**:\n",
    "* Calculation: Variance measures how each data point deviates from the mean. It is calculated by taking the average of the squared differences between each data point and the mean.\n",
    "* Use: Variance quantifies the overall spread of the data. A higher variance indicates greater variability. However, because it involves squared differences, it may not be in the same units as the original data, making it less interpretable.\n",
    "\n",
    "3. **Standard Deviation**:\n",
    "* Calculation: The standard deviation is the square root of the variance. It measures the average deviation of data points from the mean and is expressed in the same units as the original data.\n",
    "* Use: The standard deviation provides a more interpretable measure of spread compared to variance. A higher standard deviation indicates greater variability."
   ]
  },
  {
   "cell_type": "markdown",
   "id": "71367daa",
   "metadata": {},
   "source": [
    "---"
   ]
  },
  {
   "cell_type": "markdown",
   "id": "75624dbe",
   "metadata": {},
   "source": [
    "### Q6. What is a Venn diagram?"
   ]
  },
  {
   "cell_type": "markdown",
   "id": "8b238780",
   "metadata": {},
   "source": [
    "#### A Venn diagram is a graphical representation used to illustrate the relationships and similarities between sets or groups of items. It consists of overlapping circles, where each circle represents a specific set or category, and the overlap between circles indicates the elements that belong to multiple sets or share common characteristics."
   ]
  },
  {
   "attachments": {
    "VDAIntersectsB.png": {
     "image/png": "[encoded data removed]"
    }
   },
   "cell_type": "markdown",
   "id": "c325740e",
   "metadata": {},
   "source": [
    "![VDAIntersectsB.png](attachment:VDAIntersectsB.png)"
   ]
  },
  {
   "cell_type": "markdown",
   "id": "6b1bcc86",
   "metadata": {},
   "source": [
    "---"
   ]
  },
  {
   "cell_type": "markdown",
   "id": "369385e6",
   "metadata": {},
   "source": [
    "### Q7. For the two given sets A = (2,3,4,5,6,7) & B = (0,2,6,8,10). Find:\n",
    "\n",
    "(i) A intersecion B.\n",
    "\n",
    "(ii) A union B."
   ]
  },
  {
   "cell_type": "code",
   "execution_count": 3,
   "id": "09f1b571",
   "metadata": {},
   "outputs": [
    {
     "name": "stdout",
     "output_type": "stream",
     "text": [
      "Set A : {2, 3, 4, 5, 6, 7}\n",
      "Set B : {0, 2, 6, 8, 10}\n",
      "\n",
      "A intersection B : {2, 6}\n",
      "A union B : {0, 2, 3, 4, 5, 6, 7, 8, 10}\n"
     ]
    }
   ],
   "source": [
    "A = {2,3,4,5,6,7}\n",
    "B = {0,2,6,8,10}\n",
    "\n",
    "print('Set A :',A)\n",
    "print('Set B :',B)\n",
    "print()\n",
    "\n",
    "print('A intersection B :',A.intersection(B))\n",
    "print('A union B :',A.union(B))"
   ]
  },
  {
   "cell_type": "markdown",
   "id": "a2474786",
   "metadata": {},
   "source": [
    "---"
   ]
  },
  {
   "cell_type": "markdown",
   "id": "79a3a3fa",
   "metadata": {},
   "source": [
    "### Q8. What do you understand about skewness in data?"
   ]
  },
  {
   "cell_type": "markdown",
   "id": "49a1bfb4",
   "metadata": {},
   "source": [
    "#### Skewness is a statistical measure that helps us understand the asymmetry or lack of symmetry in the distribution of data. It provides information about the shape of a dataset's probability distribution, specifically how the data is distributed around the mean.\n",
    "\n",
    "There are three main types of skewness:\n",
    "\n",
    "1. **Positive Skewness (Right-skewed):** In a positively skewed distribution, the tail on the right-hand side is longer or fatter than the left-hand side. This means that the majority of the data points are concentrated on the left side, and there are relatively few data points on the right side. The mean greater than median greater than mode.\n",
    "\n",
    "\n",
    "\n",
    "2. **Negative Skewness (Left-skewed):** In a negatively skewed distribution, the tail on the left-hand side is longer or fatter than the right-hand side. This indicates that the majority of data points are concentrated on the right side, and there are relatively few data points on the left side. In a negatively skewed distribution, the mean less than median less than mode.\n",
    "\n",
    "\n",
    "3. **Zero Skewness (Symmetrical):** In a symmetrical distribution, there is an equal balance on both sides of the mean, resulting in a distribution that is perfectly balanced and has no skew. In such cases, the mean, median and mode are equal.\n",
    "\n",
    "\n",
    "Understanding skewness is important in data analysis because it provides insights into the nature of the data distribution. Skewed data can have implications for statistical analysis, such as the choice of appropriate statistical tests and the interpretation of results. For example:\n",
    "\n",
    "* In positively skewed data, the mean is typically greater than the median, and extreme values on the right side can significantly impact the mean. Therefore, in such cases, the median is often a better measure of central tendency.\n",
    "* In negatively skewed data, the mean is typically less than the median, and extreme values on the left side can affect the mean. Again, the median may be a more appropriate measure of central tendency.\n",
    "\n",
    "Skewness can also affect the choice of data transformation or modeling techniques, as well as the assessment of the assumptions underlying various statistical methods. It's a valuable tool for understanding the shape and characteristics of data distributions in statistical analysis."
   ]
  },
  {
   "cell_type": "markdown",
   "id": "6b04114c",
   "metadata": {},
   "source": [
    "---"
   ]
  },
  {
   "cell_type": "markdown",
   "id": "2b215dfc",
   "metadata": {},
   "source": [
    "### Q9. If a data is right skewed then what will be the position of median with respect to mean?"
   ]
  },
  {
   "cell_type": "markdown",
   "id": "4acfbfc0",
   "metadata": {},
   "source": [
    "* Mean: The mean is influenced by extreme values or outliers in a dataset. In a right-skewed distribution, there are typically a few relatively large values on the right side of the distribution (the tail), which pull the mean in that direction. As a result, the mean is usually greater than the median.\n",
    "\n",
    "* Median: The median is the middle value when the data is sorted in ascending order. In a right-skewed distribution, most of the data points are concentrated on the left side (the bulk of the distribution), and there are relatively few data points on the right side. Because of this concentration on the left, the median is typically located to the left of the mean.\n",
    "### If a data is right skewed then the position of the median is less than mean."
   ]
  },
  {
   "cell_type": "markdown",
   "id": "1fd26192",
   "metadata": {},
   "source": [
    "---"
   ]
  },
  {
   "cell_type": "markdown",
   "id": "e2b246f3",
   "metadata": {},
   "source": [
    "### Q10. Explain the difference between covariance and correlation. How are these measures used in statistical analysis?"
   ]
  },
  {
   "cell_type": "markdown",
   "id": "d0d1052b",
   "metadata": {},
   "source": [
    "Covariance and correlation are both measures used in statistics to quantify the relationship between two variables, but they serve slightly different purposes and have different properties:\n",
    "\n",
    "1. **Covariance:**\n",
    "* **Definition:** Covariance is a measure that indicates the degree to which two random variables change together. It measures the direction of the linear relationship between two variables.\n",
    "* **Formula:** For two variables X and Y, the covariance (cov) is calculated as follows:\n",
    "\n",
    "cov(X, Y) = Σ[(Xᵢ - μₓ) * (Yᵢ - μᵧ)] / (n - 1)\n",
    "\n",
    "* Where:\n",
    "* Xᵢ and Yᵢ are individual data points for X and Y.\n",
    "* μₓ and μᵧ are the means (averages) of X and Y, respectively.\n",
    "* n is the number of data points.\n",
    "* **Properties:** Covariance can take on positive, negative, orzero values.\n",
    "* Positive covariance indicates that as one variable increases, other tends to increase.\n",
    "* Negative covariance indicates that as one variable increases, other tends to decrease.\n",
    "* Zero covariance suggests no linear relationship between variables.\n",
    "* **Units:** The units of covariance are the product of the unitsof the two variables, which can make it difficult to interpret andcompare across different datasets.\n",
    "\n",
    "2. **Correlation:**\n",
    "* **Definition:** Correlation is a standardized measure of linear relationship between two variables. It quantifies both strength and direction of the relationship.\n",
    "* **Formula:** The Pearson correlation coefficient (ρ), measures linear correlation, is the most commonly used form correlation:\n",
    "ρ(X, Y) = cov(X, Y) / (σₓ * σᵧ)\n",
    "\n",
    "* Where:\n",
    "* cov(X, Y) is the covariance between X and Y.\n",
    "* σₓ and σᵧ are the standard deviations of X and Y, respectively.\n",
    "* **Properties:** Correlation values range from -1 to 1.\n",
    "* ρ = 1 indicates a perfect positive linear relationship.\n",
    "* ρ = -1 indicates a perfect negative linear relationship.\n",
    "* ρ = 0 indicates no linear relationship (although nonlinear relationships may exist).\n",
    "* **Units:** Correlation is a unitless measure, making it to interpret and compare across datasets.\n",
    "\n",
    "\n",
    "#### How they are used in statistical analysis:\n",
    "\n",
    "* Covariance: Covariance is used to determine whether two variables tend to increase or decrease together and in which direction. It's often used in finance to analyze the relationships between different financial assets. However, its value alone can be difficult to interpret, and it is not standardized, making comparisons between datasets challenging.\n",
    "\n",
    "* Correlation: Correlation, particularly the Pearson correlation coefficient, is widely used in various fields, including statistics, economics, social sciences, and natural sciences. It provides a standardized measure of the strength and direction of the linear relationship between two variables. Correlation is valuable for understanding associations between variables, identifying patterns, and making predictions. It's also helpful in selecting appropriate variables for regression analysis and assessing the goodness of fit in regression models."
   ]
  },
  {
   "cell_type": "markdown",
   "id": "6f73ed44",
   "metadata": {},
   "source": [
    "---"
   ]
  },
  {
   "cell_type": "markdown",
   "id": "fc496667",
   "metadata": {},
   "source": [
    "### Q11. What is the formula for calculating the sample mean? Provide an example calculation for a dataset."
   ]
  },
  {
   "cell_type": "markdown",
   "id": "9f97fa0f",
   "metadata": {},
   "source": [
    "### The formula for calculation of the sample mean is \n",
    " \n",
    "cov(X, Y) = Σ[(Xᵢ - μₓ) * (Yᵢ - μᵧ)] / (n - 1) \n",
    "\n",
    "\n",
    "#### Example : consider weights = [85, 90, 78, 92, 88] so to find the mean we have to sum up the elements of the list and then divide by total number of elements present in the list.\n",
    "* sum = 85 + 90 + 78 + 92 + 88 = 433\n",
    "* n = 5\n",
    "* mean = sum / n = 433 / 5 = 86.6"
   ]
  },
  {
   "cell_type": "code",
   "execution_count": 4,
   "id": "5e5a085c",
   "metadata": {},
   "outputs": [
    {
     "name": "stdout",
     "output_type": "stream",
     "text": [
      "Weight : [85, 90, 78, 92, 88]\n",
      "\n",
      "Sum : 433\n",
      "n : 5\n",
      "\n",
      "Mean = 433 / 5 = 86.6\n",
      "Mean : 86.6\n"
     ]
    }
   ],
   "source": [
    "weights = [85, 90, 78, 92, 88]\n",
    "\n",
    "print('Weight :',weights)\n",
    "print()\n",
    "\n",
    "weights_sum = sum(weights)\n",
    "print('Sum :',weights_sum)\n",
    "\n",
    "n = len(weights)\n",
    "print('n :',n)\n",
    "print()\n",
    "\n",
    "print(f'Mean = {weights_sum} / {n} = {weights_sum/n}')\n",
    "\n",
    "import numpy as np \n",
    "print('Mean :',np.mean(weights))"
   ]
  },
  {
   "cell_type": "markdown",
   "id": "5f2856af",
   "metadata": {},
   "source": [
    "---"
   ]
  },
  {
   "cell_type": "markdown",
   "id": "b6ca9c30",
   "metadata": {},
   "source": [
    "### Q12. For a normal distribution data what is the relationship between its measure of central tendency?"
   ]
  },
  {
   "cell_type": "markdown",
   "id": "b0d1e519",
   "metadata": {},
   "source": [
    "1. Mean (μ): The mean of a normal distribution is equal to the median. This is a fundamental property of a normal distribution. Mathematically, μ = median.\n",
    "\n",
    "2. Median: The median is located at the center of a normal distribution. Because the distribution is symmetric, the median is the point at which the data is divided into two equal halves.\n",
    "\n",
    "3. Mode: In a normal distribution, the mode is also equal to the mean and the median. In other words, there is a single peak in the distribution, and that peak corresponds to the mean and median.\n",
    "\n",
    "#### The normal distribution is characterized by its bell-shaped curve, and it is perfectly symmetric around the mean. This symmetry results in the mean, median, and mode all being located at the center of the distribution, with the same value."
   ]
  },
  {
   "cell_type": "markdown",
   "id": "54b46687",
   "metadata": {},
   "source": [
    "---"
   ]
  },
  {
   "cell_type": "markdown",
   "id": "935fbf95",
   "metadata": {},
   "source": [
    "### Q13. How is covariance different from correlation?"
   ]
  },
  {
   "cell_type": "markdown",
   "id": "938c6ee4",
   "metadata": {},
   "source": [
    "Covariance and correlation are both measures used in statistics to quantify the relationship between two variables, but they serve different purposes and have different properties. Here's a summary of the key differences between covariance and correlation:\n",
    "\n",
    "1. **Definition**:\n",
    "* **Covariance:** Covariance measures the degree to which random variables change together. It indicates the direction the linear relationship between two variables.\n",
    "* **Correlation:** Correlation is a standardized measure of linear relationship between two variables. It quantifies both strength and direction of the relationship.\n",
    "\n",
    "2. **Formula**:\n",
    "- **Covariance:** For two variables X and Y, the covariance (cov) is calculated as:\n",
    "cov(X, Y) = Σ[(Xᵢ - μₓ) * (Yᵢ - μᵧ)] / (n - 1)\n",
    "* Where μₓ and μᵧ are the means of X and Y, respectively, and n is the number of data points.\n",
    "* **Correlation:** The Pearson correlation coefficient (ρ) is the most commonly used form of correlation:\n",
    "ρ(X, Y) = cov(X, Y) / (σₓ * σᵧ)\n",
    "* Where σₓ and σᵧ are the standard deviations of X and Y, respectively.\n",
    "\n",
    "3. **Range of Values**:\n",
    "* **Covariance:** Covariance can take on any real value. It has no fixed range, which can make it challenging to interpret and compare across datasets.\n",
    "* **Correlation:** Correlation values range from -1 to 1.\n",
    "* ρ = 1 indicates a perfect positive linear relationship.\n",
    "* ρ = -1 indicates a perfect negative linear relationship.\n",
    "* ρ = 0 indicates no linear relationship (though nonlinear relationships may exist).\n",
    "\n",
    "4. **Units**:\n",
    "* **Covariance:** The units of covariance are the product of the units of the two variables, which can make it difficult to interpret and compare.\n",
    "* **Correlation:** Correlation is a unitless measure, making it easier to interpret and compare across datasets.\n",
    "\n",
    "5. **Standardization**:\n",
    "* **Covariance:** Covariance is not standardized, and its value depends on the units of the variables.\n",
    "* **Correlation:** Correlation is standardized, allowing for meaningful comparisons between datasets regardless of units."
   ]
  },
  {
   "cell_type": "markdown",
   "id": "aef079d6",
   "metadata": {},
   "source": [
    "---"
   ]
  },
  {
   "cell_type": "markdown",
   "id": "5782f135",
   "metadata": {},
   "source": [
    "### Q14. How do outliers affect measures of central tendency and dispersion? Provide an example."
   ]
  },
  {
   "cell_type": "markdown",
   "id": "49f4d7f1",
   "metadata": {},
   "source": [
    "Outliers can significantly impact measures of central tendency (mean, median, and mode) and measures of dispersion (range, variance, and standard deviation) in a dataset. Here's how they affect these measures with an example:\n",
    "\n",
    "1. **Measures of Central Tendency:**\n",
    "* **Mean:** Outliers have a substantial effect on the mean. A single extreme value can pull the mean in its direction. Therefore, the mean is sensitive to outliers. When outliers are present, the mean may not accurately represent the typical or central value of the data.\n",
    "   \n",
    "* Example: Consider a dataset of salaries for a small company: [40,000, 42,000, 41,000, 45,000, 1,000,000]. The outlier, 1,000,000, significantly inflates the mean, making it much higher than what is typical for most employees.\n",
    "\n",
    "* **Median:** The median is less affected by outliers because it is not influenced by extreme values. It represents the middle value when the data is sorted. In the example above, the median remains 41,000, which better represents the typical salary of the majority of employees.\n",
    "* **Mode:** Like the median, the mode is not heavily influenced by outliers, as it represents the most frequently occurring value. In the example, the mode is still 41,000.\n",
    "\n",
    "2. **Measures of Dispersion:**\n",
    "* **Range:** Outliers can significantly affect the range by expanding it. The range is the difference between the maximum and minimum values in the dataset. Outliers can pull the maximum value higher or the minimum value lower, resulting in a wider range.\n",
    "\n",
    "* **Variance and Standard Deviation:** Outliers have a substantial impact on the variance and standard deviation because these measures involve the squared differences between data points and the mean. Outliers with large deviations from the mean contribute disproportionately to these measures. They increase the spread of the data, leading to higher variance and standard deviation values.\n",
    "\n",
    "Example: Consider a dataset of test scores for a class: [80, 85, 90, 95, 50, 110]. The outlier, 110, increases both the variance and standard deviation, making them larger and indicating more variability in the scores than there actually is for the majority of students.\n"
   ]
  },
  {
   "cell_type": "code",
   "execution_count": 5,
   "id": "98c4bafc",
   "metadata": {},
   "outputs": [
    {
     "name": "stdout",
     "output_type": "stream",
     "text": [
      "List without outlier : [24, 36, 78, 43, 98, 23, 17]\n",
      "\n",
      "Measure of Centeral Tendency.\n",
      "Mean : 45.57142857142857\n",
      "Median : 36.0\n",
      "Mode : 17\n",
      "\n",
      "Measure of Dispersion.\n",
      "Variance : 812.8163265306122\n",
      "Standard deviation : 28.50993382192621\n"
     ]
    }
   ],
   "source": [
    "age = [24,36,78,43,98,23,17]\n",
    "print('List without outlier :',age)\n",
    "print()\n",
    "\n",
    "print('Measure of Centeral Tendency.')\n",
    "print('Mean :',np.mean(age))\n",
    "print('Median :',np.median(age))\n",
    "print('Mode :',stats.mode(age,keepdims = True).mode[0])\n",
    "print()\n",
    "\n",
    "print('Measure of Dispersion.')\n",
    "print('Variance :',np.var(age))\n",
    "print('Standard deviation :',np.std(age))"
   ]
  },
  {
   "cell_type": "code",
   "execution_count": 6,
   "id": "bfcb5b28",
   "metadata": {},
   "outputs": [
    {
     "name": "stdout",
     "output_type": "stream",
     "text": [
      "List without outlier : [24, 36, 78, 43, 98, 23, 17, 200]\n",
      "\n",
      "Measure of Centeral Tendency.\n",
      "Mean : 64.875\n",
      "Median : 39.5\n",
      "Mode : 17\n",
      "\n",
      "Measure of Dispersion.\n",
      "Variance : 3319.609375\n",
      "Standard deviation : 57.61605136591712\n"
     ]
    }
   ],
   "source": [
    "# adding an outlier to the age\n",
    "age.append(200)\n",
    "print('List without outlier :',age)\n",
    "print()\n",
    "\n",
    "print('Measure of Centeral Tendency.')\n",
    "print('Mean :',np.mean(age))\n",
    "print('Median :',np.median(age))\n",
    "print('Mode :',stats.mode(age,keepdims = True).mode[0])\n",
    "print()\n",
    "\n",
    "print('Measure of Dispersion.')\n",
    "print('Variance :',np.var(age))\n",
    "print('Standard deviation :',np.std(age))"
   ]
  },
  {
   "cell_type": "markdown",
   "id": "4a10a9b0",
   "metadata": {},
   "source": [
    "---"
   ]
  }
 ],
 "metadata": {
  "kernelspec": {
   "display_name": "Python 3 (ipykernel)",
   "language": "python",
   "name": "python3"
  },
  "language_info": {
   "codemirror_mode": {
    "name": "ipython",
    "version": 3
   },
   "file_extension": ".py",
   "mimetype": "text/x-python",
   "name": "python",
   "nbconvert_exporter": "python",
   "pygments_lexer": "ipython3",
   "version": "3.9.13"
  }
 },
 "nbformat": 4,
 "nbformat_minor": 5
}
